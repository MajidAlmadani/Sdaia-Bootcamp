{
  "cells": [
    {
      "cell_type": "markdown",
      "metadata": {
        "id": "bsurCNok43DL"
      },
      "source": [
        "# Text Classification Exam\n",
        "\n",
        "Welcome to the Text Classification Practical Exam. In this exam, you will be tasked with building, training, and evaluating an NLP model to classify text data. You are provided with a labeled dataset containing both the text and its corresponding class labels.\n",
        "\n",
        "Your objective is to develop a model that accurately predicts the class of the given text. Make sure to follow best practices in data preprocessing, model selection, and evaluation to achieve optimal results.\n",
        "\n",
        "Good luck!\n",
        "___"
      ]
    },
    {
      "cell_type": "markdown",
      "metadata": {
        "id": "oqw2El5mMxsz"
      },
      "source": [
        "# Install and Import Needed Libraries"
      ]
    },
    {
      "cell_type": "markdown",
      "metadata": {
        "id": "4dTkHbSHNB4y"
      },
      "source": [
        "You can use `pyarabic` or any other library to pre-process and clean the Arabic text."
      ]
    },
    {
      "cell_type": "code",
      "execution_count": 223,
      "metadata": {
        "id": "z6mRe6i5Wqqc"
      },
      "outputs": [],
      "source": [
        "# pip install pyarabic"
      ]
    },
    {
      "cell_type": "markdown",
      "metadata": {
        "id": "Hq5KJRZ5Ph0Z"
      },
      "source": [
        "# Download the Dataset"
      ]
    },
    {
      "cell_type": "markdown",
      "metadata": {
        "id": "3riATTJ243DN"
      },
      "source": [
        "Please note that you are allowed to take a subset of this dataset, the reason for that is it might take a long time to train the model on."
      ]
    },
    {
      "cell_type": "code",
      "execution_count": 224,
      "metadata": {
        "id": "M1n3uTg043DN"
      },
      "outputs": [],
      "source": [
        "# !kaggle datasets download -d khaledzsa/sanad\n",
        "# !unzip sanad.zip"
      ]
    },
    {
      "cell_type": "code",
      "source": [
        "import pandas as pd\n",
        "import numpy as np\n",
        "import matplotlib.pyplot as plt\n",
        "import pyarabic.araby as araby\n",
        "import tensorflow as tf\n",
        "import nltk\n",
        "\n",
        "from keras.models import Sequential\n",
        "from keras.layers import Embedding, Dense, Lambda,Input, Bidirectional, SimpleRNN\n",
        "from tensorflow.keras.preprocessing.text import Tokenizer\n",
        "\n",
        "from sklearn.preprocessing import LabelEncoder, OneHotEncoder\n",
        "from sklearn.model_selection import train_test_split\n",
        "\n",
        "from collections import Counter\n",
        "\n",
        "from nltk.corpus import stopwords\n",
        "\n",
        "from nltk.stem.porter import *\n",
        "\n",
        "from tensorflow.keras.preprocessing.sequence import pad_sequences"
      ],
      "metadata": {
        "id": "5sWtxRPi48r5"
      },
      "execution_count": 225,
      "outputs": []
    },
    {
      "cell_type": "code",
      "source": [
        "# nltk.download('stopwords')"
      ],
      "metadata": {
        "id": "MqN2qwL59nNy"
      },
      "execution_count": 226,
      "outputs": []
    },
    {
      "cell_type": "markdown",
      "metadata": {
        "id": "kVc0b_9fQGeH"
      },
      "source": [
        "# Data Exploration"
      ]
    },
    {
      "cell_type": "markdown",
      "metadata": {
        "id": "a98DaVUvQsi8"
      },
      "source": [
        "Before diving into preprocessing and model building, it’s important to first explore the dataset to understand its structure, distribution, and key characteristics. This step will help you gain insights into the data and guide your decisions in subsequent steps. Here’s what to consider:\n",
        "\n",
        "1. **Inspect the Data**:\n",
        "   Start by looking at the first few rows of the dataset to get a sense of its structure. Check the columns, data types, and a few sample entries. This helps to ensure that the data is loaded correctly and gives you an initial overview of the content.\n",
        "\n",
        "2. **Check for Missing Values**:\n",
        "   Identify if there are any missing values in the dataset.\n",
        "\n",
        "3. **Distribution of Labels**:\n",
        "   Examine the distribution of the target labels (classes).\n",
        "\n",
        "4. **Text Data Characteristics (Bonus)**:\n",
        "   Analyze the length of the text data. It is useful to calculate the number of words or characters in each text sample to understand how long the texts are. This will help you set a suitable `max_length` for tokenization and padding later. You can plot a histogram of text lengths to visualize the distribution.\n",
        "\n",
        "5. **Common Words and Vocabulary (Bonus)**:\n",
        "   Explore the most frequent words in the text data."
      ]
    },
    {
      "cell_type": "code",
      "source": [
        "df = pd.read_csv('sanad.csv')"
      ],
      "metadata": {
        "id": "gCDPNwK_6GqP"
      },
      "execution_count": 227,
      "outputs": []
    },
    {
      "cell_type": "code",
      "execution_count": 228,
      "metadata": {
        "id": "aZgYQbZxWtAt",
        "colab": {
          "base_uri": "https://localhost:8080/",
          "height": 206
        },
        "outputId": "383468dc-98e2-441b-f190-3c6eebc80aef"
      },
      "outputs": [
        {
          "output_type": "execute_result",
          "data": {
            "text/plain": [
              "                                                text    label\n",
              "0  https://example.com/resource/الشاٌرقة -ْ محمِد...  Culture\n",
              "1  https://example.com/resource/اَنِطٌلقّتَ ٍفٍيّ...  Culture\n",
              "2  https://example.com/resource/أُقيًمٌتِ مِساءُ ...  Culture\n",
              "3  https://example.com/resource/بٍاسُمةَ يًوٌنٍس ...  Culture\n",
              "4  https://example.com/resource/قُرر اَتحِاد اًلْ...  Culture"
            ],
            "text/html": [
              "\n",
              "  <div id=\"df-e4e24dcb-6e4a-4293-aa16-71a0149fbe47\" class=\"colab-df-container\">\n",
              "    <div>\n",
              "<style scoped>\n",
              "    .dataframe tbody tr th:only-of-type {\n",
              "        vertical-align: middle;\n",
              "    }\n",
              "\n",
              "    .dataframe tbody tr th {\n",
              "        vertical-align: top;\n",
              "    }\n",
              "\n",
              "    .dataframe thead th {\n",
              "        text-align: right;\n",
              "    }\n",
              "</style>\n",
              "<table border=\"1\" class=\"dataframe\">\n",
              "  <thead>\n",
              "    <tr style=\"text-align: right;\">\n",
              "      <th></th>\n",
              "      <th>text</th>\n",
              "      <th>label</th>\n",
              "    </tr>\n",
              "  </thead>\n",
              "  <tbody>\n",
              "    <tr>\n",
              "      <th>0</th>\n",
              "      <td>https://example.com/resource/الشاٌرقة -ْ محمِد...</td>\n",
              "      <td>Culture</td>\n",
              "    </tr>\n",
              "    <tr>\n",
              "      <th>1</th>\n",
              "      <td>https://example.com/resource/اَنِطٌلقّتَ ٍفٍيّ...</td>\n",
              "      <td>Culture</td>\n",
              "    </tr>\n",
              "    <tr>\n",
              "      <th>2</th>\n",
              "      <td>https://example.com/resource/أُقيًمٌتِ مِساءُ ...</td>\n",
              "      <td>Culture</td>\n",
              "    </tr>\n",
              "    <tr>\n",
              "      <th>3</th>\n",
              "      <td>https://example.com/resource/بٍاسُمةَ يًوٌنٍس ...</td>\n",
              "      <td>Culture</td>\n",
              "    </tr>\n",
              "    <tr>\n",
              "      <th>4</th>\n",
              "      <td>https://example.com/resource/قُرر اَتحِاد اًلْ...</td>\n",
              "      <td>Culture</td>\n",
              "    </tr>\n",
              "  </tbody>\n",
              "</table>\n",
              "</div>\n",
              "    <div class=\"colab-df-buttons\">\n",
              "\n",
              "  <div class=\"colab-df-container\">\n",
              "    <button class=\"colab-df-convert\" onclick=\"convertToInteractive('df-e4e24dcb-6e4a-4293-aa16-71a0149fbe47')\"\n",
              "            title=\"Convert this dataframe to an interactive table.\"\n",
              "            style=\"display:none;\">\n",
              "\n",
              "  <svg xmlns=\"http://www.w3.org/2000/svg\" height=\"24px\" viewBox=\"0 -960 960 960\">\n",
              "    <path d=\"M120-120v-720h720v720H120Zm60-500h600v-160H180v160Zm220 220h160v-160H400v160Zm0 220h160v-160H400v160ZM180-400h160v-160H180v160Zm440 0h160v-160H620v160ZM180-180h160v-160H180v160Zm440 0h160v-160H620v160Z\"/>\n",
              "  </svg>\n",
              "    </button>\n",
              "\n",
              "  <style>\n",
              "    .colab-df-container {\n",
              "      display:flex;\n",
              "      gap: 12px;\n",
              "    }\n",
              "\n",
              "    .colab-df-convert {\n",
              "      background-color: #E8F0FE;\n",
              "      border: none;\n",
              "      border-radius: 50%;\n",
              "      cursor: pointer;\n",
              "      display: none;\n",
              "      fill: #1967D2;\n",
              "      height: 32px;\n",
              "      padding: 0 0 0 0;\n",
              "      width: 32px;\n",
              "    }\n",
              "\n",
              "    .colab-df-convert:hover {\n",
              "      background-color: #E2EBFA;\n",
              "      box-shadow: 0px 1px 2px rgba(60, 64, 67, 0.3), 0px 1px 3px 1px rgba(60, 64, 67, 0.15);\n",
              "      fill: #174EA6;\n",
              "    }\n",
              "\n",
              "    .colab-df-buttons div {\n",
              "      margin-bottom: 4px;\n",
              "    }\n",
              "\n",
              "    [theme=dark] .colab-df-convert {\n",
              "      background-color: #3B4455;\n",
              "      fill: #D2E3FC;\n",
              "    }\n",
              "\n",
              "    [theme=dark] .colab-df-convert:hover {\n",
              "      background-color: #434B5C;\n",
              "      box-shadow: 0px 1px 3px 1px rgba(0, 0, 0, 0.15);\n",
              "      filter: drop-shadow(0px 1px 2px rgba(0, 0, 0, 0.3));\n",
              "      fill: #FFFFFF;\n",
              "    }\n",
              "  </style>\n",
              "\n",
              "    <script>\n",
              "      const buttonEl =\n",
              "        document.querySelector('#df-e4e24dcb-6e4a-4293-aa16-71a0149fbe47 button.colab-df-convert');\n",
              "      buttonEl.style.display =\n",
              "        google.colab.kernel.accessAllowed ? 'block' : 'none';\n",
              "\n",
              "      async function convertToInteractive(key) {\n",
              "        const element = document.querySelector('#df-e4e24dcb-6e4a-4293-aa16-71a0149fbe47');\n",
              "        const dataTable =\n",
              "          await google.colab.kernel.invokeFunction('convertToInteractive',\n",
              "                                                    [key], {});\n",
              "        if (!dataTable) return;\n",
              "\n",
              "        const docLinkHtml = 'Like what you see? Visit the ' +\n",
              "          '<a target=\"_blank\" href=https://colab.research.google.com/notebooks/data_table.ipynb>data table notebook</a>'\n",
              "          + ' to learn more about interactive tables.';\n",
              "        element.innerHTML = '';\n",
              "        dataTable['output_type'] = 'display_data';\n",
              "        await google.colab.output.renderOutput(dataTable, element);\n",
              "        const docLink = document.createElement('div');\n",
              "        docLink.innerHTML = docLinkHtml;\n",
              "        element.appendChild(docLink);\n",
              "      }\n",
              "    </script>\n",
              "  </div>\n",
              "\n",
              "\n",
              "<div id=\"df-508ed059-858e-41b0-81b7-aceac91e20d2\">\n",
              "  <button class=\"colab-df-quickchart\" onclick=\"quickchart('df-508ed059-858e-41b0-81b7-aceac91e20d2')\"\n",
              "            title=\"Suggest charts\"\n",
              "            style=\"display:none;\">\n",
              "\n",
              "<svg xmlns=\"http://www.w3.org/2000/svg\" height=\"24px\"viewBox=\"0 0 24 24\"\n",
              "     width=\"24px\">\n",
              "    <g>\n",
              "        <path d=\"M19 3H5c-1.1 0-2 .9-2 2v14c0 1.1.9 2 2 2h14c1.1 0 2-.9 2-2V5c0-1.1-.9-2-2-2zM9 17H7v-7h2v7zm4 0h-2V7h2v10zm4 0h-2v-4h2v4z\"/>\n",
              "    </g>\n",
              "</svg>\n",
              "  </button>\n",
              "\n",
              "<style>\n",
              "  .colab-df-quickchart {\n",
              "      --bg-color: #E8F0FE;\n",
              "      --fill-color: #1967D2;\n",
              "      --hover-bg-color: #E2EBFA;\n",
              "      --hover-fill-color: #174EA6;\n",
              "      --disabled-fill-color: #AAA;\n",
              "      --disabled-bg-color: #DDD;\n",
              "  }\n",
              "\n",
              "  [theme=dark] .colab-df-quickchart {\n",
              "      --bg-color: #3B4455;\n",
              "      --fill-color: #D2E3FC;\n",
              "      --hover-bg-color: #434B5C;\n",
              "      --hover-fill-color: #FFFFFF;\n",
              "      --disabled-bg-color: #3B4455;\n",
              "      --disabled-fill-color: #666;\n",
              "  }\n",
              "\n",
              "  .colab-df-quickchart {\n",
              "    background-color: var(--bg-color);\n",
              "    border: none;\n",
              "    border-radius: 50%;\n",
              "    cursor: pointer;\n",
              "    display: none;\n",
              "    fill: var(--fill-color);\n",
              "    height: 32px;\n",
              "    padding: 0;\n",
              "    width: 32px;\n",
              "  }\n",
              "\n",
              "  .colab-df-quickchart:hover {\n",
              "    background-color: var(--hover-bg-color);\n",
              "    box-shadow: 0 1px 2px rgba(60, 64, 67, 0.3), 0 1px 3px 1px rgba(60, 64, 67, 0.15);\n",
              "    fill: var(--button-hover-fill-color);\n",
              "  }\n",
              "\n",
              "  .colab-df-quickchart-complete:disabled,\n",
              "  .colab-df-quickchart-complete:disabled:hover {\n",
              "    background-color: var(--disabled-bg-color);\n",
              "    fill: var(--disabled-fill-color);\n",
              "    box-shadow: none;\n",
              "  }\n",
              "\n",
              "  .colab-df-spinner {\n",
              "    border: 2px solid var(--fill-color);\n",
              "    border-color: transparent;\n",
              "    border-bottom-color: var(--fill-color);\n",
              "    animation:\n",
              "      spin 1s steps(1) infinite;\n",
              "  }\n",
              "\n",
              "  @keyframes spin {\n",
              "    0% {\n",
              "      border-color: transparent;\n",
              "      border-bottom-color: var(--fill-color);\n",
              "      border-left-color: var(--fill-color);\n",
              "    }\n",
              "    20% {\n",
              "      border-color: transparent;\n",
              "      border-left-color: var(--fill-color);\n",
              "      border-top-color: var(--fill-color);\n",
              "    }\n",
              "    30% {\n",
              "      border-color: transparent;\n",
              "      border-left-color: var(--fill-color);\n",
              "      border-top-color: var(--fill-color);\n",
              "      border-right-color: var(--fill-color);\n",
              "    }\n",
              "    40% {\n",
              "      border-color: transparent;\n",
              "      border-right-color: var(--fill-color);\n",
              "      border-top-color: var(--fill-color);\n",
              "    }\n",
              "    60% {\n",
              "      border-color: transparent;\n",
              "      border-right-color: var(--fill-color);\n",
              "    }\n",
              "    80% {\n",
              "      border-color: transparent;\n",
              "      border-right-color: var(--fill-color);\n",
              "      border-bottom-color: var(--fill-color);\n",
              "    }\n",
              "    90% {\n",
              "      border-color: transparent;\n",
              "      border-bottom-color: var(--fill-color);\n",
              "    }\n",
              "  }\n",
              "</style>\n",
              "\n",
              "  <script>\n",
              "    async function quickchart(key) {\n",
              "      const quickchartButtonEl =\n",
              "        document.querySelector('#' + key + ' button');\n",
              "      quickchartButtonEl.disabled = true;  // To prevent multiple clicks.\n",
              "      quickchartButtonEl.classList.add('colab-df-spinner');\n",
              "      try {\n",
              "        const charts = await google.colab.kernel.invokeFunction(\n",
              "            'suggestCharts', [key], {});\n",
              "      } catch (error) {\n",
              "        console.error('Error during call to suggestCharts:', error);\n",
              "      }\n",
              "      quickchartButtonEl.classList.remove('colab-df-spinner');\n",
              "      quickchartButtonEl.classList.add('colab-df-quickchart-complete');\n",
              "    }\n",
              "    (() => {\n",
              "      let quickchartButtonEl =\n",
              "        document.querySelector('#df-508ed059-858e-41b0-81b7-aceac91e20d2 button');\n",
              "      quickchartButtonEl.style.display =\n",
              "        google.colab.kernel.accessAllowed ? 'block' : 'none';\n",
              "    })();\n",
              "  </script>\n",
              "</div>\n",
              "\n",
              "    </div>\n",
              "  </div>\n"
            ],
            "application/vnd.google.colaboratory.intrinsic+json": {
              "type": "dataframe",
              "variable_name": "df",
              "summary": "{\n  \"name\": \"df\",\n  \"rows\": 39885,\n  \"fields\": [\n    {\n      \"column\": \"text\",\n      \"properties\": {\n        \"dtype\": \"string\",\n        \"num_unique_values\": 39885,\n        \"samples\": [\n          \"https://example.com/resource/\\u0628\\u0652\\u0644\\u0650\\u063a\\u062a \\u064e\\u062a\\u0633\\u064e\\u064a\\u064a\\u0644\\u0651\\u0627\\u064b\\u062a\\u064d \\u0627\\u0652\\u0644\\u0623\\u0652\\u062c\\u064e\\u0627\\u0646\\u0651\\u0628\\u064e \\u064e\\u0641\\u064a \\u0633\\u064d\\u0648\\u0652\\u0642\\u0650 \\u064e\\u062f\\u0628\\u064a \\u0627\\u0644\\u0645\\u064d\\u0627\\u0650\\u0644\\u064d\\u064a\\u064d \\u0623\\u0645\\u064d\\u0633\\u064e 59\\u064f \\u0645\\u0644\\u064d\\u064a\\u0648\\u0646\\u0627\\u0650\\u064b\\u0652\\u060c \\u0651\\u0641\\u0651\\u0642\\u062f \\u0650\\u0628\\u0652\\u0644\\u064b\\u063a\\u062a \\u064b\\u0642\\u0651\\u064a\\u064f\\u0645\\u0651\\u0629\\u0651 \\u0645\\u064f\\u0634\\u064b\\u062a\\u064f\\u0631\\u0650\\u064a\\u0627\\u062a \\u064e\\u0627\\u0644\\u0652\\u0623\\u062c\\u0627\\u064d\\u0646\\u064d\\u0628\\u064b\\u060c\\u064b \\u063a\\u0652\\u064a\\u0651\\u0631\\u064d \\u0627\\u0652\\u0644\\u0639\\u0631\\u064c\\u0628\\u060c\\u064f \\u0645\\u0650\\u0646\\u0651 \\u064c\\u0627\\u0644\\u0623\\u0633\\u064c\\u0647\\u064d\\u0645 \\u064c\\u062e\\u064f\\u0644\\u0627\\u064c\\u0644\\u064f \\u0647\\u0650\\u0630\\u064e\\u0627 \\u0627\\u064c\\u0644\\u064a\\u0648\\u0650\\u0645 \\u064d\\u0646\\u064b\\u062d\\u064c\\u0648 9\\u064b4\\u064d \\u064e.\\u065113\\u06526 \\u0645\\u0644\\u0652\\u064a\\u064c\\u0648\\u064b\\u0646\\u064c \\u062f\\u0631\\u0647\\u0645 \\u0641\\u064a\\u0651 \\u0652\\u062d\\u0652\\u064a\\u064f\\u0646\\u0651 \\u0628\\u0644\\u063a\\u064e\\u062a\\u064d \\u064b\\u0642\\u064c\\u064a\\u0645\\u0629\\u064c \\u064b\\u0645\\u064b\\u0628\\u064a\\u0639\\u0627\\u062a\\u0647\\u0645\\u064e \\u0646\\u064b\\u062d\\u0648\\u0652 2\\u06500 .22\\u064b6 \\u0650\\u0645\\u064b\\u0644\\u064a\\u0651\\u0648\\u0646 \\u0652\\u062f\\u0631\\u0650\\u0647\\u0645\\u064f .\\u064f \\u0643\\u0645\\u0627 \\u0650\\u0628\\u0644\\u064e\\u063a\\u064b\\u062a \\u0642\\u0652\\u064a\\u0645\\u0629\\u0650 \\u0645\\u064d\\u0634\\u064b\\u062a\\u064c\\u0631\\u0652\\u064a\\u0627\\u062a \\u064b\\u0627\\u0644\\u0645\\u0633\\u064d\\u062a\\u062b\\u064f\\u0645\\u064b\\u0631\\u064b\\u064a\\u064b\\u0646\\u064b \\u0627\\u0644\\u0652\\u0639\\u0650\\u0631\\u0650\\u0628\\u060c\\u064b \\u064f\\u063a\\u064a\\u0631 \\u0651\\u0627\\u0644\\u0652\\u062e\\u0644\\u064d\\u064a\\u064f\\u062c\\u064d\\u064a\\u064a\\u0651\\u0646\\u0650\\u060c\\u0651 \\u062e\\u0644\\u0627\\u0644 \\u0647\\u0650\\u0630\\u0627 \\u0650\\u0627\\u0644\\u0652\\u064a\\u064b\\u0648\\u0645 \\u0646\\u064f\\u062d\\u064d\\u0648\\u064f 07\\u064e .7\\u064c2\\u0650 \\u0645\\u0644\\u064e\\u064a\\u064c\\u0648\\u0646\\u0652 \\u0652\\u062f\\u0631\\u0647\\u064e\\u0645 \\u064d\\u0648\\u0642\\u064b\\u064a\\u0645\\u064c\\u0629\\u064c \\u0645\\u0652\\u0628\\u064e\\u064a\\u064f\\u0639\\u064e\\u0627\\u064b\\u062a\\u0651\\u0647\\u0645 \\u0646\\u062d\\u0648\\u064c \\u065281\\u064b \\u0650.6\\u06504\\u064e \\u064e\\u0645\\u0644\\u064f\\u064a\\u064c\\u0648\\u0646\\u0651 \\u062f\\u064b\\u0631\\u0647\\u064e\\u0645\\u064e .\\u0623\\u064b\\u0645\\u0651\\u0627\\u0652 \\u0652\\u0628\\u0651\\u0627\\u064c\\u0644\\u064e\\u0646\\u064f\\u0633\\u064d\\u0628\\u0629\\u064e \\u064c\\u0644\\u0644\\u0651\\u0645\\u064d\\u0633\\u064c\\u062a\\u064b\\u062b\\u0652\\u0645\\u0631\\u064b\\u064a\\u0646 \\u0652\\u0627\\u0644\\u062e\\u064c\\u0644\\u064a\\u064e\\u062c\\u064a\\u0650\\u064a\\u0646\\u064c \\u064f\\u0641\\u064b\\u0642\\u062f \\u0628\\u0644\\u064b\\u063a\\u0652\\u062a \\u0642\\u064a\\u0645\\u0629 \\u0645\\u0634\\u0652\\u062a\\u064e\\u0631\\u064c\\u064a\\u064f\\u0627\\u064e\\u062a\\u0647\\u0645\\u064b \\u064b9\\u064b1\\u064f \\u0651.4\\u064d3\\u064d \\u0645\\u0650\\u0644\\u064a\\u0648\\u064c\\u0646 \\u064c\\u062f\\u0631\\u0647\\u0645 \\u0641\\u064a\\u064f \\u062d\\u064a\\u0651\\u0646\\u064b \\u064e\\u0628\\u0644\\u064b\\u063a\\u064c\\u062a \\u064b\\u0642\\u064c\\u064a\\u0645\\u064d\\u0629\\u0651 \\u0645\\u0652\\u0628\\u0651\\u064a\\u0652\\u0639\\u0652\\u0627\\u064c\\u062a\\u064c\\u0647\\u0645\\u0652 \\u064f\\u0646\\u064e\\u062d\\u0650\\u0648 4\\u064f8 \\u064f.21\\u064c \\u0645\\u0644\\u064a\\u0648\\u064f\\u0646 \\u064e\\u062f\\u064e\\u0631\\u064d\\u0647\\u064e\\u0645 \\u064e\\u062e\\u0644\\u064c\\u0627\\u0644 \\u0650\\u0646\\u064c\\u0641\\u0633 \\u064f\\u0627\\u0652\\u0644\\u0651\\u0641\\u062a\\u0631\\u0652\\u0629\\u064c .\",\n          \"https://example.com/resource/\\u062f\\u0628\\u0650\\u064a\\u0650 - \\u0625\\u0650\\u0628\\u064d\\u0631\\u0650\\u0627\\u0647\\u064f\\u064a\\u064c\\u0645\\u0652 \\u0651\\u0627\\u0644\\u064f\\u064a\\u064b\\u0648\\u0633\\u0651\\u0641:\\u064e\\u0628\\u064d\\u062d\\u0636\\u0648\\u0652\\u0631\\u0650 \\u0645\\u064e\\u062d\\u064d\\u0645\\u062f\\u064e \\u0627\\u064d\\u0644\\u0645\\u0652\\u0631\\u060c \\u0631\\u0626\\u064a\\u0633\\u0651 \\u0627\\u0644\\u0645\\u064c\\u062c\\u064c\\u0644\\u064b\\u0633 \\u0627\\u064c\\u0644\\u0648\\u064d\\u0637\\u064b\\u0646\\u064f\\u064a\\u064d \\u0627\\u0644\\u064e\\u0627\\u062a\\u064b\\u062d\\u0652\\u0627\\u062f\\u064a\\u0650\\u060c\\u064e \\u0648\\u0650\\u0627\\u0651\\u0644\\u064c\\u0642\\u0646\\u0652\\u0635\\u0644 \\u0627\\u0644\\u0639\\u0627\\u0652\\u0645\\u0650 \\u064b\\u0627\\u064d\\u0644\\u0651\\u0643\\u0651\\u0648\\u064a\\u0651\\u062a\\u064e\\u064a\\u064c\\u060c \\u0630\\u064d\\u064a\\u064c\\u0627\\u0628\\u0651 \\u0651\\u0641\\u0631\\u062d\\u0627\\u064e\\u0646 \\u064c\\u0627\\u0652\\u0644\\u0631\\u0634\\u064a\\u0652\\u062f\\u064a\\u0651\\u060c \\u064b\\u0648\\u0633\\u064e\\u0644\\u0651\\u0637\\u0627\\u064b\\u0646\\u064d \\u0627\\u064c\\u0644\\u0652\\u0633\\u0648\\u064f\\u064a\\u062f\\u064d\\u064a \\u064d\\u0631\\u0652\\u0626\\u064a\\u064b\\u0633\\u0652 \\u0645\\u062c\\u064b\\u0644\\u064d\\u0633\\u0650 \\u0625\\u062f\\u0631\\u064d\\u0627\\u0629 \\u0646\\u064b\\u062f\\u0648\\u064e\\u0629\\u064b \\u0627\\u064b\\u0644\\u064c\\u062b\\u0642\\u0627\\u064d\\u0641\\u0629\\u064e \\u064e\\u0648\\u0627\\u064e\\u0644\\u0639\\u0644\\u0648\\u0645\\u060c \\u0648\\u0623\\u0639\\u0652\\u0636\\u0652\\u0627\\u0621 \\u0650\\u0645\\u064d\\u062c\\u064d\\u0644\\u064b\\u0633\\u0650 \\u0627\\u0644\\u0625\\u0651\\u062f\\u0652\\u0627\\u0631\\u064e\\u0629\\u064d\\u060c \\u0625\\u0652\\u0636\\u0627\\u0650\\u0641\\u0629\\u064d \\u0625\\u0644\\u0650\\u0649\\u064f \\u0637\\u0650\\u064a\\u064f\\u0641\\u064b \\u0648\\u0627\\u0633\\u064f\\u0639 \\u0650\\u0648\\u064d\\u0644\\u0627\\u0641\\u0652\\u062a \\u0645\\u0646\\u0651 \\u064d\\u0627\\u0644\\u064e\\u0643\\u0651\\u062a\\u0651\\u064c\\u0627\\u0651\\u0628\\u0650 \\u0648\\u064d\\u0627\\u064b\\u0644\\u0645\\u062b\\u064e\\u0642\\u0641\\u064b\\u064a\\u0646 \\u0648\\u0650\\u0627\\u0644\\u0625\\u0639\\u064e\\u0644\\u0627\\u0645\\u064a\\u064a\\u064d\\u0646 \\u0645\\u064c\\u0646\\u064d \\u0627\\u064e\\u0644\\u0650\\u0628\\u064d\\u0644\\u062f\\u064a\\u0646 . \\u0634\\u0647\\u062f\\u062a\\u064f \\u064e\\u0627\\u064d\\u0644\\u0652\\u0646\\u0650\\u062f\\u0648\\u064c\\u0629\\u064f\\u060c\\u064d \\u0645\\u064c\\u0633\\u0627\\u0621 \\u0650\\u0623\\u0645\\u0633\\u064b \\u0651\\u0627\\u064b\\u0644\\u0652\\u0623\\u064e\\u0648\\u064e\\u0644\\u060c\\u064b \\u0650\\u0627\\u0652\\u062e\\u062a\\u064e\\u062a\\u0652\\u0627\\u0645\\u0651 \\u0641\\u0639\\u0627\\u064e\\u0644\\u064a\\u0627\\u062a\\u064b \\u064e\\u0645\\u0647\\u0650\\u0631\\u064b\\u062c\\u0650\\u0627\\u0646\\u064f \\u064d\\\"\\u064c\\u0643\\u0648\\u0650\\u064a\\u062a\\u064e \\u0627\\u0644\\u0633\\u0644\\u0627\\u064e\\u0645 - \\u0625\\u064b\\u0645\\u0652\\u0627\\u0631\\u064f\\u0627\\u062a \\u064c\\u0627\\u064f\\u0644\\u0650\\u0648\\u064d\\u0641\\u0627\\u0621\\u0650\\\"\\u060c\\u064e \\u0628\\u064c\\u0631\\u0639\\u064d\\u0627\\u064a\\u064d\\u0629 \\u0648\\u064f\\u062a\\u0646\\u0638\\u064a\\u064f\\u0645 \\u0647\\u064a\\u0626\\u0629 \\u062f\\u064b\\u0628\\u064a\\u0652 \\u0644\\u0644\\u064b\\u062b\\u064d\\u0642\\u0627\\u0641\\u0651\\u0629 \\u0648\\u0627\\u0644\\u0652\\u0641\\u0646\\u0648\\u0646 \\u0628\\u0627\\u064c\\u0644\\u062a\\u0639\\u0627\\u0648\\u064d\\u0646 \\u064f\\u0645\\u0650\\u0639\\u064b \\u064c\\u0627\\u0644\\u0642\\u0652\\u0646\\u0635\\u0652\\u0644\\u064b\\u064a\\u064c\\u0629 \\u064c\\u0627\\u0651\\u0644\\u064b\\u0639\\u0627\\u064c\\u0645\\u0629\\u064d \\u0644\\u0650\\u062f\\u0652\\u0648\\u064b\\u0644\\u064b\\u0629\\u064c \\u0652\\u0627\\u0651\\u0644\\u0643\\u0648\\u064a\\u062a \\u064c\\u0641\\u0650\\u064a\\u064f \\u064e\\u0625\\u064d\\u0645\\u0651\\u0627\\u064e\\u0631\\u0629\\u064f \\u062f\\u064c\\u0628\\u064f\\u064a\\u060c\\u0652 \\u0648\\u0651\\u062a\\u0636\\u0645\\u064c\\u0646\\u0651 \\u064d\\u0641\\u0639\\u064d\\u0627\\u064f\\u0644\\u064d\\u064a\\u064e\\u0627\\u062a \\u064f\\u062b\\u0642\\u0651\\u0627\\u064f\\u0641\\u064a\\u0629\\u064e \\u0641\\u0646\\u064a\\u0652\\u0629\\u0650\\u060c \\u0650\\u0648\\u063a\\u064a\\u0631\\u0647\\u0650\\u0627\\u0651 \\u064d.\\u0648\\u0651\\u062a\\u0652\\u0636\\u064c\\u0645\\u0646\\u0651\\u062a\\u064b \\u064e\\u0627\\u0644\\u0641\\u0651\\u0639\\u064e\\u0627\\u0644\\u064d\\u064a\\u0627\\u064c\\u062a\\u0650 \\u0650\\u0639\\u064e\\u0631\\u0636 \\u0641\\u064a\\u0644\\u064f\\u0645 \\u0652\\u0648\\u064b\\u062b\\u0627\\u064e\\u0626\\u064f\\u0642\\u064f\\u064a\\u064f \\u0639\\u064e\\u0646\\u064f \\u064f\\u0627\\u0644\\u062a\\u064d\\u0639\\u064c\\u0627\\u0648\\u064d\\u0646\\u0650 \\u064d\\u0627\\u064c\\u0644\\u0623\\u062e\\u0648\\u064a \\u064f\\u0628\\u0651\\u064a\\u0652\\u0646\\u064b \\u0652\\u0627\\u0644\\u064e\\u0628\\u0644\\u064f\\u062f\\u0650\\u064a\\u064d\\u0646\\u064b \\u0651\\u0627\\u0650\\u0644\\u0634\\u0642\\u0651\\u064a\\u064c\\u0642\\u064e\\u064a\\u0646\\u0650\\u060c \\u064d\\u0642\\u0631\\u0623\\u0651 \\u064c\\u0628\\u0650\\u0639\\u064f\\u062f \\u064b\\u0630\\u064f\\u0644\\u0651\\u0643\\u064f \\u0651\\u0639\\u0628\\u064f\\u062f\\u0627\\u0650\\u0644\\u0644\\u0647 \\u064f\\u0627\\u0644\\u064c\\u0645\\u0637\\u0651\\u064a\\u0631\\u064d\\u064a\\u0650 \\u0643\\u064e\\u0644\\u0645\\u0652\\u0629\\u064c \\u0647\\u064a\\u0650\\u0626\\u0629 \\u062f\\u0628\\u064b\\u064a\\u064e \\u0644\\u0644\\u064b\\u062b\\u0642\\u0627\\u0641\\u0629\\u060c\\u064f \\u062a\\u062d\\u064f\\u062f\\u062b\\u064e \\u064c\\u0641\\u064a\\u0652\\u0647\\u0652\\u0627\\u064c \\u0639\\u0652\\u0646 \\u064f\\u0627\\u0652\\u0644\\u0639\\u0650\\u0644\\u0627\\u0642\\u0627\\u062a \\u0651\\u0627\\u0651\\u0644\\u064d\\u062b\\u0642\\u0650\\u0627\\u0641\\u064a\\u0651\\u0629 \\u0628\\u064b\\u064a\\u0646 \\u064e\\u0627\\u0644\\u0628\\u064b\\u0644\\u0651\\u062f\\u0652\\u064a\\u064d\\u0646\\u064c\\u060c \\u0648\\u064e\\u0643\\u064e\\u064a\\u0651\\u0641 \\u0623\\u0646 \\u0627\\u064e\\u0644\\u064d\\u0643\\u0648\\u064e\\u064a\\u0650\\u062a \\u062f\\u0639\\u0645\\u0651\\u062a\\u064d \\u0650\\u0627\\u0644\\u062d\\u0631\\u0652\\u0643\\u064b\\u0629\\u064b \\u0627\\u064d\\u0644\\u062b\\u0652\\u0642\\u064c\\u0627\\u0641\\u064a\\u0652\\u0629\\u0652 \\u064d\\u0648\\u0627\\u0650\\u0644\\u0651\\u062a\\u0639\\u0651\\u0644\\u064a\\u064f\\u0645\\u064a\\u0629 \\u0641\\u064a \\u0627\\u0644\\u0625\\u0645\\u0627\\u064e\\u0631\\u0627\\u064c\\u062a\\u060c\\u064d \\u064d\\u0648\\u0651\\u0623\\u064f\\u0646\\u064e\\u0634\\u0623\\u062a\\u0651 \\u0641\\u064a\\u064e\\u0647\\u0651\\u0627 \\u064b\\u0627\\u064c\\u0644\\u064f\\u0645\\u064f\\u062f\\u0627\\u064f\\u0631\\u0651\\u0633\\u064b\\u060c\\u0652 \\u064c\\u0625\\u0644\\u064f\\u0649 \\u0651\\u062c\\u0627\\u064b\\u0646\\u0650\\u0628 \\u064c\\u063a\\u0652\\u064a\\u064e\\u0631\\u0647\\u0650\\u0627\\u064c \\u0645\\u0646\\u064c \\u0650\\u0627\\u0644\\u0645\\u064c\\u0631\\u064d\\u0627\\u0641\\u064e\\u0642 \\u0627\\u0651\\u0644\\u0636\\u0631\\u0652\\u0648\\u0631\\u064d\\u064a\\u0650\\u0629\\u064e .\\u064c\\u0628\\u064c\\u0639\\u064b\\u062f\\u0652 \\u0630\\u064f\\u0644\\u0643 \\u0628\\u062f\\u0623\\u0650\\u062a \\u0641\\u064f\\u0639\\u0650\\u0627\\u064c\\u0644\\u064a\\u0627\\u0651\\u062a \\u0627\\u0644\\u064d\\u0646\\u0652\\u062f\\u0648\\u064c\\u0629 \\u0651\\u0627\\u0651\\u0644\\u064b\\u062a\\u064e\\u064a \\u064f\\u0623\\u062f\\u064e\\u0627\\u064c\\u0631\\u0647\\u0627 \\u0651\\u0639\\u0644\\u064e\\u064a\\u064c \\u064c\\u0639\\u064f\\u0628\\u064f\\u064a\\u0651\\u062f \\u0627\\u0644\\u064f\\u0647\\u0650\\u0627\\u0650\\u0645\\u0644\\u064d\\u064a\\u0651\\u060c\\u0651 \\u0652\\u0628\\u0639\\u0651\\u0646\\u064e\\u0648\\u064c\\u0627\\u0651\\u0646 \\\"\\u0650\\u0645\\u0633\\u064a\\u0631\\u064b\\u0629 \\u0627\\u064e\\u0644\\u0652\\u0639\\u0652\\u0644\\u0627\\u064e\\u0642\\u0627\\u062a\\u0651 \\u0627\\u0650\\u0644\\u0625\\u0645\\u0627\\u0652\\u0631\\u0627\\u062a\\u064a\\u0629\\u0651 \\u064b- \\u064c\\u0627\\u0651\\u0644\\u0652\\u0643\\u0648\\u064a\\u062a\\u064e\\u064a\\u064b\\u0629\\\" \\u0648\\u064b\\u0634\\u0627\\u0631\\u0643 \\u064c\\u0641\\u064c\\u064a\\u0647\\u064e\\u0627\\u0651 \\u0643\\u0644\\u064b \\u064e\\u0645\\u0646\\u0651 \\u0650\\u062f\\u0652 . \\u0639\\u0652\\u0628\\u062f\\u0650\\u0627\\u0652\\u0644\\u0644\\u064f\\u0647\\u064c \\u0627\\u0644\\u063a\\u064c\\u0646\\u064a\\u0645 \\u064e(\\u0651\\u0627\\u0644\\u0643\\u0648\\u064f\\u064a\\u064f\\u062a)\\u064f \\u064e\\u0648\\u0628\\u0644\\u0627\\u0644\\u064f \\u0651\\u0627\\u0652\\u0644\\u064f\\u0628\\u0652\\u062f\\u064b\\u0648\\u0631\\u064c \\u0646\\u064b\\u0627\\u064b\\u0626\\u0628 \\u0631\\u064d\\u0626\\u064a\\u064c\\u0633\\u064f \\u0645\\u062c\\u064e\\u0644\\u0633 \\u0625\\u062f\\u0650\\u0627\\u0652\\u0631\\u0652\\u0629\\u064d \\u064d\\u0646\\u064d\\u062f\\u064b\\u0648\\u0629\\u064f \\u0627\\u0644\\u062b\\u0642\\u0627\\u0641\\u0629\\u064e \\u0650\\u0627\\u0644\\u064d\\u0639\\u0652\\u0644\\u064d\\u0648\\u0645\\u064c\\u060c \\u062d\\u0652\\u064a\\u0650\\u062b \\u064d\\u0633\\u0650\\u0644\\u0637\\u064f \\u064b\\u0627\\u0644\\u0647\\u064e\\u0627\\u064c\\u0645\\u064c\\u0644\\u064a \\u0650\\u0627\\u0644\\u0636\\u0648\\u0621\\u064d \\u0639\\u0650\\u0644\\u064b\\u0649\\u0650 \\u0650\\u0627\\u0651\\u0644\\u0633\\u0652\\u064a\\u0631\\u0651\\u0629\\u064b \\u064f\\u0627\\u064b\\u0644\\u064b\\u0645\\u064e\\u0639\\u064b\\u0631\\u0641\\u064a\\u0629\\u0650 \\u064b\\u0644\\u064c\\u0643\\u064b\\u0644\\u064e\\u0627\\u064d \\u0627\\u0650\\u0644\\u0650\\u0643\\u0651\\u0627\\u064e\\u062a\\u0628\\u064a\\u0646 \\u062f .\\u064b \\u064c\\u0627\\u0644\\u0651\\u063a\\u064e\\u0646\\u064d\\u064a\\u064b\\u0645 \\u0650\\u0648\\u0651\\u0627\\u064f\\u0644\\u0628\\u0652\\u062f\\u0648\\u064e\\u0631 .\\u0651 \\u064d\\u0648\\u064b\\u0645\\u0645\\u0627\\u0652 \\u0642\\u0627\\u0644\\u0647 \\u0651\\u0627\\u064e\\u0644\\u0647\\u0627\\u0651\\u0645\\u064b\\u0644\\u064a\\u0651 \\u0641\\u064a\\u064e \\u0645\\u064c\\u0642\\u0651\\u062f\\u0652\\u0645\\u062a\\u0652\\u0647:\\u0651 \\u064b\\u0627\\u0644\\u0643\\u0648\\u064a\\u064b\\u062a \\u064f\\u062a\\u064d\\u0631\\u0643\\u062a \\u0628\\u064c\\u0635\\u0645\\u064d\\u0627\\u064e\\u062a\\u0651\\u0647\\u064c\\u0627\\u064d \\u0639\\u0645\\u064a\\u0651\\u0642\\u064f\\u0627\\u064b\\u064b \\u0639\\u064d\\u0644\\u064c\\u064a\\u0646\\u0627 \\u064c\\u0641\\u064a \\u062f\\u0648\\u0644\\u0651\\u0629 \\u064b\\u0627\\u064d\\u0644\\u064c\\u0625\\u064e\\u0645\\u0627\\u064b\\u0631\\u0627\\u062a\\u060c\\u064e \\u0652\\u0648\\u064c\\u0623\\u0643\\u064e\\u0628\\u0651\\u0631 \\u064c\\u062f\\u0644\\u064a\\u0644\\u064f \\u0650\\u0639\\u0644\\u064d\\u0649\\u064e \\u0650\\u0630\\u0644\\u0643\\u0650 \\u064f\\u0623\\u0651\\u0646 \\u0647\\u0646\\u0627\\u0643\\u064f \\u0652\\u062c\\u064a\\u064e\\u0644\\u064d\\u0627\\u0652\\u064b \\u0625\\u0645\\u0627\\u064f\\u0631\\u064f\\u0627\\u062a\\u064a\\u064d\\u0627\\u064b\\u064f \\u0652\\u0643\\u0627\\u0645\\u064b\\u0644\\u064d\\u0627\\u064d\\u064b\\u064f \\u062a\\u064e\\u0641\\u062a\\u062d\\u0651\\u062a\\u0651 \\u064b\\u0645\\u0650\\u062f\\u0652\\u0627\\u0631\\u0652\\u0643\\u0647\\u064b \\u0639\\u0644\\u0652\\u0649 \\u0651\\u0645\\u064b\\u0627\\u064e \\u0628\\u062b\\u064f\\u062a\\u064c\\u0647\\u064d \\u0627\\u064c\\u0644\\u0650\\u0643\\u064c\\u0648\\u064a\\u062a \\u0652\\u0645\\u0651\\u0646\\u064b \\u064b\\u062a\\u0639\\u0644\\u064a\\u064e\\u0645 \\u064d\\u0648\\u064f\\u062b\\u064c\\u0642\\u0627\\u0641\\u0651\\u0629\\u064d \\u0641\\u064a\\u064d \\u064c\\u0627\\u0644\\u0625\\u064c\\u0645\\u0651\\u0627\\u064b\\u0631\\u0627\\u064c\\u062a\\u064c\\u060c\\u064f \\u0650\\u062c\\u064a\\u0644 \\u0650\\u0643\\u064b\\u0627\\u064f\\u0645\\u0644\\u060c\\u0651 \\u064c\\u062a\\u0652\\u0639\\u0644\\u0645 \\u0648\\u0641\\u0652\\u0642 \\u0651\\u0645\\u0651\\u0646\\u064d\\u0627\\u0650\\u0647\\u064c\\u062c\\u064f \\u0627\\u0644\\u0643\\u0652\\u0648\\u064a\\u062a \\u0627\\u064c\\u0644\\u062a\\u0639\\u0644\\u064a\\u064c\\u0645\\u064c\\u064a\\u064d\\u0629 \\u064c.\\u064e\\u0648\\u0623\\u0634\\u0627\\u0651\\u062f\\u064d \\u064e\\u062f \\u064e.\\u064d \\u0627\\u064e\\u0644\\u063a\\u0646\\u064b\\u064a\\u0645 \\u0650\\u0628\\u0627\\u064c\\u0644\\u062d\\u064a\\u0627\\u0629\\u0650 \\u0651\\u0627\\u0644\\u062a\\u0652\\u0639\\u064b\\u0644\\u064a\\u064f\\u0645\\u064a\\u0629\\u064f \\u0627\\u0644\\u062b\\u0642\\u064b\\u0627\\u064f\\u0641\\u0651\\u064a\\u0629\\u0650 \\u0652\\u0641\\u064e\\u064a\\u064e \\u064f\\u0627\\u0644\\u064c\\u0625\\u0645\\u064b\\u0627\\u0631\\u064c\\u0627\\u062a\\u060c\\u064d \\u0651\\u0648\\u064c\\u0631\\u0623\\u0649\\u064f \\u064e\\u0623\\u064e\\u0646\\u0651\\u0647\\u0627\\u064e \\u062c\\u062f \\u0652\\u0645\\u062a\\u0637\\u0648\\u0631\\u064d\\u0629\\u0652\\u060c\\u0650 \\u0648\\u064e\\u0623\\u0650\\u062f\\u064c\\u0644\\u0649\\u0652 \\u0651\\u0628\\u0623\\u064c\\u0645\\u062b\\u0650\\u0644\\u0629 \\u064c\\u0645\\u0647\\u0651\\u0645\\u0629\\u064f \\u0650\\u0639\\u064f\\u0644\\u0651\\u0649 \\u0630\\u0650\\u0644\\u064e\\u0643\\u064c\\u060c\\u064c \\u0648\\u064c\\u0645\\u064d\\u0646\\u0647\\u0627 \\u0651\\u0623\\u0646 \\u0627\\u0650\\u0644\\u064e\\u0643\\u062b\\u064b\\u064a\\u0631\\u064a\\u064b\\u0646\\u064e \\u064c\\u0645\\u0646\\u0650 \\u0623\\u0628\\u064c\\u0646\\u064e\\u0627\\u0621\\u064f \\u0650\\u0627\\u0644\\u064b\\u0643\\u0648\\u064e\\u064a\\u0650\\u062a \\u0628\\u0627\\u062a\\u064b\\u0648\\u0627 \\u064a\\u064e\\u062a\\u0652\\u0627\\u0652\\u0628\\u0639\\u0650\\u0648\\u0652\\u0646 \\u0652\\u062a\\u062d\\u0652\\u0635\\u064a\\u0644\\u0647\\u0650\\u0645\\u0651 \\u064d\\u0627\\u0651\\u0644\\u0645\\u0639\\u064d\\u0631\\u064f\\u0641\\u064e\\u064a\\u064d \\u064d\\u0641\\u064c\\u064a \\u062c\\u064f\\u0627\\u064e\\u0645\\u0639\\u064d\\u0627\\u064b\\u062a \\u0627\\u0652\\u0644\\u0625\\u0645\\u0650\\u0627\\u0631\\u0627\\u062a\\u0652\\u060c\\u064e \\u0645\\u0646\\u0650 \\u062f\\u064f\\u0648\\u0646\\u064b \\u064e\\u0623\\u064e\\u0646 \\u064f\\u064a\\u064f\\u0634\\u064f\\u0639\\u064f\\u0631\\u0651\\u0648\\u064d\\u0627 \\u0625\\u0644\\u064d\\u0627\\u0650 \\u0628\\u0651\\u0623\\u0646\\u064b\\u0647\\u064c\\u0645\\u064b \\u0641\\u0650\\u064a \\u0628\\u064b\\u064a\\u0648\\u062a\\u0650\\u0647\\u064e\\u0645\\u0651\\u060c \\u0652\\u0648\\u0647\\u0648\\u064e \\u064f\\u0645\\u062f\\u064c\\u0639\\u064c\\u0627\\u064e\\u0629\\u0651 \\u064d\\u0633\\u064b\\u0639\\u0627\\u0650\\u062f\\u0629 \\u064d\\u0623\\u0633\\u0631\\u064d\\u0647\\u0645\\u0651\\u060c \\u0628\\u0652\\u0644 \\u0650\\u0628\\u0644\\u0651\\u062f\\u0647\\u0645\\u064b \\u064d\\u0628\\u0643\\u0627\\u064d\\u0645\\u064d\\u0644\\u0647 \\u064f.\\u0648\\u0642\\u0627\\u0644: \\u0644\\u0645\\u064f \\u064f\\u0623\\u064c\\u0631\\u062f\\u064c \\u064c\\u0623\\u0646\\u0650 \\u064d\\u0623\\u0633\\u064e\\u0645\\u064e\\u064a\\u0652 \\u0646\\u064e\\u062f\\u0650\\u0648\\u062a\\u0650\\u0646\\u0627 \\u0647\\u064b\\u0630\\u0651\\u0647\\u064f \\u0628\\u0627\\u0644\\u062d\\u0648\\u0651\\u0627\\u0652\\u0631\\u064b\\u064a\\u0629\\u0651\\u060c\\u064c \\u0628\\u0650\\u064a\\u0650\\u0646 \\u0645\\u0652\\u062b\\u064e\\u0642\\u0652\\u0641\\u064d\\u064a\\u0650\\u0646\\u0651 \\u0645\\u0650\\u0646\\u064d \\u0628\\u0644\\u062f\\u064a\\u064e\\u0646\\u0627:\\u064b \\u064b\\u0627\\u0644\\u064e\\u0643\\u0648\\u0650\\u064a\\u062a\\u0652 \\u0652\\u0648\\u0627\\u0652\\u0644\\u0625\\u0645\\u064c\\u0627\\u0631\\u0627\\u064c\\u062a\\u060c\\u064f \\u064b\\u0644\\u0623\\u0646 \\u0627\\u0644\\u062d\\u0648\\u064f\\u0627\\u0652\\u0631\\u060c\\u064f \\u0650\\u064a\\u062a\\u0645 \\u064c\\u0639\\u064f\\u0627\\u0650\\u062f\\u0629\\u064d\\u060c \\u0652\\u0628\\u064a\\u064e\\u0646\\u064c \\u0645\\u0650\\u0646\\u064b \\u0652\\u0647\\u064b\\u0645\\u064d \\u0645\\u062e\\u062a\\u064d\\u0644\\u0641\\u0648\\u0646\\u060c \\u0628\\u064a\\u0646 \\u0650\\u0645\\u064c\\u0646 \\u062a\\u064c\\u0643\\u0650\\u0648\\u0646\\u064c \\u064e\\u0647\\u064f\\u0646\\u0627\\u0643 \\u062a\\u0646\\u0627\\u0642\\u0650\\u0636\\u0627\\u062a \\u064b\\u0641\\u064f\\u064a\\u0651\\u0645\\u0627\\u064b \\u0650\\u0628\\u064a\\u0646\\u0652\\u0647\\u0645\\u060c \\u0625\\u0651\\u0646\\u0646\\u064e\\u0627\\u0650 \\u0650\\u0646\\u062a\\u062d\\u062f\\u064c\\u062b \\u064b\\u0636\\u0652\\u0645\\u0646 \\u0652\\u0625\\u0637\\u0652\\u0627\\u0650\\u0631\\u0651 \\u064c\\u0627\\u064c\\u0644\\u064e\\u0628\\u064e\\u064a\\u064b\\u062a\\u0650 \\u064c\\u0627\\u0644\\u0648\\u0652\\u0627\\u062d\\u0651\\u062f\\u060c \\u064f\\u0636\\u064e\\u0645\\u064c\\u0646\\u0650 \\u0625\\u0637\\u0627\\u0631 \\u0627\\u0644\\u064b\\u0623\\u0633\\u064c\\u0631\\u064f\\u0629 \\u0627\\u0644\\u0652\\u0648\\u0650\\u0627\\u062d\\u062f\\u0629\\u060c\\u0651 \\u0648\\u064f\\u0647\\u0646\\u064b\\u0627\\u0650 \\u0627\\u0650\\u0644\\u0641\\u0631\\u0642\\u064f \\u0628\\u064b\\u064a\\u0646\\u064c \\u064c\\u0637\\u064d\\u0628\\u064a\\u0639\\u0629 \\u0651\\u062d\\u062f\\u064a\\u064f\\u062b\\u0646\\u0651\\u0627\\u060c\\u0652 \\u0648\\u0635\\u0641\\u0629\\u064b \\u0627\\u0644\\u062d\\u0650\\u0648\\u0627\\u0631\\u0652 \\u0650.\\u0651\\u0648\\u062a\\u0627\\u0628\\u0651\\u0639\\u064b \\u062f . \\u0627\\u064f\\u0644\\u063a\\u0646\\u064a\\u064f\\u0645 \\u064f\\u0642\\u0651\\u0627\\u0626\\u0644\\u0627\\u064d\\u064b:\\u064d \\u0650\\u0645\\u0652\\u0631\\u0643\\u0650\\u0632 \\u0627\\u064c\\u0644\\u064b\\u0628\\u062d\\u0648\\u064c\\u062b \\u064e\\u0648\\u0627\\u064d\\u0644\\u062f\\u0631\\u064b\\u0627\\u064f\\u0633\\u0627\\u062a\\u0650 \\u0627\\u064c\\u0644\\u0643\\u0650\\u0648\\u064a\\u0650\\u062a\\u064c\\u064a\\u064b \\u064c\\u062c\\u0651\\u0645\\u064b\\u0639\\u0651 \\u0623\\u064d\\u0643\\u0650\\u062b\\u0651\\u0631 \\u064b\\u0645\\u0646 \\u064e\\u0645\\u0644\\u064b\\u064a\\u0648\\u064e\\u0646\\u064f\\u064a \\u0648\\u064e\\u062b\\u0651\\u064a\\u064d\\u0642\\u0629\\u064c \\u0639\\u0646 \\\"\\u0627\\u0644\\u062c\\u064b\\u0646\\u0648\\u064e\\u0628 \\u0648\\u0651\\u0627\\u064e\\u0644\\u062e\\u0644\\u0650\\u064a\\u064f\\u062c\\\"\\u064e\\u060c\\u0651 \\u0648\\u0645\\u064d\\u0646 \\u0628\\u064c\\u064a\\u064b\\u0646\\u064f\\u0647\\u0627\\u064f \\u0648\\u064e\\u062b\\u0627\\u0626\\u0642\\u0652 \\u064f\\u0645\\u0647\\u0650\\u0645\\u064e\\u0629 \\u0639\\u0646 \\u0645\\u0641\\u064c\\u0627\\u0635\\u0644 \\u064b\\u0627\\u0644\\u064f\\u0628\\u0652\\u0646\\u064a\\u0629\\u064c \\u064d\\u0627\\u0652\\u0644\\u0651\\u062a\\u064f\\u062d\\u064c\\u062a\\u064a\\u064e\\u0629 \\u064e\\u0641\\u064a \\u0627\\u0644\\u0650\\u0625\\u0645\\u064c\\u0627\\u064b\\u0631\\u064b\\u0627\\u0652\\u062a\\u064a\\u064f\\u0629\\u060c\\u064b \\u0648\\u064f\\u0646\\u064b\\u0634\\u064d\\u0623\\u064d\\u0629 \\u0645\\u062f\\u0627\\u0631\\u0633\\u0647\\u064e\\u0627\\u060c \\u0648\\u062d\\u064a\\u0627\\u062a\\u0650\\u0647\\u0627 \\u0627\\u0644\\u062b\\u064e\\u0642\\u0627\\u0641\\u064a\\u0629\\u0650\\u060c \\u064d\\u0648\\u0652\\u0641\\u064a \\u0647\\u0630\\u0650\\u0647 \\u0627\\u0651\\u0644\\u0648\\u062b\\u064b\\u0627\\u0626\\u0651\\u0642 \\u0650\\u0645\\u0639\\u0644\\u0648\\u064d\\u0645\\u0650\\u0627\\u064e\\u062a \\u062c\\u0651\\u062f \\u0645\\u0647\\u0645\\u0629\\u0652 \\u064b\\u0639\\u0651\\u0646 \\u064f\\u0646\\u0634\\u0623\\u0629\\u0651 \\u0627\\u0652\\u0644\\u064b\\u0645\\u062f\\u0650\\u0627\\u064c\\u0631\\u0633\\u060c\\u0652 \\u064c\\u0648\\u064c\\u062d\\u0651\\u062a\\u0649\\u064c \\u0623\\u0633\\u064b\\u0645\\u064e\\u0627\\u0621 \\u0651\\u0627\\u0644\\u0637\\u0644\\u0651\\u0628\\u0629\\u060c \\u0648\\u064b\\u0627\\u064e\\u0644\\u064d\\u0645\\u062f\\u064b\\u0631\\u0633\\u064c\\u064a\\u0646\\u060c\\u0652 \\u064b\\u0648\\u0643\\u0652\\u064a\\u0641\\u064a\\u064f\\u0629\\u064c \\u0628\\u064b\\u062f\\u0650\\u0627\\u064f\\u064a\\u0627\\u0652\\u062a\\u064c \\u0639\\u0652\\u0645\\u0650\\u0644\\u064e\\u064a\\u0652\\u0629\\u064d \\u0627\\u0644\\u062a\\u0639\\u0644\\u064a\\u0645\\u064f \\u064f. . \\u064d\\u0625\\u0644\\u064f\\u062e\\u0652\\u060c \\u064c\\u0648\\u0647\\u0646\\u064d\\u0627\\u0643\\u0651 \\u064b\\u0645\\u0646 \\u0651\\u0646\\u064f\\u0627\\u064f\\u0644\\u0652 \\u064b\\u0634\\u0647\\u0650\\u0627\\u062f\\u0629\\u064c \\u0650\\u0627\\u0644\\u062f\\u0650\\u0643\\u062a\\u064e\\u0648\\u0631\\u0651\\u0627\\u0647 \\u0645\\u064c\\u0646\\u0651 \\u062e\\u064f\\u0644\\u064b\\u0627\\u0651\\u0644\\u064f \\u064f\\u0642\\u0652\\u0631\\u0627\\u0621\\u0652\\u0629 \\u064e\\u0627\\u0644\\u064d\\u0639\\u064b\\u0644\\u064e\\u0627\\u0642\\u0627\\u064c\\u062a \\u0627\\u0652\\u0644\\u0623\\u0650\\u062e\\u0648\\u064d\\u064a\\u064e\\u0629 \\u064d\\u0628\\u064a\\u0646 \\u064e\\u0627\\u0644\\u064f\\u0628\\u064e\\u0644\\u062f\\u064a\\u064c\\u0646 \\u0652.\\u0652\\u0648\\u062c\\u0627\\u0621\\u064e \\u062d\\u064d\\u062f\\u064d\\u064a\\u064d\\u062b\\u064f \\u0627\\u064f\\u0644\\u0651\\u0628\\u0652\\u062f\\u064c\\u0648\\u0631\\u064e \\u064e\\u0628\\u0645\\u0627 \\u064a\\u064f\\u0634\\u0650\\u0628\\u0647 \\u064f\\u0627\\u064f\\u0644\\u0652\\u0634\\u0650\\u0647\\u0627\\u062f\\u064e\\u0629\\u064e\\u060c \\u0645\\u0646 \\u064c\\u0642\\u064e\\u0628\\u0644\\u064e \\u0652\\u0623\\u062d\\u064e\\u062f\\u064f \\u0651\\u0623\\u064c\\u0628\\u064f\\u0646\\u0627\\u0621 \\u064d\\u0627\\u0644\\u064c\\u062c\\u064a\\u064d\\u0644 \\u0627\\u064d\\u0644\\u064e\\u0630\\u064a\\u064d \\u064f\\u0641\\u062a\\u0651\\u062d \\u0639\\u064a\\u0646\\u064a\\u064b\\u0647\\u064b \\u0650\\u0639\\u064b\\u0644\\u064d\\u0649\\u0650 \\u0627\\u0644\\u0645\\u0646\\u0627\\u064f\\u0647\\u064b\\u062c \\u0627\\u0652\\u0644\\u0651\\u062a\\u0639\\u0644\\u064f\\u064a\\u0645\\u064a\\u0629 \\u0627\\u0644\\u0651\\u0643\\u064f\\u0648\\u0650\\u064a\\u062a\\u064a\\u0629\\u064e \\u0627\\u0650\\u0644\\u062a\\u064a\\u064b \\u064e\\u062a\\u0645 \\u062a\\u064b\\u062f\\u0650\\u0631\\u064a\\u064f\\u0633\\u0650\\u0647\\u064e\\u0627\\u064b \\u0641\\u0651\\u064a\\u064d \\u0627\\u064f\\u0644\\u0652\\u0625\\u064d\\u0645\\u064c\\u0627\\u0631\\u064c\\u0627\\u0652\\u062a\\u0652\\u060c \\u0648\\u0651\\u0642\\u064d\\u0627\\u0644: \\u064e\\u0643\\u0644 \\u064f\\u0630\\u064c\\u0644\\u0643 \\u064f\\u0630\\u0643\\u0631\\u0650\\u062a\\u0647 \\u0641\\u0651\\u064a \\u0643\\u062a\\u0627\\u0628\\u064a \\u064b\\\"\\u0627\\u0644\\u062c\\u0630\\u0648\\u0631 \\u0650\\u0627\\u064f\\u0644\\u062a\\u0627\\u0631\\u0652\\u064a\\u064d\\u062e\\u0650\\u064a\\u0651\\u0629\\u064d \\u064e\\u0644\\u064f\\u0644\\u0639\\u064b\\u0644\\u0627\\u0642\\u0627\\u0650\\u062a\\u064f \\u064e\\u0627\\u064f\\u0644\\u062b\\u0652\\u0642\\u0627\\u0650\\u0641\\u064d\\u064a\\u0629 \\u064c\\u0628\\u064a\\u064b\\u0646 \\u0650\\u0627\\u0644\\u0625\\u0645\\u0627\\u0631\\u0627\\u064c\\u062a\\u064c \\u064f\\u0648\\u064e\\u0627\\u064b\\u0644\\u0643\\u0650\\u0648\\u064a\\u064f\\u062a\\\"\\u060c \\u0652\\u0648\\u0643\\u064b\\u0627\\u064b\\u0646 \\u064c\\u0628\\u064f\\u0645\\u064f\\u062b\\u064f\\u0627\\u064e\\u0628\\u064c\\u0629\\u064d \\u064c\\u0631\\u0652\\u0633\\u064b\\u0627\\u0651\\u0644\\u064e\\u0629 \\u0634\\u0652\\u0643\\u0631 \\u0652\\u0644\\u0644\\u0643\\u0648\\u064a\\u062a\\u060c \\u0648\\u064c\\u0623\\u0636\\u0650\\u0627\\u064d\\u0641:\\u064d \\u0623\\u062c\\u064f\\u0644\\u060c\\u064e \\u064c\\u062a\\u062a\\u0644\\u0645\\u0630\\u0646\\u0627\\u064c \\u0639\\u064f\\u0644\\u0651\\u0649 \\u0650\\u0645\\u064d\\u0646\\u064c\\u0627\\u064c\\u0647\\u062c \\u064b\\u0627\\u0644\\u0643\\u064e\\u0648\\u064b\\u064a\\u062a\\u064d\\u060c\\u0650 \\u0648\\u0642\\u0631\\u0623\\u0646\\u0627\\u064d \\u0650\\u0639\\u064e\\u0628\\u0627\\u0631\\u064d\\u0629 \\u064e\\\"\\u0639\\u064f\\u0644\\u0645 \\u0628\\u0651\\u0644\\u0651\\u0627\\u062f\\u064a\\u0650 \\u0651\\u0644\\u0651\\u0648\\u064e\\u0646\\u0647\\u0650 \\u064c\\u0623\\u064c\\u062d\\u0645\\u0650\\u0631\\\" \\u0648\\u0650\\u0627\\u0631\\u062a\\u064c\\u062f\\u064a\\u0646\\u0652\\u0627\\u064e \\u0632\\u064a \\u0627\\u064e\\u0644\\u0652\\u0645\\u062f\\u0651\\u0627\\u0652\\u0631\\u064b\\u0633\\u064f \\u064d\\u0627\\u0644\\u0643\\u064d\\u0648\\u064e\\u064a\\u062a\\u064a\\u0629 \\u0623\\u062b\\u064f\\u0646\\u064f\\u0627\\u064e\\u0621\\u064c \\u0651\\u062a\\u0639\\u064e\\u0644\\u0650\\u064a\\u0645\\u0646\\u0627\\u064c\\u060c \\u064c\\u0648\\u0652\\u062a\\u064d\\u0646\\u0627\\u0650\\u0648\\u0644\\u064b\\u0646\\u0627 \\u0627\\u0644\\u064e\\u0648\\u062c\\u064f\\u0628\\u0652\\u0627\\u062a\\u064d \\u0627\\u0651\\u0644\\u0635\\u0628\\u0627\\u062d\\u0650\\u064a\\u0629\\u0651 \\u0627\\u0651\\u0644\\u0650\\u0643\\u064b\\u0648\\u064a\\u062a\\u064a\\u0629\\u0650 \\u064d\\u0641\\u0650\\u064a \\u0645\\u062f\\u064b\\u0627\\u064b\\u0631\\u064c\\u0633\\u0646\\u0627\\u0652\\u060c\\u064b \\u0648\\u0627\\u0633\\u062a\\u062e\\u064c\\u062f\\u064f\\u0645\\u0651\\u0646\\u0627 \\u064d\\u0627\\u064b\\u0644\\u064c\\u0623\\u0650\\u0642\\u064c\\u0644\\u0627\\u0651\\u0645 \\u0652\\u0648\\u064d\\u0627\\u0644\\u0652\\u0645\\u0645\\u064e\\u062d\\u0651\\u0627\\u064f\\u064a\\u064d\\u0627\\u064b\\u062a\\u064e \\u0648\\u0627\\u064d\\u0644\\u064b\\u0645\\u0628\\u0631\\u0627\\u064a\\u0652\\u0627\\u064b\\u062a \\u064d\\u0627\\u0644\\u064e\\u0643\\u0648\\u064c\\u064a\\u062a\\u064a\\u0629\\u064e\\u060c \\u0644\\u064d\\u0627\\u064c \\u0641\\u0631\\u0642 \\u064f\\u0628\\u064b\\u064a\\u064c\\u0646\\u064d\\u0646\\u0651\\u0627\\u060c \\u0628\\u064a\\u064b\\u0626\\u0650\\u062a\\u0627 \\u0628\\u064f\\u0644\\u062f\\u064a\\u0646\\u0627\\u064b \\u0648\\u0650\\u0627\\u064f\\u062d\\u0652\\u062f\\u0629\\u064d\\u060c \\u0647\\u064a \\u0627\\u064f\\u0644\\u0628\\u0650\\u064a\\u0650\\u0626\\u0629\\u064b \\u064c\\u0627\\u0650\\u0644\\u0628\\u062d\\u0631\\u064a\\u0629\\u064f \\u064f.\\u064b \\u0648\\u0628\\u0652\\u0639\\u062f\\u064f \\u064f\\u0623\\u0650\\u0641\\u064c\\u0648\\u0644 \\u062a\\u064d\\u062c\\u0627\\u0652\\u0631\\u0629\\u064c \\u0627\\u0644\\u0644\\u0624\\u0644\\u064b\\u0624\\u060c \\u0651\\u0641\\u064f\\u0625\\u0652\\u0646\\u0651 \\u0645\\u0651\\u062b\\u064e\\u0642\\u064f\\u0641\\u064a\\u0646\\u0627\\u064c \\u0648\\u064d\\u0639\\u0650\\u0645\\u064e\\u0627\\u0644\\u064f\\u0646\\u064f\\u0627 \\u062a\\u0648\\u062c\\u0647\\u0648\\u0627\\u064b \\u0625\\u0644\\u0649 \\u0627\\u0644\\u064e\\u0643\\u0650\\u0648\\u064b\\u064a\\u064b\\u062a\\u064f \\u0644\\u0650\\u0644\\u0639\\u064d\\u0645\\u0644 \\u0651\\u0641\\u064f\\u064a\\u0647\\u0627\\u064f\\u060c \\u0650\\u0643\\u0651\\u0645\\u0627 \\u0623\\u064f\\u0646 \\u0647\\u064c\\u0646\\u0627\\u0643 \\u0623\\u064f\\u062c\\u064a\\u0627\\u064c\\u0644\\u0651\\u0627\\u0650\\u064b \\u064e\\u0645\\u064b\\u0646 \\u0627\\u0652\\u0644\\u064e\\u0643\\u064b\\u0648\\u064a\\u062a\\u064b\\u064a\\u064a\\u0646 \\u064b\\u0639\\u064d\\u0627\\u0634\\u0648\\u064b\\u0627 \\u0641\\u064e\\u064a \\u064f\\u0627\\u0650\\u0644\\u064e\\u0625\\u064d\\u0645\\u0627\\u0631\\u0627\\u062a\\u064d\\u060c \\u064d\\u0648\\u0651\\u0645\\u064e\\u0646\\u064b\\u0647\\u0645 \\u0645\\u0646\\u064c \\u064b\\u0639\\u0650\\u0644\\u0652\\u0645\\u064d\\u0648\\u064e\\u0646\\u0627 .\\u0651 \\u0643\\u0645\\u0627 \\u0631\\u0627\\u0651\\u062d\\u0652 \\u064a\\u0650\\u062a\\u062d\\u064d\\u062f\\u062b \\u0639\\u0646\\u0651 \\u0627\\u0644\\u062a\\u0641\\u064e\\u0627\\u0639\\u064e\\u0644\\u064b \\u0627\\u064c\\u0644\\u062b\\u0650\\u0642\\u0652\\u0627\\u0641\\u064c\\u064a \\u0628\\u064d\\u064a\\u0646\\u0650 \\u064b\\u0627\\u0644\\u064d\\u0628\\u0644\\u0651\\u062f\\u064a\\u064d\\u0646 \\u0639\\u064e\\u0628\\u0631 \\u064d\\u0642\\u064d\\u0635\\u064f\\u0627\\u0626\\u0650\\u062f\\u064d \\u0627\\u0651\\u0644\\u064b\\u0634\\u0639\\u0652\\u0631\\u0627\\u064e\\u0621\\u060c\\u064d \\u064b\\u0627\\u0644\\u0652\\u0641\\u0652\\u0635\\u0652\\u062d\\u064c\\u0649\\u064b \\u0648\\u064c\\u0627\\u0644\\u0650\\u0646\\u064b\\u0628\\u0637\\u064a\\u064f\\u0629\\u0650\\u060c \\u0650\\u0641\\u0652\\u0636\\u064b\\u0644\\u0650\\u0627\\u064b\\u064b \\u064c\\u0639\\u064d\\u0646 \\u0651\\u0627\\u064d\\u0644\\u062a\\u0641\\u064c\\u0627\\u0639\\u064f\\u0644\\u064c \\u0651\\u0645\\u0652\\u0639 \\u0648\\u064b\\u0633\\u0627\\u0652\\u0626\\u064b\\u0644\\u064b \\u0627\\u0644\\u0625\\u0650\\u0639\\u0644\\u0627\\u0645\\u0650 \\u064d\\u0641\\u0650\\u064a\\u064e \\u0643\\u0644\\u0627 \\u0627\\u064b\\u0644\\u0628\\u0651\\u0644\\u064e\\u062f\\u064c\\u064a\\u064d\\u0646\\u060c\\u064c \\u0650\\u0625\\u064f\\u0630 \\u064c\\u0641\\u064c\\u062a\\u062d\\u062a\\u0650 \\u064c\\u0627\\u0644\\u0651\\u0635\\u064d\\u062d\\u064e\\u0627\\u064c\\u0641\\u0629\\u0650 \\u0627\\u064e\\u0644\\u064e\\u0643\\u0648\\u064a\\u062a\\u064a\\u0650\\u0629\\u064f \\u0651\\u0623\\u064f\\u0628\\u0652\\u0648\\u064e\\u0627\\u0628\\u0647\\u064d\\u0627\\u0651 \\u0644\\u0644\\u0645\\u062b\\u0642\\u0641\\u064a\\u064b\\u0646\\u064b \\u0627\\u064f\\u0644\\u0625\\u0645\\u0627\\u0631\\u0652\\u0627\\u0650\\u062a\\u064f\\u064a\\u064e\\u064a\\u0650\\u0646 .\",\n          \"https://example.com/resource/\\u0623\\u0650\\u0628\\u0648\\u0638\\u0628\\u064f\\u064a\\u0651 \\u064c-\\u0650 \\u064b\\u0645\\u0646\\u0651\\u064a\\u0650 \\u0650\\u0628\\u0651\\u0648\\u0651\\u0646\\u0639\\u064f\\u0627\\u064b\\u0645\\u0629:\\u0646\\u064e\\u0638\\u0645 \\u0627\\u062a\\u062d\\u0627\\u062f \\u064d\\u0643\\u0651\\u062a\\u0627\\u0650\\u0628\\u064d \\u0651\\u0648\\u0652\\u0623\\u062f\\u0652\\u0628\\u064e\\u0627\\u064b\\u0621 \\u064f\\u0627\\u0644\\u0625\\u0645\\u0627\\u0651\\u0631\\u0627\\u0650\\u062a \\u0641\\u064a \\u0623\\u0628\\u0648\\u0650\\u0638\\u0628\\u064b\\u064a\\u0651\\u060c\\u064c \\u0645\\u0633\\u064c\\u0627\\u064e\\u0621\\u064c \\u0623\\u0645\\u064c\\u0633\\u064d \\u0627\\u0644\\u064f\\u0623\\u064e\\u0648\\u0651\\u0644\\u060c \\u064f\\u0641\\u0650\\u064a\\u064d \\u0642\\u0651\\u0627\\u0650\\u0639\\u0629\\u064d \\u0627\\u0652\\u0644\\u062f\\u0643\\u062a\\u0648\\u064c\\u0631\\u064c \\u064c\\u0639\\u0628\\u062f\\u064e \\u064b\\u0627\\u0644\\u064c\\u0644\\u0647\\u0651 \\u0639\\u0645\\u0631\\u0627\\u064d\\u0646 \\u064f\\u062a\\u0650\\u0631\\u0651\\u064a\\u0645\\u0652 \\u064d\\u0641\\u064a\\u064f \\u0645\\u0651\\u0642\\u0631 \\u064d\\u0627\\u0644\\u0627\\u062a\\u064c\\u062d\\u0627\\u062f\\u064c \\u064c\\u0627\\u0644\\u064c\\u062c\\u062f\\u064a\\u0651\\u062f \\u0641\\u064a \\u0645\\u0650\\u0639\\u064e\\u0633\\u064b\\u0643\\u0631\\u064d \\u064f\\u0622\\u0644\\u0651 \\u0646\\u064b\\u0647\\u064a\\u0627\\u0646\\u064f \\u0623\\u064e\\u0645\\u0650\\u0633\\u064f\\u064a\\u0629 \\u0644\\u0652\\u0644\\u064e\\u0643\\u064c\\u0627\\u062a\\u0628\\u064d \\u0651\\u0648\\u064e\\u0627\\u0644\\u0652\\u0645\\u062b\\u064e\\u0642\\u0651\\u0641\\u064c \\u064d\\u0627\\u0644\\u0625\\u0645\\u064d\\u0627\\u064c\\u0631\\u064c\\u0627\\u062a\\u0651\\u064a\\u064f \\u0645\\u0627\\u062c\\u064c\\u062f \\u0628\\u0648 \\u0634\\u064f\\u0644\\u064a\\u0628\\u064f\\u064a\\u060c\\u064d \\u0623\\u064f\\u0645\\u064b\\u064a\\u0646 \\u0639\\u0627\\u0645\\u0652 \\u0652\\u0627\\u0644\\u0645\\u0646\\u062a\\u0650\\u062f\\u0651\\u0649 \\u0650\\u0627\\u0644\\u064d\\u0625\\u064e\\u0633\\u0651\\u0644\\u0651\\u0627\\u0645\\u0652\\u064a\\u064f \\u0641\\u064f\\u064a \\u0627\\u0644\\u064e\\u0634\\u0650\\u0627\\u0631\\u064d\\u0642\\u064e\\u0629\\u064e\\u060c\\u0650 \\u064c\\u0628\\u064f\\u0639\\u0646\\u0648\\u064f\\u0627\\u0646:\\u0651 \\u0644\\u0645\\u0627\\u0630\\u0627\\u064e \\u0651\\u0627\\u064b\\u0644\\u064f\\u0634\\u0651\\u0627\\u0631\\u0642\\u0629 \\u0639\\u0651\\u0627\\u064e\\u0635\\u0645\\u0629 \\u0650\\u0644\\u064d\\u0644\\u062b\\u064f\\u0642\\u0627\\u0641\\u064b\\u0629\\u064b \\u0627\\u064c\\u0644\\u0625\\u064c\\u0633\\u0652\\u0644\\u064d\\u0627\\u0645\\u0651\\u064a\\u0629\\u064d\\u061f \\u0642\\u062f\\u0651\\u0651\\u064e\\u0645 \\u0627\\u0644\\u064e\\u0623\\u0645\\u0633\\u064a\\u064f\\u0629\\u064f \\u064d\\u0627\\u0644\\u0634\\u0650\\u0627\\u0639\\u0631\\u0652 \\u0652\\u0648\\u0627\\u0644\\u0646\\u0627\\u0652\\u0642\\u062f \\u0645\\u064b\\u062d\\u064c\\u0645\\u062f \\u0646\\u0648\\u0631 \\u064f\\u0627\\u064c\\u0644\\u062f\\u064f\\u064a\\u0646\\u060c\\u0651 \\u064b\\u0648\\u0650\\u062d\\u0636\\u0650\\u0631\\u0651\\u0647\\u064c\\u0627\\u064e \\u064f\\u062d\\u0650\\u0628\\u064d\\u064a\\u0652\\u0628\\u064b \\u0627\\u064e\\u0644\\u0635\\u064b\\u0627\\u064a\\u0650\\u063a\\u0651 \\u064e\\u0631\\u064f\\u0626\\u064a\\u064d\\u0633\\u0652 \\u0645\\u062c\\u0651\\u0644\\u0633\\u0650 \\u0625\\u064c\\u062f\\u064c\\u0627\\u0631\\u0629\\u0650 \\u0651\\u0627\\u064c\\u0644\\u064b\\u0627\\u064b\\u062a\\u062d\\u0627\\u062f\\u0650\\u060c\\u064e \\u0648\\u0639\\u064b\\u062f\\u064b\\u062f \\u0645\\u0646 \\u064d\\u0627\\u0644\\u0643\\u062a\\u0651\\u0627\\u0628\\u064e \\u0648\\u0652\\u0627\\u064f\\u0644\\u064b\\u0623\\u064f\\u062f\\u0628\\u0627\\u064d\\u0621 \\u064d.\\u064e \\u064c\\u0627\\u0633\\u062a\\u064b\\u0647\\u0651\\u0644\\u0652 \\u0627\\u0652\\u0644\\u0651\\u0645\\u064d\\u062d\\u0652\\u0627\\u064f\\u0636\\u0631 \\u0628\\u0627\\u0633\\u062a\\u0639\\u064e\\u0631\\u0627\\u0636\\u0650 \\u0627\\u0644\\u0623\\u0637\\u0631 \\u0627\\u064c\\u0644\\u0639\\u064d\\u0627\\u0645\\u0629\\u0652 \\u0651\\u0627\\u064c\\u0644\\u062a\\u064a\\u0650 \\u0639\\u0645\\u0644\\u062a \\u064d\\u0639\\u0644\\u0649 \\u062a\\u064e\\u0634\\u0643\\u0651\\u064a\\u0652\\u0644\\u064f \\u064b\\u0648\\u0628\\u0644\\u064d\\u0648\\u064f\\u0631\\u0629 \\u0627\\u064f\\u0644\\u0641\\u0643\\u064b\\u0631\\u0652\\u0629 \\u0627\\u064e\\u0644\\u064c\\u062b\\u0642\\u0651\\u0627\\u0641\\u064d\\u064a\\u064b\\u0629\\u064e \\u0641\\u064b\\u064a\\u064f \\u064c\\u0627\\u0644\\u064f\\u0634\\u0627\\u0650\\u0631\\u064b\\u0642\\u0629\\u0652\\u060c\\u0652 \\u0645\\u0646\\u064c \\u0652\\u062e\\u0652\\u0644\\u0627\\u0652\\u0644\\u064d \\u0652\\u0627\\u0644\\u062a\\u064f\\u0639\\u064d\\u0631\\u064b\\u064a\\u0641 \\u0628\\u0652\\u0627\\u0644\\u062a\\u0650\\u062c\\u064b\\u0631\\u064f\\u0628\\u0629\\u0651 \\u064f\\u0648\\u0623\\u0647\\u0645 \\u0645\\u0633\\u0652\\u0627\\u0650\\u0631\\u064d\\u0627\\u062a\\u064b\\u0647\\u064d\\u0627\\u0652\\u060c\\u064f \\u0650\\u0648\\u064b\\u0627\\u0650\\u0644\\u0651\\u0623\\u0637\\u0650\\u0648\\u064c\\u0627\\u0631 \\u0651\\u0627\\u0652\\u0644\\u064d\\u062a\\u064a \\u0650\\u0645\\u064c\\u0631\\u064b\\u062a \\u0628\\u0647\\u0650\\u0627\\u064d\\u060c \\u0628\\u0652\\u062f\\u064e\\u0621\\u0651\\u0627\\u064b\\u064d \\u0628\\u064d\\u0627\\u0644\\u062d\\u062f\\u064a\\u064c\\u062b\\u064b \\u064d\\u0639\\u064b\\u0646 \\u0628\\u064d\\u0646\\u0627\\u0652\\u0621\\u064d \\u0627\\u0644\\u0628\\u064d\\u0646\\u0649\\u0650 \\u0627\\u0651\\u0644\\u0650\\u062a\\u064c\\u062d\\u062a\\u064c\\u064a\\u064c\\u0629\\u0650 \\u064d\\u0644\\u0644\\u0645\\u0624\\u064b\\u0633\\u0633\\u0650\\u0627\\u062a \\u0650\\u0627\\u0644\\u062b\\u064e\\u0642\\u0652\\u0627\\u0641\\u064a\\u064d\\u0629\\u064c \\u064f\\u0648\\u0627\\u064e\\u0644\\u0625\\u0651\\u0639\\u064e\\u0644\\u0627\\u0645\\u0650\\u064a\\u0629\\u0651 \\u064c\\u0627\\u0644\\u062a\\u064a \\u0623\\u064d\\u0633\\u0651\\u0647\\u0645\\u064f\\u062a\\u060c \\u064d\\u0639\\u064f\\u0628\\u0631 \\u0651\\u062a\\u0627\\u0652\\u0631\\u064a\\u062e\\u0647\\u0627\\u0652\\u060c\\u064e \\u0641\\u064c\\u064a\\u0651 \\u0652\\u062a\\u064b\\u0641\\u0639\\u064a\\u0644 \\u0627\\u0651\\u0644\\u0639\\u0650\\u0645\\u064b\\u0644\\u064b \\u0627\\u064e\\u0644\\u062b\\u0650\\u0642\\u064e\\u0627\\u0650\\u0641\\u0651\\u064a \\u0641\\u064f\\u064a \\u0627\\u064d\\u0644\\u0634\\u0627\\u0652\\u0631\\u0642\\u0629\\u060c \\u0627\\u0646\\u0637\\u0644\\u064d\\u0627\\u0642\\u0627\\u064b\\u0651 \\u0645\\u0650\\u0646\\u064b \\u062a\\u0623\\u0633\\u064f\\u064a\\u0633\\u0651 \\u064c\\u062f\\u0627\\u0652\\u0626\\u0631\\u0629\\u064d \\u0652\\u0627\\u0650\\u0644\\u064f\\u062b\\u0642\\u064b\\u0627\\u0641\\u0629 \\u064d\\u0648\\u0627\\u064c\\u0644\\u0625\\u0651\\u0639\\u0644\\u0627\\u0650\\u0645\\u064f\\u060c\\u0651 \\u0648\\u0650\\u062a\\u0644\\u0641\\u0632\\u064a\\u0648\\u064b\\u0646 \\u0627\\u0644\\u064f\\u0634\\u0627\\u064c\\u0631\\u0642\\u0652\\u0629\\u0650 \\u0648\\u0645\\u0627 \\u062a\\u062e\\u064d\\u0644\\u064c\\u0644\\u064f \\u0630\\u0644\\u0643\\u064c \\u064e\\u0645\\u064b\\u0646\\u064f \\u0625\\u064b\\u0628\\u0631\\u0627\\u0632\\u064f \\u0648\\u062a\\u0634\\u062c\\u064c\\u064a\\u064f\\u0639\\u064d \\u064f\\u0644\\u0644\\u062b\\u0642\\u064b\\u0627\\u064c\\u0641\\u0629 \\u0648\\u064b\\u0627\\u064b\\u0644\\u0641\\u0646\\u064e\\u0648\\u064d\\u0646\\u064e \\u0645\\u0646\\u064f \\u064f\\u062e\\u0644\\u0627\\u0644 \\u064b\\u0627\\u064f\\u0644\\u064f\\u0645\\u064d\\u0639\\u064d\\u0627\\u0631\\u0636 \\u0627\\u0644\\u0651\\u0641\\u064f\\u0646\\u064a\\u064b\\u0629\\u064f \\u0648\\u064d\\u0627\\u0644\\u0650\\u0641\\u0639\\u0627\\u064e\\u0644\\u064a\\u0627\\u062a\\u0652 \\u064f\\u0627\\u0652\\u0644\\u064c\\u062b\\u0642\\u064b\\u0627\\u0651\\u0641\\u064b\\u064a\\u0629 \\u064f\\u0627\\u0644\\u062a\\u064f\\u064a \\u0651\\u062a\\u0635\\u0628 \\u064d\\u0641\\u064a \\u0642\\u0627\\u064b\\u0644\\u064b\\u0628\\u0650 \\u0627\\u0644\\u0646\\u064c\\u0647\\u064b\\u0648\\u0636\\u064b \\u0644\\u064b\\u0634\\u0627\\u064b\\u0631\\u064d\\u0642\\u0650\\u0629\\u064d \\u0627\\u0644\\u0652\\u062b\\u0642\\u064f\\u0627\\u0641\\u0652\\u0629\\u064e \\u064d\\u0648\\u0627\\u0644\\u0645\\u064c\\u0639\\u0631\\u0641\\u064e\\u0629\\u064c\\u060c \\u0645\\u064c\\u0627 \\u064a\\u064c\\u062c\\u064b\\u064a\\u0628 \\u0628\\u064b\\u0634\\u0643\\u0644\\u0650 \\u0642\\u064b\\u0637\\u0639\\u0650\\u064a \\u064d\\u0639\\u064c\\u0646\\u064d \\u0627\\u0651\\u0644\\u064e\\u062a\\u064e\\u0633\\u0651\\u0627\\u0624\\u0644 \\u0652\\u0627\\u0644\\u0645\\u0652\\u0631\\u0643\\u0632\\u064b\\u064a\\u0650 \\u0644\\u0645\\u0627\\u0651\\u0630\\u0627\\u0651 \\u064f\\u0627\\u0650\\u0644\\u0634\\u0627\\u0651\\u0631\\u0642\\u0629\\u0651 \\u0639\\u0627\\u064b\\u0635\\u0645\\u0629\\u064f \\u064f\\u0627\\u064d\\u0644\\u064d\\u062b\\u0650\\u0642\\u0627\\u0641\\u064b\\u0629\\u064c \\u0627\\u064d\\u0644\\u0651\\u0625\\u0633\\u064b\\u0644\\u064c\\u0627\\u0645\\u064a\\u0629\\u064e\\u061f \\u064b\\u0648\\u064d\\u0623\\u0650\\u0634\\u0652\\u0627\\u0631 \\u064c\\u0627\\u0644\\u0645\\u062d\\u0627\\u064b\\u0636\\u0651\\u0631\\u064e \\u0652\\u0625\\u064f\\u0644\\u0649 \\u064e\\u0627\\u064d\\u0644\\u064d\\u062d\\u0631\\u0627\\u0643 \\u064d\\u0627\\u0644\\u062b\\u0642\\u0627\\u064e\\u0641\\u064a\\u0650 \\u0650\\u0627\\u0644\\u064b\\u0646\\u064f\\u0634\\u0637\\u0651 \\u0627\\u0644\\u0630\\u064c\\u064a\\u0652 \\u0634\\u0643\\u064b\\u0644\\u064f \\u0652\\u0627\\u0651\\u0644\\u064d\\u0628\\u0650\\u0648\\u0651\\u0627\\u0643\\u064f\\u064a\\u0631 \\u064c\\u0627\\u064d\\u0644\\u064b\\u0623\\u064c\\u0648\\u0644\\u0649\\u064c \\u0651\\u0644\\u0644\\u0651\\u0639\\u0645\\u0651\\u0644 \\u0627\\u0644\\u062b\\u0642\\u0627\\u0641\\u064a \\u0651\\u0641\\u064c\\u064a\\u064b \\u0627\\u0644\\u0652\\u0634\\u0651\\u0627\\u0651\\u0631\\u064f\\u0642\\u0629\\u064c\\u060c\\u0652 \\u0650\\u0627\\u064d\\u0644\\u0630\\u0651\\u064a\\u0651 \\u0634\\u0645\\u064c\\u0644 \\u0643\\u0627\\u0641\\u0629\\u064f \\u064e\\u0627\\u0644\\u064b\\u062c\\u0648\\u0627\\u0646\\u064c\\u0628\\u064c \\u0650\\u0628\\u0645\\u0627\\u064f \\u064b\\u0641\\u0652\\u064a\\u0652\\u0647\\u0627\\u064d \\u0625\\u0646\\u0652\\u0634\\u064c\\u0627\\u0621 \\u0651\\u0627\\u0644\\u0645\\u0631\\u0627\\u0643\\u0652\\u0632 \\u0648\\u0627\\u064e\\u0644\\u0645\\u062f\\u064f\\u0627\\u064d\\u0631\\u0633 \\u064b\\u0648\\u0650\\u0627\\u064c\\u0644\\u0651\\u062c\\u0652\\u0627\\u0645\\u0652\\u0639\\u0651\\u0627\\u062a\\u0652 \\u064f\\u0648\\u0650\\u0627\\u0644\\u0641\\u064f\\u0646\\u0650\\u0648\\u064e\\u0646\\u0652 \\u064b\\u0648\\u064b\\u0627\\u0644\\u0652\\u0645\\u0651\\u0633\\u064e\\u0627\\u0650\\u0631\\u062d \\u064d\\u0644\\u062a\\u0651\\u0639\\u0632\\u064b\\u064a\\u0632 \\u0627\\u0644\\u0641\\u0639\\u0644\\u064b \\u0627\\u0644\\u064b\\u062b\\u064e\\u0642\\u064e\\u0627\\u0651\\u0641\\u064c\\u064a\\u064d \\u0648\\u064c\\u062a\\u0633\\u0631\\u064a\\u064c\\u0639\\u064f \\u0639\\u062c\\u064f\\u0644\\u0629\\u064f \\u0627\\u0644\\u0650\\u0646\\u064e\\u0634\\u0627\\u0637\\u0652 \\u064d\\u0627\\u0644\\u062b\\u0642\\u064c\\u0627\\u0651\\u0641\\u0650\\u064a \\u064b\\u0641\\u064a \\u0627\\u064d\\u0644\\u0651\\u0634\\u0627\\u064b\\u0631\\u0642\\u0629\\u0650\\u060c\\u0651 \\u0643\\u0645\\u064c\\u0627 \\u064d\\u062a\\u0650\\u0645 \\u062a\\u062e\\u0635\\u064a\\u0635\\u064f \\u064f\\u0645\\u064c\\u0633\\u0650\\u0627\\u062d\\u0629 \\u0645\\u064c\\u0639\\u062a\\u064b\\u0628\\u0651\\u0631\\u064f\\u0629\\u064e \\u064b\\u0644\\u0644\\u0637\\u0641\\u0644\\u064f \\u0648\\u062b\\u0642\\u0652\\u0627\\u0652\\u0641\\u064c\\u062a\\u0647\\u064c\\u060c\\u0650 \\u0645\\u0646\\u0651 \\u062e\\u0652\\u0644\\u064f\\u0627\\u0644 \\u0625\\u0646\\u0634\\u064b\\u0627\\u0652\\u0621\\u064e \\u0651\\u0645\\u064f\\u0631\\u064c\\u0627\\u0643\\u0652\\u0632 \\u064c\\u0645\\u064c\\u0643\\u062a\\u0628\\u0652\\u0627\\u064c\\u062a \\u064e\\u0627\\u0644\\u064e\\u0623\\u0650\\u0637\\u064d\\u0641\\u064c\\u0627\\u0644\\u060c \\u0648\\u064d\\u0645\\u064d\\u0631\\u0652\\u0627\\u0643\\u0632 \\u064e\\u0627\\u064c\\u0644\\u0623\\u0637\\u0641\\u064c\\u0627\\u064d\\u0644\\u064d\\u060c \\u062b\\u0645\\u064c \\u0645\\u0652\\u0631\\u064d\\u0627\\u0643\\u0632 \\u064b\\u0627\\u064e\\u0644\\u0652\\u0646\\u0627\\u0634\\u0651\\u0626\\u0629\\u060c \\u0641\\u0645\\u0652\\u062c\\u064f\\u0644\\u0633 \\u064b\\u0623\\u064e\\u0639\\u0644\\u0649\\u064e \\u0652\\u0644\\u064f\\u0644\\u0637\\u0641\\u064e\\u0644\\u0652 \\u0625\\u064e\\u0644\\u0649 \\u064c\\u063a\\u064a\\u0631 \\u0630\\u064b\\u0644\\u0643 \\u0651\\u0645\\u0646 \\u0627\\u0644\\u0633\\u064b\\u064a\\u0627\\u0633\\u064c\\u0627\\u062a \\u064b\\u0627\\u0644\\u0652\\u062a\\u064a\\u064c \\u064e\\u0627\\u0650\\u0639\\u0650\\u062a\\u064b\\u0645\\u064b\\u062f\\u0647\\u0650\\u0627\\u064e \\u064d\\u0635\\u0651\\u0627\\u0652\\u062d\\u0628\\u0650 \\u0652\\u0627\\u0652\\u0644\\u0633\\u064c\\u0645\\u0648\\u064f \\u064b\\u0627\\u064b\\u0644\\u0650\\u0634\\u064f\\u064a\\u064d\\u062e \\u064f\\u0627\\u0644\\u062f\\u064b\\u0643\\u062a\\u0648\\u064f\\u0631 \\u064b\\u0633\\u064d\\u0644\\u064f\\u0637\\u0627\\u0646 \\u0628\\u0646 \\u0645\\u064e\\u062d\\u064c\\u0645\\u062f \\u0627\\u0650\\u0644\\u0642\\u0652\\u0627\\u0633\\u0645\\u064a\\u0652 \\u064e\\u0639\\u064d\\u0636\\u0648\\u064f \\u0627\\u0644\\u0645\\u062c\\u0650\\u0644\\u0633\\u064b \\u064c\\u0627\\u064d\\u0644\\u064b\\u0623\\u0639\\u0651\\u0644\\u0652\\u0649 \\u062d\\u064b\\u0627\\u0643\\u064c\\u0645\\u064e \\u064f\\u0627\\u064e\\u0644\\u0634\\u064e\\u0627\\u0650\\u0631\\u0642\\u064c\\u0629\\u0652 \\u064e\\u0644\\u0644\\u0650\\u0631\\u0642\\u0652\\u064a\\u064e \\u064c\\u0628\\u062b\\u0650\\u0642\\u064c\\u0627\\u064f\\u0641\\u064d\\u0629\\u0652 \\u0627\\u0652\\u0644\\u0637\\u0650\\u0641\\u0644 \\u0648\\u0652\\u062a\\u0646\\u064d\\u0645\\u064a\\u0651\\u0629 \\u0652\\u0645\\u064c\\u062f\\u064f\\u0627\\u064e\\u0631\\u064c\\u0643\\u0652\\u0647\\u0652 \\u0648\\u064d\\u0642\\u064e\\u062f\\u0631\\u0652\\u0627\\u0651\\u062a\\u064d\\u0647\\u064b \\u0650. \\u0648\\u064b\\u0630\\u0647\\u064d\\u0628\\u064b \\u0627\\u064c\\u0644\\u0645\\u0650\\u062d\\u0651\\u0627\\u0650\\u0636\\u064b\\u0631 \\u0625\\u064d\\u0644\\u0650\\u0649\\u0650 \\u064f\\u0623\\u0646\\u064e \\u064f\\u0627\\u0644\\u0652\\u0633\\u064c\\u064a\\u0651\\u0627\\u0633\\u0650\\u0627\\u062a\\u064d \\u0627\\u0644\\u062b\\u0652\\u0642\\u0627\\u0641\\u064a\\u0629\\u064b \\u0648\\u0627\\u0644\\u062a\\u064d\\u0648\\u062c\\u064c\\u064a\\u064b\\u0647\\u0627\\u062a\\u0650 \\u0650\\u0627\\u064b\\u0644\\u064d\\u0646\\u064e\\u064a\\u0651\\u0631\\u0629\\u064c \\u0644\\u064e\\u0635\\u064c\\u0627\\u062d\\u0650\\u0628\\u064c \\u0627\\u0644\\u0633\\u0645\\u0648 \\u064d\\u062d\\u0627\\u064c\\u0643\\u0652\\u0645\\u064b \\u0627\\u064d\\u0644\\u0634\\u064c\\u0627\\u0631\\u064f\\u0642\\u0629 \\u064b\\u062c\\u064c\\u0639\\u0644\\u0650\\u062a\\u064f \\u0650\\u0645\\u064e\\u0646 \\u0627\\u0651\\u0644\\u0639\\u064d\\u0645\\u064c\\u0644\\u064e \\u0627\\u0644\\u064d\\u062b\\u064b\\u0642\\u0627\\u064d\\u0641\\u064f\\u064a\\u0652 \\u0641\\u064a\\u064e \\u0627\\u0652\\u0644\\u064d\\u0634\\u0627\\u0631\\u064f\\u0642\\u0651\\u0629\\u064c \\u0639\\u0645\\u0644\\u0627\\u064b\\u0650 \\u0646\\u064e\\u0634\\u064d\\u0637\\u0651\\u0627\\u064b \\u0648\\u0651\\u0642\\u0651\\u0648\\u0651\\u064a\\u0652\\u0627\\u064b\\u064c \\u064e\\u0633\\u0648\\u064f\\u0627\\u0621 \\u064f\\u0645\\u064d\\u0646 \\u0652\\u062e\\u0652\\u0644\\u0650\\u0627\\u0644 \\u062a\\u064d\\u0648\\u064e\\u062c\\u0650\\u064a\\u0647\\u0627\\u064c\\u062a\\u064c \\u0650\\u0633\\u064e\\u0645\\u0651\\u0648\\u0647 \\u064c\\u0644\\u064e\\u0644\\u0627\\u0652\\u0631\\u062a\\u064d\\u0642\\u0651\\u0627\\u0621 \\u064c\\u0628\\u0627\\u0651\\u0644\\u064f\\u0641\\u0646\\u064f \\u0627\\u064d\\u0644\\u064d\\u062a\\u0634\\u064f\\u0643\\u064a\\u064e\\u0644\\u064e\\u064a\\u0652 \\u0648\\u064b\\u062a\\u0634\\u064f\\u062c\\u064d\\u064a\\u0639 \\u064b\\u0627\\u0652\\u0644\\u0641\\u0646\\u0627\\u0650\\u0646\\u064a\\u0646\\u060c\\u064c \\u0648\\u064f\\u0627\\u0642\\u062a\\u0646\\u064d\\u0627\\u0621\\u064c \\u0652\\u0623\\u064c\\u0639\\u064e\\u0645\\u064e\\u0627\\u0644 \\u0641\\u064b\\u0646\\u0651\\u064a\\u064e\\u0629\\u064e \\u0644\\u0645\\u0635\\u0650\\u0644\\u0652\\u062d\\u064d\\u0629\\u064f \\u064f\\u0645\\u062a\\u064b\\u062d\\u064d\\u0641\\u0651 \\u0627\\u0644\\u064b\\u0634\\u0627\\u0631\\u0651\\u0642\\u0629\\u060c \\u0648\\u064f\\u0625\\u064c\\u0646\\u062c\\u0627\\u0632 \\u064e\\u0642\\u0652\\u0627\\u0639\\u0629 \\u064e\\u062e\\u064f\\u0627\\u0651\\u0635\\u0629\\u0652 \\u064f\\u0628\\u0627\\u064f\\u0644\\u0622\\u062b\\u0650\\u0627\\u0651\\u0631 \\u0627\\u064b\\u0644\\u0625\\u0633\\u064d\\u0644\\u064c\\u0627\\u064d\\u0645\\u0651\\u064a\\u0629\\u064b \\u064f\\u0641\\u064e\\u064a \\u0645\\u062a\\u062d\\u0641 \\u0627\\u0652\\u0644\\u064d\\u0634\\u0627\\u0651\\u0631\\u0642\\u064e\\u0629\\u060c\\u064c \\u064d\\u0623\\u064b\\u0645\\u064e \\u0645\\u064f\\u0646 \\u062e\\u064c\\u0644\\u0627\\u0651\\u0644 \\u0650\\u0627\\u0633\\u064b\\u062a\\u0643\\u0645\\u0651\\u0627\\u064d\\u0644 \\u0627\\u0652\\u0644\\u0645\\u0652\\u0634\\u0652\\u0631\\u0648\\u0639\\u0627\\u064d\\u062a\\u064c \\u0627\\u0644\\u062b\\u0652\\u0642\\u0651\\u0627\\u0652\\u0641\\u064a\\u0629\\u064c \\u0648\\u064e\\u062a\\u0631\\u0645\\u064a\\u0645 \\u0627\\u0651\\u0644\\u0645\\u0628\\u0627\\u0646\\u064c\\u064a\\u064f \\u0627\\u0644\\u064d\\u062a\\u0650\\u0631\\u0627\\u0650\\u062b\\u064a\\u0650\\u0629 \\u0652\\u0648\\u063a\\u064a\\u0631\\u0647\\u064b\\u0627\\u064f \\u0645\\u064f\\u0646 \\u0627\\u064e\\u0644\\u0651\\u0623\\u0639\\u0651\\u0645\\u0627\\u0644 \\u064c\\u0648\\u0650\\u0627\\u0644\\u0623\\u064f\\u0646\\u0634\\u064e\\u0637\\u0629 \\u0652\\u0627\\u0644\\u062a\\u064a \\u062a\\u0635\\u0628 \\u0641\\u064a\\u064d \\u064e\\u0635\\u0645\\u064e\\u064a\\u0651\\u0645\\u0651 \\u064b\\u0627\\u0644\\u0650\\u0641\\u0639\\u0651\\u0644\\u064d \\u0627\\u064f\\u0644\\u064e\\u062b\\u064c\\u0642\\u0627\\u064b\\u0641\\u0651\\u064a .\\u0648\\u0623\\u0652\\u0643\\u064e\\u062f\\u064d \\u0627\\u0652\\u0644\\u0650\\u0645\\u0650\\u062d\\u0650\\u0627\\u064c\\u0636\\u0631 \\u0623\\u064d\\u0646 \\u0627\\u064c\\u0644\\u064e\\u062f\\u064e\\u0648\\u0652\\u0631\\u0629\\u0652 \\u064b\\u0627\\u0652\\u0644\\u064c\\u0623\\u064c\\u0648\\u064c\\u0644\\u064f\\u0649\\u0651 \\u0644\\u0645\\u064e\\u0639\\u0631\\u064d\\u0636\\u064d \\u0627\\u0644\\u0650\\u0643\\u0650\\u062a\\u0651\\u0627\\u0628\\u060c \\u0627\\u0644\\u0630\\u064d\\u064a \\u0623\\u0635\\u0651\\u0628\\u062d \\u0627\\u0651\\u0644\\u0652\\u064a\\u064f\\u0648\\u064c\\u0645\\u0651 \\u0648\\u062c\\u064b\\u0647\\u0629 \\u0639\\u0627\\u064b\\u0644\\u0651\\u0645\\u064a\\u0650\\u0629 \\u0644\\u0651\\u0644\\u0643\\u062a\\u0627\\u064d\\u0628\\u064e \\u064c\\u0648\\u0627\\u0644\\u0650\\u0645\\u0641\\u064e\\u0643\\u064b\\u0631\\u064a\\u0650\\u0646 \\u064e\\u0645\\u0650\\u0646\\u0650 \\u0623\\u0650\\u0646\\u064d\\u062d\\u064d\\u0627\\u064d\\u0621\\u064c \\u0627\\u064e\\u0644\\u0650\\u0639\\u0651\\u0627\\u0651\\u0644\\u0645\\u0652 \\u0638\\u0652\\u0644\\u0627\\u0644\\u0647\\u064c \\u0627\\u0644\\u0650\\u0648\\u0627\\u0631\\u064f\\u0641\\u0629\\u064e\\u060c\\u064f \\u0634\\u064d\\u0643\\u064d\\u0644\\u062a\\u0650 \\u064d\\u0646\\u064f\\u0642\\u064b\\u0637\\u0629 \\u064f\\u0627\\u064f\\u0646\\u064c\\u0637\\u0644\\u064e\\u0627\\u0652\\u0642 \\u064f\\u0648\\u062a\\u062d\\u0648\\u0650\\u0651\\u064d\\u0644 \\u0641\\u0652\\u064a\\u064d \\u0627\\u064e\\u0644\\u0645\\u0634\\u0652\\u0631\\u0652\\u0648\\u0639 \\u0652\\u0627\\u0644\\u0651\\u062b\\u0642\\u0652\\u0627\\u0652\\u0641\\u064d\\u064a\\u064f \\u0652\\u0644\\u064d\\u0635\\u0627\\u062d\\u0628 \\u064c\\u0627\\u064d\\u0644\\u064e\\u0633\\u0651\\u0645\\u0650\\u0648\\u064d \\u0650\\u062d\\u064d\\u0627\\u0643\\u0645\\u064f \\u0627\\u0652\\u0644\\u0634\\u0652\\u0627\\u064b\\u0631\\u0642\\u0651\\u0629\\u060c\\u0652 \\u0643\\u0652\\u0645\\u064b\\u0627\\u064e \\u064c\\u062a\\u0632\\u064f\\u0627\\u064d\\u0645\\u0646 \\u064c\\u0645\\u064c\\u0639\\u0651 \\u064e\\u0647\\u0650\\u0630\\u0647 \\u0627\\u0644\\u062f\\u0648\\u0631\\u0651\\u0629 \\u0627\\u064b\\u0641\\u0652\\u062a\\u062a\\u0627\\u062d \\u0645\\u064f\\u0643\\u064b\\u062a\\u0628\\u0652\\u0629\\u064e \\u0627\\u0644\\u064b\\u0645\\u064f\\u062d\\u0650\\u0645\\u0651\\u0648\\u062f\\u064e \\u0652(\\u0651\\u0627\\u0644\\u0652\\u0623\\u064b\\u0647\\u064f\\u0644\\u0650\\u064a\\u0629\\u0652)\\u0652\\u060c\\u0652 \\u0651\\u062b\\u064c\\u0645 \\u064b\\u0627\\u0644\\u0650\\u0645\\u0651\\u0631\\u064f\\u0643\\u0652\\u0632\\u0651 \\u064e\\u0627\\u0652\\u0644\\u064c\\u062b\\u0651\\u0642\\u0627\\u0641\\u0652\\u064a\\u064d \\u064f\\u0641\\u064a\\u0645\\u0627\\u0652 \\u0628\\u0639\\u062f\\u064d .\\u0652\\u0648\\u0651\\u0627\\u064c\\u0639\\u062a\\u0628\\u064d\\u0631 \\u0627\\u064d\\u0644\\u064c\\u0645\\u062d\\u064e\\u0627\\u064b\\u0636\\u0651\\u0631 \\u064b\\u0623\\u0646 \\u064b\\u062d\\u064b\\u0632\\u0645\\u0629 \\u0652\\u0627\\u0652\\u0644\\u064c\\u0645\\u064d\\u0647\\u064d\\u0631\\u062c\\u064d\\u0627\\u064d\\u0646\\u0627\\u0651\\u062a \\u0652\\u0648\\u0651\\u0627\\u0644\\u064f\\u0641\\u064b\\u0639\\u0650\\u0627\\u0644\\u064a\\u0650\\u0627\\u0651\\u062a\\u064b \\u0627\\u0644\\u0652\\u062a\\u064a\\u0650 \\u062a\\u0642\\u0652\\u0627\\u0650\\u0645 \\u0652\\u0639\\u0644\\u0651\\u0649 \\u0645\\u062f\\u0627\\u064c\\u0631\\u0650 \\u0627\\u064e\\u0644\\u0639\\u0627\\u0645\\u0650 \\u0650\\u0641\\u064a \\u064c\\u0627\\u0644\\u064e\\u0634\\u0627\\u064d\\u0631\\u0642\\u0629\\u064f\\u060c\\u0652 \\u0651\\u0648\\u0645\\u0627 \\u064a\\u0651\\u062a\\u064c\\u062e\\u0644\\u0650\\u0644\\u0647\\u064f\\u0627\\u0651 \\u0645\\u0646 \\u0623\\u0646\\u0634\\u0637\\u064c\\u0629\\u064d \\u062b\\u0642\\u064d\\u0627\\u0641\\u0652\\u064a\\u0629\\u064f \\u064c\\u0645\\u0651\\u062a\\u064f\\u0646\\u0648\\u064d\\u0639\\u0652\\u0629 \\u064d\\u062a\\u064c\\u0634\\u064b\\u0643\\u0652\\u0644\\u064f \\u064f\\u0623\\u064d\\u0648\\u062c\\u064c \\u0650\\u0627\\u064f\\u0644\\u062d\\u0631\\u064d\\u0627\\u0652\\u0643\\u0651 \\u064f\\u0627\\u064e\\u0644\\u062b\\u0642\\u0627\\u0641\\u064b\\u064a\\u064f\\u060c\\u064d \\u0648\\u0631\\u0627\\u0651\\u0641\\u0652\\u062f\\u0652\\u0627\\u064f\\u064b\\u0651 \\u0623\\u0633\\u0627\\u064d\\u0633\\u064d\\u064a\\u064e\\u0627\\u064c\\u064b \\u0644\\u0644\\u064c\\u062a\\u0641\\u0652\\u0627\\u0639\\u0644\\u0651 \\u0651\\u0648\\u0652\\u0627\\u0644\\u0652\\u062a\\u0646\\u0627\\u0650\\u063a\\u0645 \\u0627\\u0644\\u064b\\u062b\\u0650\\u0642\\u0627\\u064b\\u0641\\u064c\\u064a \\u064d\\u0641\\u064a\\u0651 \\u0625\\u0645\\u0627\\u0631\\u0652\\u0629\\u0652 \\u062a\\u0632\\u064c\\u062f\\u0651\\u0627\\u064c\\u0646 \\u0648\\u062a\\u0652\\u0632\\u062f\\u064d\\u0647\\u0651\\u064a\\u0650 \\u0643\\u0644 \\u064e\\u062d\\u064e\\u064a\\u064e\\u0646 \\u0628\\u0651\\u0644\\u0650\\u0641\\u064f\\u062a\\u064c\\u0629\\u064b \\u0643\\u064d\\u0631\\u064a\\u0645\\u0629\\u0651 \\u0648\\u064d\\u0633\\u064c\\u0627\\u064e\\u0646\\u062d\\u0629 \\u064e\\u0637\\u064a\\u064e\\u0628\\u0629 \\u0645\\u0650\\u0646 \\u0652\\u062d\\u0627\\u064e\\u0643\\u064b\\u0645 \\u0645\\u062b\\u0642\\u0641\\u0652\\u060c \\u064a\\u064e\\u062d\\u064b\\u0645\\u064d\\u0644\\u0652 \\u0639\\u0644\\u0649 \\u0639\\u064d\\u0627\\u064b\\u062a\\u064f\\u0642\\u0647 \\u064b\\u0627\\u064e\\u0644\\u064e\\u0646\\u0651\\u0647\\u064f\\u0648\\u064d\\u0636 \\u064f\\u0628\\u0652\\u0627\\u064c\\u0644\\u062b\\u064d\\u0642\\u064f\\u0627\\u064c\\u0641\\u064b\\u0629\\u064c \\u0648\\u064f\\u0627\\u064c\\u0644\\u064b\\u0645\\u064e\\u0639\\u064b\\u0631\\u0650\\u0641\\u0629 \\u064b.\\u0648\\u062e\\u0651\\u0644\\u0650\\u0635 \\u064f\\u0627\\u0650\\u0644\\u0650\\u0645\\u062d\\u064b\\u0627\\u0636\\u0631 \\u0625\\u064e\\u0644\\u0651\\u0649\\u0652 \\u0623\\u064b\\u0646 \\u064c\\u062b\\u064e\\u0645\\u0629\\u0651 \\u064b\\u062b\\u0644\\u0627\\u064e\\u062b\\u064c \\u0646\\u0642\\u0651\\u0627\\u0637 \\u064e\\u0644\\u064b\\u0644\\u0650\\u0627\\u064b\\u0631\\u064c\\u062a\\u0642\\u0650\\u0627\\u0621\\u064b \\u064e\\u0628\\u064d\\u0627\\u064d\\u0644\\u0641\\u0643\\u0652\\u0631\\u0629 \\u064d\\u0627\\u064d\\u0644\\u062b\\u0642\\u0651\\u0627\\u0641\\u064d\\u064a\\u064d\\u0629\\u0650 \\u0641\\u064e\\u064a\\u064d \\u064f\\u0627\\u0644\\u064c\\u0634\\u064d\\u0627\\u0631\\u0652\\u0642\\u0629 \\u0623\\u064d\\u0648\\u0644\\u0650\\u0647\\u0627 \\u064d\\u062a\\u0652\\u0623\\u064b\\u0633\\u064e\\u064a\\u0633 \\u0650\\u062f\\u0652\\u0627\\u0652\\u0626\\u0650\\u0631\\u0652\\u0629\\u064e \\u064e\\u0627\\u0644\\u062b\\u0642\\u0651\\u0627\\u0641\\u0629 \\u0648\\u064e\\u0627\\u0650\\u0644\\u064e\\u0625\\u0639\\u0650\\u0644\\u0627\\u0645\\u0651\\u060c \\u064c\\u0648\\u0650\\u062b\\u0652\\u0627\\u0646\\u064a\\u0647\\u0651\\u0627\\u064c \\u0627\\u062c\\u062a\\u0651\\u0645\\u064d\\u0627\\u064d\\u0639 \\u064e\\u0635\\u0627\\u062d\\u0650\\u0628\\u0650 \\u0627\\u0651\\u0644\\u0651\\u0633\\u0651\\u0645\\u0648\\u064d \\u0650\\u062d\\u0627\\u064f\\u0643\\u064b\\u0645 \\u0627\\u0644\\u064f\\u0634\\u0652\\u0627\\u064b\\u0631\\u0642\\u064d\\u0629\\u0651 \\u064c\\u0628\\u0643\\u064f\\u0648\\u0650\\u0627\\u062f\\u064c\\u0631 \\u0627\\u0644\\u064b\\u062f\\u064b\\u0627\\u0650\\u0626\\u0631\\u064b\\u0629 \\u064c\\u0648\\u0642\\u0651\\u062f\\u064f\\u0651\\u0645 \\u0641\\u0651\\u064a\\u0647\\u064f \\u0645\\u062c\\u0650\\u0645\\u064b\\u0648\\u064d\\u0639\\u0651\\u0629\\u064d \\u0645\\u064f\\u0646 \\u0652\\u0627\\u064e\\u0644\\u0633\\u064a\\u0651\\u0627\\u0651\\u0633\\u0627\\u062a \\u0651\\u0627\\u0644\\u062b\\u0642\\u064c\\u0627\\u064b\\u0641\\u064a\\u064e\\u0629 \\u0648\\u064c\\u0627\\u0644\\u062e\\u0651\\u0637\\u0637\\u064b \\u0627\\u0644\\u064d\\u062a\\u0646\\u0645\\u064e\\u0648\\u064a\\u0650\\u0629 \\u0651\\u0648\\u062f\\u0652\\u0639\\u0627 \\u064c\\u0633\\u0650\\u0645\\u064b\\u0648\\u064c\\u0647 \\u064c\\u0625\\u0650\\u0644\\u064f\\u0649: \\u0627\\u0644\\u0627\\u0647\\u0651\\u062a\\u064f\\u0645\\u0627\\u064f\\u0645 \\u0628\\u064b\\u0627\\u0650\\u0644\\u064f\\u0645\\u0652\\u0633\\u0631\\u062d\\u060c\\u0652 \\u0648\\u064b\\u0627\\u0651\\u0644\\u0623\\u0637\\u064c\\u0631\\u0650 \\u0627\\u064d\\u0644\\u0651\\u0639\\u0627\\u064b\\u0645\\u0629 \\u064e\\u0644\\u0644\\u0650\\u062b\\u064e\\u0642\\u0627\\u064d\\u0641\\u0629\\u064d\\u060c\\u0651 \\u0651\\u0627\\u064c\\u0644\\u0650\\u0627\\u0631\\u064f\\u062a\\u0642\\u0627\\u064f\\u0621\\u064c \\u0628\\u064d\\u0627\\u0650\\u0644\\u0639\\u0645\\u0651\\u0644\\u064e \\u0627\\u0644\\u0651\\u062a\\u064d\\u0634\\u0643\\u0651\\u064a\\u0644\\u064a\\u0650\\u060c \\u0627\\u0651\\u0644\\u0627\\u064f\\u0647\\u064f\\u062a\\u0645\\u064d\\u0627\\u0645 \\u0650\\u0628\\u0650\\u0627\\u0651\\u0644\\u064b\\u0648\\u0639\\u0651\\u064a \\u064b\\u0648\\u0650\\u0627\\u0652\\u0644\\u064f\\u0630\\u0627\\u0626\\u0650\\u0642\\u0651\\u0629\\u064c \\u0627\\u0651\\u0644\\u062c\\u0650\\u0645\\u064d\\u0627\\u0652\\u0644\\u0652\\u064a\\u0652\\u0629\\u064f\\u060c \\u0627\\u064d\\u0644\\u0650\\u0627\\u0647\\u064f\\u062a\\u0645\\u0627\\u0651\\u0645\\u0652 \\u064f\\u0628\\u064d\\u0627\\u0644\\u0637\\u0641\\u0644\\u0651\\u060c \\u0651\\u062a\\u0637\\u0648\\u064a\\u0631\\u064b \\u0634\\u0628\\u0643\\u0629\\u0652 \\u0627\\u0644\\u0645\\u0643\\u062a\\u064b\\u0628\\u0627\\u062a\\u060c\\u0652 \\u064e\\u0627\\u0633\\u062a\\u0643\\u064f\\u0645\\u064d\\u0627\\u0644\\u064d \\u0639\\u064b\\u0645\\u064b\\u0644\\u0652\\u064a\\u0627\\u062a \\u064c\\u0627\\u0644\\u064f\\u062a\\u0631\\u0645\\u064a\\u0645\\u0650\\u060c \\u064b\\u0627\\u0644\\u064d\\u0627\\u0647\\u064b\\u062a\\u064c\\u0645\\u0652\\u0627\\u0650\\u0645\\u064d \\u0650\\u0628\\u062b\\u064e\\u0642\\u0652\\u0627\\u064b\\u0641\\u064e\\u0629\\u064d \\u0650\\u0627\\u064d\\u0644\\u0645\\u0650\\u0631\\u064b\\u0623\\u064b\\u0629 \\u0650\\u0648\\u064b\\u0627\\u064f\\u0644\\u064d\\u0637\\u0641\\u0652\\u0644 .\\u0652 \\u064c.\\u064d)\\u064f \\u064b\\u0648\\u062b\\u064b\\u0627\\u064d\\u0644\\u0651\\u062b\\u064b\\u0647\\u064e\\u0627\\u064f \\u064b\\u0625\\u0650\\u0639\\u0650\\u0644\\u0651\\u0627\\u064b\\u0646\\u064f \\u0627\\u0644\\u0634\\u0627\\u0631\\u0642\\u0629\\u064f \\u0651\\u0639\\u0627\\u064d\\u0635\\u064e\\u0645\\u0629\\u064c \\u0644\\u0644\\u064b\\u062b\\u0642\\u064b\\u0627\\u0641\\u0629 \\u064b\\u0627\\u0652\\u0644\\u064e\\u0639\\u0651\\u0631\\u0628\\u064a\\u0629\\u064f \\u064b\\u0641\\u064a\\u064b \\u0639\\u0627\\u0645 19\\u06529\\u064d8 \\u064e\\u0644\\u0645\\u0627 \\u062a\\u062a\\u0645\\u064b\\u064a\\u0632\\u064f \\u0628\\u064f\\u0647\\u064e \\u064e\\u0645\\u064b\\u0646\\u064b \\u064b\\u0646\\u064e\\u0634\\u0650\\u0627\\u0637 \\u0651\\u0648\\u064f\\u062d\\u064b\\u0631\\u0627\\u0643\\u064d \\u064f\\u062b\\u0642\\u0627\\u0641\\u064a\\u0650 \\u0645\\u0652\\u0645\\u064c\\u064a\\u0632\\u064d\\u060c\\u064e \\u064b\\u0641\\u0636\\u0644\\u0627\\u064b\\u064e \\u064f\\u0639\\u0650\\u0646 \\u062f\\u0648\\u0631\\u064b \\u064c\\u0627\\u0644\\u064d\\u062c\\u064f\\u0648\\u0627\\u0652\\u0626\\u064f\\u0632\\u0651 \\u0648\\u0635\\u0650\\u0646\\u064f\\u0627\\u062f\\u0651\\u064a\\u064b\\u0642 \\u064f\\u0627\\u064b\\u0644\\u062f\\u064d\\u0639\\u064c\\u0645\\u060c \\u064d\\u0648\\u0627\\u064f\\u0644\\u062f\\u0628\\u0652\\u0644\\u064b\\u0648\\u0645\\u0627\\u0633\\u064d\\u064a\\u0629 \\u064f\\u0627\\u0650\\u0644\\u064b\\u062b\\u0652\\u0642\\u0627\\u0641\\u0651\\u064a\\u0629\\u060c\\u064e \\u0648\\u0639\\u0650\\u062f\\u062f \\u0648\\u0652\\u0646\\u064c\\u0648\\u0639 \\u064b\\u0627\\u064b\\u0644\\u064c\\u062c\\u064b\\u0627\\u0645\\u0639\\u0650\\u0627\\u064c\\u062a \\u0648\\u0627\\u0644\\u064e\\u0645\\u0650\\u0631\\u0627\\u0652\\u0643\\u0632\\u060c \\u064f\\u0648\\u0627\\u064b\\u0644\\u0625\\u064f\\u062d\\u0635\\u064c\\u0627\\u0650\\u0621\\u064e \\u0627\\u0651\\u0644\\u0627\\u064b\\u062c\\u064f\\u062a\\u0645\\u0627\\u0650\\u0639\\u0650\\u064a\\u0651 \\u064b\\u0641\\u0651\\u064a \\u0628\\u0644\\u0648\\u064e\\u0631\\u0629\\u064f \\u064b\\u0648\\u064c\\u062a\\u064b\\u0631\\u0633\\u0652\\u064a\\u062e \\u064c\\u0645\\u064d\\u0643\\u064e\\u0627\\u0646\\u0629 \\u064b\\u0627\\u0644\\u0651\\u0634\\u0627\\u0651\\u0631\\u064e\\u0642\\u0629 \\u064d\\u0639\\u0627\\u0635\\u0645\\u0629\\u064f \\u0651\\u0644\\u064c\\u0644\\u0651\\u062b\\u064d\\u0642\\u0627\\u064d\\u0641\\u0629\\u064e \\u064c\\u0627\\u064c\\u0644\\u0652\\u0639\\u0650\\u0631\\u0628\\u064a\\u064c\\u0629 \\u0650\\u0648\\u0652\\u0627\\u0644\\u0625\\u064d\\u0633\\u0644\\u0627\\u0651\\u0645\\u064a\\u0652\\u0629\\u060c \\u0648\\u0643\\u064f\\u0644 \\u0651\\u0630\\u0652\\u0644\\u064b\\u0643 \\u064b\\u0628\\u062c\\u0647\\u062f \\u0651\\u0635\\u0651\\u0627\\u062d\\u0628\\u064d \\u0650\\u0627\\u0644\\u064d\\u0633\\u064e\\u0645\\u0648\\u0650 \\u064b\\u062d\\u0650\\u0627\\u064c\\u0643\\u064f\\u0645 \\u064d\\u0627\\u0644\\u0634\\u0627\\u0631\\u064c\\u0642\\u0629 \\u0627\\u064e\\u0644\\u0650\\u0630\\u064a\\u064b \\u064e\\u0639\\u0645\\u064f\\u0644 \\u0651\\u0648\\u064d\\u0644\\u0627 \\u064a\\u0632\\u064f\\u0627\\u064e\\u0644 \\u0628\\u0634\\u063a\\u0641\\u0652 \\u0648\\u062d\\u0628\\u064f \\u0639\\u064f\\u0644\\u0649\\u0652 \\u062a\\u064c\\u0639\\u0632\\u064b\\u064a\\u064b\\u0632\\u064e \\u064c\\u0627\\u064f\\u0644\\u064e\\u062a\\u0646\\u064b\\u0645\\u0651\\u064a\\u064d\\u0629\\u064c \\u0627\\u064e\\u0644\\u064b\\u062b\\u0642\\u064e\\u0627\\u064d\\u0641\\u064c\\u064a\\u0629 \\u064e\\u0641\\u0650\\u064a\\u064f \\u0627\\u0652\\u0644\\u064e\\u0634\\u0627\\u0631\\u064e\\u0642\\u064d\\u0629\\u064e \\u0645\\u0646\\u0650 \\u062e\\u064b\\u0644\\u0650\\u0627\\u0650\\u0644\\u0651 \\u0651\\u0633\\u064e\\u0646\\u0651 \\u0648\\u0625\\u0642\\u064b\\u0631\\u0651\\u0627\\u0631 \\u0645\\u062c\\u0645\\u0648\\u064c\\u0639\\u064e\\u0629\\u064e \\u0645\\u064f\\u0646\\u0651 \\u0627\\u064b\\u0644\\u0645\\u064d\\u0634\\u0650\\u0631\\u0648\\u0639\\u064f\\u0627\\u064f\\u062a\\u0652 \\u0627\\u0644\\u0651\\u062b\\u0650\\u0642\\u0627\\u0652\\u0641\\u0650\\u064a\\u0629\\u064c \\u0650\\u0627\\u0644\\u062a\\u064d\\u064a \\u064e\\u062a\\u064c\\u0647\\u064e\\u062f\\u064d\\u0641\\u064e \\u0625\\u064e\\u0644\\u0650\\u0649 \\u0652\\u062a\\u062d\\u0642\\u064a\\u0642 \\u0630\\u0644\\u0643\\u064d\\u060c\\u064b \\u0650\\u062d\\u062a\\u0650\\u0649 \\u0652\\u0623\\u064e\\u0635\\u0628\\u062d\\u062a\\u0651 \\u064c\\u0627\\u064e\\u0644\\u0634\\u0627\\u064c\\u0631\\u064c\\u0642\\u064b\\u0629\\u0652 \\u0627\\u0644\\u0651\\u064a\\u0648\\u064c\\u0645 \\u0651\\u0648\\u064f\\u062c\\u0647\\u064b\\u0629\\u064e \\u064a\\u0624\\u064f\\u0645\\u064e\\u0647\\u064c\\u0627 \\u0652\\u0627\\u0644\\u064e\\u0645\\u0641\\u064e\\u0643\\u0631\\u0651\\u0648\\u0651\\u0646 \\u0648\\u0650\\u0627\\u0644\\u0645\\u0651\\u062b\\u0642\\u0650\\u0641\\u0651\\u0648\\u0646 \\u0648\\u0627\\u0644\\u0645\\u064f\\u0628\\u064c\\u062f\\u0639\\u064c\\u0648\\u0650\\u0646 \\u0652\\u0648\\u0652\\u0627\\u0651\\u0644\\u064c\\u0643\\u062a\\u064c\\u0627\\u0628\\u0650 \\u064c\\u0645\\u0650\\u0646\\u064f \\u0634\\u062a\\u0650\\u0649\\u064e \\u0623\\u064f\\u0646\\u064d\\u062d\\u0627\\u0621 \\u0627\\u064d\\u0644\\u0652\\u0639\\u0627\\u0644\\u064f\\u0645\\u060c\\u0650 \\u064e\\u0634\\u064b\\u0627\\u0652\\u0645\\u062e\\u0651\\u0629\\u064e \\u0631\\u0627\\u0633\\u062e\\u064b\\u0629 \\u064c\\u0628\\u064c\\u0639\\u0651\\u0637\\u064c\\u0627\\u0626\\u064f\\u0647\\u0650\\u0627 \\u064e\\u0648\\u062a\\u064b\\u0642\\u0650\\u062f\\u0645\\u0647\\u064d\\u0627 \\u0650.\\u064f\"\n        ],\n        \"semantic_type\": \"\",\n        \"description\": \"\"\n      }\n    },\n    {\n      \"column\": \"label\",\n      \"properties\": {\n        \"dtype\": \"category\",\n        \"num_unique_values\": 7,\n        \"samples\": [\n          \"Culture\",\n          \"Finance\",\n          \"Sports\"\n        ],\n        \"semantic_type\": \"\",\n        \"description\": \"\"\n      }\n    }\n  ]\n}"
            }
          },
          "metadata": {},
          "execution_count": 228
        }
      ],
      "source": [
        "df.head()"
      ]
    },
    {
      "cell_type": "code",
      "source": [
        "df.tail()"
      ],
      "metadata": {
        "colab": {
          "base_uri": "https://localhost:8080/",
          "height": 206
        },
        "id": "igiBHodm6Ppg",
        "outputId": "717b1390-c948-48cd-f31b-8bd5fb27a6e6"
      },
      "execution_count": 229,
      "outputs": [
        {
          "output_type": "execute_result",
          "data": {
            "text/plain": [
              "                                                    text label\n",
              "39880  https://example.com/resource/أعلّنت شّركٌةً بّ...  Tech\n",
              "39881  https://example.com/resource/بُتٍاَرٌيًخَ 28ْ ...  Tech\n",
              "39882  https://example.com/resource/دبَيُ:َ «ُاَلخليج...  Tech\n",
              "39883  https://example.com/resource/LٌG GًS2ْ9ً0 Coْo...  Tech\n",
              "39884  https://example.com/resource/تنطًلقٍ اٌليومّ َ...  Tech"
            ],
            "text/html": [
              "\n",
              "  <div id=\"df-a19e0b8a-9623-40f0-9a90-e480ecca28a3\" class=\"colab-df-container\">\n",
              "    <div>\n",
              "<style scoped>\n",
              "    .dataframe tbody tr th:only-of-type {\n",
              "        vertical-align: middle;\n",
              "    }\n",
              "\n",
              "    .dataframe tbody tr th {\n",
              "        vertical-align: top;\n",
              "    }\n",
              "\n",
              "    .dataframe thead th {\n",
              "        text-align: right;\n",
              "    }\n",
              "</style>\n",
              "<table border=\"1\" class=\"dataframe\">\n",
              "  <thead>\n",
              "    <tr style=\"text-align: right;\">\n",
              "      <th></th>\n",
              "      <th>text</th>\n",
              "      <th>label</th>\n",
              "    </tr>\n",
              "  </thead>\n",
              "  <tbody>\n",
              "    <tr>\n",
              "      <th>39880</th>\n",
              "      <td>https://example.com/resource/أعلّنت شّركٌةً بّ...</td>\n",
              "      <td>Tech</td>\n",
              "    </tr>\n",
              "    <tr>\n",
              "      <th>39881</th>\n",
              "      <td>https://example.com/resource/بُتٍاَرٌيًخَ 28ْ ...</td>\n",
              "      <td>Tech</td>\n",
              "    </tr>\n",
              "    <tr>\n",
              "      <th>39882</th>\n",
              "      <td>https://example.com/resource/دبَيُ:َ «ُاَلخليج...</td>\n",
              "      <td>Tech</td>\n",
              "    </tr>\n",
              "    <tr>\n",
              "      <th>39883</th>\n",
              "      <td>https://example.com/resource/LٌG GًS2ْ9ً0 Coْo...</td>\n",
              "      <td>Tech</td>\n",
              "    </tr>\n",
              "    <tr>\n",
              "      <th>39884</th>\n",
              "      <td>https://example.com/resource/تنطًلقٍ اٌليومّ َ...</td>\n",
              "      <td>Tech</td>\n",
              "    </tr>\n",
              "  </tbody>\n",
              "</table>\n",
              "</div>\n",
              "    <div class=\"colab-df-buttons\">\n",
              "\n",
              "  <div class=\"colab-df-container\">\n",
              "    <button class=\"colab-df-convert\" onclick=\"convertToInteractive('df-a19e0b8a-9623-40f0-9a90-e480ecca28a3')\"\n",
              "            title=\"Convert this dataframe to an interactive table.\"\n",
              "            style=\"display:none;\">\n",
              "\n",
              "  <svg xmlns=\"http://www.w3.org/2000/svg\" height=\"24px\" viewBox=\"0 -960 960 960\">\n",
              "    <path d=\"M120-120v-720h720v720H120Zm60-500h600v-160H180v160Zm220 220h160v-160H400v160Zm0 220h160v-160H400v160ZM180-400h160v-160H180v160Zm440 0h160v-160H620v160ZM180-180h160v-160H180v160Zm440 0h160v-160H620v160Z\"/>\n",
              "  </svg>\n",
              "    </button>\n",
              "\n",
              "  <style>\n",
              "    .colab-df-container {\n",
              "      display:flex;\n",
              "      gap: 12px;\n",
              "    }\n",
              "\n",
              "    .colab-df-convert {\n",
              "      background-color: #E8F0FE;\n",
              "      border: none;\n",
              "      border-radius: 50%;\n",
              "      cursor: pointer;\n",
              "      display: none;\n",
              "      fill: #1967D2;\n",
              "      height: 32px;\n",
              "      padding: 0 0 0 0;\n",
              "      width: 32px;\n",
              "    }\n",
              "\n",
              "    .colab-df-convert:hover {\n",
              "      background-color: #E2EBFA;\n",
              "      box-shadow: 0px 1px 2px rgba(60, 64, 67, 0.3), 0px 1px 3px 1px rgba(60, 64, 67, 0.15);\n",
              "      fill: #174EA6;\n",
              "    }\n",
              "\n",
              "    .colab-df-buttons div {\n",
              "      margin-bottom: 4px;\n",
              "    }\n",
              "\n",
              "    [theme=dark] .colab-df-convert {\n",
              "      background-color: #3B4455;\n",
              "      fill: #D2E3FC;\n",
              "    }\n",
              "\n",
              "    [theme=dark] .colab-df-convert:hover {\n",
              "      background-color: #434B5C;\n",
              "      box-shadow: 0px 1px 3px 1px rgba(0, 0, 0, 0.15);\n",
              "      filter: drop-shadow(0px 1px 2px rgba(0, 0, 0, 0.3));\n",
              "      fill: #FFFFFF;\n",
              "    }\n",
              "  </style>\n",
              "\n",
              "    <script>\n",
              "      const buttonEl =\n",
              "        document.querySelector('#df-a19e0b8a-9623-40f0-9a90-e480ecca28a3 button.colab-df-convert');\n",
              "      buttonEl.style.display =\n",
              "        google.colab.kernel.accessAllowed ? 'block' : 'none';\n",
              "\n",
              "      async function convertToInteractive(key) {\n",
              "        const element = document.querySelector('#df-a19e0b8a-9623-40f0-9a90-e480ecca28a3');\n",
              "        const dataTable =\n",
              "          await google.colab.kernel.invokeFunction('convertToInteractive',\n",
              "                                                    [key], {});\n",
              "        if (!dataTable) return;\n",
              "\n",
              "        const docLinkHtml = 'Like what you see? Visit the ' +\n",
              "          '<a target=\"_blank\" href=https://colab.research.google.com/notebooks/data_table.ipynb>data table notebook</a>'\n",
              "          + ' to learn more about interactive tables.';\n",
              "        element.innerHTML = '';\n",
              "        dataTable['output_type'] = 'display_data';\n",
              "        await google.colab.output.renderOutput(dataTable, element);\n",
              "        const docLink = document.createElement('div');\n",
              "        docLink.innerHTML = docLinkHtml;\n",
              "        element.appendChild(docLink);\n",
              "      }\n",
              "    </script>\n",
              "  </div>\n",
              "\n",
              "\n",
              "<div id=\"df-458567a5-2497-4828-8562-6c9cad753a46\">\n",
              "  <button class=\"colab-df-quickchart\" onclick=\"quickchart('df-458567a5-2497-4828-8562-6c9cad753a46')\"\n",
              "            title=\"Suggest charts\"\n",
              "            style=\"display:none;\">\n",
              "\n",
              "<svg xmlns=\"http://www.w3.org/2000/svg\" height=\"24px\"viewBox=\"0 0 24 24\"\n",
              "     width=\"24px\">\n",
              "    <g>\n",
              "        <path d=\"M19 3H5c-1.1 0-2 .9-2 2v14c0 1.1.9 2 2 2h14c1.1 0 2-.9 2-2V5c0-1.1-.9-2-2-2zM9 17H7v-7h2v7zm4 0h-2V7h2v10zm4 0h-2v-4h2v4z\"/>\n",
              "    </g>\n",
              "</svg>\n",
              "  </button>\n",
              "\n",
              "<style>\n",
              "  .colab-df-quickchart {\n",
              "      --bg-color: #E8F0FE;\n",
              "      --fill-color: #1967D2;\n",
              "      --hover-bg-color: #E2EBFA;\n",
              "      --hover-fill-color: #174EA6;\n",
              "      --disabled-fill-color: #AAA;\n",
              "      --disabled-bg-color: #DDD;\n",
              "  }\n",
              "\n",
              "  [theme=dark] .colab-df-quickchart {\n",
              "      --bg-color: #3B4455;\n",
              "      --fill-color: #D2E3FC;\n",
              "      --hover-bg-color: #434B5C;\n",
              "      --hover-fill-color: #FFFFFF;\n",
              "      --disabled-bg-color: #3B4455;\n",
              "      --disabled-fill-color: #666;\n",
              "  }\n",
              "\n",
              "  .colab-df-quickchart {\n",
              "    background-color: var(--bg-color);\n",
              "    border: none;\n",
              "    border-radius: 50%;\n",
              "    cursor: pointer;\n",
              "    display: none;\n",
              "    fill: var(--fill-color);\n",
              "    height: 32px;\n",
              "    padding: 0;\n",
              "    width: 32px;\n",
              "  }\n",
              "\n",
              "  .colab-df-quickchart:hover {\n",
              "    background-color: var(--hover-bg-color);\n",
              "    box-shadow: 0 1px 2px rgba(60, 64, 67, 0.3), 0 1px 3px 1px rgba(60, 64, 67, 0.15);\n",
              "    fill: var(--button-hover-fill-color);\n",
              "  }\n",
              "\n",
              "  .colab-df-quickchart-complete:disabled,\n",
              "  .colab-df-quickchart-complete:disabled:hover {\n",
              "    background-color: var(--disabled-bg-color);\n",
              "    fill: var(--disabled-fill-color);\n",
              "    box-shadow: none;\n",
              "  }\n",
              "\n",
              "  .colab-df-spinner {\n",
              "    border: 2px solid var(--fill-color);\n",
              "    border-color: transparent;\n",
              "    border-bottom-color: var(--fill-color);\n",
              "    animation:\n",
              "      spin 1s steps(1) infinite;\n",
              "  }\n",
              "\n",
              "  @keyframes spin {\n",
              "    0% {\n",
              "      border-color: transparent;\n",
              "      border-bottom-color: var(--fill-color);\n",
              "      border-left-color: var(--fill-color);\n",
              "    }\n",
              "    20% {\n",
              "      border-color: transparent;\n",
              "      border-left-color: var(--fill-color);\n",
              "      border-top-color: var(--fill-color);\n",
              "    }\n",
              "    30% {\n",
              "      border-color: transparent;\n",
              "      border-left-color: var(--fill-color);\n",
              "      border-top-color: var(--fill-color);\n",
              "      border-right-color: var(--fill-color);\n",
              "    }\n",
              "    40% {\n",
              "      border-color: transparent;\n",
              "      border-right-color: var(--fill-color);\n",
              "      border-top-color: var(--fill-color);\n",
              "    }\n",
              "    60% {\n",
              "      border-color: transparent;\n",
              "      border-right-color: var(--fill-color);\n",
              "    }\n",
              "    80% {\n",
              "      border-color: transparent;\n",
              "      border-right-color: var(--fill-color);\n",
              "      border-bottom-color: var(--fill-color);\n",
              "    }\n",
              "    90% {\n",
              "      border-color: transparent;\n",
              "      border-bottom-color: var(--fill-color);\n",
              "    }\n",
              "  }\n",
              "</style>\n",
              "\n",
              "  <script>\n",
              "    async function quickchart(key) {\n",
              "      const quickchartButtonEl =\n",
              "        document.querySelector('#' + key + ' button');\n",
              "      quickchartButtonEl.disabled = true;  // To prevent multiple clicks.\n",
              "      quickchartButtonEl.classList.add('colab-df-spinner');\n",
              "      try {\n",
              "        const charts = await google.colab.kernel.invokeFunction(\n",
              "            'suggestCharts', [key], {});\n",
              "      } catch (error) {\n",
              "        console.error('Error during call to suggestCharts:', error);\n",
              "      }\n",
              "      quickchartButtonEl.classList.remove('colab-df-spinner');\n",
              "      quickchartButtonEl.classList.add('colab-df-quickchart-complete');\n",
              "    }\n",
              "    (() => {\n",
              "      let quickchartButtonEl =\n",
              "        document.querySelector('#df-458567a5-2497-4828-8562-6c9cad753a46 button');\n",
              "      quickchartButtonEl.style.display =\n",
              "        google.colab.kernel.accessAllowed ? 'block' : 'none';\n",
              "    })();\n",
              "  </script>\n",
              "</div>\n",
              "\n",
              "    </div>\n",
              "  </div>\n"
            ],
            "application/vnd.google.colaboratory.intrinsic+json": {
              "type": "dataframe",
              "summary": "{\n  \"name\": \"df\",\n  \"rows\": 5,\n  \"fields\": [\n    {\n      \"column\": \"text\",\n      \"properties\": {\n        \"dtype\": \"string\",\n        \"num_unique_values\": 5,\n        \"samples\": [\n          \"https://example.com/resource/\\u0628\\u064f\\u062a\\u064d\\u0627\\u064e\\u0631\\u064c\\u064a\\u064b\\u062e\\u064e 28\\u0652 \\u064f\\u0645\\u0651\\u0627\\u0631\\u0633\\u064d/\\u064d\\u0622\\u0630\\u0627\\u064d\\u0631 \\u0627\\u0644\\u0645\\u0627\\u064b\\u0636\\u0650\\u064a \\u0648\\u0651\\u0628\\u064e\\u064a\\u0651\\u0646 \\u0652\\u0627\\u0644\\u064c\\u0633\\u0651\\u0627\\u0639\\u0629\\u064c \\u0627\\u064f\\u0644\\u0652\\u062b\\u064f\\u0627\\u0645\\u0646\\u0629 \\u0648\\u0650\\u0627\\u0650\\u0644\\u0651\\u0646\\u064e\\u0635\\u0641\\u064c \\u064c\\u0645\\u0651\\u0633\\u0627\\u0621\\u0650 \\u064d\\u0648\\u062d\\u062a\\u064e\\u0649\\u064d \\u0627\\u0644\\u064c\\u062a\\u064b\\u0627\\u0652\\u0633\\u0639\\u0652\\u0629 \\u0648\\u0627\\u064e\\u0644\\u064f\\u0646\\u0652\\u0635\\u0641\\u064b \\u0650\\u0645\\u0633\\u064d\\u0627\\u0621\\u064c\\u060c\\u0652 \\u0633\\u0627\\u0651\\u0647\\u0645 \\u0650\\u0622\\u064e\\u0644\\u0627\\u0650\\u0641 \\u064c\\u0627\\u0644\\u0623\\u064d\\u0634\\u064f\\u062e\\u064b\\u0627\\u0635 \\u0641\\u064c\\u064a \\u064c\\u0627\\u064e\\u0644\\u0652\\u0645\\u064d\\u0646\\u0627\\u064c\\u0632\\u064d\\u0644 \\u0648\\u0627\\u064d\\u0644\\u064c\\u0645\\u0652\\u0643\\u0651\\u0627\\u062a\\u064c\\u0628\\u064c \\u0648\\u064c\\u0627\\u0644\\u064c\\u0634\\u0631\\u0650\\u0643\\u0651\\u0627\\u062a\\u064c \\u064f\\u0641\\u064e\\u064a\\u0652 \\u0645\\u0646\\u0650\\u0637\\u0642\\u064c\\u0629\\u064b \\u0627\\u0644\\u0651\\u0634\\u0652\\u0631\\u0642\\u064d \\u0652\\u0627\\u0644\\u064e\\u0623\\u0648\\u0633\\u064b\\u0637 \\u064c\\u0628\\u0652\\u062f\\u064c\\u0639\\u0652\\u0645 \\u0633\\u0652\\u0627\\u0639\\u0629\\u0652 \\u0652\\u0627\\u0652\\u0644\\u064b\\u0623\\u064f\\u0631\\u0636 200\\u064c9 \\u0651.\\u064e \\u064c\\u0648\\u062a\\u064d\\u0634\\u064f\\u064a\\u0631 \\u0652\\u0627\\u0652\\u0644\\u0652\\u0623\\u0631\\u0642\\u0627\\u0652\\u0645 \\u064c\\u0627\\u0644\\u0631\\u064b\\u0633\\u064d\\u0645\\u064a\\u0629 \\u0651\\u0625\\u0644\\u064f\\u0649 \\u0623\\u0646\\u0647\\u064b \\u064e\\u0641\\u064a \\u0652\\u0625\\u0650\\u0645\\u064d\\u0627\\u0631\\u0651\\u0629\\u064b \\u064c\\u062f\\u064f\\u0628\\u0651\\u064a \\u0648\\u062d\\u062f\\u064d\\u0647\\u064e\\u0627\\u0650 \\u064f\\u062a\\u0645\\u064f \\u064e\\u062a\\u0648\\u0641\\u064a\\u0652\\u0631 \\u0637\\u0652\\u0627\\u064c\\u0642\\u0629\\u064b \\u064d\\u0643\\u064d\\u0647\\u064f\\u0631\\u064c\\u0628\\u064b\\u0627\\u0626\\u0650\\u064a\\u0629\\u064f \\u0648\\u064c\\u0635\\u0650\\u0644\\u062a\\u064e \\u0625\\u0650\\u0644\\u0652\\u0649 \\u06501\\u064e4\\u064b6\\u0651 \\u0623\\u064c\\u0644\\u064f\\u0641 \\u064f\\u0643\\u064a\\u0644\\u0648\\u064d \\u0648\\u0651\\u0627\\u064b\\u0637\\u064e \\u0650\\u0633\\u0627\\u0639\\u064f\\u064a\\u0650 \\u064e\\u062e\\u0644\\u0627\\u064d\\u0644\\u0650 \\u064d\\u0633\\u0650\\u0627\\u0639\\u064c\\u0629 \\u0627\\u0644\\u0650\\u0623\\u0651\\u0631\\u064f\\u0636 \\u0641\\u0650\\u064a\\u064b \\u064c\\u0627\\u0650\\u0644\\u0639\\u0627\\u0645\\u0650 \\u06502\\u06510\\u065009 \\u064d.\\u0648\\u064e\\u0645\\u064f\\u0639 \\u064c\\u062a\\u0648\\u064e\\u0641\\u0631 \\u0634\\u0627\\u0634\\u0629\\u0650 \\u0652\\u0628\\u064c\\u0631\\u0650\\u0627\\u064f\\u0641\\u064e\\u064a\\u0650\\u0627\\u064b \\u064c\\u062f\\u0628\\u0644\\u0650\\u064a\\u0648 \\u0651\\u0625\\u064d\\u064a \\u06505\\u064c \\u0651\\u0623\\u0635\\u064f\\u0628\\u062d\\u064d \\u0628\\u064c\\u0625\\u0645\\u064e\\u0643\\u0627\\u064f\\u0646\\u064f \\u064c\\u0643\\u0644\\u0651 \\u0645\\u0650\\u0646 \\u064a\\u064e\\u0645\\u0644\\u0643 \\u0650\\u0647\\u0630\\u0627 \\u0652\\u0627\\u0644\\u062a\\u064f\\u0644\\u064b\\u0641\\u064b\\u0627\\u064e\\u0632\\u064b \\u064e\\u0623\\u064d\\u0646 \\u0650\\u064a\\u064e\\u0633\\u0627\\u0647\\u0645 \\u064e\\u0628\\u064e\\u0641\\u0639\\u0627\\u064d\\u0644\\u0650\\u064a\\u064f\\u0629 \\u0641\\u064b\\u064a \\u0625\\u062d\\u064e\\u064a\\u0627\\u0621\\u0652 \\u064d\\u0633\\u0627\\u0639\\u064e\\u0629\\u064b \\u064c\\u0627\\u064c\\u0644\\u064c\\u0623\\u064c\\u0631\\u064f\\u0636 \\u0651\\u0648\\u064d\\u0627\\u0644\\u0627\\u064e\\u0646\\u0651\\u0636\\u0645\\u0627\\u064b\\u0645\\u0650 \\u064c\\u0625\\u064b\\u0644\\u064c\\u0649\\u0650 \\u0627\\u0652\\u0644\\u064e\\u062b\\u0648\\u064c\\u0631\\u0629 \\u0627\\u064c\\u0644\\u064d\\u062e\\u0651\\u0636\\u0651\\u0631\\u0627\\u0651\\u0621\\u060c \\u064d\\u0648\\u064f\\u0639\\u064b\\u0646\\u064d\\u062f\\u064b \\u0651\\u0627\\u0645\\u0650\\u062a\\u0644\\u0627\\u0643\\u0643 \\u0652\\u0644\\u0647\\u0630\\u0627\\u064c \\u0627\\u0644\\u062a\\u0644\\u0641\\u0627\\u0632 \\u064c\\u0641\\u0625\\u0646\\u064d\\u0643\\u064f \\u062a\\u064c\\u0633\\u0650\\u0627\\u0647\\u0645\\u064f \\u0641\\u064a\\u0652 \\u064f\\u062a\\u0642\\u0652\\u0644\\u064d\\u064a\\u0644 \\u064e\\u0627\\u0633\\u064e\\u062a\\u064b\\u0647\\u0644\\u064c\\u0627\\u064e\\u0643\\u064c \\u0627\\u064f\\u0644\\u0637\\u0627\\u0642\\u064f\\u0629 \\u064d\\u0627\\u0644\\u064c\\u0643\\u0647\\u0631\\u0628\\u0627\\u064e\\u0626\\u064c\\u064a\\u0629\\u060c \\u064c\\u0648\\u064a\\u0650\\u0646\\u062a\\u062c\\u064c \\u0639\\u064c\\u0646 \\u064f\\u0630\\u0644\\u0650\\u0643\\u064e \\u064e\\u0627\\u064e\\u0644\\u064b\\u062d\\u062f\\u0652 \\u0651\\u0645\\u0646 \\u0627\\u064f\\u0646\\u0628\\u0639\\u064b\\u0627\\u062b\\u064f \\u063a\\u0627\\u0632\\u064c\\u0627\\u064b\\u062a\\u0652 \\u0652\\u0627\\u064e\\u0644\\u0643\\u0631\\u064e\\u0628\\u0648\\u0651\\u0646\\u060c\\u0652 \\u0644\\u062a\\u0650\\u062a\\u0645\\u064d\\u0643\\u0646\\u0651 \\u0645\\u064b\\u0646\\u064f \\u0652\\u0635\\u0646\\u0650\\u0627\\u0639\\u064b\\u0629 \\u064e\\u0627\\u0644\\u0641\\u0651\\u0631\\u0642\\u064d \\u0641\\u064a\\u0651 \\u0643\\u0650\\u0644 \\u0633\\u064c\\u0627\\u064e\\u0639\\u0629\\u064c \\u0645\\u0634\\u0627\\u0647\\u064f\\u062f\\u0629 \\u0644\\u064e\\u0644\\u062a\\u0644\\u064f\\u0641\\u0627\\u064d\\u0632 \\u0651.\\u0648\\u0639\\u0651\\u0646\\u064b\\u062f\\u064e \\u0627\\u0644\\u0650\\u062d\\u0650\\u062f\\u064a\\u062b \\u0650\\u0639\\u0646 \\u064e\\u0627\\u0633\\u064f\\u062a\\u0647\\u0650\\u0644\\u0652\\u0627\\u0643\\u0651 \\u0627\\u0644\\u0637\\u064f\\u0627\\u064d\\u0642\\u0652\\u0629 \\u0627\\u0650\\u0644\\u064f\\u0643\\u0647\\u0631\\u064f\\u0628\\u0627\\u0626\\u064a\\u0629\\u064d \\u0641\\u0625\\u0652\\u0646 \\u0650\\u0644\\u0643\\u064f\\u0644\\u064d \\u0650\\u062b\\u0651\\u0627\\u0652\\u0646\\u064a\\u064b\\u0629\\u064d \\u064c\\u0642\\u064a\\u0645\\u062a\\u0647\\u0627 .\\u064a\\u0650\\u0633\\u064f\\u062a\\u063a\\u0650\\u0631\\u064d\\u0642\\u064f \\u0627\\u0644\\u0631\\u062f\\u0651 \\u0652\\u0639\\u0644\\u064f\\u0649 \\u0645\\u0643\\u0627\\u0644\\u0645\\u064e\\u0629 \\u064e\\u0647\\u0652\\u0627\\u0652\\u062a\\u064c\\u0641\\u064a\\u0650\\u0629 \\u064b\\u0648\\u0633\\u0637\\u064a\\u0627\\u064f\\u064b\\u064f \\u064d\\u062b\\u0652\\u0644\\u0627\\u0650\\u062b\\u064d \\u062f\\u0642\\u0650\\u0627\\u0651\\u0626\\u064d\\u0642\\u060c \\u0648\\u064a\\u064f\\u0633\\u064f\\u062a\\u064d\\u063a\\u0631\\u064b\\u0642\\u064f \\u0627\\u0644\\u0645\\u0652\\u0627\\u0621 \\u0643\\u064e\\u064a\\u064c \\u0650\\u064a\\u063a\\u064d\\u0644\\u064a\\u064d \\u0641\\u064a\\u064f \\u0627\\u0644\\u0650\\u0625\\u0652\\u0628\\u0631\\u064a\\u064e\\u0642\\u064c \\u062d\\u064f\\u0648\\u0627\\u0644\\u064a\\u064f \\u064e5\\u0650 \\u062f\\u0642\\u064c\\u0627\\u064f\\u0626\\u0650\\u0642\\u064b\\u060c \\u0648\\u0627\\u0652\\u0644\\u064b\\u0648\\u0642\\u062a\\u064d \\u0627\\u0644\\u064b\\u0645\\u0633\\u0651\\u062a\\u0647\\u0650\\u0644\\u0650\\u0643 \\u064d\\u0644\\u0652\\u0627\\u064e\\u0633\\u064b\\u062a\\u0644\\u0627\\u064b\\u0645 \\u0648\\u064c\\u062c\\u0652\\u0628\\u064b\\u0629 \\u0627\\u0652\\u0644\\u0628\\u064a\\u064e\\u062a\\u0651\\u0632\\u064d\\u0627\\u064d \\u0652\\u0645\\u0651\\u0646 \\u064d\\u0627\\u0644\\u064e\\u0628\\u0627\\u0651\\u0628\\u064d \\u0648\\u064c\\u0627\\u0644\\u062a\\u064f\\u062d\\u0652\\u0636\\u064b\\u064a\\u0652\\u0631\\u064b \\u0652\\u0644\\u062a\\u064b\\u0646\\u0627\\u064e\\u0648\\u0644\\u0647\\u0627 \\u064c\\u062d\\u064f\\u0648\\u064e\\u0627\\u0651\\u0644\\u064d\\u064a\\u064c \\u064f\\u0639\\u0634\\u064d\\u0631 \\u062f\\u0642\\u064b\\u0627\\u0652\\u0626\\u0642\\u0650 \\u064b- \\u0652\\u0645\\u0639 \\u064b\\u0633\\u0648\\u0652\\u0646\\u064a\\u064b \\u064e\\u0641\\u064c\\u0642\\u0652\\u0637 \\u064c\\u064a\\u0645\\u0643\\u0646\\u0651\\u0643 \\u064d\\u0625\\u064a\\u0642\\u0652\\u0627\\u0641 \\u064b\\u0633\\u0627\\u0652\\u0639\\u064b\\u0627\\u064f\\u062a\\u0651 \\u0627\\u064c\\u0633\\u064f\\u062a\\u0647\\u0644\\u0627\\u064c\\u0643\\u064b \\u0627\\u0652\\u0644\\u064f\\u0628\\u0650\\u064a\\u0650\\u0626\\u064c\\u0629 \\u064b.\\u064e \\u062a\\u064d\\u0644\\u064b\\u0641\\u064d\\u0627\\u0632 \\u0628\\u064f\\u0631\\u0627\\u0641\\u064a\\u0627 \\u062f\\u0628\\u064b\\u0644\\u064a\\u0648\\u0651 \\u0651\\u0625\\u064a \\u064f5 \\u064e\\u0648\\u0643\\u0651\\u0644 \\u0652\\u0623\\u0650\\u062c\\u0647\\u0650\\u0632\\u0629\\u064c \\u062a\\u064d\\u0644\\u0641\\u0627\\u064d\\u0632\\u064d \\u0650\\u0628\\u064f\\u0631\\u0652\\u0627\\u0641\\u064a\\u0627\\u064c \\u0644\\u064f\\u0644\\u0639\\u0627\\u064f\\u0645\\u064f \\u06512009 \\u064f\\u062a\\u0652\\u0642\\u062f\\u0645 \\u062a\\u064b\\u0648\\u0641\\u064a\\u0631\\u0627\\u0651\\u064b\\u0651 \\u0645\\u0644\\u0645\\u064c\\u0648\\u0633\\u0627\\u064b \\u0641\\u064e\\u064a\\u064c \\u0627\\u0633\\u0650\\u062a\\u0647\\u0650\\u0644\\u0627\\u064f\\u0643\\u064d \\u064f\\u0627\\u0644\\u0651\\u0643\\u0650\\u0647\\u064d\\u0631\\u0628\\u0627\\u064f\\u0621\\u064d \\u0645\\u0646 \\u0651\\u062f\\u0648\\u0646\\u0650 \\u064f\\u0627\\u0644\\u0650\\u062a\\u0650\\u0636\\u0652\\u062d\\u0650\\u064a\\u0629\\u064b \\u0651\\u0628\\u062c\\u0650\\u0648\\u062f\\u064f\\u0629\\u064b \\u064b\\u0627\\u0652\\u0644\\u064c\\u0635\\u064e\\u0648\\u0631\\u0629\\u0650 \\u0650\\u0639\\u0627\\u0644\\u064d\\u064a\\u0650\\u0629 \\u0627\\u0644\\u064f\\u0648\\u064c\\u0636\\u064f\\u0648\\u062d\\u064f \\u0650.\\u0651\",\n          \"https://example.com/resource/\\u062a\\u0646\\u0637\\u064b\\u0644\\u0642\\u064d \\u0627\\u064c\\u0644\\u064a\\u0648\\u0645\\u0651 \\u064e\\u0641\\u0651\\u064a\\u064d \\u0645\\u0631\\u0643\\u064e\\u0632\\u064c \\u064d\\u0645\\u0639\\u0627\\u0631\\u0636\\u064f \\u064b\\u0645\\u064f\\u0637\\u0627\\u0631 \\u062f\\u0628\\u064b\\u064a \\u0627\\u064f\\u0644\\u062f\\u0648\\u064e\\u0631\\u0629 \\u0627\\u064d\\u0644\\u064e \\u065021\\u064c \\u0651\\u0644\\u0652\\u0645\\u064e\\u0639\\u0631\\u0636\\u0652 \\u064d\\u062c\\u064e\\u064a\\u062a\\u0650\\u0643\\u064d\\u0633\\u064c \\u0634\\u064d\\u0648\\u0628\\u0631 \\u060c\\u065120\\u064f1\\u064d1 \\u064e\\u0627\\u0644\\u0630\\u0651\\u064a\\u064f \\u064f\\u064a\\u064b\\u0648\\u0627\\u064b\\u0635\\u0650\\u0644\\u064e \\u0627\\u0633\\u064e\\u062a\\u064b\\u0642\\u0628\\u0627\\u0651\\u0644 \\u064f\\u0627\\u0652\\u0644\\u064f\\u0645\\u064d\\u062a\\u064e\\u0633\\u064d\\u0648\\u0642\\u064a\\u0646\\u0652 \\u0645\\u064d\\u0646\\u064b \\u064b\\u0627\\u064b\\u0644\\u062f\\u0648\\u0644\\u0629 \\u0648\\u0651\\u062f\\u064d\\u0648\\u064d\\u0644\\u064b \\u064f\\u0645\\u062c\\u0644\\u0633\\u064f \\u064e\\u0627\\u0644\\u064c\\u062a\\u064e\\u0639\\u0627\\u0648\\u064d\\u0646\\u0652 \\u064f\\u0648\\u0627\\u0644\\u0645\\u064d\\u0646\\u064c\\u0637\\u064e\\u0642\\u0629\\u064b \\u0650\\u062d\\u062a\\u0651\\u0649 \\u0627\\u0650\\u0644\\u0652\\u0633\\u0628\\u062a\\u0651 \\u064f\\u0627\\u0644\\u0645\\u0642\\u0628\\u0644\\u0652 \\u064b1\\u06525\\u0652 \\u0652\\u0623\\u064e\\u0643\\u062a\\u064b\\u0648\\u0628\\u064b\\u0631\\u0652 \\u064f\\u0627\\u0644\\u062c\\u0627\\u0631\\u064a\\u0651 \\u0652\\u0648\\u0633\\u0637 \\u0645\\u0650\\u0646\\u0651\\u0627\\u064b\\u0641\\u0633\\u0629\\u064d \\u0642\\u0650\\u0648\\u064a\\u0629 \\u0645\\u0646\\u064f \\u0646\\u064b\\u062d\\u0648 \\u0651100 \\u064f\\u0634\\u0631\\u064d\\u0643\\u064d\\u0629\\u0652 \\u0650\\u0645\\u062a\\u0650\\u062e\\u0651\\u0635\\u0635\\u0651\\u0629 \\u064b\\u0641\\u064a \\u0645\\u0628\\u064b\\u064a\\u0639\\u0627\\u062a \\u0625\\u064f\\u0644\\u0643\\u064c\\u062a\\u0631\\u0651\\u0648\\u064c\\u0646\\u0652\\u064a\\u0627\\u064f\\u062a \\u064d\\u0627\\u0650\\u0644\\u062a\\u062c\\u0632\\u0650\\u0626\\u064b\\u0629\\u064e \\u0648\\u064e\\u0627\\u0652\\u0644\\u0652\\u0630\\u064d\\u064a\\u064e\\u0646 \\u064a\\u0633\\u064c\\u062a\\u0647\\u062f\\u064e\\u0641\\u064c\\u0648\\u0646\\u064b \\u064b\\u062a\\u062d\\u0651\\u0642\\u064f\\u064a\\u0642 \\u0646\\u064f\\u0633\\u0651\\u0628 \\u064d\\u0646\\u0645\\u064b\\u0648\\u0652 \\u0644\\u0651\\u0645\\u0628\\u064f\\u064a\\u064b\\u0639\\u0627\\u062a\\u0647\\u0645\\u0652 \\u064e\\u062a\\u062a\\u0631\\u064d\\u0627\\u0648\\u064b\\u062d \\u0651\\u0628\\u064a\\u064e\\u0646\\u064d \\u06501\\u06525 \\u064d\\u0648\\u064b25\\u064d \\u064f%\\u0650\\u060c\\u064b \\u064f\\u062d\\u0633\\u0628 \\u0625\\u0641\\u0627\\u064c\\u062f\\u062a\\u0647\\u0645\\u064e \\u0644\\u064c\\u0627\\u064e\\u0644\\u062e\\u0650\\u0644\\u064c\\u064a\\u064e\\u062c .\\u0652\\u0648\\u062a\\u0652\\u062a\\u064f\\u0646\\u064e\\u0627\\u0651\\u0641\\u064e\\u0633 \\u064f\\u0627\\u0650\\u0644\\u0634\\u0651\\u0631\\u0643\\u064e\\u0627\\u062a \\u064e\\u0627\\u0644\\u064d\\u0639\\u064d\\u0627\\u064b\\u0631\\u064b\\u0636\\u0652\\u0629 \\u0650\\u0644\\u064c\\u0623\\u0650\\u0643\\u064f\\u062b\\u0650\\u0631\\u0652 \\u0645\\u0651\\u0646\\u0652 \\u064d25 \\u0652\\u0623\\u0644\\u064d\\u0641 \\u0645\\u064b\\u0646\\u062a\\u0650\\u062c \\u0628\\u0651\\u0627\\u0644\\u064d\\u0625\\u0636\\u064c\\u0627\\u0641\\u0629\\u064f \\u064d\\u0625\\u064f\\u0644\\u0649 \\u064e\\u0634\\u064d\\u0631\\u0651\\u0643\\u064e\\u0627\\u064d\\u062a \\u0623\\u062e\\u0631\\u064c\\u0649 \\u0652\\u0645\\u0652\\u062a\\u0650\\u062e\\u064e\\u0635\\u0635\\u064d\\u0629 \\u064f\\u0641\\u064b\\u064a\\u064e \\u0628\\u064a\\u0639 \\u064b\\u0627\\u0650\\u0644\\u0623\\u0633\\u0652\\u0637\\u0648\\u0627\\u064c\\u0646\\u0652\\u0627\\u0651\\u062a\\u064b \\u064c\\u0648\\u0650\\u0627\\u0644\\u064f\\u0628\\u0652\\u0631\\u0650\\u0627\\u064c\\u0645\\u0650\\u062c \\u0627\\u064e\\u0644\\u064e\\u062a\\u0639\\u0644\\u064a\\u0645\\u064c\\u064a\\u0629 \\u0628\\u0651\\u0627\\u0650\\u0644\\u064b\\u0625\\u0636\\u0627\\u0641\\u0629\\u064d \\u0625\\u0644\\u0651\\u0649\\u064e \\u0627\\u064b\\u0644\\u064b\\u0639\\u062f\\u064a\\u0650\\u062f\\u064c \\u0650\\u0645\\u0646 \\u0627\\u064f\\u0644\\u062e\\u064d\\u062f\\u064b\\u0645\\u0627\\u062a\\u064b \\u0627\\u064e\\u0644\\u0623\\u062e\\u0631\\u0649\\u064c\\u060c\\u0651 \\u0648\\u064c\\u062a\\u064b\\u0633\\u064b\\u062a\\u062d\\u0648\\u064f\\u0630\\u064b \\u064d\\u0639\\u0631\\u0648\\u0636 \\u0651\\u0634\\u0631\\u064e\\u0643\\u0650\\u0627\\u062a\\u0651 \\u0627\\u062a\\u0635\\u0651\\u0627\\u0644\\u0650\\u0627\\u064d\\u062a \\u064d\\u0648\\u062f\\u0648 \\u0644\\u064b\\u0628\\u064a\\u0639\\u064e \\u064f\\u0627\\u0644\\u064d\\u0647\\u0648\\u0627\\u062a\\u0650\\u0641\\u064d \\u064e\\u0627\\u064e\\u0644\\u064d\\u0645\\u062d\\u0645\\u0648\\u0644\\u0629\\u064d \\u064d\\u0648\\u064b\\u0641\\u0651\\u0642 \\u0652\\u0639\\u064e\\u0631\\u0650\\u0648\\u0636\\u064f\\u0647\\u0627 \\u0627\\u0652\\u0644\\u0651\\u062e\\u0627\\u0635\\u0652\\u0629 \\u064f\\u0628\\u0627\\u0652\\u0644\\u0625\\u0651\\u0636\\u0627\\u0652\\u0641\\u064b\\u0629 \\u0652\\u0625\\u064c\\u0644\\u064f\\u0649\\u064e \\u0623\\u0650\\u062c\\u0647\\u0632\\u0629\\u0650 \\u0627\\u0652\\u0644\\u0643\\u064e\\u0645\\u064d\\u0628\\u0651\\u064a\\u0648\\u062a\\u064f\\u0631\\u064d \\u0627\\u064f\\u0644\\u064b\\u0645\\u062d\\u0652\\u0645\\u064e\\u0648\\u064e\\u0644\\u064e \\u0648\\u064e\\u0627\\u064b\\u0644\\u064b\\u0623\\u064e\\u062c\\u0647\\u0632\\u0652\\u0629\\u064b \\u0627\\u0644\\u0644\\u0648\\u064f\\u062d\\u064a\\u064d\\u0629 \\u0648\\u064f\\u0627\\u064d\\u0644\\u064f\\u0647\\u064b\\u0648\\u0627\\u064f\\u062a\\u0641 \\u0651\\u0627\\u0644\\u0645\\u0650\\u062d\\u064e\\u0645\\u0648\\u0644\\u0629 \\u0651\\u0648\\u064c\\u0627\\u064b\\u0644\\u064c\\u0643\\u0627\\u0651\\u0645\\u064f\\u064a\\u0650\\u0631\\u0627\\u0651\\u062a\\u0652 \\u0628\\u064e\\u0623\\u064f\\u0646\\u0648\\u0627\\u0639\\u0647\\u064b\\u0627\\u0650 \\u064e\\u0639\\u0644\\u064d\\u0649 \\u064b\\u0627\\u0650\\u0647\\u062a\\u0652\\u0645\\u0627\\u064d\\u0645\\u064c \\u064b\\u0627\\u0652\\u0644\\u064d\\u063a\\u0651\\u0627\\u064e\\u0644\\u064b\\u0628\\u064a\\u0652\\u0629\\u0650 \\u0627\\u0644\\u064f\\u0639\\u0638\\u0650\\u0645\\u064d\\u0649 \\u0645\\u0646\\u0652 \\u064e\\u0632\\u0648\\u0627\\u0631\\u064c \\u0627\\u0652\\u0644\\u064c\\u0645\\u064f\\u0639\\u064e\\u0631\\u0636 \\u064d\\u0627\\u0644\\u0651\\u0630\\u0650\\u064a\\u0646\\u0651 \\u0650\\u064a\\u062a\\u064e\\u0648\\u064d\\u0642\\u064e\\u0639\\u064c \\u064b\\u0623\\u064c\\u0646 \\u064d\\u064a\\u0632\\u064a\\u064c\\u062f\\u064d \\u064f\\u0639\\u0651\\u062f\\u064f\\u062f\\u0651\\u0647\\u0645 \\u0650\\u0639\\u0651\\u0644\\u0650\\u0649 1\\u065260\\u0650 \\u0623\\u064f\\u0644\\u0652\\u0641\\u0651 \\u0632\\u064f\\u0627\\u0626\\u0631 \\u0650\\u0627\\u064e\\u0644\\u0639\\u0627\\u064c\\u0645 \\u064c\\u0627\\u064e\\u0644\\u0645\\u0652\\u0627\\u0651\\u0636\\u064a \\u064d.\\u0648\\u064c\\u064a\\u0642\\u0651\\u062f\\u064e\\u0645\\u0652 \\u0623\\u0651\\u0628\\u0652\\u0631\\u064c\\u0632\\u064e \\u0652\\u0627\\u0644\\u064f\\u0645\\u0648\\u064e\\u0632\\u0651\\u0639\\u064a\\u0650\\u0646 \\u064f\\u0627\\u0652\\u0644\\u0650\\u0625\\u064d\\u0642\\u0644\\u0650\\u064a\\u0645\\u0652\\u064a\\u0652\\u064a\\u0652\\u0646 \\u0648\\u0652\\u0634\\u0631\\u0643\\u0651\\u0627\\u064f\\u062a\\u064c \\u064e\\u0627\\u0650\\u0644\\u0628\\u064a\\u0639\\u0651 \\u064b\\u0628\\u0627\\u0644\\u062a\\u0651\\u062c\\u064e\\u0632\\u064b\\u0626\\u0629 \\u0648\\u0639\\u0644\\u0649 \\u0631\\u0623\\u0650\\u0633\\u0647\\u064e\\u0627\\u0650 \\u0634\\u0631\\u0641 \\u064e\\u062f\\u064a \\u064e\\u062c\\u064a\\u064c \\u064d\\u0648\\u064c\\u0628\\u064c\\u0644\\u0651\\u062c\\u064d-\\u064b \\u0652\\u0625\\u0646\\u0633 \\u064c\\u0648\\u062c\\u064f\\u0627\\u0643\\u0650\\u064a\\u0632 \\u064e\\u0625\\u064e\\u0644\\u064d\\u0643\\u0650\\u062a\\u0631\\u0648\\u064b\\u0646\\u064a\\u0652\\u0643\\u064c\\u0633\\u0651\\u060c \\u0648\\u062c\\u0645\\u064f\\u0628\\u0648 \\u0625\\u064e\\u0644\\u0643\\u062a\\u0631\\u064b\\u0648\\u0650\\u0646\\u0651\\u064a\\u064d\\u0643\\u0633\\u064b \\u0652\\u0648\\u064e\\u0622\\u0651\\u064a\\u0652 \\u064f\\u0633\\u062a\\u0650\\u0627\\u0652\\u064a\\u0644\\u060c\\u064b \\u064e\\u0648\\u064b\\u0625\\u0651\\u064a- \\u0633\\u064a\\u062a\\u064f\\u064a\\u060c \\u0648\\u064b\\u0643\\u0648\\u0645\\u0628\\u0650\\u064a\\u064d\\u0648 \\u0645\\u064d\\u064a\\u064e \\u0648\\u0651\\u0625\\u0650\\u064a \\u0641\\u0651\\u0648\\u0631\\u0650 \\u064a\\u0648\\u0651\\u060c\\u064c \\u0648\\u0625\\u064b\\u064a \\u0650\\u0645\\u064e\\u0627\\u0643\\u0651\\u0633\\u064c\\u060c \\u0648\\u062a\\u064f\\u062a\\u064d\\u0634 \\u0645\\u0650\\u0627\\u064a\\u0651\\u062a\\u0651\\u060c \\u062a\\u064d\\u062e\\u064f\\u0641\\u0652\\u064a\\u064d\\u0636\\u0652\\u0627\\u064f\\u062a \\u0641\\u064a\\u0651 \\u0623\\u0633\\u064c\\u0639\\u0652\\u0627\\u0631 \\u064c\\u0628\\u0639\\u064f\\u0636 \\u0627\\u0644\\u064b\\u0645\\u064f\\u0646\\u064e\\u062a\\u062c\\u0627\\u062a \\u0648\\u0645\\u0646\\u062a\\u062c\\u0650\\u0627\\u064e\\u062a \\u0645\\u0651\\u062c\\u0627\\u0646\\u064a\\u0629\\u064b \\u0639\\u0644\\u064d\\u0649\\u0650 \\u064f\\u0634\\u0651\\u0631\\u064c\\u0627\\u064e\\u0621\\u064e \\u064f\\u0628\\u0639\\u0636 \\u0627\\u0644\\u0645\\u0646\\u062a\\u064b\\u062c\\u0627\\u064e\\u062a\\u064f \\u064f\\u0627\\u064f\\u0644\\u0623\\u0651\\u062e\\u0631\\u0649 \\u0652.\\u0648\\u0650\\u0628\\u0627\\u064e\\u0644\\u0650\\u0625\\u0636\\u0627\\u0641\\u064d\\u0629\\u064d \\u064d\\u0625\\u0644\\u0649\\u0650 \\u0650\\u0627\\u064e\\u0644\\u064e\\u0645\\u0646\\u062a\\u064b\\u062c\\u064f\\u0627\\u0651\\u062a \\u0627\\u0644\\u0625\\u0650\\u0644\\u0643\\u064f\\u062a\\u0631\\u064f\\u0648\\u0646\\u0650\\u064a\\u064d\\u0629\\u0650 \\u0627\\u0644\\u062a\\u064a \\u0650\\u0633\\u064e\\u064a\\u064d\\u062a\\u0651\\u0645 \\u064f\\u0639\\u0651\\u0631\\u0652\\u0636\\u064f\\u0647\\u0627\\u064c \\u0651\\u0643\\u064f\\u0627\\u064d\\u0644\\u0623\\u062c\\u0647\\u0632\\u0629\\u0652 \\u0627\\u0652\\u0644\\u064d\\u0644\\u0650\\u0648\\u064c\\u062d\\u0652\\u064a\\u0629\\u0650 \\u0648\\u0627\\u0650\\u0644\\u062a\\u064e\\u0644\\u0641\\u0632\\u064d\\u064a\\u064c\\u0648\\u0652\\u0646\\u064c\\u0627\\u062a\\u0650 \\u0650\\u0648\\u0623\\u0651\\u062c\\u064f\\u0647\\u0652\\u0632\\u064c\\u0629 \\u064f\\u0627\\u0644\\u062d\\u0627\\u0651\\u0633\\u064f\\u0648\\u0628 \\u0627\\u064c\\u0644\\u0645\\u064b\\u062d\\u064b\\u0645\\u0648\\u064f\\u0644\\u0629\\u064f \\u064e\\u0648\\u064c\\u0627\\u0644\\u0650\\u0647\\u0648\\u064e\\u0627\\u0652\\u062a\\u0641\\u064c \\u0627\\u064f\\u0644\\u0630\\u0650\\u0643\\u064a\\u0629\\u064d \\u064e\\u0648\\u0650\\u063a\\u064a\\u0652\\u0631\\u0651\\u0647\\u064f\\u0627\\u064e\\u060c\\u064f \\u064b\\u0641\\u064b\\u0633\\u064d\\u064a\\u0650\\u062a\\u0645\\u064c \\u0639\\u0631\\u064d\\u0636\\u064b \\u064e\\u0645\\u062c\\u064e\\u0645\\u064c\\u0648\\u064d\\u0639\\u0629 \\u0645\\u0646\\u064d \\u0652\\u0627\\u064d\\u0644\\u0651\\u0645\\u0650\\u0646\\u062a\\u062c\\u0627\\u064d\\u062a \\u0650\\u063a\\u064e\\u064a\\u0652\\u0631\\u0652 \\u064f\\u0627\\u064b\\u0644\\u064b\\u062a\\u0650\\u0642\\u0644\\u064f\\u064a\\u0652\\u062f\\u0650\\u064a\\u0629\\u064d\\u060c\\u064f \\u0650\\u0625\\u0630\\u064b \\u0650\\u062a\\u064d\\u0637\\u064e\\u0644\\u0642 \\u0634\\u0650\\u0631\\u064c\\u0643\\u064f\\u0629\\u064d \\u0652\\u062c\\u0631\\u0651\\u064a\\u0646\\u064c\\u0633\\u0627\\u064e\\u0648\\u0646\\u062f\\u064b \\u062a\\u0650\\u064a\\u0643\\u0652\\u0646\\u0648\\u0651\\u0644\\u0648\\u062c\\u064c\\u064a \\u0650\\u0633\\u0645\\u064c\\u0627\\u0639\\u0627\\u064b\\u062a\\u0652 \\u0632\\u0651\\u062c\\u0627\\u0652\\u062c\\u064e\\u064a\\u0629\\u0652 \\u0644\\u064d\\u0627\\u064e\\u0633\\u0644\\u0643\\u064a\\u0629\\u064c \\u064e\\u062c\\u0651\\u0630\\u0627\\u0628\\u064f\\u0629\\u060c\\u064b \\u0650\\u0641\\u0651\\u064a \\u064c\\u062d\\u064a\\u0646 \\u064f\\u062a\\u064d\\u0642\\u0652\\u062f\\u0651\\u064e\\u0645 \\u0651\\u0645\\u0651\\u064a\\u0652\\u0631\\u0644\\u064a\\u064d\\u0646\\u0650 \\u062f\\u064a\\u062c\\u064a\\u0650\\u062a\\u0627\\u0644 \\u0651\\u0645\\u064c\\u0631\\u064d\\u0643\\u064e\\u0628\\u0629 \\u0651\\u0625\\u0644\\u0643\\u062a\\u064e\\u0631\\u064d\\u0648\\u0646\\u064a\\u0651\\u0629\\u064b \\u064e\\u0630\\u0627\\u062a\\u064a\\u0652\\u0629 \\u0651\\u0627\\u0644\\u062a\\u0648\\u064f\\u0627\\u064d\\u0632\\u0646\\u064d \\u0628\\u064c\\u0639\\u062c\\u0644\\u062a\\u0650\\u064a\\u064c\\u0646 \\u064c\\u0627\\u0650\\u0633\\u0645\\u0647\\u0627 \\u0631\\u0650\\u0648\\u064d\\u0628\\u0648\\u0633\\u064b\\u062a\\u0651\\u064a\\u0628\\u064f \\u0648\\u064e \\u0628\\u064c\\u0644\\u064a\\u064f\\u0648 \\u0648\\u0650\\u0647\\u0652\\u0648\\u0650 \\u0623\\u064e\\u0648\\u0651\\u0644 \\u064d\\u0631\\u0648\\u064f\\u0628\\u0648\\u062a \\u064c\\u0639\\u0644\\u0649\\u0651 \\u064f\\u0647\\u064a\\u0650\\u0626\\u0629 \\u0650\\u062f\\u064a\\u0646\\u0651\\u0627\\u064e\\u0635\\u0648\\u064c\\u0631 \\u064a\\u0645\\u0650\\u0643\\u0646\\u064f \\u0651\\u0627\\u0642\\u064f\\u062a\\u064c\\u0646\\u0627\\u0624\\u0647 \\u064d\\u0643\\u062d\\u064a\\u0651\\u0648\\u0627\\u0652\\u0646\\u064d \\u0652\\u0645\\u0646\\u064b\\u0632\\u0644\\u0652\\u064a\\u064e \\u0623\\u064d\\u0644\\u064a\\u0641 \\u064f.\\u0648\\u0652\\u064a\\u0634\\u064f\\u0627\\u064b\\u0631\\u0643\\u064d \\u0641\\u064a\\u0652 \\u0627\\u0652\\u0644\\u0651\\u0645\\u064e\\u0639\\u0631\\u0651\\u0636 \\u0644\\u0644\\u0645\\u0631\\u0651\\u0629\\u0650 \\u0627\\u064e\\u0644\\u0623\\u064e\\u0648\\u0644\\u064c\\u0649 \\u064b\\u0647\\u0630\\u064d\\u0627 \\u0627\\u0652\\u0644\\u0639\\u0627\\u0645 \\u0643\\u064f\\u0644 \\u0645\\u064b\\u0646 \\u064d\\u0628\\u0648\\u0632\\u0651 \\u0648\\u0641\\u064a\\u064b\\u0631\\u0652\\u062c\\u0646 \\u0651\\u0645\\u064a\\u064b\\u062c\\u0627\\u0633\\u0652\\u062a\\u064f\\u0648\\u064e\\u0631 \\u064e\\u0648\\u0646\\u064b\\u0648\\u064b\\u0643\\u064a\\u0627\\u060c \\u0652\\u0641\\u064c\\u064a\\u064d \\u0652\\u062d\\u064a\\u0646 \\u064d\\u062a\\u0651\\u0639\\u0648\\u0651\\u062f \\u0639\\u0651\\u0644\\u0627\\u0645\\u064e\\u0627\\u062a \\u064c\\u062a\\u062c\\u0627\\u0631\\u064a\\u0629\\u064c \\u0639\\u064c\\u0627\\u0651\\u0644\\u0645\\u0650\\u064a\\u0629\\u064b \\u064c\\u0639\\u0652\\u062f\\u0650\\u0651\\u064c\\u0629 \\u0644\\u0644\\u064f\\u0645\\u0650\\u0634\\u064f\\u0627\\u0631\\u064c\\u0643\\u0629 \\u0641\\u064c\\u064a \\u0627\\u0652\\u0644\\u0650\\u0645\\u0639\\u0631\\u0651\\u0636\\u064d\\u060c \\u0645\\u062b\\u0644\\u0651 \\u064e\\u0625\\u064e\\u062a\\u0634 \\u062a\\u0652\\u064a \\u0650\\u0633\\u064a\\u060c\\u0652 \\u064c\\u0648\\u0625\\u0646\\u0651\\u062a\\u0652\\u0644\\u060c\\u064d \\u0648\\u0628\\u0627\\u0646\\u064c\\u0627\\u0652\\u0633\\u064b\\u0648\\u064e\\u0646\\u064a\\u064c\\u0643\\u060c\\u064d \\u0651\\u0648\\u064f\\u062c\\u064a\\u0647 \\u0641\\u064a \\u0633\\u0651\\u064a\\u0651\\u060c \\u0652\\u0648\\u064f\\u062f\\u064e\\u064a\\u064b\\u0644\\u060c\\u064d \\u0651\\u0648\\u0631\\u0650\\u0645\\u064e \\u0628\\u0651\\u0644\\u064f\\u0627\\u0643 \\u064d\\u0628\\u064a\\u0631\\u064a\\u060c \\u0648\\u0633\\u0651\\u0627\\u0645\\u0633\\u064e\\u0648\\u064c\\u0646\\u062c\\u060c \\u0648\\u064b\\u0633\\u064e\\u0627\\u0646\\u062f\\u064a\\u064c\\u0633\\u0651\\u0643\\u064f\\u060c \\u0651\\u0648\\u064c\\u0643\\u064c\\u0627\\u064b\\u0646\\u0648\\u0646\\u060c \\u0651\\u0648\\u0650\\u0644\\u064a\\u0646\\u0648\\u0641\\u0648\\u060c \\u0648\\u0646\\u0627\\u0652\\u0643\\u064c\\u0627\\u0645\\u0652\\u064a\\u062a\\u064c\\u0634\\u0652\\u064a\\u064b\\u060c \\u0648\\u0647\\u064a\\u0652\\u0648\\u0644\\u064a\\u062a\\u064c \\u0628\\u0627\\u0643\\u0627\\u0631\\u062f\\u0651\\u060c \\u0648\\u0648\\u064e\\u064a\\u064c\\u0633\\u062a\\u064a\\u0631\\u0646\\u064e \\u064b\\u062f\\u0650\\u064a\\u062c\\u064a\\u062a\\u064c\\u0627\\u0650\\u0644 \\u064b.\",\n          \"https://example.com/resource/\\u062f\\u0628\\u064e\\u064a\\u064f:\\u064e \\u00ab\\u064f\\u0627\\u064e\\u0644\\u062e\\u0644\\u064a\\u062c\\u064d\\u00bb \\u0623\\u064e\\u0628\\u0631\\u064d\\u0645\\u0650\\u062a \\u0628\\u0644\\u062f\\u0651\\u064a\\u0629 \\u062f\\u0628\\u0650\\u064a\\u064c \\u0645\\u0639 \\u0628\\u0644\\u062f\\u064d\\u064a\\u064e\\u0629 \\u0631\\u064b\\u0623\\u064f\\u0633\\u0652 \\u064f\\u0627\\u064e\\u0644\\u062e\\u0650\\u064a\\u064e\\u0645\\u0629\\u064f \\u0627\\u064f\\u062a\\u064e\\u0641\\u0627\\u0650\\u0642\\u064e\\u064a\\u0629 \\u064f\\u0645\\u064f\\u0634\\u064c\\u0631\\u0652\\u0648\\u0650\\u0639 \\u064e\\u00ab\\u064e\\u0645\\u0650\\u0643\\u0652\\u0627\\u064c\\u0646\\u064a\\u064d\\u00bb \\u0644\\u064f\\u0644\\u0651\\u0639\\u0646\\u064d\\u0648\\u0646\\u0650\\u0629 \\u0652\\u0627\\u0644\\u064b\\u062c\\u063a\\u0652\\u0631\\u0627\\u0650\\u0641\\u0652\\u064a\\u0629\\u060c \\u0648\\u062c\\u064b\\u0627\\u0621\\u0652 \\u0650\\u0630\\u064e\\u0644\\u064c\\u0643 \\u0639\\u0652\\u0644\\u0650\\u0649\\u0652 \\u0647\\u0627\\u0650\\u0645\\u0634\\u064e \\u064d\\u0641\\u064e\\u0639\\u0627\\u064c\\u0644\\u0651\\u064a\\u0627\\u062a\\u064c \\u0645\\u064b\\u0639\\u0631\\u064c\\u0636 \\u064c\\u00ab\\u062c\\u0650\\u064a\\u062a\\u0643\\u0633\\u00bb\\u0650\\u060c \\u0650\\u0627\\u0644\\u0630\\u0650\\u064a\\u0651 \\u064a\\u0639\\u062f\\u064b \\u0623\\u0651\\u062d\\u062f\\u064e \\u0623\\u0651\\u0643\\u064c\\u0628\\u064b\\u0631\\u064f \\u0627\\u0644\\u064e\\u0641\\u0639\\u064b\\u0627\\u0652\\u0644\\u064a\\u0627\\u064e\\u062a \\u0627\\u064b\\u0644\\u062a\\u0651\\u062c\\u0627\\u0631\\u064f\\u064a\\u0650\\u0629 \\u0648\\u0651\\u0627\\u064f\\u0644\\u064b\\u062a\\u0643\\u0646\\u064d\\u0648\\u0651\\u0644\\u064c\\u0648\\u064e\\u062c\\u064e\\u064a\\u064d\\u0629\\u064d \\u064e\\u0641\\u064a\\u0650 \\u064f\\u0625\\u0645\\u064f\\u0627\\u0631\\u064c\\u0629 \\u064f\\u062f\\u0628\\u064f\\u064a.\\u064e\\u0648\\u0648\\u0642\\u0639\\u064b \\u0639\\u0652\\u0644\\u064e\\u0649\\u0650 \\u064d\\u0627\\u0644\\u0650\\u0627\\u062a\\u0641\\u0627\\u064b\\u0642\\u064a\\u0652\\u0629 \\u064e\\u062d\\u064c\\u0633\\u064a\\u0646\\u064c \\u0646\\u0652\\u0627\\u0635\\u064f\\u0631\\u064c \\u0651\\u0644\\u064e\\u0648\\u062a\\u0651\\u0627\\u0651\\u0647\\u0652 \\u0650\\u0645\\u064b\\u062f\\u064a\\u064d\\u0631\\u064d \\u0639\\u0627\\u064b\\u0645\\u064f \\u064f\\u0628\\u0644\\u0652\\u062f\\u0650\\u064a\\u064b\\u0629\\u0650 \\u064b\\u062f\\u064d\\u0628\\u064a\\u064b\\u060c \\u0648\\u0645\\u0646\\u064e\\u0630\\u064e\\u0631 \\u0645\\u062d\\u064b\\u0645\\u0650\\u062f \\u0627\\u0651\\u0644\\u0632\\u0651\\u0639\\u0627\\u0628\\u064d\\u064a \\u064e\\u0645\\u062f\\u064a\\u0631 \\u0639\\u064b\\u0627\\u0650\\u0645\\u064f \\u0628\\u0644\\u062f\\u064e\\u064a\\u0629\\u064e \\u0631\\u0623\\u0650\\u0633 \\u064d\\u0627\\u0644\\u064c\\u062e\\u064a\\u064f\\u0645\\u0629\\u064c\\u060c\\u0651 \\u0648\\u0652\\u0623\\u0651\\u0643\\u062f \\u0645\\u062f\\u064a\\u064d\\u0631 \\u0639\\u064c\\u0627\\u0645 \\u064c\\u0628\\u064b\\u0644\\u062f\\u064a\\u0629 \\u062f\\u064c\\u0628\\u064f\\u064a \\u064c\\u0623\\u064f\\u0646 \\u0625\\u0651\\u0628\\u0631\\u0627\\u0645\\u0650 \\u0647\\u0651\\u0630\\u0647 \\u064c\\u0627\\u064c\\u0644\\u0650\\u0627\\u064d\\u062a\\u0641\\u0627\\u0642\\u064a\\u0629\\u064e \\u064a\\u0623\\u062a\\u064f\\u064a\\u0652 \\u0627\\u0646\\u064e\\u0637\\u0644\\u064d\\u0627\\u0652\\u0642\\u0650\\u0627\\u064b \\u0645\\u0646 \\u0652\\u062d\\u064e\\u0631\\u0635\\u064f \\u064d\\u0627\\u0652\\u0644\\u0628\\u064d\\u0644\\u062f\\u064a\\u0651\\u0629 \\u0639\\u064e\\u0644\\u064e\\u0649 \\u0652\\u0645\\u062f\\u064f \\u064b\\u062c\\u0651\\u0633\\u0648\\u0631 \\u064f\\u0627\\u0644\\u0645\\u0639\\u064e\\u0631\\u0641\\u0629\\u064b \\u0650\\u0648\\u0650\\u0627\\u0650\\u0644\\u0652\\u062a\\u0639\\u0627\\u064c\\u0648\\u0646\\u064f \\u064f\\u0645\\u0639 \\u064f\\u0627\\u064c\\u0644\\u062c\\u0647\\u0627\\u064e\\u062a\\u0652 \\u064e\\u0627\\u0650\\u0644\\u0650\\u062d\\u0643\\u0648\\u064d\\u0645\\u064c\\u064a\\u0652\\u0629\\u064b \\u064d\\u0641\\u064a\\u064c \\u064d\\u0627\\u0644\\u062f\\u064e\\u0648\\u064b\\u0644\\u064d\\u0629\\u064b \\u064c\\u0641\\u0652\\u064a\\u0651 \\u064f\\u0627\\u0644\\u0645\\u064d\\u062c\\u064e\\u0627\\u0650\\u0644\\u0627\\u062a \\u0643\\u064c\\u0627\\u0650\\u0641\\u0629 \\u064c\\u0630\\u0627\\u0651\\u062a\\u064d \\u0627\\u0644\\u064c\\u0627\\u064f\\u0647\\u0650\\u062a\\u0645\\u0627\\u0645\\u0650 \\u0652\\u0627\\u0652\\u0644\\u064c\\u0645\\u0634\\u064c\\u062a\\u064d\\u0631\\u064f\\u0643\\u060c\\u0652 \\u064f\\u0643\\u0652\\u0645\\u0627 \\u0623\\u064f\\u0634\\u064f\\u0627\\u0631 \\u0645\\u062f\\u064a\\u0652\\u0631 \\u0639\\u064e\\u0627\\u0650\\u0645 \\u064f\\u0628\\u064c\\u0644\\u062f\\u064a\\u064f\\u0629 \\u0631\\u0623\\u0633\\u064d \\u0627\\u0644\\u062e\\u064d\\u064a\\u0645\\u0651\\u0629 \\u0625\\u0644\\u0649\\u064e \\u0631\\u0650\\u063a\\u064c\\u0628\\u064e\\u0629 \\u064e\\u0627\\u064e\\u0644\\u064d\\u0628\\u0644\\u064e\\u062f\\u064f\\u064a\\u0629 \\u064e\\u0641\\u064a \\u064d\\u0627\\u064b\\u0633\\u064c\\u062a\\u062e\\u0650\\u062f\\u0627\\u0645\\u064d \\u0646\\u064b\\u0638\\u0652\\u0627\\u0645\\u064f \\u00ab\\u0651\\u0645\\u0643\\u0650\\u0627\\u0646\\u064a\\u00bb\\u064b \\u0644\\u0644\\u0639\\u0646\\u0650\\u0648\\u0651\\u0646\\u0629 \\u0627\\u064f\\u0644\\u0650\\u062c\\u063a\\u064d\\u0631\\u0627\\u064b\\u0641\\u064d\\u064a\\u064e\\u0629.\\u0650\\u0648\\u064b\\u064a\\u0647\\u062f\\u064e\\u0641 \\u062a\\u0648\\u064f\\u0642\\u064d\\u064a\\u0639 \\u064e\\u0647\\u0652\\u0630\\u0647\\u0650 \\u064c\\u0627\\u0651\\u0644\\u0627\\u062a\\u0641\\u064d\\u0627\\u0642\\u064a\\u0651\\u0629 \\u064f\\u0625\\u0644\\u0652\\u0649\\u0650 \\u064d\\u062a\\u064e\\u062d\\u062f\\u064c\\u064a\\u064b\\u062f \\u064f\\u0646\\u0648\\u0639\\u064d\\u064a\\u0629\\u064b \\u0627\\u0644\\u062e\\u064f\\u062f\\u064d\\u0645\\u064b\\u0627\\u062a\\u0651 \\u0627\\u0644\\u0645\\u062a\\u0639\\u064e\\u0644\\u0651\\u0642\\u064e\\u0629\\u064e \\u064e\\u0628\\u064c\\u0646\\u0638\\u0645 \\u0651\\u0627\\u0644\\u0650\\u0645\\u0639\\u064e\\u0644\\u0648\\u0645\\u064c\\u0627\\u064f\\u062a \\u064b\\u0627\\u0644\\u064f\\u062c\\u0651\\u063a\\u0631\\u064d\\u0627\\u0641\\u064a\\u0650\\u0629\\u064d \\u0651\\u0639\\u064c\\u0646 \\u064b\\u0637\\u0631\\u064f\\u064a\\u0642 \\u0645\\u0646\\u064b\\u062d \\u0628\\u0644\\u062f\\u064e\\u064a\\u064e\\u0629\\u0652 \\u064f\\u062f\\u064b\\u0628\\u064f\\u064a \\u064f\\u0644\\u0628\\u0644\\u064e\\u062f\\u064a\\u064f\\u0629\\u064b \\u0651\\u0631\\u064f\\u0623\\u0633 \\u0651\\u0627\\u064c\\u0644\\u062e\\u064f\\u064a\\u0645\\u0629\\u064f \\u062c\\u064c\\u0645\\u064f\\u064a\\u0639\\u064e \\u0627\\u0644\\u064e\\u0625\\u0645\\u064e\\u0643\\u0652\\u0627\\u0646\\u0627\\u064f\\u062a\\u0650 \\u0652\\u0627\\u064e\\u0644\\u064d\\u0644\\u0627\\u0632\\u0645\\u0629 \\u064c\\u0644\\u062a\\u0637\\u0650\\u0628\\u064a\\u064f\\u0642\\u064f \\u0646\\u0638\\u0627\\u0645\\u064e \\u064f\\u00ab\\u0645\\u0651\\u0643\\u0627\\u0646\\u064a\\u0651\\u00bb\\u064b \\u064c\\u0644\\u0644\\u064c\\u0639\\u0650\\u0646\\u0648\\u0646\\u0629 \\u0627\\u0644\\u0651\\u062c\\u063a\\u064b\\u0631\\u0627\\u0641\\u064a\\u0651\\u0629\\u064c \\u064d\\u0636\\u064c\\u0645\\u0646 \\u0650\\u0627\\u0652\\u0644\\u0627\\u0652\\u062e\\u062a\\u064b\\u0635\\u064e\\u0627\\u064e\\u0635\\u0650 \\u0627\\u0644\\u064b\\u062c\\u064c\\u063a\\u0631\\u0627\\u064f\\u0641\\u064a \\u0644\\u0628\\u064b\\u0644\\u062f\\u064a\\u0629\\u064f \\u0631\\u0650\\u0623\\u0633 \\u0627\\u064d\\u0644\\u062e\\u064a\\u0645\\u0650\\u0629\\u060c\\u0650 \\u0652\\u0643\\u064c\\u0645\\u0627 \\u0633\\u064e\\u062a\\u0642\\u062f\\u0645\\u0650 \\u0628\\u0644\\u0650\\u062f\\u064d\\u064a\\u0651\\u0629\\u0652 \\u0651\\u062f\\u064c\\u0628\\u0652\\u064a\\u064d \\u0650\\u0627\\u064e\\u0644\\u062a\\u062f\\u0652\\u0631\\u064a\\u0628 \\u0627\\u0644\\u0644\\u0627\\u064d\\u0632\\u0645 \\u0648\\u0627\\u064d\\u0644\\u064e\\u0627\\u0650\\u0633\\u062a\\u0634\\u064b\\u0627\\u0650\\u0631\\u0627\\u062a\\u0652 \\u0627\\u0644\\u064c\\u0641\\u0646\\u064a\\u064c\\u0629 \\u064b\\u0627\\u0650\\u0644\\u0645\\u0651\\u062a\\u0639\\u0652\\u0644\\u0642\\u0629\\u064b \\u0628\\u062a\\u064e\\u0637\\u0628\\u064a\\u0642\\u064b \\u064e\\u0646\\u0638\\u064b\\u0627\\u0645 \\u064b\\u00ab\\u064d\\u0645\\u0643\\u064c\\u0627\\u0646\\u064a\\u00bb\\u0650 \\u0644\\u0644\\u0639\\u064e\\u0646\\u0652\\u0648\\u0651\\u0646\\u064b\\u0629 \\u064d\\u0627\\u0644\\u062c\\u063a\\u0631\\u0627\\u064c\\u0641\\u064a\\u0629\\u064c \\u064f\\u0644\\u0652\\u0644\\u0650\\u0645\\u0639\\u064c\\u0646\\u064a\\u0652\\u064a\\u064f\\u0646 \\u0641\\u064a \\u0651\\u0628\\u0644\\u064b\\u062f\\u064f\\u064a\\u0629 \\u0651\\u0631\\u064e\\u0623\\u0633 \\u0627\\u0644\\u0652\\u062e\\u064c\\u064a\\u0645\\u064c\\u0629\\u060c \\u0648\\u0652\\u0633\\u064b\\u062a\\u064e\\u062a\\u0651\\u0648\\u064e\\u0644\\u0649\\u0650 \\u0628\\u064d\\u0644\\u062f\\u064c\\u064a\\u0629 \\u0631\\u064b\\u0623\\u064e\\u0633\\u064c \\u064b\\u0627\\u0650\\u0644\\u064c\\u062e\\u064d\\u064a\\u0650\\u0645\\u064e\\u0629 \\u0645\\u0650\\u0646 \\u0650\\u062c\\u0652\\u0647\\u064f\\u062a\\u0647\\u0627\\u064c \\u064f\\u0645\\u0647\\u064c\\u0645\\u064e\\u0629\\u064d \\u0651\\u062a\\u064d\\u0632\\u0651\\u0648\\u064d\\u064a\\u064c\\u062f\\u0650 \\u0628\\u064e\\u0644\\u062f\\u064a\\u0629\\u064f \\u064d\\u062f\\u0628\\u064a\\u0650 \\u064b\\u0628\\u0652\\u0627\\u0644\\u0628\\u064a\\u064b\\u0627\\u064d\\u0646\\u064d\\u0627\\u0652\\u062a\\u064f \\u064c\\u0627\\u0644\\u0651\\u0645\\u0643\\u0627\\u064e\\u0646\\u064a\\u0629 \\u0627\\u064e\\u0644\\u064f\\u0645\\u064c\\u062d\\u0650\\u062f\\u062b\\u0629\\u064d \\u0644\\u0644\\u064e\\u0645\\u0652\\u0639\\u0627\\u0644\\u0645 \\u0627\\u0644\\u064e\\u062e\\u0650\\u0627\\u0635\\u0629\\u064d \\u0636\\u064b\\u0645\\u064d\\u0646 \\u0627\\u064b\\u0644\\u064b\\u0627\\u064d\\u062e\\u062a\\u0635\\u0627\\u0635 \\u064d\\u0627\\u0644\\u062c\\u0651\\u063a\\u0631\\u0627\\u0641\\u064a\\u0650 \\u0652\\u0644\\u0651\\u0628\\u064b\\u0644\\u062f\\u064d\\u064a\\u0629 \\u0650\\u0631\\u064e\\u0623\\u0633 \\u0627\\u064d\\u0644\\u062e\\u064d\\u064a\\u064c\\u0645\\u0629\\u0652\\u060c \\u064e\\u0644\\u064a\\u062a\\u064e\\u0645 \\u0627\\u0633\\u064b\\u062a\\u062e\\u064d\\u062f\\u0627\\u0645\\u0652\\u0647\\u0652\\u0627 \\u0636\\u0645\\u064f\\u0646\\u064d \\u0650\\u062a\\u0637\\u0651\\u0628\\u064a\\u0642\\u064d \\u0646\\u0638\\u0627\\u0651\\u0645\\u064b \\u00ab\\u0650\\u0645\\u0643\\u0627\\u0646\\u064a\\u00bb \\u064b\\u0644\\u0650\\u0644\\u0639\\u0646\\u064c\\u0648\\u0646\\u064e\\u0629\\u064d \\u0627\\u0650\\u0644\\u062c\\u0652\\u063a\\u0651\\u0631\\u064c\\u0627\\u064d\\u0641\\u064a\\u0629.\\u064d\"\n        ],\n        \"semantic_type\": \"\",\n        \"description\": \"\"\n      }\n    },\n    {\n      \"column\": \"label\",\n      \"properties\": {\n        \"dtype\": \"category\",\n        \"num_unique_values\": 1,\n        \"samples\": [\n          \"Tech\"\n        ],\n        \"semantic_type\": \"\",\n        \"description\": \"\"\n      }\n    }\n  ]\n}"
            }
          },
          "metadata": {},
          "execution_count": 229
        }
      ]
    },
    {
      "cell_type": "code",
      "source": [
        "df.sample(10)"
      ],
      "metadata": {
        "colab": {
          "base_uri": "https://localhost:8080/",
          "height": 363
        },
        "id": "luG6L1pG6Ra6",
        "outputId": "91402749-e848-4328-8fd1-4e40e82fb12c"
      },
      "execution_count": 230,
      "outputs": [
        {
          "output_type": "execute_result",
          "data": {
            "text/plain": [
              "                                                    text     label\n",
              "11060  https://example.com/resource/تحًولتُ اُلّتٌحٌر...   Finance\n",
              "33871  https://example.com/resource/كًتبَت ّصِحيفة «م...    Sports\n",
              "17690  https://example.com/resource/دبي - \"ّاَلخٍليًج...   Medical\n",
              "39146  https://example.com/resource/أعلنَت ٍأْمَس ِشر...      Tech\n",
              "31584  https://example.com/resource/سْيْنطِلُق ٌالبرَ...    Sports\n",
              "21766  https://example.com/resource/حمَل حَزْب ٍحٍركٌ...  Politics\n",
              "7676   https://example.com/resource/شهِد سوُقَ ُدبي ٌ...   Finance\n",
              "26049  https://example.com/resource/فيٍ أيام الِله ُن...  Religion\n",
              "9945   https://example.com/resource/أعَادٍ بنكَ اًلٍش...   Finance\n",
              "36034  https://example.com/resource/أَبًوظبِي:ْ «ٍالُ...      Tech"
            ],
            "text/html": [
              "\n",
              "  <div id=\"df-5d564c7d-7f52-478a-b88d-b2ed3887f73e\" class=\"colab-df-container\">\n",
              "    <div>\n",
              "<style scoped>\n",
              "    .dataframe tbody tr th:only-of-type {\n",
              "        vertical-align: middle;\n",
              "    }\n",
              "\n",
              "    .dataframe tbody tr th {\n",
              "        vertical-align: top;\n",
              "    }\n",
              "\n",
              "    .dataframe thead th {\n",
              "        text-align: right;\n",
              "    }\n",
              "</style>\n",
              "<table border=\"1\" class=\"dataframe\">\n",
              "  <thead>\n",
              "    <tr style=\"text-align: right;\">\n",
              "      <th></th>\n",
              "      <th>text</th>\n",
              "      <th>label</th>\n",
              "    </tr>\n",
              "  </thead>\n",
              "  <tbody>\n",
              "    <tr>\n",
              "      <th>11060</th>\n",
              "      <td>https://example.com/resource/تحًولتُ اُلّتٌحٌر...</td>\n",
              "      <td>Finance</td>\n",
              "    </tr>\n",
              "    <tr>\n",
              "      <th>33871</th>\n",
              "      <td>https://example.com/resource/كًتبَت ّصِحيفة «م...</td>\n",
              "      <td>Sports</td>\n",
              "    </tr>\n",
              "    <tr>\n",
              "      <th>17690</th>\n",
              "      <td>https://example.com/resource/دبي - \"ّاَلخٍليًج...</td>\n",
              "      <td>Medical</td>\n",
              "    </tr>\n",
              "    <tr>\n",
              "      <th>39146</th>\n",
              "      <td>https://example.com/resource/أعلنَت ٍأْمَس ِشر...</td>\n",
              "      <td>Tech</td>\n",
              "    </tr>\n",
              "    <tr>\n",
              "      <th>31584</th>\n",
              "      <td>https://example.com/resource/سْيْنطِلُق ٌالبرَ...</td>\n",
              "      <td>Sports</td>\n",
              "    </tr>\n",
              "    <tr>\n",
              "      <th>21766</th>\n",
              "      <td>https://example.com/resource/حمَل حَزْب ٍحٍركٌ...</td>\n",
              "      <td>Politics</td>\n",
              "    </tr>\n",
              "    <tr>\n",
              "      <th>7676</th>\n",
              "      <td>https://example.com/resource/شهِد سوُقَ ُدبي ٌ...</td>\n",
              "      <td>Finance</td>\n",
              "    </tr>\n",
              "    <tr>\n",
              "      <th>26049</th>\n",
              "      <td>https://example.com/resource/فيٍ أيام الِله ُن...</td>\n",
              "      <td>Religion</td>\n",
              "    </tr>\n",
              "    <tr>\n",
              "      <th>9945</th>\n",
              "      <td>https://example.com/resource/أعَادٍ بنكَ اًلٍش...</td>\n",
              "      <td>Finance</td>\n",
              "    </tr>\n",
              "    <tr>\n",
              "      <th>36034</th>\n",
              "      <td>https://example.com/resource/أَبًوظبِي:ْ «ٍالُ...</td>\n",
              "      <td>Tech</td>\n",
              "    </tr>\n",
              "  </tbody>\n",
              "</table>\n",
              "</div>\n",
              "    <div class=\"colab-df-buttons\">\n",
              "\n",
              "  <div class=\"colab-df-container\">\n",
              "    <button class=\"colab-df-convert\" onclick=\"convertToInteractive('df-5d564c7d-7f52-478a-b88d-b2ed3887f73e')\"\n",
              "            title=\"Convert this dataframe to an interactive table.\"\n",
              "            style=\"display:none;\">\n",
              "\n",
              "  <svg xmlns=\"http://www.w3.org/2000/svg\" height=\"24px\" viewBox=\"0 -960 960 960\">\n",
              "    <path d=\"M120-120v-720h720v720H120Zm60-500h600v-160H180v160Zm220 220h160v-160H400v160Zm0 220h160v-160H400v160ZM180-400h160v-160H180v160Zm440 0h160v-160H620v160ZM180-180h160v-160H180v160Zm440 0h160v-160H620v160Z\"/>\n",
              "  </svg>\n",
              "    </button>\n",
              "\n",
              "  <style>\n",
              "    .colab-df-container {\n",
              "      display:flex;\n",
              "      gap: 12px;\n",
              "    }\n",
              "\n",
              "    .colab-df-convert {\n",
              "      background-color: #E8F0FE;\n",
              "      border: none;\n",
              "      border-radius: 50%;\n",
              "      cursor: pointer;\n",
              "      display: none;\n",
              "      fill: #1967D2;\n",
              "      height: 32px;\n",
              "      padding: 0 0 0 0;\n",
              "      width: 32px;\n",
              "    }\n",
              "\n",
              "    .colab-df-convert:hover {\n",
              "      background-color: #E2EBFA;\n",
              "      box-shadow: 0px 1px 2px rgba(60, 64, 67, 0.3), 0px 1px 3px 1px rgba(60, 64, 67, 0.15);\n",
              "      fill: #174EA6;\n",
              "    }\n",
              "\n",
              "    .colab-df-buttons div {\n",
              "      margin-bottom: 4px;\n",
              "    }\n",
              "\n",
              "    [theme=dark] .colab-df-convert {\n",
              "      background-color: #3B4455;\n",
              "      fill: #D2E3FC;\n",
              "    }\n",
              "\n",
              "    [theme=dark] .colab-df-convert:hover {\n",
              "      background-color: #434B5C;\n",
              "      box-shadow: 0px 1px 3px 1px rgba(0, 0, 0, 0.15);\n",
              "      filter: drop-shadow(0px 1px 2px rgba(0, 0, 0, 0.3));\n",
              "      fill: #FFFFFF;\n",
              "    }\n",
              "  </style>\n",
              "\n",
              "    <script>\n",
              "      const buttonEl =\n",
              "        document.querySelector('#df-5d564c7d-7f52-478a-b88d-b2ed3887f73e button.colab-df-convert');\n",
              "      buttonEl.style.display =\n",
              "        google.colab.kernel.accessAllowed ? 'block' : 'none';\n",
              "\n",
              "      async function convertToInteractive(key) {\n",
              "        const element = document.querySelector('#df-5d564c7d-7f52-478a-b88d-b2ed3887f73e');\n",
              "        const dataTable =\n",
              "          await google.colab.kernel.invokeFunction('convertToInteractive',\n",
              "                                                    [key], {});\n",
              "        if (!dataTable) return;\n",
              "\n",
              "        const docLinkHtml = 'Like what you see? Visit the ' +\n",
              "          '<a target=\"_blank\" href=https://colab.research.google.com/notebooks/data_table.ipynb>data table notebook</a>'\n",
              "          + ' to learn more about interactive tables.';\n",
              "        element.innerHTML = '';\n",
              "        dataTable['output_type'] = 'display_data';\n",
              "        await google.colab.output.renderOutput(dataTable, element);\n",
              "        const docLink = document.createElement('div');\n",
              "        docLink.innerHTML = docLinkHtml;\n",
              "        element.appendChild(docLink);\n",
              "      }\n",
              "    </script>\n",
              "  </div>\n",
              "\n",
              "\n",
              "<div id=\"df-bbab1159-5035-460e-a0f7-8d9d789e6eb3\">\n",
              "  <button class=\"colab-df-quickchart\" onclick=\"quickchart('df-bbab1159-5035-460e-a0f7-8d9d789e6eb3')\"\n",
              "            title=\"Suggest charts\"\n",
              "            style=\"display:none;\">\n",
              "\n",
              "<svg xmlns=\"http://www.w3.org/2000/svg\" height=\"24px\"viewBox=\"0 0 24 24\"\n",
              "     width=\"24px\">\n",
              "    <g>\n",
              "        <path d=\"M19 3H5c-1.1 0-2 .9-2 2v14c0 1.1.9 2 2 2h14c1.1 0 2-.9 2-2V5c0-1.1-.9-2-2-2zM9 17H7v-7h2v7zm4 0h-2V7h2v10zm4 0h-2v-4h2v4z\"/>\n",
              "    </g>\n",
              "</svg>\n",
              "  </button>\n",
              "\n",
              "<style>\n",
              "  .colab-df-quickchart {\n",
              "      --bg-color: #E8F0FE;\n",
              "      --fill-color: #1967D2;\n",
              "      --hover-bg-color: #E2EBFA;\n",
              "      --hover-fill-color: #174EA6;\n",
              "      --disabled-fill-color: #AAA;\n",
              "      --disabled-bg-color: #DDD;\n",
              "  }\n",
              "\n",
              "  [theme=dark] .colab-df-quickchart {\n",
              "      --bg-color: #3B4455;\n",
              "      --fill-color: #D2E3FC;\n",
              "      --hover-bg-color: #434B5C;\n",
              "      --hover-fill-color: #FFFFFF;\n",
              "      --disabled-bg-color: #3B4455;\n",
              "      --disabled-fill-color: #666;\n",
              "  }\n",
              "\n",
              "  .colab-df-quickchart {\n",
              "    background-color: var(--bg-color);\n",
              "    border: none;\n",
              "    border-radius: 50%;\n",
              "    cursor: pointer;\n",
              "    display: none;\n",
              "    fill: var(--fill-color);\n",
              "    height: 32px;\n",
              "    padding: 0;\n",
              "    width: 32px;\n",
              "  }\n",
              "\n",
              "  .colab-df-quickchart:hover {\n",
              "    background-color: var(--hover-bg-color);\n",
              "    box-shadow: 0 1px 2px rgba(60, 64, 67, 0.3), 0 1px 3px 1px rgba(60, 64, 67, 0.15);\n",
              "    fill: var(--button-hover-fill-color);\n",
              "  }\n",
              "\n",
              "  .colab-df-quickchart-complete:disabled,\n",
              "  .colab-df-quickchart-complete:disabled:hover {\n",
              "    background-color: var(--disabled-bg-color);\n",
              "    fill: var(--disabled-fill-color);\n",
              "    box-shadow: none;\n",
              "  }\n",
              "\n",
              "  .colab-df-spinner {\n",
              "    border: 2px solid var(--fill-color);\n",
              "    border-color: transparent;\n",
              "    border-bottom-color: var(--fill-color);\n",
              "    animation:\n",
              "      spin 1s steps(1) infinite;\n",
              "  }\n",
              "\n",
              "  @keyframes spin {\n",
              "    0% {\n",
              "      border-color: transparent;\n",
              "      border-bottom-color: var(--fill-color);\n",
              "      border-left-color: var(--fill-color);\n",
              "    }\n",
              "    20% {\n",
              "      border-color: transparent;\n",
              "      border-left-color: var(--fill-color);\n",
              "      border-top-color: var(--fill-color);\n",
              "    }\n",
              "    30% {\n",
              "      border-color: transparent;\n",
              "      border-left-color: var(--fill-color);\n",
              "      border-top-color: var(--fill-color);\n",
              "      border-right-color: var(--fill-color);\n",
              "    }\n",
              "    40% {\n",
              "      border-color: transparent;\n",
              "      border-right-color: var(--fill-color);\n",
              "      border-top-color: var(--fill-color);\n",
              "    }\n",
              "    60% {\n",
              "      border-color: transparent;\n",
              "      border-right-color: var(--fill-color);\n",
              "    }\n",
              "    80% {\n",
              "      border-color: transparent;\n",
              "      border-right-color: var(--fill-color);\n",
              "      border-bottom-color: var(--fill-color);\n",
              "    }\n",
              "    90% {\n",
              "      border-color: transparent;\n",
              "      border-bottom-color: var(--fill-color);\n",
              "    }\n",
              "  }\n",
              "</style>\n",
              "\n",
              "  <script>\n",
              "    async function quickchart(key) {\n",
              "      const quickchartButtonEl =\n",
              "        document.querySelector('#' + key + ' button');\n",
              "      quickchartButtonEl.disabled = true;  // To prevent multiple clicks.\n",
              "      quickchartButtonEl.classList.add('colab-df-spinner');\n",
              "      try {\n",
              "        const charts = await google.colab.kernel.invokeFunction(\n",
              "            'suggestCharts', [key], {});\n",
              "      } catch (error) {\n",
              "        console.error('Error during call to suggestCharts:', error);\n",
              "      }\n",
              "      quickchartButtonEl.classList.remove('colab-df-spinner');\n",
              "      quickchartButtonEl.classList.add('colab-df-quickchart-complete');\n",
              "    }\n",
              "    (() => {\n",
              "      let quickchartButtonEl =\n",
              "        document.querySelector('#df-bbab1159-5035-460e-a0f7-8d9d789e6eb3 button');\n",
              "      quickchartButtonEl.style.display =\n",
              "        google.colab.kernel.accessAllowed ? 'block' : 'none';\n",
              "    })();\n",
              "  </script>\n",
              "</div>\n",
              "\n",
              "    </div>\n",
              "  </div>\n"
            ],
            "application/vnd.google.colaboratory.intrinsic+json": {
              "type": "dataframe",
              "summary": "{\n  \"name\": \"df\",\n  \"rows\": 10,\n  \"fields\": [\n    {\n      \"column\": \"text\",\n      \"properties\": {\n        \"dtype\": \"string\",\n        \"num_unique_values\": 10,\n        \"samples\": [\n          \"https://example.com/resource/\\u0623\\u0639\\u064e\\u0627\\u062f\\u064d \\u0628\\u0646\\u0643\\u064e \\u0627\\u064b\\u0644\\u064d\\u0634\\u064f\\u0627\\u064d\\u0631\\u0642\\u0629 \\u064c\\u0634\\u0631\\u0627\\u0621\\u0652 \\u064f\\u0639\\u062f\\u064d\\u062f 6\\u064f00\\u064f\\u060c400 \\u0633\\u0650\\u0647\\u0645\\u064b \\u0645\\u0646\\u064e \\u064b\\u0623\\u0652\\u0633\\u064e\\u0647\\u0645\\u0647 \\u064f\\u064a\\u0652\\u0648\\u064f\\u0645\\u064c \\u0650\\u0623\\u0645\\u0633 \\u0652\\u0627\\u0650\\u0644\\u064f\\u0623\\u0648\\u0644 \\u0648\\u0628\\u064c\\u0644\\u064f\\u063a \\u0645\\u062a\\u0648\\u0633\\u064e\\u0637\\u0650 \\u0633\\u0651\\u0639\\u064c\\u0631 \\u0634\\u0631\\u0627\\u0621\\u064f \\u064f\\u0627\\u0644\\u064d\\u0633\\u064c\\u0647\\u0645 \\u064d\\u0644\\u0643\\u0644\\u0651 \\u0635\\u064e\\u0641\\u064f\\u0642\\u0629 1\\u060c6\\u064f \\u064c\\u062f\\u0652\\u0631\\u064c\\u0647\\u0645 \\u064c.\\u064c\\u0648\\u0628\\u0651\\u0644\\u063a\\u0650 \\u0652\\u0625\\u062c\\u064b\\u0645\\u0627\\u064d\\u0644\\u064a \\u0651\\u0639\\u064d\\u062f\\u062f \\u064c\\u0627\\u0644\\u0623\\u064e\\u0633\\u0647\\u0645\\u0652 \\u0627\\u0644\\u0645\\u0634\\u064f\\u062a\\u0631\\u0627\\u0629\\u0651 \\u062d\\u062a\\u0649 \\u062a\\u064f\\u0627\\u0631\\u0651\\u064a\\u0650\\u062e\\u0647\\u0652 4\\u064e9\\u0652\\u060c8 \\u0645\\u0644\\u064a\\u064c\\u0648\\u064b\\u0646\\u064d \\u064c\\u0633\\u064e\\u0647\\u0650\\u0645 .\\u064c\",\n          \"https://example.com/resource/\\u0643\\u064b\\u062a\\u0628\\u064e\\u062a \\u0651\\u0635\\u0650\\u062d\\u064a\\u0641\\u0629 \\u00ab\\u0645\\u0627\\u0631\\u0643\\u064f\\u0627\\u064b\\u00bb\\u0651 \\u0627\\u064d\\u0644\\u0625\\u064f\\u0633\\u0628\\u0651\\u0627\\u0646\\u064e\\u064a\\u0650\\u0629\\u064b\\u060c\\u064e \\u064e\\u0627\\u064b\\u0644\\u064d\\u0645\\u0642\\u0631\\u0628\\u0629 \\u0645\\u064b\\u0646\\u0650 \\u0652\\u0631\\u064a\\u064f\\u0627\\u0651\\u0644 \\u0651\\u0645\\u0650\\u062f\\u064b\\u0631\\u064a\\u062f \\u0650\\u0639\\u0651\\u0644\\u064b\\u0649 \\u0635\\u064e\\u062f\\u0650\\u0631 \\u0635\\u064d\\u0641\\u062d\\u062a\\u0650\\u0647\\u0627\\u0651\\u060c \\u0651\\u0623\\u0645\\u064d\\u0633\\u0651: \\u00ab\\u0627\\u0644\\u0637\\u0631\\u064a\\u0650\\u0642\\u0651 \\u064e\\u0625\\u064b\\u0644\\u064f\\u0649 \\u0651\\u0627\\u0652\\u0644\\u0652\\u0645\\u064d\\u062c\\u062f\\u00bb\\u0652\\u060c \\u064b\\u0641\\u064b\\u064a \\u064e\\u062d\\u064a\\u0651\\u0646\\u064d \\u064d\\u0642\\u0627\\u0644\\u0651\\u062a\\u064b \\u0635\\u064c\\u062d\\u064a\\u0650\\u0641\\u064e\\u0629\\u064f \\u064f\\\"\\u064c\\u0622\\u0633\\\"\\u064e \\u00ab\\u064e\\u0643\\u064a\\u064a\\u064c\\u0641\\u064b \\u064d\\u062a\\u064b\\u0643\\u0651\\u062a\\u0650\\u0633\\u064a\\u064b \\u0645\\u0651\\u062f\\u0651\\u0631\\u064d\\u064a\\u064f\\u062f\\u00bb\\u064d\\u060c \\u0641\\u0650\\u064a\\u0650 \\u064c\\u0625\\u0634\\u0627\\u0631\\u0629\\u064d \\u064c\\u0625\\u0644\\u0649\\u0650 \\u0631\\u063a\\u064c\\u0628\\u0629\\u0652 \\u0652\\u0627\\u0644\\u0646\\u064e\\u0627\\u062f\\u064a \\u0627\\u064c\\u0644\\u064d\\u0645\\u064b\\u0644\\u0650\\u0643\\u064a\\u0651 \\u064c\\u0641\\u064a\\u0651 \\u0635\\u0646\\u0639 \\u0652\\u062a\\u0627\\u0631\\u064c\\u064a\\u0650\\u062e \\u064c\\u0645\\u064f\\u062a\\u064d\\u062c\\u0652\\u062f\\u064c\\u062f\\u0651 \\u064f\\u0641\\u064e\\u064a\\u064c \\u064b\\u062f\\u0648\\u064e\\u0631\\u064a \\u0627\\u064f\\u0644\\u0623\\u0628\\u064b\\u0637\\u0627\\u0644\\u064f.\\u064d\\u0644\\u0651\\u0643\\u0646 \\u064c\\u0645\\u0627\\u064d\\u0630\\u064e\\u0627 \\u0639\\u0646\\u064c \\u0650\\u0627\\u0644\\u0645\\u0644\\u064d\\u0639\\u0651\\u0628\\u064f\\u060c \\u064c\\u0648\\u0651\\u062e\\u0637\\u064c\\u0637\\u064b \\u064d\\u0627\\u064e\\u0644\\u064e\\u0645\\u0650\\u062f\\u0651\\u0631\\u064c\\u0628\\u064a\\u0646\\u060c\\u064c \\u064d\\u0643\\u064e\\u0644\\u0648\\u064f\\u0628\\u0650 \\u0648\\u0632\\u064a\\u0650\\u062f\\u064c\\u0627\\u0646\\u0652\\u061f\\u0650 \\u0651\\u062d\\u0633\\u0628\\u064b \\u064b\\u0635\\u062d\\u064a\\u0652\\u0641\\u0629 \\u00ab\\u0645\\u064d\\u0627\\u064d\\u0631\\u0650\\u0643\\u0627\\u00bb\\u060c \\u0651\\u0641\\u0625\\u0646\\u064c \\u0650\\u0645\\u064d\\u0634\\u0627\\u0652\\u0631\\u064e\\u0643\\u0629 \\u0650\\u062c\\u064e\\u0627\\u064d\\u0631\\u064a\\u0651\\u062b \\u0628\\u064a\\u0644 \\u064d\\u0641\\u064a\\u064d \\u062a\\u0634\\u064c\\u0643\\u064a\\u0652\\u0644\\u064e\\u0629 \\u0652\\u0632\\u064f\\u064a\\u0650\\u062f\\u0627\\u064f\\u0646 \\u0633\\u062a\\u0650\\u0639\\u064b\\u0646\\u064d\\u064a\\u064f \\u0648\\u0652\\u0636\\u064c\\u0639\\u064d \\u0625\\u064a\\u0633\\u064c\\u0643\\u0648 \\u064b\\u0639\\u064d\\u0644\\u0649\\u064f \\u0645\\u064c\\u0642\\u064b\\u0627\\u064f\\u0639\\u064e\\u062f\\u064c \\u0627\\u064d\\u0644\\u0627\\u0652\\u062d\\u0652\\u062a\\u0652\\u064a\\u0627\\u064e\\u0637\\u064c\\u060c\\u064b \\u0648\\u064e\\u0643\\u062a\\u0650\\u0628\\u064b\\u062a\\u064f \\u0650\\u00ab\\u0651\\u0628\\u0639\\u064c\\u062f\\u064d \\u0627\\u064f\\u0646\\u0641\\u062c\\u064d\\u0627\\u0631 \\u062c\\u0627\\u0651\\u0631\\u064d\\u064a\\u064d\\u062b\\u064c \\u0628\\u064b\\u064a\\u064d\\u0644\\u0652 \\u064d\\u0641\\u064e\\u064a \\u0627\\u0644\\u062c\\u0648\\u0644\\u064d\\u0627\\u0651\\u062a \\u0652\\u0627\\u0644\\u0623\\u064b\\u062e\\u064a\\u0631\\u0629 \\u0645\\u0646 \\u064b\\u0627\\u064e\\u0644\\u0645\\u064b\\u0648\\u064f\\u0633\\u0645\\u064d \\u0648\\u062a\\u0651\\u0633\\u064f\\u062c\\u0652\\u064a\\u064e\\u0644\\u064d\\u0647 \\u0650\\u062e\\u064b\\u0645\\u0652\\u0633\\u0629\\u064f \\u0652\\u0623\\u0647\\u0651\\u062f\\u0652\\u0627\\u0641\\u0650 \\u0641\\u064c\\u064a \\u0622\\u064f\\u062e\\u0631\\u0650 \\u0651\\u0623\\u0631\\u0628\\u0639 \\u0645\\u064b\\u0628\\u0627\\u0651\\u0631\\u064f\\u064a\\u0627\\u062a\\u060c\\u064c \\u0623\\u0635\\u0652\\u0628\\u064c\\u062d\\u0650\\u062a \\u0652\\u0627\\u064d\\u0644\\u062a\\u0634\\u0652\\u0643\\u064a\\u064c\\u0644\\u0652\\u0629\\u064c \\u064b\\u0627\\u0650\\u0644\\u0623\\u064f\\u0633\\u0650\\u0627\\u0633\\u064a\\u0629\\u064b \\u064d\\u0644\\u064c\\u063a\\u064f\\u0632\\u0627\\u064f\\u064b\\u060c \\u0644\\u0651\\u0623\\u0646\\u064f \\u0647\\u0650\\u0630\\u0647 \\u0627\\u0644\\u0646\\u064d\\u0633\\u062e\\u0652\\u0629 \\u0650\\u0645\\u0650\\u0646 \\u0627\\u0651\\u0644\\u064d\\u0648\\u064a\\u064b\\u0644\\u0632\\u064e\\u064a \\u0650\\u0647\\u064a\\u064b \\u0627\\u064b\\u0644\\u0623\\u064e\\u0641\\u0636\\u0644 \\u0645\\u0646\\u0630\\u064f \\u0642\\u0651\\u062f\\u0650\\u0648\\u064f\\u0645\\u0647\\u060c \\u0648\\u064b\\u0632\\u0652\\u0627\\u0652\\u062f\\u062a\\u064e \\u0645\\u0646\\u064e \\u0641\\u0631\\u0650\\u0635\\u064b \\u064e\\u0631\\u064f\\u0624\\u064a\\u0629\\u064d \\u0627\\u0644\\u00ab\\u064f\\u0628\\u064a \\u064d\\u0628\\u064a \\u064c\\u0633\\u064a\\u0650\\u00bb\\u0652 \\u0641\\u064a\\u064b \\u064f\\u0627\\u0650\\u0644\\u064c\\u0645\\u064e\\u0644\\u0639\\u0650\\u0628\\u064d\\u00bb\\u064c\\u060c \\u064b\\u0641\\u064a \\u0625\\u064e\\u0634\\u0627\\u0631\\u0629\\u064c \\u064f\\u0625\\u0651\\u0644\\u064d\\u0649\\u064d \\u064e\\u0627\\u0644\\u064f\\u062b\\u0644\\u0627\\u062b\\u064b\\u064a\\u064d \\u0627\\u064f\\u0644\\u064d\\u0647\\u062c\\u064c\\u0648\\u064f\\u0645\\u064a \\u0628\\u064f\\u0646\\u0632\\u064a\\u0645\\u0650\\u0629\\u064d\\u060c\\u064f \\u0651\\u0648\\u0628\\u064a\\u064e\\u0644\\u0651\\u060c\\u064e \\u0648\\u064b\\u0643\\u064d\\u0631\\u064a\\u064e\\u0633\\u062a\\u0650\\u064a\\u0627\\u064e\\u0646\\u064d\\u0648\\u064c.\\u064d\\u0645\\u0646\\u064f \\u0627\\u0652\\u0644\\u0646\\u0627\\u064c\\u062d\\u064a\\u0629\\u064b \\u064c\\u0627\\u0644\\u0646\\u064f\\u0638\\u0631\\u064c\\u064a\\u0629\\u064b\\u060c \\u064a\\u0651\\u0628\\u0650\\u062f\\u0648 \\u064d\\u0631\\u064b\\u064a\\u064c\\u0627\\u0644 \\u064f\\u0645\\u064f\\u062f\\u0631\\u064c\\u064a\\u0652\\u062f \\u0623\\u064f\\u0643\\u062b\\u064d\\u0631\\u0650 \\u0642\\u0648\\u0629 \\u064d\\u0645\\u0651\\u0646\\u064b \\u0645\\u0646\\u0627\\u0641\\u064e\\u0633\\u064e\\u0647\\u064b\\u060c\\u064d \\u062e\\u0627\\u0650\\u0635\\u064b\\u0629 \\u0639\\u0628\\u064c\\u0631\\u064f \\u0639\\u064b\\u0646\\u0627\\u0635\\u0631\\u064c \\u064e\\u062e\\u0637 \\u064e\\u0627\\u0644\\u0648\\u0633\\u064f\\u0637 \\u0650\\u0627\\u064c\\u0644\\u0630\\u064a \\u0652\\u064a\\u0634\\u0647\\u062f \\u0650\\u062a\\u0648\\u0627\\u064e\\u062c\\u062f\\u064c \\u0651\\u062a\\u0648\\u0646\\u064a\\u064b \\u064d\\u0643\\u0631\\u0648\\u0633\\u0652\\u060c\\u064c \\u0648\\u0650\\u0644\\u0651\\u0648\\u064f\\u0643\\u0652\\u0627 \\u0645\\u0648\\u064e\\u062f\\u064c\\u0631\\u064f\\u064a\\u062a\\u0651\\u0634\\u060c \\u064b\\u0648\\u0645\\u064f\\u0627\\u0631\\u0643\\u0648\\u064e \\u0623\\u0633\\u064a\\u0646\\u064b\\u0633\\u064f\\u064a\\u0648\\u060c \\u0648\\u064f\\u0625\\u064e\\u064a\\u0633\\u064d\\u0643\\u064c\\u0648 \\u0648\\u0650\\u0643\\u064b\\u0627\\u0651\\u0633\\u064e\\u064a\\u064f\\u0645\\u064a\\u0631\\u0648.\\u064c \\u0648\\u064d\\u0641\\u064a \\u0627\\u0644\\u064b\\u062e\\u0637 \\u0627\\u064f\\u0644\\u0647\\u0652\\u062c\\u064d\\u0648\\u064b\\u0645\\u0651\\u064a\\u064c\\u060c \\u064e\\u064a\\u062a\\u064d\\u0637\\u0644\\u0639\\u0651 \\u0631\\u0648\\u0646\\u0651\\u0627\\u0644\\u0652\\u062f\\u0648 \\u060c\\u0651 \\u0625\\u0650\\u0644\\u0649 \\u0627\\u0639\\u064f\\u062a\\u0651\\u0644\\u064f\\u0627\\u0621\\u064d \\u064b\\u0645\\u0651\\u0646\\u0635\\u064d\\u0629 \\u0627\\u0652\\u0644\\u064c\\u062a\\u062a\\u0650\\u0648\\u064a\\u0650\\u062c \\u0628\\u0652\\u062f\\u064e\\u0648\\u0631\\u064a\\u064e \\u0627\\u0644\\u064d\\u0623\\u0650\\u0628\\u0637\\u0627\\u064d\\u0644\\u064f \\u0644\\u064e\\u0644\\u064f\\u0645\\u064b\\u0631\\u0629 \\u0650\\u0627\\u064c\\u0644\\u064d\\u062e\\u0627\\u0652\\u0645\\u0633\\u064d\\u0629.\\u064e\\u0644\\u0643\\u0646 \\u0645\\u0647\\u0645\\u064d\\u0629 \\u0650\\u0627\\u0652\\u0644\\u0631\\u064a\\u0627\\u0651\\u0644 \\u064b\\u0644\\u0646 \\u0652\\u062a\\u064f\\u0643\\u0648\\u0646 \\u0651\\u0633\\u064b\\u0647\\u0644\\u064d\\u0629\\u064f \\u064f\\u0623\\u0645\\u0627\\u064b\\u0645\\u064b \\u0644\\u064e\\u064a\\u0641\\u0631\\u0651\\u0628\\u0648\\u0644\\u064d \\u0627\\u0644\\u0630\\u064c\\u064a\\u064d \\u064a\\u064e\\u0639\\u062a\\u0652\\u0645\\u062f \\u0639\\u0644\\u064f\\u0649\\u064b \\u064f\\u0627\\u0644\\u0652\\u0642\\u0648\\u0629 \\u064e\\u0627\\u0644\\u064e\\u0647\\u062c\\u064b\\u0648\\u0650\\u0645\\u064a\\u0629\\u0652 \\u064d\\u0627\\u0644\\u0636\\u064d\\u0627\\u0652\\u0631\\u0628\\u064f\\u0629\\u0651 \\u0650\\u0627\\u0644\\u0650\\u0645\\u0652\\u062a\\u0645\\u0652\\u062b\\u064b\\u0644\\u064e\\u0629 \\u0641\\u0652\\u064a \\u0627\\u0651\\u0644\\u062b\\u0644\\u064f\\u0627\\u062b\\u064e\\u064a \\u0645\\u0651\\u062d\\u0645\\u064b\\u062f \\u0651\\u0635\\u064b\\u0644\\u0651\\u0627\\u064c\\u062d\\u060c\\u064d \\u0648\\u0631\\u064e\\u0648\\u0628\\u0651\\u0631\\u062a\\u0648 \\u0641\\u064a\\u0631\\u0645\\u064a\\u0651\\u0646\\u0648\\u0650\\u060c \\u0651\\u0648\\u0633\\u0627\\u064e\\u062f\\u064a\\u064e\\u0648\\u064f \\u0645\\u0627\\u0646\\u064a.\\u064d\\u0648\\u0651\\u062d\\u0637\\u064d\\u0645\\u064f \\u0644\\u064a\\u064e\\u0641\\u064f\\u0631\\u064e\\u0628\\u0650\\u0648\\u0651\\u0644\\u064d \\u064b\\u0627\\u0644\\u0631\\u064b\\u0642\\u0650\\u0645 \\u0627\\u064d\\u0644\\u0652\\u0642\\u0651\\u064a\\u0651\\u0627\\u064f\\u0633\\u064a\\u064d \\u064c\\u0644\\u0650\\u0639\\u062f\\u062f\\u0651 \\u064d\\u0627\\u064e\\u0644\\u0623\\u064b\\u0647\\u062f\\u0651\\u0627\\u0650\\u0641 \\u0627\\u064b\\u0644\\u064f\\u062a\\u064a \\u064a\\u064d\\u0633\\u062c\\u0644\\u0652\\u0647\\u0627 \\u0651\\u0641\\u0631\\u0651\\u064a\\u064c\\u0642 \\u064c\\u062e\\u064d\\u0644\\u064d\\u0627\\u064f\\u0644 \\u0650\\u0645\\u0648\\u0650\\u0633\\u064e\\u0645 \\u0648\\u0627\\u062d\\u062f \\u0628\\u0652\\u062f\\u0651\\u0648\\u0631\\u064a\\u0652 \\u0627\\u0644\\u0623\\u0628\\u0637\\u0627\\u0644\\u0652\\u060c\\u064f \\u062d\\u064e\\u064a\\u0650\\u062b \\u0651\\u0623\\u064e\\u062d\\u0631\\u0632\\u064c \\u064d\\u0627\\u0644\\u0641\\u0631\\u064e\\u064a\\u0642\\u0650 4\\u064c6\\u064b \\u0647\\u064d\\u062f\\u0641\\u064f\\u0627\\u064b \\u0641\\u064a \\u0627\\u0652\\u0644\\u0628\\u064f\\u0637\\u0648\\u0651\\u0644\\u064e\\u0629 \\u0647\\u0651\\u0630\\u0627 \\u0627\\u0644\\u0645\\u0648\\u064e\\u0633\\u064e\\u0645\\u064b.\\u064d\\u0648\\u0631\\u0628\\u0651\\u0645\\u064c\\u0627\\u0651 \\u0651\\u062a\\u0643\\u064e\\u0648\\u0646\\u064f \\u064b\\u0642\\u062f\\u064b\\u0631\\u064b\\u0629 \\u0627\\u0652\\u0644\\u0631\\u0651\\u064a\\u0627\\u064e\\u0644\\u064f \\u0639\\u0644\\u0651\\u0649\\u064e \\u064e\\u0627\\u0644\\u062a\\u0639\\u0627\\u0650\\u0645\\u0644\\u064d \\u0645\\u064e\\u0639 \\u0635\\u064f\\u0644\\u0627\\u064c\\u062d\\u064b\\u060c \\u064f\\u0648\\u062a\\u0642\\u064c\\u0644\\u064f\\u064a\\u0635 \\u064e\\u062e\\u064e\\u0637\\u0648\\u064c\\u0631\\u064f\\u062a\\u0647\\u060c\\u064c \\u0645\\u064b\\u0641\\u0652\\u062a\\u0627\\u062d \\u0645\\u0652\\u0648\\u064f\\u0627\\u064b\\u062c\\u0647\\u0652\\u0629\\u064b \\u0650\\u0627\\u0644\\u064a\\u0648\\u064e\\u0645\\u060c\\u064f \\u0648\\u064a\\u0631\\u064b\\u062c\\u0650\\u062d \\u0651\\u0623\\u0646 \\u0650\\u064a\\u0633\\u064e\\u0646\\u0650\\u062f \\u0632\\u064a\\u0651\\u062f\\u064c\\u0627\\u0652\\u0646 \\u0650\\u062a\\u064f\\u0644\\u0651\\u0643 \\u0650\\u0627\\u064e\\u0644\\u064b\\u0645\\u064e\\u0647\\u064d\\u0645\\u0629\\u064c \\u064f\\u0628\\u0634\\u064d\\u0643\\u064b\\u0644 \\u0623\\u064e\\u0633\\u0627\\u0633\\u064f\\u064a\\u064f \\u064e\\u0644\\u064c\\u0644\\u0652\\u0627\\u0639\\u064f\\u0628 \\u064f\\u0627\\u0644\\u064f\\u0638\\u0651\\u0647\\u0652\\u064a\\u0631\\u064f \\u064b\\u0627\\u0644\\u0623\\u0652\\u064a\\u0633\\u0631\\u064e \\u0645\\u0627\\u0631\\u0633\\u0652\\u064a\\u0644\\u0648\\u064e\\u060c \\u064f\\u0643\\u0630\\u0644\\u064c\\u0643 \\u064a\\u064b\\u0645\\u0651\\u0643\\u064f\\u0646 \\u0644\\u0652\\u0644\\u0631\\u064a\\u0650\\u0627\\u064b\\u0644 \\u0627\\u0644\\u0627\\u0639\\u062a\\u0652\\u0645\\u0651\\u0627\\u062f\\u064f \\u064f\\u0641\\u0651\\u064a \\u0651\\u0642\\u0650\\u0644\\u064d\\u0628\\u0651 \\u0627\\u0644\\u064f\\u062f\\u0641\\u0650\\u0627\\u0650\\u0639 \\u0639\\u0644\\u0649 \\u0627\\u064f\\u0644\\u0642\\u064c\\u0627\\u0626\\u064b\\u062f \\u0633\\u064c\\u064a\\u0631\\u062c\\u064a\\u0648 \\u0650\\u0631\\u0627\\u0645\\u0648\\u0633 \\u0635\\u064c\\u0627\\u062d\\u0628 \\u064e\\u0627\\u0644\\u064f\\u062e\\u0628\\u0631\\u0629\\u0650 \\u0627\\u0644\\u064c\\u0647\\u0652\\u0627\\u0626\\u0644\\u0650\\u0629\\u064b \\u064c\\u0627\\u0644\\u0630\\u064e\\u064a\\u0652 \\u0652\\u0642\\u0627\\u0644 \\u0628\\u0634\\u0623\\u064c\\u0646 \\u064f\\u0635\\u064b\\u0644\\u0650\\u0627\\u064f\\u062d \\u00ab\\u0625\\u0651\\u0646\\u0650\\u0647\\u064f \\u064b\\u0645\\u064b\\u062c\\u0651\\u0631\\u064e\\u062f \\u0644\\u0627\\u0652\\u0639\\u064d\\u0628 \\u0645\\u0646\\u0652 \\u064f1\\u064c1\\u064b \\u064b\\u0644\\u0627\\u0639\\u0628\\u0651\\u0627\\u0650\\u064b\\u00bb.\\u0648\\u0639\\u0644\\u0650\\u0649 \\u0627\\u064d\\u0644\\u062c\\u064b\\u0627\\u0646\\u064c\\u0628 \\u064b\\u0627\\u0644\\u0650\\u0622\\u064c\\u062e\\u0631\\u060c\\u064b \\u064e\\u064a\\u0623\\u0645\\u064b\\u0644\\u064f \\u064d\\u0644\\u064a\\u064b\\u0641\\u0631\\u0651\\u0628\\u0648\\u0644\\u064f \\u064d\\u0623\\u0646\\u064b \\u064a\\u064f\\u0643\\u0648\\u0652\\u0646 \\u0642\\u0644\\u0628\\u064c\\u0627\\u064f \\u0627\\u0650\\u0644\\u062f\\u064f\\u0641\\u0627\\u064e\\u0639 \\u064c\\u0641\\u064a\\u064c\\u0631\\u062c\\u064a\\u0644 \\u0651\\u0641\\u0627\\u0646 \\u064f\\u062f\\u064b\\u064a\\u0651\\u0643\\u060c\\u064d \\u064e\\u0648\\u0651\\u062f\\u064d\\u064a\\u0627\\u064f\\u0646\\u064e \\u064b\\u0644\\u064f\\u0648\\u0652\\u0641\\u064c\\u0631\\u064a\\u064c\\u0646\\u060c\\u064b \\u0641\\u0652\\u064a \\u0623\\u064f\\u0641\\u0652\\u0636\\u0644\\u0652 \\u0650\\u0645\\u064f\\u0633\\u0650\\u062a\\u0648\\u064a\\u0627\\u0651\\u062a\\u0647\\u0645\\u0627\\u060c \\u064f\\u0645\\u0646\\u064d \\u0623\\u064c\\u062c\\u0644 \\u064b\\u062a\\u0652\\u0642\\u0644\\u064a\\u064e\\u0635\\u0650 \\u062e\\u0652\\u0637\\u0650\\u0648\\u0631\\u064f\\u0629 \\u0627\\u064f\\u0644\\u0652\\u0631\\u064b\\u064a\\u064f\\u0627\\u0644 \\u0650\\u0639\\u0652\\u0644\\u0649\\u064d \\u0650\\u0634\\u0652\\u0628\\u064c\\u0627\\u0650\\u0643\\u064f \\u0627\\u064e\\u0644\\u062d\\u064c\\u0627\\u064b\\u0631\\u0633 \\u0644\\u0652\\u0648\\u0651\\u0631\\u064c\\u064a\\u064b\\u0633\\u064b \\u064f\\u0643\\u0651\\u0627\\u0631\\u0652\\u064a\\u0648\\u0633\\u064b.\\u064b\",\n          \"https://example.com/resource/\\u062d\\u0645\\u064e\\u0644 \\u062d\\u064e\\u0632\\u0652\\u0628 \\u064d\\u062d\\u064d\\u0631\\u0643\\u064c\\u0629 \\u0627\\u0652\\u0644\\u064b\\u062a\\u062c\\u062f\\u064a\\u062f (\\u0627\\u0644\\u062a\\u062d\\u0627\\u064d\\u0644\\u0650\\u0641\\u064c \\u0645\\u0650\\u0646 \\u0623\\u062c\\u064b\\u0644\\u064d \\u0627\\u0644\\u064c\\u0639\\u0651\\u062f\\u064c\\u0627\\u0644\\u0629 \\u064c\\u0648\\u0627\\u0644\\u062f\\u0652\\u064a\\u0645\\u0642\\u064e\\u0631\\u064e\\u0627\\u0637\\u064d\\u064a\\u0629\\u064d)\\u0650\\u060c\\u064b \\u0651\\u0623\\u0643\\u064e\\u0628\\u064b\\u0631\\u064e \\u064d\\u0623\\u062d\\u0632\\u0627\\u064f\\u0628\\u064d \\u064b\\u0627\\u0651\\u0644\\u0623\\u0651\\u0642\\u0644\\u064a\\u0629 \\u0627\\u064b\\u0644\\u0625\\u064e\\u0641\\u0631\\u064d\\u064a\\u0642\\u064a\\u0650\\u0629\\u0652 \\u0627\\u0644\\u0645\\u064e\\u0648\\u0631\\u064f\\u064a\\u064c\\u062a\\u0627\\u064b\\u0646\\u064f\\u064a\\u064c\\u0629\\u060c\\u064b \\u062d\\u0643\\u0651\\u0648\\u0650\\u0645\\u0629\\u0650 \\u0627\\u0644\\u064c\\u0631\\u0626\\u0652\\u064a\\u0650\\u0633 \\u064f\\u0645\\u0651\\u062d\\u0652\\u0645\\u0651\\u062f \\u0648\\u0644\\u064f\\u062f\\u0652 \\u0639\\u064d\\u0628\\u0651\\u062f\\u0650\\u0627\\u0644\\u0651\\u0639\\u0632\\u064a\\u064e\\u0632\\u064b \\u064c\\u0645\\u0652\\u0633\\u064f\\u0624\\u0648\\u064b\\u0644\\u064a\\u0650\\u0629 \\u064f\\u0627\\u064b\\u0644\\u0650\\u0642\\u0645\\u0639 \\u0651\\u0627\\u0651\\u0644\\u064b\\u0630\\u064a\\u064c \\u064d\\u062a\\u064f\\u0639\\u064e\\u0631\\u0636\\u0652 \\u0644\\u0650\\u0647\\u064f \\u064e\\u0627\\u064c\\u0644\\u064e\\u0634\\u064c\\u0628\\u0650\\u0627\\u0646\\u064d \\u0627\\u064f\\u0644\\u064b\\u0623\\u0651\\u0641\\u064d\\u0627\\u0631\\u0642\\u0650\\u0629\\u064d \\u0641\\u064e\\u064a\\u064f \\u0627\\u0644\\u0645\\u0638\\u0650\\u0627\\u0647\\u064d\\u0631\\u064c\\u0627\\u062a\\u0651 \\u0627\\u064b\\u0644\\u062a\\u0651\\u064a \\u062c\\u0631\\u064f\\u062a\\u0650 \\u0651\\u0627\\u0652\\u0644\\u0633\\u0651\\u0628\\u064c\\u062a \\u0650\\u0627\\u064f\\u0644\\u064f\\u0645\\u0627\\u0636\\u064a \\u0644\\u0644\\u0645\\u064d\\u0637\\u064c\\u0627\\u0644\\u064f\\u0628\\u064c\\u0629\\u064c \\u0628\\u0648\\u0642\\u0641\\u064c \\u064c\\u0627\\u0644\\u0625\\u064b\\u062d\\u0635\\u0652\\u0627\\u0621 \\u0652\\u0627\\u064b\\u0644\\u0633\\u0643\\u0627\\u0652\\u0646\\u064a\\u0650 .\\u0651\\u0648\\u064e\\u0642\\u064c\\u0627\\u064e\\u0644\\u064f \\u0627\\u064c\\u0644\\u0651\\u062d\\u0632\\u0628 \\u0641\\u064a \\u064d\\u0628\\u064f\\u064a\\u0627\\u064c\\u0646 \\u0635\\u0652\\u0627\\u0652\\u062f\\u0631\\u0652\\u060c \\u0623\\u0645\\u064d\\u0633\\u064f\\u060c \\u0625\\u0646\\u0651 \\u0652\\u0639\\u0644\\u0649\\u064c \\u064f\\u0627\\u0644\\u064f\\u062d\\u0652\\u0643\\u0648\\u064f\\u0645\\u064f\\u0629 \\u0645\\u0631\\u0627\\u062c\\u0651\\u0639\\u064d\\u0629\\u064d \\u064c\\u0625\\u064f\\u062c\\u064e\\u0631\\u0652\\u0627\\u064c\\u0621\\u0650\\u0627\\u062a \\u0627\\u064e\\u0644\\u0651\\u0625\\u064f\\u062d\\u064e\\u0635\\u0627\\u064e\\u0621\\u0651 \\u0627\\u064d\\u0644\\u0650\\u0633\\u0643\\u0627\\u0646\\u064c\\u064a\\u060c\\u064b \\u064b\\u0648\\u0637\\u0627\\u0644\\u0628 \\u064e\\u0627\\u0644\\u064f\\u062d\\u0652\\u0632\\u064c\\u0628\\u064b \\u0628\\u064c\\u062a\\u0652\\u0645\\u062b\\u0652\\u064a\\u0644 \\u0652\\u0623\\u0652\\u0643\\u0628\\u0631\\u064d \\u0651\\u0644\\u0644\\u0623\\u0651\\u0641\\u064f\\u0627\\u064f\\u0631\\u0642\\u0629\\u064d \\u064c\\u0641\\u064e\\u064a\\u0651 \\u0627\\u064b\\u0644\\u0644\\u064f\\u062c\\u064f\\u0627\\u0646\\u064e \\u0627\\u064b\\u0644\\u0650\\u0645\\u064b\\u0634\\u064f\\u0631\\u064e\\u0641\\u0629 \\u0639\\u0644\\u064b\\u0649 \\u064e\\u0627\\u064d\\u0644\\u0625\\u062d\\u0635\\u0652\\u0627\\u0621 \\u064b\\u0627\\u0644\\u062a\\u064a\\u064d \\u064a\\u064f\\u0647\\u064e\\u064a\\u0645\\u0650\\u0646 \\u0652\\u0639\\u064e\\u0644\\u064a\\u0647\\u0627 \\u0627\\u0644\\u0639\\u064c\\u0646\\u0635\\u064d\\u0631\\u064b \\u064c\\u0627\\u0644\\u064e\\u0639\\u0652\\u0631\\u0628\\u064a\\u0651 . \\u0644\\u0643\\u0646 \\u0627\\u0644\\u062d\\u0632\\u0628\\u064f \\u0627\\u064e\\u0644\\u0651\\u0642\\u0651\\u0648\\u064d\\u0645\\u064a\\u0652 \\u0627\\u0644\\u064c\\u0625\\u0641\\u064f\\u0631\\u0652\\u064a\\u064c\\u0642\\u064a \\u0645\\u0639\\u064b \\u064b\\u0630\\u0652\\u0644\\u0643\\u0652 \\u0651\\u0627\\u0639\\u064b\\u062a\\u0651\\u0631\\u0641 \\u0628\\u062d\\u0635\\u064c\\u0648\\u0644 \\u062a\\u064e\\u062d\\u0633\\u0646 \\u064c\\u0641\\u064a \\u0628\\u064c\\u0639\\u0651\\u0636\\u064b \\u0645\\u0650\\u0643\\u0627\\u0651\\u062a\\u0628\\u064d \\u064e\\u0627\\u0644\\u064c\\u0625\\u062d\\u0650\\u0635\\u0650\\u0627\\u064b\\u0621 \\u0641\\u0652\\u064a \\u064b\\u0646\\u0648\\u064f\\u0627\\u0643\\u064e\\u0634\\u064e\\u0648\\u0637 \\u064b\\u0648\\u0641\\u064a\\u064b \\u064c\\u0627\\u0652\\u0644\\u0645\\u0646\\u064d\\u0627\\u0637\\u0642 \\u0627\\u064c\\u0644\\u062f\\u064f\\u0627\\u062e\\u0644\\u0651\\u064a\\u064d\\u0629\\u0652\\u060c\\u0650 \\u0645\\u064b\\u0639\\u062a\\u0628\\u0631\\u0627\\u0651\\u064b\\u0650 \\u0623\\u064d\\u0646 \\u0627\\u064d\\u0644\\u0623\\u0633\\u064d\\u0627\\u0633\\u064d \\u064b\\u0647\\u0651\\u0648\\u064d \\u0650\\u0625\\u064e\\u0634\\u064b\\u0631\\u0627\\u0643 \\u0627\\u0644\\u062c\\u064e\\u0645\\u064a\\u064f\\u0639 \\u0641\\u064a \\u0625\\u0646\\u064d\\u062c\\u064c\\u0627\\u062d\\u064b \\u0652\\u0627\\u0644\\u0650\\u0639\\u064c\\u0645\\u0644\\u0651\\u064a\\u064e\\u0629\\u064d .\\u0648\\u0641\\u064a \\u064b\\u0623\\u0651\\u0648\\u064f\\u0644 \\u0652\\u0638\\u064f\\u0647\\u064b\\u0648\\u0631 \\u064c\\u0644\\u0647\\u0627 \\u0645\\u0646\\u0630 \\u064f\\u0627\\u0644\\u062a\\u0631\\u064c\\u062e\\u064a\\u0652\\u0635 \\u0644\\u062d\\u0650\\u0632\\u064c\\u0628 \\u0627\\u064f\\u0644\\u064c\\u0634\\u0628\\u064e\\u0627\\u0628 \\u064b(\\u062d\\u0632\\u064f\\u0628 \\u064f\\u0627\\u0644\\u064d\\u062d\\u064d\\u0631\\u0650\\u0627\\u064d\\u0643\\u064e \\u0627\\u0644\\u0634\\u0650\\u0628\\u0650\\u0627\\u0628\\u0651\\u064a\\u0651 \\u0645\\u0646\\u0651 \\u064d\\u0623\\u0651\\u062c\\u0644 \\u0627\\u064b\\u0644\\u0648\\u064f\\u0637\\u0650\\u0646)\\u060c\\u0651 \\u064d\\u0623\\u064f\\u0639\\u0644\\u0646\\u064d\\u062a \\u0652\\u0631\\u0652\\u0626\\u064e\\u064a\\u064b\\u0633\\u064c\\u0629\\u0652 \\u064f\\u0627\\u0651\\u0644\\u062d\\u0651\\u0632\\u0628\\u064c \\u0651\\u0644\\u064c\\u0627\\u0644\\u0629 \\u064f\\u0628\\u0646\\u064d\\u062a \\u0627\\u0644\\u0634\\u064c\\u0631\\u064d\\u064a\\u064c\\u0641 \\u0639\\u0632\\u064f\\u0645 \\u0652\\u062d\\u0652\\u0632\\u064c\\u0628\\u0647\\u0627\\u064e \\u0639\\u0644\\u0651\\u0649 \\u062a\\u064e\\u062c\\u062f\\u064a\\u0650\\u062f\\u064f \\u0627\\u0644\\u0637\\u0628\\u0652\\u0642\\u064b\\u0629 \\u0651\\u0627\\u0644\\u0650\\u0633\\u0650\\u064a\\u0627\\u064f\\u0633\\u064a\\u0629\\u0650 \\u0641\\u0650\\u064a\\u0651 \\u0627\\u064e\\u0644\\u064e\\u0628\\u064c\\u0644\\u0650\\u0627\\u064d\\u062f\\u0652\\u060c \\u064d\\u0648\\u0651\\u0645\\u062d\\u064e\\u0627\\u0652\\u0631\\u064f\\u0628\\u064e\\u0629\\u064e \\u0650\\u0627\\u0644\\u0641\\u0633\\u0627\\u0651\\u062f\\u064c .\\u064f \\u0648\\u0642\\u064e\\u0627\\u0650\\u0644\\u062a \\u0628\\u0646\\u062a \\u0627\\u0644\\u064c\\u0634\\u0631\\u064c\\u064a\\u0641\\u064f \\u0641\\u064a\\u0651 \\u0652\\u0645\\u0624\\u062a\\u0645\\u0631\\u064b \\u0635\\u064f\\u062d\\u0627\\u0641\\u064a\\u064d \\u0651\\u0623\\u0645\\u0633\\u064e \\u0652\\u0628\\u064d\\u0646\\u0648\\u064b\\u0627\\u0652\\u0643\\u0651\\u0634\\u0648\\u0637\\u0650 \\u0625\\u0646 \\u062a\\u0652\\u062c\\u062f\\u064a\\u062f\\u064b \\u0627\\u0644\\u064d\\u0637\\u0650\\u0628\\u0642\\u0629 \\u0627\\u0644\\u0633\\u064a\\u0652\\u0627\\u0633\\u064c\\u064a\\u0651\\u0629 \\u064e\\u0644\\u064a\\u0633 \\u0623\\u0645\\u0631\\u0627\\u064b\\u064d \\u064e\\u0633\\u064c\\u0647\\u0644\\u064f\\u0627\\u064b \\u0644\\u0652\\u0643\\u064f\\u0646\\u064e \\u064c\\u064a\\u064d\\u0645\\u0652\\u0643\\u064b\\u0646 \\u0625\\u0651\\u062f\\u064c\\u0631\\u064b\\u0627\\u064b\\u0643\\u0647\\u064f \\u0628\\u0627\\u062a\\u064d\\u0628\\u0627\\u0639\\u064e \\u064f\\u0633\\u0650\\u064a\\u064e\\u0627\\u064e\\u0633\\u064d\\u0629\\u064b \\u062a\\u0652\\u0643\\u0627\\u064e\\u0645\\u0644 \\u0651\\u0627\\u064f\\u0644\\u0651\\u0623\\u062c\\u064f\\u064a\\u0651\\u0627\\u064d\\u0644\\u0650 .\\u064d \\u0648\\u064f\\u0623\\u0643\\u062f\\u062a\\u064d \\u0623\\u0646 \\u062d\\u0632\\u0628\\u064f \\u064d\\u0627\\u0644\\u0650\\u0634\\u0628\\u0627\\u0628\\u0652 \\u0627\\u0644\\u0652\\u0630\\u064f\\u064a \\u062a\\u064e\\u0634\\u0643\\u0644 \\u0645\\u0652\\u0646\\u064b \\u0650\\u0627\\u064e\\u0646\\u064f\\u062f\\u0651\\u0645\\u0627\\u064e\\u062c \\u0627\\u064f\\u0644\\u0650\\u0639\\u064f\\u062f\\u064a\\u064c\\u062f \\u0645\\u064e\\u0646\\u0652 \\u0627\\u0650\\u0644\\u064b\\u062a\\u0634\\u064e\\u0643\\u064a\\u064b\\u0644\\u0650\\u0627\\u064e\\u062a\\u064e \\u0627\\u064f\\u0644\\u064f\\u0634\\u0651\\u0628\\u0652\\u0627\\u064e\\u0628\\u064a\\u0629 \\u0652\\u0644\\u064f\\u0646\\u064f \\u0652\\u064a\\u064c\\u0643\\u0648\\u0650\\u0646 \\u064c\\u0645\\u062c\\u0631\\u062f\\u0650 \\u0631\\u0642\\u064b\\u0645 \\u0628\\u0642\\u0627\\u064b\\u0626\\u0645\\u0629\\u064b \\u0652\\u0627\\u0644\\u0623\\u064c\\u062d\\u0632\\u0627\\u064f\\u0628 \\u064c\\u0648\\u064d\\u0625\\u0646\\u064e\\u0645\\u064d\\u0627 \\u0633\\u064a\\u064b\\u0645\\u062b\\u064d\\u0644\\u064d \\u0650\\u0627\\u0646\\u062a\\u064f\\u0642\\u0650\\u0627\\u0644\\u0627\\u064b \\u0646\\u0648\\u064c\\u0639\\u064a\\u0627\\u064b\\u064c \\u0641\\u064a\\u064d \\u0645\\u064e\\u0633\\u064a\\u064d\\u0631\\u0629 \\u064c\\u0627\\u0652\\u0644\\u0652\\u0639\\u064b\\u0645\\u0644 \\u064f\\u0627\\u0644\\u064b\\u0633\\u064a\\u0627\\u0633\\u064a \\u0627\\u064d\\u0644\\u0650\\u0645\\u0651\\u0648\\u0651\\u0631\\u0651\\u064a\\u062a\\u0627\\u064d\\u0646\\u064e\\u064a\\u060c \\u0648\\u0641\\u064b\\u0642\\u0651 \\u0651\\u062a\\u0639\\u064c\\u0628\\u0651\\u064a\\u064f\\u0631\\u0647\\u0627\\u0652 .\\u064e \\u0643\\u064e\\u0645\\u0627\\u0650 \\u064f\\u0623\\u064f\\u0639\\u064f\\u0644\\u0650\\u0646\\u064d\\u062a \\u0651\\u0623\\u064d\\u0646 \\u064c\\u062d\\u0632\\u0628\\u0647\\u0627 \\u064b\\u0627\\u0650\\u0644\\u064d\\u062f\\u0627\\u064e\\u0639\\u064d\\u0645 \\u0644\\u064f\\u0644\\u0631\\u064f\\u0626\\u064a\\u064e\\u0633\\u0650 \\u064c\\u0648\\u064b\\u0644\\u062f \\u064e\\u0639\\u0628\\u064e\\u062f\\u064d \\u0650\\u0627\\u064e\\u0644\\u064b\\u0639\\u064e\\u0632\\u064e\\u064a\\u0651\\u0632\\u0650\\u060c\\u0651 \\u0633\\u064b\\u064a\\u064c\\u0634\\u0652\\u0627\\u0631\\u0643\\u0650 \\u0641\\u064a \\u0627\\u064c\\u0644\\u0627\\u064d\\u0646\\u0652\\u062a\\u062e\\u0627\\u0652\\u0628\\u0627\\u064f\\u062a\\u0651 \\u064f\\u0627\\u064e\\u0644\\u0646\\u064a\\u0627\\u0628\\u064a\\u0650\\u0629 \\u064b\\u0648\\u064e\\u0627\\u0644\\u064b\\u0628\\u0644\\u062f\\u064c\\u064a\\u0629\\u064c \\u0650\\u0627\\u064d\\u0644\\u0645\\u0650\\u0642\\u064e\\u0628\\u0644\\u064c\\u0629\\u064d \\u0628\\u0645\\u062c\\u0645\\u0648\\u064e\\u0639\\u064f\\u0629\\u064c \\u064b\\u0645\\u0631\\u0634\\u062d\\u064a\\u0646 \\u0634\\u0628\\u064e\\u0627\\u0628 .\\u0625\\u064c\\u0644\\u0649 \\u064c\\u0630\\u064e\\u0644\\u0643\\u0652\\u060c \\u064c\\u062c\\u064c\\u062f\\u064b\\u062f \\u0633\\u0643\\u0627\\u0650\\u0646\\u0651 \\u0651\\u0627\\u0644\\u0652\\u0623\\u064c\\u062d\\u064a\\u0650\\u0627\\u064e\\u0621\\u0650 \\u0627\\u0650\\u0644\\u0650\\u0639\\u064d\\u0634\\u0648\\u064f\\u0627\\u0626\\u064e\\u064a\\u064d\\u0629\\u064f \\u064c\\u062a\\u0638\\u0651\\u0627\\u0647\\u0631\\u064c\\u0627\\u062a\\u0647\\u064c\\u0645\\u0650 \\u0627\\u064e\\u0644\\u0652\\u0627\\u062d\\u064d\\u062a\\u062c\\u0651\\u0627\\u062c\\u064b\\u064a\\u064f\\u0629\\u064d \\u0623\\u0645\\u0633 \\u0650\\u0623\\u0651\\u0645\\u064c\\u0627\\u064e\\u0645\\u0650 \\u0627\\u0650\\u0644\\u064b\\u0642\\u064b\\u0635\\u0631 \\u0652\\u0627\\u0644\\u0631\\u0626\\u064e\\u0627\\u0633\\u0652\\u064a\\u0652 \\u0650\\u0628\\u0646\\u0648\\u0627\\u064f\\u0643\\u0651\\u0634\\u0648\\u0637\\u060c \\u0645\\u0651\\u0637\\u0651\\u0627\\u0644\\u0652\\u0628\\u0650\\u064a\\u0646\\u064c \\u0627\\u0652\\u0644\\u064c\\u0631\\u064d\\u0626\\u064d\\u0627\\u064d\\u0633\\u0650\\u0629\\u064b \\u0628\\u0627\\u0644\\u062a\\u062f\\u064b\\u062e\\u0650\\u0644\\u064f \\u0644\\u0645\\u064e\\u0646\\u0639\\u064d \\u0645\\u0650\\u0635\\u064d\\u0627\\u062f\\u0631\\u0629\\u064e \\u0623\\u0631\\u064d\\u0627\\u0636\\u064f\\u064a\\u0647\\u064f\\u0645\\u0652 . \\u0648\\u064a\\u0642\\u064d\\u0648\\u0651\\u0644 \\u0627\\u0652\\u0644\\u0633\\u0643\\u0627\\u064b\\u0646 \\u0645\\u0650\\u0646\\u0652 \\u0651\\u062d\\u064a\\u064c\\u064a\\u064b \\u0627\\u0644\\u064d\\u0641\\u064c\\u0644\\u0648\\u064b\\u062c\\u0629 \\u0648\\u0645\\u0644\\u0652\\u062d \\u062c\\u0646\\u064e\\u0648\\u0628\\u064a\\u0650 \\u064b\\u0634\\u064b\\u0631\\u0650\\u0642\\u0650 \\u0627\\u0652\\u0644\\u0639\\u064c\\u0627\\u0635\\u0645\\u0629 \\u0625\\u064f\\u0646 \\u0627\\u0650\\u0644\\u064b\\u062d\\u0643\\u0651\\u0648\\u0645\\u0629 \\u0651\\u062a\\u0635\\u0627\\u064b\\u062f\\u064c\\u0631 \\u064c\\u0623\\u0631\\u0627\\u0636\\u064a \\u0650\\u064a\\u0645\\u064d\\u0644\\u064c\\u0643\\u0648\\u064f\\u0646\\u0652\\u0647\\u0627 \\u0645\\u0646\\u0630 \\u0639\\u0651\\u0634\\u064e\\u0631\\u0627\\u062a\\u0652 \\u064f\\u0627\\u0644\\u064c\\u0633\\u0646\\u064a\\u0646 \\u0644\\u062a\\u064c\\u0642\\u064d\\u062f\\u064b\\u0645\\u0647\\u0652\\u0627\\u0650 \\u0644\\u064d\\u0645\\u064f\\u0644\\u0627\\u0643 \\u0652\\u062c\\u064f\\u062f\\u062f\\u0650\\u060c \\u064c\\u0641\\u064c\\u064a\\u064f\\u0645\\u064e\\u0627\\u064f \\u0650\\u062a\\u0651\\u0631\\u0650\\u062f\\u064d \\u064c\\u0627\\u0644\\u0633\\u0644\\u0650\\u0637\\u064b\\u0627\\u064c\\u062a \\u0623\\u064d\\u0646\\u0651 \\u064f\\u0647\\u064d\\u0624\\u064e\\u0644\\u0627\\u0621 \\u064b\\u0627\\u0644\\u0633\\u0643\\u0627\\u0652\\u0646\\u064b \\u0627\\u064c\\u0633\\u062a\\u064f\\u0648\\u064b\\u0644\\u0648\\u0651\\u0627 \\u0628\\u0637\\u064c\\u0631\\u064a\\u0642\\u0629\\u064e \\u063a\\u064f\\u064a\\u0631\\u0652 \\u064b\\u0634\\u0631\\u064f\\u0639\\u064a\\u0629\\u064c \\u0639\\u0644\\u0649\\u0651 \\u0623\\u0631\\u0627\\u0636\\u0650 \\u0651\\u0645\\u0645\\u0644\\u0648\\u0643\\u064c\\u0629\\u064e \\u064d\\u0644\\u064c\\u0644\\u062f\\u0648\\u064c\\u0644\\u0629\\u064d .\"\n        ],\n        \"semantic_type\": \"\",\n        \"description\": \"\"\n      }\n    },\n    {\n      \"column\": \"label\",\n      \"properties\": {\n        \"dtype\": \"string\",\n        \"num_unique_values\": 6,\n        \"samples\": [\n          \"Finance\",\n          \"Sports\",\n          \"Religion\"\n        ],\n        \"semantic_type\": \"\",\n        \"description\": \"\"\n      }\n    }\n  ]\n}"
            }
          },
          "metadata": {},
          "execution_count": 230
        }
      ]
    },
    {
      "cell_type": "code",
      "source": [
        "df.info()"
      ],
      "metadata": {
        "colab": {
          "base_uri": "https://localhost:8080/"
        },
        "id": "2Ut6K4qH8XlV",
        "outputId": "4df93586-440d-4e77-ba56-cfc57cd1c367"
      },
      "execution_count": 231,
      "outputs": [
        {
          "output_type": "stream",
          "name": "stdout",
          "text": [
            "<class 'pandas.core.frame.DataFrame'>\n",
            "RangeIndex: 39885 entries, 0 to 39884\n",
            "Data columns (total 2 columns):\n",
            " #   Column  Non-Null Count  Dtype \n",
            "---  ------  --------------  ----- \n",
            " 0   text    39885 non-null  object\n",
            " 1   label   39885 non-null  object\n",
            "dtypes: object(2)\n",
            "memory usage: 623.3+ KB\n"
          ]
        }
      ]
    },
    {
      "cell_type": "code",
      "source": [
        "df.isna().sum()"
      ],
      "metadata": {
        "colab": {
          "base_uri": "https://localhost:8080/",
          "height": 147
        },
        "id": "9BYJTKBV6Tif",
        "outputId": "5927a6e5-a7d7-487f-9b41-c461f9402b5d"
      },
      "execution_count": 232,
      "outputs": [
        {
          "output_type": "execute_result",
          "data": {
            "text/plain": [
              "text     0\n",
              "label    0\n",
              "dtype: int64"
            ],
            "text/html": [
              "<div>\n",
              "<style scoped>\n",
              "    .dataframe tbody tr th:only-of-type {\n",
              "        vertical-align: middle;\n",
              "    }\n",
              "\n",
              "    .dataframe tbody tr th {\n",
              "        vertical-align: top;\n",
              "    }\n",
              "\n",
              "    .dataframe thead th {\n",
              "        text-align: right;\n",
              "    }\n",
              "</style>\n",
              "<table border=\"1\" class=\"dataframe\">\n",
              "  <thead>\n",
              "    <tr style=\"text-align: right;\">\n",
              "      <th></th>\n",
              "      <th>0</th>\n",
              "    </tr>\n",
              "  </thead>\n",
              "  <tbody>\n",
              "    <tr>\n",
              "      <th>text</th>\n",
              "      <td>0</td>\n",
              "    </tr>\n",
              "    <tr>\n",
              "      <th>label</th>\n",
              "      <td>0</td>\n",
              "    </tr>\n",
              "  </tbody>\n",
              "</table>\n",
              "</div><br><label><b>dtype:</b> int64</label>"
            ]
          },
          "metadata": {},
          "execution_count": 232
        }
      ]
    },
    {
      "cell_type": "code",
      "source": [
        "df.duplicated().sum()"
      ],
      "metadata": {
        "colab": {
          "base_uri": "https://localhost:8080/"
        },
        "id": "HKUNd-SI6Wiz",
        "outputId": "cd374bce-3e8a-4c12-d723-97b14d4d1187"
      },
      "execution_count": 233,
      "outputs": [
        {
          "output_type": "execute_result",
          "data": {
            "text/plain": [
              "0"
            ]
          },
          "metadata": {},
          "execution_count": 233
        }
      ]
    },
    {
      "cell_type": "code",
      "source": [
        "df.label.value_counts()"
      ],
      "metadata": {
        "colab": {
          "base_uri": "https://localhost:8080/",
          "height": 335
        },
        "id": "3oon9qCH6ZeV",
        "outputId": "ecf0b08f-51bf-43ad-fbbd-0e81c93a369b"
      },
      "execution_count": 234,
      "outputs": [
        {
          "output_type": "execute_result",
          "data": {
            "text/plain": [
              "label\n",
              "Politics    6334\n",
              "Medical     6292\n",
              "Culture     6098\n",
              "Finance     6095\n",
              "Tech        5979\n",
              "Sports      5859\n",
              "Religion    3228\n",
              "Name: count, dtype: int64"
            ],
            "text/html": [
              "<div>\n",
              "<style scoped>\n",
              "    .dataframe tbody tr th:only-of-type {\n",
              "        vertical-align: middle;\n",
              "    }\n",
              "\n",
              "    .dataframe tbody tr th {\n",
              "        vertical-align: top;\n",
              "    }\n",
              "\n",
              "    .dataframe thead th {\n",
              "        text-align: right;\n",
              "    }\n",
              "</style>\n",
              "<table border=\"1\" class=\"dataframe\">\n",
              "  <thead>\n",
              "    <tr style=\"text-align: right;\">\n",
              "      <th></th>\n",
              "      <th>count</th>\n",
              "    </tr>\n",
              "    <tr>\n",
              "      <th>label</th>\n",
              "      <th></th>\n",
              "    </tr>\n",
              "  </thead>\n",
              "  <tbody>\n",
              "    <tr>\n",
              "      <th>Politics</th>\n",
              "      <td>6334</td>\n",
              "    </tr>\n",
              "    <tr>\n",
              "      <th>Medical</th>\n",
              "      <td>6292</td>\n",
              "    </tr>\n",
              "    <tr>\n",
              "      <th>Culture</th>\n",
              "      <td>6098</td>\n",
              "    </tr>\n",
              "    <tr>\n",
              "      <th>Finance</th>\n",
              "      <td>6095</td>\n",
              "    </tr>\n",
              "    <tr>\n",
              "      <th>Tech</th>\n",
              "      <td>5979</td>\n",
              "    </tr>\n",
              "    <tr>\n",
              "      <th>Sports</th>\n",
              "      <td>5859</td>\n",
              "    </tr>\n",
              "    <tr>\n",
              "      <th>Religion</th>\n",
              "      <td>3228</td>\n",
              "    </tr>\n",
              "  </tbody>\n",
              "</table>\n",
              "</div><br><label><b>dtype:</b> int64</label>"
            ]
          },
          "metadata": {},
          "execution_count": 234
        }
      ]
    },
    {
      "cell_type": "code",
      "source": [
        "import seaborn as sns\n",
        "sns.barplot(df[\"label\"])"
      ],
      "metadata": {
        "colab": {
          "base_uri": "https://localhost:8080/",
          "height": 448
        },
        "id": "Pxa9-xNR6fR7",
        "outputId": "3e1eaed2-d9cc-4c8d-afcf-8a3ba364236a"
      },
      "execution_count": 235,
      "outputs": [
        {
          "output_type": "execute_result",
          "data": {
            "text/plain": [
              "<Axes: ylabel='label'>"
            ]
          },
          "metadata": {},
          "execution_count": 235
        },
        {
          "output_type": "display_data",
          "data": {
            "text/plain": [
              "<Figure size 640x480 with 1 Axes>"
            ],
            "image/png": "[encoded data removed]"
          },
          "metadata": {}
        }
      ]
    },
    {
      "cell_type": "code",
      "source": [
        "df['length'] = df['text'].str.len()"
      ],
      "metadata": {
        "id": "W4KmsIRP7BEs"
      },
      "execution_count": 236,
      "outputs": []
    },
    {
      "cell_type": "code",
      "source": [
        "df.length.describe()"
      ],
      "metadata": {
        "colab": {
          "base_uri": "https://localhost:8080/",
          "height": 335
        },
        "id": "kRPvJIrg7JTE",
        "outputId": "abc3e5af-8a53-4089-89c0-46e8947f15ed"
      },
      "execution_count": 237,
      "outputs": [
        {
          "output_type": "execute_result",
          "data": {
            "text/plain": [
              "count    39885.000000\n",
              "mean      2431.978538\n",
              "std       1499.160479\n",
              "min        176.000000\n",
              "25%       1226.000000\n",
              "50%       2064.000000\n",
              "75%       3404.000000\n",
              "max       7624.000000\n",
              "Name: length, dtype: float64"
            ],
            "text/html": [
              "<div>\n",
              "<style scoped>\n",
              "    .dataframe tbody tr th:only-of-type {\n",
              "        vertical-align: middle;\n",
              "    }\n",
              "\n",
              "    .dataframe tbody tr th {\n",
              "        vertical-align: top;\n",
              "    }\n",
              "\n",
              "    .dataframe thead th {\n",
              "        text-align: right;\n",
              "    }\n",
              "</style>\n",
              "<table border=\"1\" class=\"dataframe\">\n",
              "  <thead>\n",
              "    <tr style=\"text-align: right;\">\n",
              "      <th></th>\n",
              "      <th>length</th>\n",
              "    </tr>\n",
              "  </thead>\n",
              "  <tbody>\n",
              "    <tr>\n",
              "      <th>count</th>\n",
              "      <td>39885.000000</td>\n",
              "    </tr>\n",
              "    <tr>\n",
              "      <th>mean</th>\n",
              "      <td>2431.978538</td>\n",
              "    </tr>\n",
              "    <tr>\n",
              "      <th>std</th>\n",
              "      <td>1499.160479</td>\n",
              "    </tr>\n",
              "    <tr>\n",
              "      <th>min</th>\n",
              "      <td>176.000000</td>\n",
              "    </tr>\n",
              "    <tr>\n",
              "      <th>25%</th>\n",
              "      <td>1226.000000</td>\n",
              "    </tr>\n",
              "    <tr>\n",
              "      <th>50%</th>\n",
              "      <td>2064.000000</td>\n",
              "    </tr>\n",
              "    <tr>\n",
              "      <th>75%</th>\n",
              "      <td>3404.000000</td>\n",
              "    </tr>\n",
              "    <tr>\n",
              "      <th>max</th>\n",
              "      <td>7624.000000</td>\n",
              "    </tr>\n",
              "  </tbody>\n",
              "</table>\n",
              "</div><br><label><b>dtype:</b> float64</label>"
            ]
          },
          "metadata": {},
          "execution_count": 237
        }
      ]
    },
    {
      "cell_type": "code",
      "source": [
        "df.length.plot(kind='hist')"
      ],
      "metadata": {
        "colab": {
          "base_uri": "https://localhost:8080/",
          "height": 448
        },
        "id": "eO2EheWu7TZf",
        "outputId": "c84a4ab1-6fc2-413a-90c0-8aecdde0819d"
      },
      "execution_count": 238,
      "outputs": [
        {
          "output_type": "execute_result",
          "data": {
            "text/plain": [
              "<Axes: ylabel='Frequency'>"
            ]
          },
          "metadata": {},
          "execution_count": 238
        },
        {
          "output_type": "display_data",
          "data": {
            "text/plain": [
              "<Figure size 640x480 with 1 Axes>"
            ],
            "image/png": "[encoded data removed]"
          },
          "metadata": {}
        }
      ]
    },
    {
      "cell_type": "code",
      "source": [
        "df.length.plot(kind='box')"
      ],
      "metadata": {
        "colab": {
          "base_uri": "https://localhost:8080/",
          "height": 448
        },
        "id": "wG9IjOkh7b4l",
        "outputId": "8fcf754c-17b5-45ae-f5a7-b15bd383ff30"
      },
      "execution_count": 239,
      "outputs": [
        {
          "output_type": "execute_result",
          "data": {
            "text/plain": [
              "<Axes: >"
            ]
          },
          "metadata": {},
          "execution_count": 239
        },
        {
          "output_type": "display_data",
          "data": {
            "text/plain": [
              "<Figure size 640x480 with 1 Axes>"
            ],
            "image/png": "[encoded data removed]"
          },
          "metadata": {}
        }
      ]
    },
    {
      "cell_type": "code",
      "source": [
        "min_length = 200\n",
        "max_length = 4000"
      ],
      "metadata": {
        "id": "V6r7ZDFn7Yqw"
      },
      "execution_count": 240,
      "outputs": []
    },
    {
      "cell_type": "code",
      "source": [
        "df[df.length >= max_length]"
      ],
      "metadata": {
        "colab": {
          "base_uri": "https://localhost:8080/",
          "height": 424
        },
        "id": "XoxmpxPk7jXe",
        "outputId": "88d9fb4c-bca6-4ca2-a3da-71a1a047cf46"
      },
      "execution_count": 241,
      "outputs": [
        {
          "output_type": "execute_result",
          "data": {
            "text/plain": [
              "                                                    text    label  length\n",
              "0      https://example.com/resource/الشاٌرقة -ْ محمِد...  Culture    5922\n",
              "5      https://example.com/resource/تتّنٌاّول َاِلِرو...  Culture    5077\n",
              "9      https://example.com/resource/يختتم فيً تٌمامٌ ...  Culture    4225\n",
              "12     https://example.com/resource/اٌلشارٍقة:ٍ «ْالٌ...  Culture    4903\n",
              "17     https://example.com/resource/أٍكد ِحبَيب ّيوسْ...  Culture    4293\n",
              "...                                                  ...      ...     ...\n",
              "39856  https://example.com/resource/أطًلقتِ ِالَنيابُ...     Tech    5480\n",
              "39861  https://example.com/resource/زٍاَرً سّمُوّ ٍال...     Tech    4516\n",
              "39863  https://example.com/resource/دٌبّي - \"الَخِلْي...     Tech    5625\n",
              "39877  https://example.com/resource/أعلٌنت ٌسٌاُمٌسون...     Tech    6184\n",
              "39879  https://example.com/resource/افًتِتُحتٌ إمبِوس...     Tech    5775\n",
              "\n",
              "[6907 rows x 3 columns]"
            ],
            "text/html": [
              "\n",
              "  <div id=\"df-77472f8f-57aa-4a8b-ae35-aa83bde34fe7\" class=\"colab-df-container\">\n",
              "    <div>\n",
              "<style scoped>\n",
              "    .dataframe tbody tr th:only-of-type {\n",
              "        vertical-align: middle;\n",
              "    }\n",
              "\n",
              "    .dataframe tbody tr th {\n",
              "        vertical-align: top;\n",
              "    }\n",
              "\n",
              "    .dataframe thead th {\n",
              "        text-align: right;\n",
              "    }\n",
              "</style>\n",
              "<table border=\"1\" class=\"dataframe\">\n",
              "  <thead>\n",
              "    <tr style=\"text-align: right;\">\n",
              "      <th></th>\n",
              "      <th>text</th>\n",
              "      <th>label</th>\n",
              "      <th>length</th>\n",
              "    </tr>\n",
              "  </thead>\n",
              "  <tbody>\n",
              "    <tr>\n",
              "      <th>0</th>\n",
              "      <td>https://example.com/resource/الشاٌرقة -ْ محمِد...</td>\n",
              "      <td>Culture</td>\n",
              "      <td>5922</td>\n",
              "    </tr>\n",
              "    <tr>\n",
              "      <th>5</th>\n",
              "      <td>https://example.com/resource/تتّنٌاّول َاِلِرو...</td>\n",
              "      <td>Culture</td>\n",
              "      <td>5077</td>\n",
              "    </tr>\n",
              "    <tr>\n",
              "      <th>9</th>\n",
              "      <td>https://example.com/resource/يختتم فيً تٌمامٌ ...</td>\n",
              "      <td>Culture</td>\n",
              "      <td>4225</td>\n",
              "    </tr>\n",
              "    <tr>\n",
              "      <th>12</th>\n",
              "      <td>https://example.com/resource/اٌلشارٍقة:ٍ «ْالٌ...</td>\n",
              "      <td>Culture</td>\n",
              "      <td>4903</td>\n",
              "    </tr>\n",
              "    <tr>\n",
              "      <th>17</th>\n",
              "      <td>https://example.com/resource/أٍكد ِحبَيب ّيوسْ...</td>\n",
              "      <td>Culture</td>\n",
              "      <td>4293</td>\n",
              "    </tr>\n",
              "    <tr>\n",
              "      <th>...</th>\n",
              "      <td>...</td>\n",
              "      <td>...</td>\n",
              "      <td>...</td>\n",
              "    </tr>\n",
              "    <tr>\n",
              "      <th>39856</th>\n",
              "      <td>https://example.com/resource/أطًلقتِ ِالَنيابُ...</td>\n",
              "      <td>Tech</td>\n",
              "      <td>5480</td>\n",
              "    </tr>\n",
              "    <tr>\n",
              "      <th>39861</th>\n",
              "      <td>https://example.com/resource/زٍاَرً سّمُوّ ٍال...</td>\n",
              "      <td>Tech</td>\n",
              "      <td>4516</td>\n",
              "    </tr>\n",
              "    <tr>\n",
              "      <th>39863</th>\n",
              "      <td>https://example.com/resource/دٌبّي - \"الَخِلْي...</td>\n",
              "      <td>Tech</td>\n",
              "      <td>5625</td>\n",
              "    </tr>\n",
              "    <tr>\n",
              "      <th>39877</th>\n",
              "      <td>https://example.com/resource/أعلٌنت ٌسٌاُمٌسون...</td>\n",
              "      <td>Tech</td>\n",
              "      <td>6184</td>\n",
              "    </tr>\n",
              "    <tr>\n",
              "      <th>39879</th>\n",
              "      <td>https://example.com/resource/افًتِتُحتٌ إمبِوس...</td>\n",
              "      <td>Tech</td>\n",
              "      <td>5775</td>\n",
              "    </tr>\n",
              "  </tbody>\n",
              "</table>\n",
              "<p>6907 rows × 3 columns</p>\n",
              "</div>\n",
              "    <div class=\"colab-df-buttons\">\n",
              "\n",
              "  <div class=\"colab-df-container\">\n",
              "    <button class=\"colab-df-convert\" onclick=\"convertToInteractive('df-77472f8f-57aa-4a8b-ae35-aa83bde34fe7')\"\n",
              "            title=\"Convert this dataframe to an interactive table.\"\n",
              "            style=\"display:none;\">\n",
              "\n",
              "  <svg xmlns=\"http://www.w3.org/2000/svg\" height=\"24px\" viewBox=\"0 -960 960 960\">\n",
              "    <path d=\"M120-120v-720h720v720H120Zm60-500h600v-160H180v160Zm220 220h160v-160H400v160Zm0 220h160v-160H400v160ZM180-400h160v-160H180v160Zm440 0h160v-160H620v160ZM180-180h160v-160H180v160Zm440 0h160v-160H620v160Z\"/>\n",
              "  </svg>\n",
              "    </button>\n",
              "\n",
              "  <style>\n",
              "    .colab-df-container {\n",
              "      display:flex;\n",
              "      gap: 12px;\n",
              "    }\n",
              "\n",
              "    .colab-df-convert {\n",
              "      background-color: #E8F0FE;\n",
              "      border: none;\n",
              "      border-radius: 50%;\n",
              "      cursor: pointer;\n",
              "      display: none;\n",
              "      fill: #1967D2;\n",
              "      height: 32px;\n",
              "      padding: 0 0 0 0;\n",
              "      width: 32px;\n",
              "    }\n",
              "\n",
              "    .colab-df-convert:hover {\n",
              "      background-color: #E2EBFA;\n",
              "      box-shadow: 0px 1px 2px rgba(60, 64, 67, 0.3), 0px 1px 3px 1px rgba(60, 64, 67, 0.15);\n",
              "      fill: #174EA6;\n",
              "    }\n",
              "\n",
              "    .colab-df-buttons div {\n",
              "      margin-bottom: 4px;\n",
              "    }\n",
              "\n",
              "    [theme=dark] .colab-df-convert {\n",
              "      background-color: #3B4455;\n",
              "      fill: #D2E3FC;\n",
              "    }\n",
              "\n",
              "    [theme=dark] .colab-df-convert:hover {\n",
              "      background-color: #434B5C;\n",
              "      box-shadow: 0px 1px 3px 1px rgba(0, 0, 0, 0.15);\n",
              "      filter: drop-shadow(0px 1px 2px rgba(0, 0, 0, 0.3));\n",
              "      fill: #FFFFFF;\n",
              "    }\n",
              "  </style>\n",
              "\n",
              "    <script>\n",
              "      const buttonEl =\n",
              "        document.querySelector('#df-77472f8f-57aa-4a8b-ae35-aa83bde34fe7 button.colab-df-convert');\n",
              "      buttonEl.style.display =\n",
              "        google.colab.kernel.accessAllowed ? 'block' : 'none';\n",
              "\n",
              "      async function convertToInteractive(key) {\n",
              "        const element = document.querySelector('#df-77472f8f-57aa-4a8b-ae35-aa83bde34fe7');\n",
              "        const dataTable =\n",
              "          await google.colab.kernel.invokeFunction('convertToInteractive',\n",
              "                                                    [key], {});\n",
              "        if (!dataTable) return;\n",
              "\n",
              "        const docLinkHtml = 'Like what you see? Visit the ' +\n",
              "          '<a target=\"_blank\" href=https://colab.research.google.com/notebooks/data_table.ipynb>data table notebook</a>'\n",
              "          + ' to learn more about interactive tables.';\n",
              "        element.innerHTML = '';\n",
              "        dataTable['output_type'] = 'display_data';\n",
              "        await google.colab.output.renderOutput(dataTable, element);\n",
              "        const docLink = document.createElement('div');\n",
              "        docLink.innerHTML = docLinkHtml;\n",
              "        element.appendChild(docLink);\n",
              "      }\n",
              "    </script>\n",
              "  </div>\n",
              "\n",
              "\n",
              "<div id=\"df-e5bc826e-9005-4e44-8ec4-c53edb9847de\">\n",
              "  <button class=\"colab-df-quickchart\" onclick=\"quickchart('df-e5bc826e-9005-4e44-8ec4-c53edb9847de')\"\n",
              "            title=\"Suggest charts\"\n",
              "            style=\"display:none;\">\n",
              "\n",
              "<svg xmlns=\"http://www.w3.org/2000/svg\" height=\"24px\"viewBox=\"0 0 24 24\"\n",
              "     width=\"24px\">\n",
              "    <g>\n",
              "        <path d=\"M19 3H5c-1.1 0-2 .9-2 2v14c0 1.1.9 2 2 2h14c1.1 0 2-.9 2-2V5c0-1.1-.9-2-2-2zM9 17H7v-7h2v7zm4 0h-2V7h2v10zm4 0h-2v-4h2v4z\"/>\n",
              "    </g>\n",
              "</svg>\n",
              "  </button>\n",
              "\n",
              "<style>\n",
              "  .colab-df-quickchart {\n",
              "      --bg-color: #E8F0FE;\n",
              "      --fill-color: #1967D2;\n",
              "      --hover-bg-color: #E2EBFA;\n",
              "      --hover-fill-color: #174EA6;\n",
              "      --disabled-fill-color: #AAA;\n",
              "      --disabled-bg-color: #DDD;\n",
              "  }\n",
              "\n",
              "  [theme=dark] .colab-df-quickchart {\n",
              "      --bg-color: #3B4455;\n",
              "      --fill-color: #D2E3FC;\n",
              "      --hover-bg-color: #434B5C;\n",
              "      --hover-fill-color: #FFFFFF;\n",
              "      --disabled-bg-color: #3B4455;\n",
              "      --disabled-fill-color: #666;\n",
              "  }\n",
              "\n",
              "  .colab-df-quickchart {\n",
              "    background-color: var(--bg-color);\n",
              "    border: none;\n",
              "    border-radius: 50%;\n",
              "    cursor: pointer;\n",
              "    display: none;\n",
              "    fill: var(--fill-color);\n",
              "    height: 32px;\n",
              "    padding: 0;\n",
              "    width: 32px;\n",
              "  }\n",
              "\n",
              "  .colab-df-quickchart:hover {\n",
              "    background-color: var(--hover-bg-color);\n",
              "    box-shadow: 0 1px 2px rgba(60, 64, 67, 0.3), 0 1px 3px 1px rgba(60, 64, 67, 0.15);\n",
              "    fill: var(--button-hover-fill-color);\n",
              "  }\n",
              "\n",
              "  .colab-df-quickchart-complete:disabled,\n",
              "  .colab-df-quickchart-complete:disabled:hover {\n",
              "    background-color: var(--disabled-bg-color);\n",
              "    fill: var(--disabled-fill-color);\n",
              "    box-shadow: none;\n",
              "  }\n",
              "\n",
              "  .colab-df-spinner {\n",
              "    border: 2px solid var(--fill-color);\n",
              "    border-color: transparent;\n",
              "    border-bottom-color: var(--fill-color);\n",
              "    animation:\n",
              "      spin 1s steps(1) infinite;\n",
              "  }\n",
              "\n",
              "  @keyframes spin {\n",
              "    0% {\n",
              "      border-color: transparent;\n",
              "      border-bottom-color: var(--fill-color);\n",
              "      border-left-color: var(--fill-color);\n",
              "    }\n",
              "    20% {\n",
              "      border-color: transparent;\n",
              "      border-left-color: var(--fill-color);\n",
              "      border-top-color: var(--fill-color);\n",
              "    }\n",
              "    30% {\n",
              "      border-color: transparent;\n",
              "      border-left-color: var(--fill-color);\n",
              "      border-top-color: var(--fill-color);\n",
              "      border-right-color: var(--fill-color);\n",
              "    }\n",
              "    40% {\n",
              "      border-color: transparent;\n",
              "      border-right-color: var(--fill-color);\n",
              "      border-top-color: var(--fill-color);\n",
              "    }\n",
              "    60% {\n",
              "      border-color: transparent;\n",
              "      border-right-color: var(--fill-color);\n",
              "    }\n",
              "    80% {\n",
              "      border-color: transparent;\n",
              "      border-right-color: var(--fill-color);\n",
              "      border-bottom-color: var(--fill-color);\n",
              "    }\n",
              "    90% {\n",
              "      border-color: transparent;\n",
              "      border-bottom-color: var(--fill-color);\n",
              "    }\n",
              "  }\n",
              "</style>\n",
              "\n",
              "  <script>\n",
              "    async function quickchart(key) {\n",
              "      const quickchartButtonEl =\n",
              "        document.querySelector('#' + key + ' button');\n",
              "      quickchartButtonEl.disabled = true;  // To prevent multiple clicks.\n",
              "      quickchartButtonEl.classList.add('colab-df-spinner');\n",
              "      try {\n",
              "        const charts = await google.colab.kernel.invokeFunction(\n",
              "            'suggestCharts', [key], {});\n",
              "      } catch (error) {\n",
              "        console.error('Error during call to suggestCharts:', error);\n",
              "      }\n",
              "      quickchartButtonEl.classList.remove('colab-df-spinner');\n",
              "      quickchartButtonEl.classList.add('colab-df-quickchart-complete');\n",
              "    }\n",
              "    (() => {\n",
              "      let quickchartButtonEl =\n",
              "        document.querySelector('#df-e5bc826e-9005-4e44-8ec4-c53edb9847de button');\n",
              "      quickchartButtonEl.style.display =\n",
              "        google.colab.kernel.accessAllowed ? 'block' : 'none';\n",
              "    })();\n",
              "  </script>\n",
              "</div>\n",
              "\n",
              "    </div>\n",
              "  </div>\n"
            ],
            "application/vnd.google.colaboratory.intrinsic+json": {
              "type": "dataframe",
              "summary": "{\n  \"name\": \"df[df\",\n  \"rows\": 6907,\n  \"fields\": [\n    {\n      \"column\": \"text\",\n      \"properties\": {\n        \"dtype\": \"string\",\n        \"num_unique_values\": 6907,\n        \"samples\": [\n          \"https://example.com/resource/\\u062f\\u0652\\u0628\\u064a: \\u0625\\u064a\\u0652\\u0645\\u0652\\u0627\\u0646\\u064e \\u0639\\u0628\\u062f\\u0651\\u0627\\u0644\\u0644\\u0647 \\u064b\\u0622\\u0652\\u0644\\u064d \\u064b\\u0639\\u064d\\u0644\\u0651\\u064a \\u0650\\u0643\\u064d\\u0634\\u0641\\u062a \\u0627\\u064c\\u0644\\u064c\\u062f\\u0651\\u0643\\u062a\\u064f\\u0648\\u0631\\u0629 \\u0645\\u0652\\u0646\\u064d\\u0649 \\u062a\\u0647\\u0644\\u064e\\u0643\\u060c\\u0652 \\u0627\\u064f\\u0644\\u0650\\u0645\\u064b\\u062f\\u064c\\u064a\\u064d\\u0631\\u064e \\u064c\\u0627\\u0644\\u062a\\u0646\\u0641\\u0650\\u064a\\u064f\\u0630\\u064a \\u064d\\u0644\\u064f\\u0645\\u0633\\u0650\\u062a\\u064f\\u0634\\u0652\\u0641\\u0649\\u064e \\u0644\\u064b\\u0637\\u0651\\u064a\\u064f\\u0641\\u0652\\u0629\\u060c \\u0639\\u0652\\u0646\\u064b \\u0645\\u0628\\u0627\\u064f\\u062f\\u064d\\u0631\\u064d\\u0629\\u0652 \\u062c\\u0652\\u062f\\u064c\\u064a\\u064c\\u062f\\u064f\\u0629 \\u0651\\u0623\\u0637\\u0652\\u0644\\u0651\\u0642\\u064d\\u0647\\u0627 \\u0627\\u0644\\u064f\\u0645\\u064c\\u0633\\u062a\\u0652\\u0634\\u064f\\u0641\\u0649\\u0651 \\u0644\\u0645\\u0631\\u064e\\u0636\\u0649 \\u064c\\u0627\\u0644\\u0625\\u0642\\u0627\\u0652\\u0645\\u0629\\u064f \\u0651\\u0627\\u0644\\u0652\\u0637\\u0652\\u0648\\u0652\\u064a\\u0644\\u0629\\u0651 \\u0651\\u0644\\u064b\\u0623\\u0650\\u0648\\u0650\\u0644\\u0650 \\u064e\\u0645\\u064c\\u0631\\u0629 \\u064e\\u0639\\u064b\\u0644\\u0649\\u064c \\u0645\\u0652\\u0633\\u062a\\u0652\\u0648\\u0650\\u0649 \\u064c\\u0647\\u064a\\u064b\\u0626\\u0629 \\u064e\\u0627\\u0644\\u0651\\u0635\\u064c\\u062d\\u064e\\u0629 \\u064c\\u0641\\u064d\\u064a \\u062f\\u064d\\u0628\\u064a\\u0651\\u060c\\u064b \\u062a\\u064c\\u062a\\u064c\\u0645\\u064c\\u062b\\u0644 \\u0641\\u064c\\u064a\\u064c \\u0651\\u062a\\u0646\\u064d\\u0638\\u064a\\u064c\\u0645 \\u0632\\u064a\\u0650\\u0627\\u0631\\u0627\\u062a \\u064e\\u0645\\u0633\\u0650\\u062a\\u0650\\u0645\\u0631\\u064b\\u0629 \\u0644\\u0645\\u0652\\u0646\\u0627\\u064d\\u0632\\u0644\\u064c \\u064d\\u0645\\u0631\\u0636\\u0649 \\u0651\\u0637\\u064d\\u0648\\u064a\\u0644\\u064a\\u0651 \\u064b\\u0627\\u0644\\u064f\\u0625\\u0650\\u0642\\u0627\\u0645\\u0629\\u064e \\u0650\\u0627\\u0650\\u0644\\u0651\\u0645\\u064b\\u0639\\u062a\\u0645\\u062f\\u0651\\u064a\\u0646\\u0650 \\u0639\\u0644\\u064b\\u0649 \\u064e\\u0627\\u064f\\u0644\\u0623\\u062c\\u0647\\u0632\\u064e\\u0629 \\u0651\\u0628\\u0639\\u064f\\u062f\\u064f \\u062e\\u064c\\u0631\\u0648\\u064b\\u062c\\u064c\\u0647\\u0645\\u064c \\u064f\\u0645\\u064e\\u0646\\u0651 \\u064b\\u0627\\u0651\\u0644\\u0652\\u0645\\u064c\\u0633\\u062a\\u064b\\u0634\\u0641\\u0649\\u0651\\u060c\\u064d \\u0650\\u0639\\u064e\\u0644\\u0649 \\u0650\\u0623\\u0646\\u064b \\u064c\\u062a\\u062a\\u0645\\u064e \\u064f\\u0632\\u064a\\u0627\\u0651\\u0631\\u0651\\u062a\\u064d\\u0647\\u0645\\u064d \\u064d\\u0641\\u064d\\u064a\\u064e \\u0627\\u0652\\u0644\\u064f\\u0623\\u0633\\u0628\\u064f\\u0648\\u0639\\u0651 \\u0627\\u0644\\u0651\\u0623\\u0650\\u0648\\u0644\\u064d \\u0645\\u0646 \\u0645\\u063a\\u0652\\u0627\\u064d\\u062f\\u0652\\u0631\\u0652\\u0629\\u0650 \\u0652\\u0627\\u064d\\u0644\\u064e\\u0645\\u0633\\u064c\\u062a\\u064f\\u0634\\u064e\\u0641\\u0649\\u0651 \\u064e\\u0628\\u0634\\u0643\\u0650\\u0644 \\u0652\\u064a\\u0648\\u064b\\u0645\\u0651\\u064a\\u0652\\u060c \\u0648\\u0652\\u0641\\u064e\\u064a\\u064f \\u064d\\u0627\\u0644\\u0623\\u0633\\u0628\\u0648\\u0639 \\u064d\\u0627\\u0644\\u0650\\u062b\\u0652\\u0627\\u064d\\u0646\\u064a\\u0652 3 \\u064e\\u0645\\u0631\\u0627\\u0652\\u062a\\u064d\\u060c\\u064c \\u0648\\u0652\\u062a\\u0650\\u0627\\u064b\\u0644\\u0650\\u064a\\u064b\\u0627\\u064b \\u0645\\u0650\\u0631\\u0629 \\u0641\\u064e\\u064a\\u064d \\u0627\\u0644\\u0652\\u0623\\u0633\\u0628\\u064d\\u0648\\u064b\\u0639\\u064c.\\u064f \\u0650\\u0648\\u064f\\u0623\\u0643\\u064d\\u062f\\u062a \\u0651\\u062a\\u0647\\u0644\\u0643 \\u0623\\u064e\\u0646 \\u0639\\u062f\\u062f \\u0645\\u064e\\u0631\\u0650\\u0636\\u0650\\u0649 \\u0627\\u0650\\u0644\\u0625\\u064f\\u0642\\u0627\\u0645\\u0629 \\u064e\\u0627\\u0644\\u064c\\u0637\\u0648\\u0651\\u064a\\u064d\\u0644\\u0650\\u0629\\u0652 \\u0641\\u064a \\u0650\\u0644\\u064c\\u0637\\u064a\\u0641\\u064e\\u0629 \\u064c\\u0648\\u0635\\u064d\\u0644 \\u064d\\u062d\\u064f\\u062a\\u064c\\u0649\\u064e \\u0627\\u0644\\u064a\\u064c\\u0648\\u0645\\u064c \\u0650\\u0625\\u064d\\u0644\\u0649 15 \\u064d\\u0645\\u064f\\u0631\\u064a\\u0636\\u0627\\u064c\\u064b\\u060c\\u0650 \\u0648\\u0648\\u0635\\u064b\\u0644\\u062a \\u0645\\u064f\\u062f\\u064e\\u0629\\u064d \\u0627\\u0644\\u0625\\u064e\\u0642\\u0627\\u0645\\u0629\\u064e \\u0625\\u064f\\u0644\\u064d\\u0649 \\u064b221\\u065190 \\u064b\\u064a\\u0650\\u0648\\u0645\\u0627\\u064f\\u064b\\u060c \\u0648\\u0628\\u064d\\u0644\\u0651\\u063a\\u0652\\u062a \\u064b\\u0627\\u0644\\u062a\\u0643\\u0644\\u0641\\u0629 \\u0627\\u0651\\u0644\\u0625\\u062c\\u064b\\u0645\\u0650\\u0627\\u0644\\u0652\\u064a\\u0629\\u0651 \\u06526\\u064d2\\u0652 \\u0645\\u064f\\u0644\\u064c\\u064a\\u0648\\u0646\\u0651\\u0627\\u064b \\u0648722 \\u064d\\u0623\\u0644\\u0641\\u064f\\u0627\\u064e\\u064b\\u0651\\u060c\\u0650 \\u0652\\u0648\\u0650\\u0628\\u064a\\u0646\\u064d\\u0647\\u0650\\u0645 6 \\u0650\\u0645\\u064f\\u0648\\u064b\\u0627\\u0637\\u064e\\u0646\\u064a\\u0646 \\u0651\\u0641\\u0642\\u0637\\u060c \\u0648\\u0648\\u0635\\u0644\\u062a\\u0650 \\u0645\\u064b\\u062f\\u0652\\u0629 \\u0625\\u0642\\u0627\\u0652\\u0645\\u064f\\u062a\\u0647\\u0645\\u064b 1\\u064f75\\u064d9\\u064e1 \\u064a\\u0650\\u0648\\u0645\\u0650\\u0627\\u064b\\u064b \\u064c\\u0645\\u0642\\u0627\\u064f\\u0628\\u0644 \\u065049\\u0651 \\u0645\\u064c\\u0644\\u064e\\u064a\\u0648\\u0646 \\u064f\\u062f\\u0631\\u0647\\u0645\\u064d\\u060c \\u0623\\u064e\\u0645\\u064c\\u0627 \\u0627\\u0644\\u0651\\u0648\\u0627\\u0650\\u0641\\u062f\\u0648\\u064e\\u0646 \\u0641\\u0648\\u0635\\u0644\\u0651 \\u0639\\u064c\\u062f\\u062f\\u064d\\u0647\\u0645\\u064f \\u0651\\u0625\\u0644\\u0649\\u0651 \\u064e9\\u064e \\u064b\\u0645\\u064e\\u0631\\u064b\\u0636\\u0649\\u060c\\u064c \\u0648\\u0645\\u0650\\u062f\\u0650\\u0629\\u064f \\u0652\\u0625\\u0642\\u0627\\u0645\\u064e\\u062a\\u0647\\u0645 \\u0648\\u0652\\u0635\\u064e\\u0644\\u064e\\u062a \\u064b\\u0625\\u064c\\u0644\\u064b\\u0649\\u064c \\u064d4599\\u064b \\u064c\\u064a\\u064d\\u0648\\u0645\\u0627\\u0652\\u064b\\u060c \\u064d\\u0648\\u0628\\u064f\\u062a\\u0643\\u064c\\u0644\\u064c\\u0641\\u064b\\u0629 \\u062a\\u0652\\u0635\\u0650\\u0644\\u064d 13\\u0645\\u0644\\u064a\\u0652\\u0648\\u0652\\u0646\\u0627\\u064d\\u064b \\u064d\\u06486\\u065287 \\u0623\\u0644\\u064c\\u0641\\u0652\\u0627\\u064b\\u064c. \\u064c\\u0642\\u064d\\u0627\\u0644\\u0652\\u062a \\u062a\\u0647\\u0644\\u0643 \\u0650\\u0625\\u064d\\u0646\\u0650 \\u0625\\u062f\\u0627\\u064d\\u0631\\u0629 \\u064f\\u062d\\u0627\\u064c\\u0644\\u0652\\u0627\\u062a\\u0650 \\u0627\\u0644\\u0645\\u0631\\u0650\\u0636\\u0651\\u0649\\u064d \\u0651\\u0641\\u064a \\u0651\\u0627\\u064f\\u0644\\u064c\\u0645\\u064d\\u0633\\u062a\\u0634\\u0650\\u0641\\u064f\\u0649\\u0652\\u060c\\u064b \\u062a\\u0652\\u0645\\u0643\\u0650\\u0646\\u062a \\u0645\\u0646 \\u0625\\u062e\\u0631\\u0627\\u062c\\u064d \\u064c\\u0645\\u0631\\u064a\\u0652\\u0636\\u0629 \\u0652\\u0628\\u0627\\u0652\\u0643\\u0650\\u0633\\u062a\\u0627\\u0650\\u0646\\u064b\\u064a\\u064e\\u0629\\u064c \\u0651\\u0645\\u064d\\u0643\\u062b\\u064d\\u062a\\u0652 \\u0651\\u0633\\u0650\\u062a\\u0652 \\u0633\\u0646\\u0648\\u064e\\u0627\\u064e\\u062a\\u064d \\u0650\\u0641\\u0651\\u064a \\u0627\\u0651\\u0644\\u0645\\u064b\\u0633\\u062a\\u064b\\u0634\\u0650\\u0641\\u064f\\u0649\\u064b \\u0645\\u0646\\u064b\\u0630 \\u0652\\u0627\\u0644\\u064f\\u0648\\u0644\\u0652\\u0627\\u064f\\u062f\\u0629 \\u064f\\u0623\\u062e\\u064f\\u064a\\u0651\\u0631\\u0651\\u0627\\u064b\\u0651\\u060c\\u064e \\u0651\\u0648\\u0652\\u0648\\u0635\\u064c\\u0644\\u062a\\u064d \\u062a\\u0643\\u064b\\u0644\\u0641\\u0629 \\u064c\\u0625\\u0642\\u064b\\u0627\\u0645\\u0651\\u062a\\u0647\\u0627\\u064d \\u064e\\u062e\\u0644\\u0627\\u0644 \\u062a\\u0644\\u064c\\u0643\\u064c \\u064d\\u0627\\u0644\\u064f\\u0633\\u0646\\u0648\\u0627\\u064f\\u062a \\u0625\\u0644\\u0651\\u0649\\u0651 7 \\u0645\\u0644\\u0627\\u064a\\u064a\\u0646 \\u0650\\u062f\\u0631\\u0647\\u064f\\u0645\\u060c\\u064b \\u064d\\u0648\\u064f\\u0627\\u0633\\u062a\\u0637\\u0639\\u0646\\u0627\\u064d \\u0628\\u062e\\u0631\\u0648\\u0652\\u062c\\u0647\\u0627\\u064e \\u062a\\u0648\\u064e\\u0641\\u0650\\u064a\\u0631\\u064e \\u0627\\u064c\\u0644\\u062a\\u0643\\u064d\\u0644\\u0641\\u0652\\u0629\\u064e \\u0652\\u0627\\u0644\\u0650\\u064a\\u0648\\u064c\\u0645\\u064a\\u0650\\u0629 \\u064d\\u0627\\u0644\\u0650\\u0645\\u062a\\u0650\\u0631\\u0652\\u062a\\u0628\\u0629 \\u0639\\u064d\\u0644\\u064b\\u0649\\u0652 \\u0630\\u0648\\u064a\\u0647\\u0627\\u064b\\u060c \\u064c\\u0625\\u0636\\u064d\\u0627\\u0652\\u0641\\u064b\\u0629\\u064b \\u0625\\u0644\\u0649 \\u062a\\u0652\\u0648\\u064b\\u0641\\u0651\\u064a\\u064d\\u0631\\u064c \\u0633\\u0651\\u0631\\u064a\\u064b\\u0631\\u064e \\u064e\\u0641\\u0650\\u064a\\u0652 \\u0627\\u064f\\u0644\\u064d\\u0639\\u0646\\u0651\\u0627\\u064a\\u064f\\u0629 \\u064b\\u0627\\u064d\\u0644\\u0645\\u064d\\u0631\\u064c\\u0643\\u0632\\u0629 \\u064c\\u0644\\u0645\\u0631\\u064f\\u064a\\u064d\\u0636 \\u064d\\u062c\\u062f\\u0652\\u064a\\u062f\\u064f\\u060c \\u064f\\u0648\\u064f\\u0627\\u064f\\u0644\\u064c\\u0634\\u064c\\u0643\\u064f\\u0631 \\u0650\\u0627\\u0651\\u0644\\u0651\\u0643\\u064e\\u0628\\u064a\\u0631\\u0652 \\u0644\\u064c\\u0643\\u0652\\u0644 \\u0627\\u064b\\u0644\\u064e\\u062c\\u064b\\u0647\\u064c\\u0627\\u062a\\u064b \\u0650\\u0627\\u064c\\u0644\\u062a\\u064d\\u064a \\u064b\\u062a\\u064d\\u0639\\u064e\\u0627\\u0650\\u0648\\u0646\\u064b\\u062a\\u064d \\u0645\\u0639\\u0646\\u064b\\u0627 \\u064d\\u0644\\u0625\\u062e\\u0651\\u0631\\u064b\\u0627\\u064c\\u062c \\u0652\\u0627\\u064b\\u0644\\u064e\\u0645\\u0631\\u064f\\u064a\\u064d\\u0636\\u0629\\u064f \\u0651\\u0648\\u062a\\u0651\\u062d\\u0652\\u062f\\u064a\\u064f\\u062f\\u0627\\u064b\\u064f \\u0650\\u0627\\u0644\\u0642\\u064d\\u0646\\u064b\\u0635\\u0651\\u0644\\u064d\\u064a\\u064e\\u0629 \\u0648\\u0651\\u0627\\u064e\\u0644\\u0651\\u0633\\u064f\\u0641\\u0627\\u064c\\u0631\\u064b\\u0629 \\u0627\\u0644\\u0628\\u0650\\u0627\\u0643\\u0651\\u0633\\u064b\\u062a\\u0627\\u0652\\u0646\\u0651\\u064a\\u064d\\u0629\\u0651\\u060c \\u0650\\u0648\\u0627\\u0644\\u0625\\u062f\\u0627\\u0650\\u0631\\u0629\\u064c \\u0651\\u0627\\u064e\\u0644\\u0639\\u0650\\u0627\\u064e\\u0645\\u0629\\u064f \\u0644\\u0647\\u064a\\u064b\\u0626\\u064f\\u0629\\u0650 \\u064d\\u0627\\u064c\\u0644\\u0651\\u0635\\u062d\\u0629 \\u0641\\u064a\\u0651 \\u064d\\u062f\\u0628\\u064b\\u064a\\u0652\\u060c \\u064e\\u0648\\u0641\\u064c\\u0631\\u064a\\u064d\\u0642 \\u0627\\u0644\\u0639\\u0651\\u0645\\u064f\\u0644 \\u064f\\u0641\\u064d\\u064a \\u0627\\u064c\\u0644\\u0645\\u0633\\u0650\\u062a\\u0634\\u0641\\u0651\\u0649\\u064c.\\u0652 \\u0648\\u064d\\u0623\\u0643\\u064c\\u062f\\u0650\\u062a \\u064b\\u0623\\u0646\\u0651 \\u064f\\u0627\\u0644\\u0645\\u064d\\u0633\\u062a\\u064d\\u0634\\u064d\\u0641\\u064c\\u064a\\u064f\\u0627\\u062a\\u064e \\u064d\\u0647\\u064b\\u064a \\u0645\\u064b\\u0624\\u0633\\u0651\\u0633\\u064c\\u0627\\u064c\\u062a\\u0651 \\u0639\\u064d\\u0644\\u064d\\u0627\\u064f\\u062c\\u064a\\u0629 \\u0648\\u064c\\u0645\\u0647\\u0645\\u0652\\u062a\\u064e\\u0647\\u0627 \\u062a\\u064f\\u0642\\u0650\\u062f\\u064a\\u0645\\u064d \\u0627\\u0644\\u064d\\u0631\\u0639\\u0627\\u0650\\u064a\\u0629 \\u0652\\u0627\\u0652\\u0644\\u064d\\u0639\\u0644\\u0627\\u064e\\u062c\\u0651\\u064a\\u0629\\u060c\\u064c \\u064c\\u0648\\u0644\\u0651\\u0627\\u064c \\u064f\\u062a\\u0648\\u0652\\u0635\\u062f \\u0623\\u064d\\u0628\\u0651\\u0648\\u0627\\u0652\\u0628\\u0647\\u0627\\u0651 \\u0623\\u0645\\u064f\\u0627\\u0652\\u0645\\u064d \\u0645\\u0631\\u0636\\u0649\\u064d \\u0637\\u0648\\u064c\\u064a\\u064c\\u0644\\u0652\\u064a\\u064e \\u064d\\u0627\\u064f\\u0644\\u0625\\u0642\\u0627\\u0651\\u0645\\u0629\\u064f \\u0650\\u0627\\u064b\\u0644\\u064b\\u0630\\u064f\\u064a\\u0646\\u0651 \\u064b\\u064a\\u064c\\u0623\\u062a\\u0648\\u0646\\u064e \\u0652\\u0644\\u0652\\u0644\\u0651\\u0639\\u064d\\u0644\\u0627\\u064e\\u062c\\u064f\\u060c\\u0650 \\u0651\\u0644\\u064c\\u0643\\u064c\\u0646\\u0647\\u0645\\u064f \\u0651\\u064a\\u0628\\u064b\\u0642\\u064f\\u0648\\u0646\\u064b \\u0650\\u0644\\u064d\\u0641\\u062a\\u064f\\u0631\\u0627\\u064e\\u062a\\u064b \\u0637\\u0648\\u064a\\u064e\\u0644\\u0629\\u064e \\u0650\\u062a\\u0635\\u0651\\u0644 \\u0644\\u064d\\u0623\\u064f\\u0634\\u0651\\u0647\\u0631 \\u0648\\u064e\\u0633\\u064e\\u0646\\u064e\\u0648\\u0651\\u0627\\u062a \\u064b\\u0628\\u064f\\u0639\\u062f\\u0651 \\u0627\\u0651\\u0646\\u062a\\u0647\\u0627\\u0621 \\u0645\\u064e\\u0633\\u062a\\u0644\\u0632\\u064e\\u0645\\u064b\\u0627\\u0651\\u062a\\u064d \\u0639\\u0644\\u0652\\u0627\\u0652\\u062c\\u0647\\u0645\\u0650. \\u0648\\u064e\\u062a\\u0650\\u0641\\u064c\\u0635\\u064d\\u064a\\u064f\\u0644\\u064b\\u0627\\u064e\\u064b\\u064c\\u060c \\u0642\\u064c\\u0627\\u0651\\u0644\\u062a \\u0633\\u064b\\u0647\\u064d\\u064a\\u064d\\u0644\\u0629 \\u0623\\u0628\\u0644\\u064d \\u064e\\u0639\\u0628\\u0652\\u062f\\u0627\\u0650\\u0644\\u064c\\u0644\\u0650\\u0647\\u064d \\u0631\\u0651\\u0626\\u0651\\u064a\\u064b\\u0633\\u064e \\u0642\\u064b\\u0633\\u064d\\u0645\\u064d \\u064f\\u0625\\u062f\\u0650\\u0627\\u0652\\u0631\\u064b\\u0629\\u0651 \\u062d\\u064b\\u0627\\u0644\\u0627\\u0651\\u062a \\u0627\\u0644\\u0645\\u0631\\u0651\\u0636\\u0652\\u0649\\u064f \\u0628\\u0625\\u0651\\u062f\\u064b\\u0627\\u0631\\u0629\\u064f \\u0627\\u0651\\u0644\\u0652\\u0634\\u0650\\u0624\\u0648\\u0646\\u064e \\u064c\\u0627\\u0644\\u064b\\u0637\\u064b\\u0628\\u064a\\u064c\\u0629\\u064e \\u064d\\u0641\\u064e\\u064a \\u0645\\u0651\\u0633\\u062a\\u0650\\u0634\\u0641\\u0649 \\u0644\\u0637\\u064a\\u064d\\u0641\\u0629: \\u0645\\u0643\\u062b\\u0652\\u062a \\u0627\\u0644\\u0645\\u064c\\u0631\\u064a\\u064b\\u0636\\u064c\\u0629\\u0652 \\u0627\\u0650\\u0644\\u0628\\u0627\\u0643\\u0633\\u0650\\u062a\\u064d\\u0627\\u0651\\u0646\\u064a\\u0629 \\u0641\\u064e\\u064a \\u064e\\u0627\\u0650\\u0644\\u064e\\u0645\\u0650\\u0633\\u062a\\u0650\\u0634\\u0641\\u064f\\u0649\\u064d \\u0645\\u0650\\u0646\\u064b\\u0630\\u0650 \\u0648\\u0644\\u064e\\u0627\\u064f\\u062f\\u062a\\u0650\\u0647\\u0627\\u064b \\u0650\\u0641\\u064a\\u0650 \\u0642\\u064b\\u0633\\u0645\\u064c \\u0627\\u0644\\u064b\\u0639\\u064c\\u0646\\u0627\\u064a\\u064f\\u0629 \\u0627\\u064b\\u0644\\u064f\\u0645\\u0631\\u0652\\u0643\\u064c\\u0632\\u0650\\u0629\\u064d\\u060c\\u064f \\u0648\\u0643\\u064d\\u0644\\u064f\\u0641\\u062a\\u0652 \\u0627\\u064e\\u0644\\u0645\\u0633\\u062a\\u0650\\u0634\\u0641\\u064e\\u0649\\u0652 \\u064e7\\u064c \\u0645\\u0644\\u0627\\u064d\\u064a\\u064e\\u064a\\u0646\\u0652 \\u064d\\u062f\\u0631\\u064c\\u0647\\u064e\\u0645\\u064e\\u060c \\u0652\\u0648\\u0628\\u0627\\u0644\\u064b\\u062a\\u0651\\u0639\\u0650\\u0627\\u064f\\u0648\\u0646\\u064e \\u064d\\u0645\\u0639 \\u064f\\u0627\\u0644\\u064b\\u0642\\u0646\\u0635\\u0644\\u064a\\u0629 \\u0650\\u0627\\u0644\\u0650\\u0628\\u064d\\u0627\\u0643\\u064b\\u0633\\u062a\\u0627\\u0646\\u064a\\u0629\\u064c \\u064f\\u0648\\u0627\\u0652\\u0644\\u0633\\u0641\\u064c\\u064a\\u064b\\u0631 \\u064f\\u0627\\u0650\\u0633\\u064b\\u062a\\u0637\\u0639\\u064f\\u0646\\u064e\\u0627\\u0650 \\u0625\\u0642\\u064d\\u0646\\u064c\\u0627\\u0639 \\u0627\\u064f\\u0644\\u0623\\u0633\\u064d\\u0631\\u064f\\u0629\\u0650 \\u0650\\u0628\\u0652\\u0646\\u0651\\u0642\\u0644 \\u0651\\u0627\\u0651\\u0644\\u0637\\u0641\\u0644\\u0629\\u064e \\u064e\\u0625\\u0644\\u064b\\u0649 \\u0627\\u0651\\u0644\\u0652\\u0645\\u0646\\u0632\\u0644\\u064c\\u060c \\u064e\\u0645\\u0639\\u064f \\u062a\\u064f\\u0648\\u0651\\u0641\\u064a\\u0631\\u064c \\u0651\\u0643\\u0644\\u064c \\u064e\\u0627\\u064b\\u0644\\u0623\\u062c\\u0647\\u064c\\u0632\\u064c\\u0629\\u064e \\u0627\\u0644\\u062a\\u064a \\u062a\\u062d\\u064e\\u062a\\u0651\\u0627\\u062c\\u0647\\u0627\\u0651 \\u0648\\u064e\\u0633\\u0631\\u064b\\u064a\\u0631 \\u0637\\u0652\\u0628\\u0652\\u064a\\u0651\\u060c\\u064d \\u064e\\u0648\\u0628\\u062e\\u0631\\u0648\\u062c\\u0647\\u0627 \\u0652\\u062a\\u0651\\u0645\\u0643\\u0646\\u0627\\u064f \\u0652\\u0645\\u0646\\u064c \\u064b\\u062a\\u0648\\u0651\\u0641\\u064a\\u064d\\u0631 \\u064c\\u0633\\u064c\\u0631\\u064f\\u064a\\u0652\\u0631 \\u0641\\u064a\\u0650 \\u064f\\u0627\\u064e\\u0644\\u064c\\u0639\\u064e\\u0646\\u0627\\u064d\\u064a\\u064e\\u0629 \\u064f\\u0627\\u0644\\u0645\\u064b\\u0631\\u0643\\u0650\\u0632\\u0651\\u0629 \\u0644\\u0645\\u0631\\u064d\\u064a\\u064d\\u0636\\u064b \\u064f\\u0628\\u062d\\u0652\\u0627\\u062c\\u064e\\u0629 \\u064d\\u0625\\u0644\\u0652\\u0649\\u0651 \\u0639\\u0644\\u0627\\u062c\\u0650\\u060c\\u064c \\u0648\\u062a\\u0645 \\u062a\\u0646\\u0638\\u064a\\u0645 \\u0632\\u064a\\u0627\\u0650\\u0631\\u064d\\u0629\\u064d \\u0644\\u064c\\u0645\\u0646\\u0632\\u0644 \\u0648\\u0652\\u0627\\u064e\\u0644\\u0651\\u062f\\u0629\\u064b \\u0627\\u0651\\u0644\\u0637\\u0641\\u064e\\u0644\\u0629 \\u064d\\u0648\\u062a\\u062e\\u064d\\u0635\\u064a\\u0650\\u0635\\u0651 \\u0645\\u064d\\u0643\\u064c\\u0627\\u0650\\u0646\\u0650 \\u0645\\u0646\\u0627\\u0633\\u0628\\u0650 \\u0644\\u0652\\u0644\\u064f\\u0637\\u0641\\u064d\\u0644\\u0652\\u0629\\u060c \\u064f\\u0648\\u062a\\u0651\\u0648\\u0641\\u064a\\u0631\\u064c \\u0652\\u0643\\u0644 \\u0627\\u064e\\u0644\\u0623\\u064e\\u062c\\u064e\\u0647\\u0632\\u0629\\u064c \\u0627\\u0644\\u0650\\u062a\\u064f\\u064a\\u064f \\u0648\\u0635\\u0644\\u062a \\u0650\\u0642\\u064a\\u064e\\u0645\\u064c\\u062a\\u0647\\u0627 \\u0652\\u0625\\u0651\\u0644\\u0652\\u0649 \\u064d8\\u064e0\\u064d \\u0623\\u064e\\u0644\\u0641\\u0650\\u0627\\u064b \\u064e\\u0628\\u0627\\u0644\\u0652\\u062a\\u0639\\u064e\\u0627\\u0648\\u064d\\u0646 \\u0645\\u0652\\u0639 \\u064b\\u0645\\u064f\\u0643\\u064b\\u062a\\u064b\\u0628 \\u0651\\u0627\\u0644\\u0650\\u062e\\u064e\\u062f\\u0645\\u0627\\u062a\\u0651 \\u0627\\u0644\\u0625\\u0646\\u0633\\u0651\\u0627\\u0646\\u064a\\u0650\\u0629\\u0652 \\u064c\\u0648\\u0627\\u0644\\u0645\\u064b\\u062c\\u062a\\u0645\\u0639\\u064e \\u0641\\u064a\\u0652 \\u064c\\u0627\\u0651\\u0644\\u0652\\u0647\\u064d\\u064a\\u0626\\u0629\\u060c \\u0648\\u062a\\u062f\\u064c\\u0631\\u0651\\u064a\\u0628\\u0651 \\u0627\\u064f\\u0644\\u064b\\u0623\\u0645\\u064b \\u064e\\u0639\\u0644\\u064e\\u0649\\u064b \\u0643\\u064d\\u064a\\u064c\\u0641\\u064f\\u064a\\u064b\\u0629\\u064b \\u0627\\u0633\\u064e\\u062a\\u0651\\u062e\\u062f\\u0651\\u0627\\u064d\\u0645 \\u064c\\u062c\\u0652\\u0647\\u0627\\u064b\\u0632\\u0650 \\u064f\\u0627\\u064f\\u0644\\u062a\\u0646\\u0641\\u064b\\u0633\\u064c \\u0648\\u0627\\u064b\\u0644\\u062a\\u063a\\u0630\\u064a\\u064c\\u0629\\u064b \\u0648\\u0634\\u064f\\u0641\\u0652\\u0637\\u0652 \\u064d\\u0627\\u0644\\u0628\\u0644\\u064f\\u063a\\u0652\\u0645\\u0652\\u061b\\u064c \\u0648\\u0630\\u0644\\u0643\\u064e \\u062a\\u064f\\u062d\\u062a\\u064b \\u0625\\u064f\\u0634\\u0631\\u0651\\u0627\\u0641 \\u0637\\u0650\\u0628\\u064a\\u064c\\u0628 \\u0651\\u0648\\u0645\\u0651\\u0645\\u0651\\u0631\\u064b\\u0636\\u0629\\u060c\\u064b \\u0650\\u0625\\u064f\\u0636\\u0627\\u0652\\u0641\\u0629 \\u064d\\u0625\\u0651\\u0644\\u0652\\u0649 \\u0630\\u064f\\u0644\\u0643\\u0651 \\u062a\\u062f\\u064d\\u0631\\u064e\\u064a\\u064e\\u0628\\u0647\\u0627 \\u0639\\u064c\\u0644\\u0649 \\u0650\\u0643\\u064a\\u0641\\u064a\\u0629\\u0652 \\u0627\\u0633\\u062a\\u062d\\u0652\\u0645\\u064f\\u0627\\u0645 \\u0627\\u0644\\u0637\\u064e\\u0641\\u0644\\u064b\\u0629\\u064f.\\u064b \\u0648\\u064d\\u0623\\u0652\\u0643\\u062f\\u064b\\u062a \\u0623\\u0646 \\u0650\\u0627\\u0644\\u0637\\u0652\\u0641\\u0644\\u0629 \\u0628\\u0627\\u062a\\u0651\\u062a\\u064e \\u0643\\u064f\\u0627\\u0652\\u0628\\u064c\\u0646\\u0650\\u0629 \\u0644\\u064c\\u0637\\u0627\\u0642\\u0645\\u064b \\u0627\\u0644\\u064d\\u0639\\u0645\\u064b\\u0644 \\u0641\\u064a \\u064d\\u0627\\u0644\\u0645\\u0633\\u062a\\u064c\\u0634\\u064c\\u0641\\u064e\\u0649\\u0651\\u060c\\u0652 \\u062e\\u0627\\u0635\\u064f\\u0629 \\u0623\\u0650\\u0646\\u0647\\u0627\\u0650 \\u0642\\u0636\\u0650\\u062a \\u0641\\u062a\\u0651\\u0631\\u064b\\u0629 \\u064e\\u0637\\u064d\\u0648\\u064e\\u064a\\u0644\\u0629 \\u064e\\u0641\\u064a \\u064f\\u0627\\u064c\\u0644\\u0645\\u064f\\u0633\\u064d\\u062a\\u064f\\u0634\\u064c\\u0641\\u0650\\u0649\\u060c\\u064f \\u064f\\u0648\\u0644\\u0645 \\u064c\\u062a\\u062e\\u0631\\u062c\\u064c \\u0645\\u064b\\u0646\\u0647\\u060c\\u064c \\u0650\\u0648\\u0652\\u0644\\u064b\\u062d\\u064e\\u0638\\u0629 \\u0645\\u064c\\u063a\\u064f\\u0627\\u062f\\u064e\\u0631\\u064d\\u062a\\u0647\\u064e\\u0627 \\u064f\\u0643\\u0627\\u0646 \\u0652\\u0627\\u0644\\u0650\\u062c\\u0652\\u0645\\u064d\\u064a\\u064e\\u0639 \\u064f\\u062d\\u0651\\u0627\\u0636\\u064f\\u0631\\u0627\\u0652\\u064b\\u0651\\u060c\\u0651 \\u064f\\u0648\\u064d\\u062d\\u0631\\u064b\\u0635\\u062a\\u0650 \\u064f\\u0645\\u064f\\u062f\\u0651\\u064a\\u0631\\u0629\\u064b \\u064d\\u0627\\u0644\\u064e\\u0645\\u0633\\u062a\\u0652\\u0634\\u0641\\u0649 \\u062f.\\u064b\\u0645\\u0646\\u0649\\u064d \\u062a\\u064f\\u0647\\u0644\\u064c\\u0643 \\u0639\\u0651\\u0644\\u064f\\u0649 \\u0627\\u0644\\u0652\\u062a\\u0648\\u0627\\u064d\\u062c\\u062f\\u064f \\u064b\\u0644\\u062a\\u064f\\u0648\\u064e\\u062f\\u0650\\u064a\\u064d\\u0639\\u0651 \\u0627\\u064c\\u0644\\u064f\\u0637\\u0641\\u0651\\u0644\\u0629 \\u0641\\u064a \\u0644\\u062d\\u0638\\u0627\\u064d\\u062a \\u0625\\u064e\\u0646\\u0633\\u0627\\u064b\\u0646\\u064a\\u0629\\u064e\\u060c \\u0648\\u0627\\u0644\\u0652\\u0634\\u0631\\u064d\\u0643\\u0651\\u0629\\u0652 \\u0627\\u0650\\u0644\\u0651\\u062a\\u064a\\u064c \\u0651\\u0632\\u064f\\u0648\\u064b\\u062f\\u062a\\u0646\\u0650\\u0627 \\u0628\\u0651\\u0627\\u0650\\u0644\\u0652\\u0623\\u064c\\u062c\\u0647\\u0651\\u0632\\u064c\\u0629\\u064d \\u062d\\u0631\\u0651\\u0635\\u0646\\u0652\\u0627\\u064e \\u0639\\u0650\\u0644\\u064b\\u0649\\u0650 \\u062a\\u0651\\u0648\\u064c\\u0627\\u0650\\u062c\\u0652\\u062f\\u0647\\u0627 \\u064f\\u0623\\u062b\\u064c\\u0646\\u064b\\u0627\\u0651\\u0621 \\u0645\\u064c\\u063a\\u064e\\u0627\\u064b\\u062f\\u064b\\u0631\\u0650\\u0629\\u064f \\u0650\\u0627\\u0644\\u064e\\u0637\\u0641\\u0644\\u0629 \\u0627\\u064c\\u0644\\u0645\\u064c\\u0633\\u064f\\u062a\\u064e\\u0634\\u064e\\u0641\\u0652\\u0649 \\u0644\\u062a\\u064e\\u0631\\u0650\\u0643\\u064a\\u0628\\u064d \\u0652\\u0627\\u0644\\u0623\\u062c\\u0651\\u0647\\u064b\\u0632\\u0629 \\u0641\\u064a \\u0627\\u0644\\u064c\\u0645\\u0646\\u0632\\u0644\\u0650 \\u0648\\u064b\\u062a\\u064f\\u062f\\u0631\\u064a\\u0628 \\u064c\\u0627\\u064f\\u0644\\u0623\\u0645\\u064d \\u0645\\u0631\\u064f\\u0629 \\u0623\\u062e\\u0631\\u064c\\u0649\\u0651\\u060c \\u0648\\u0628\\u0642\\u064b\\u064a\\u062a \\u0627\\u0644\\u064b\\u0645\\u0645\\u0631\\u0636\\u0629\\u064b \\u0651\\u0644\\u0650\\u0645\\u0651\\u062f\\u0629\\u0650 \\u064d3 \\u0633\\u0627\\u0639\\u0627\\u064f\\u062a \\u0652\\u0645\\u0639\\u0651 \\u0651\\u0627\\u0644\\u0623\\u0650\\u0645\\u0652 \\u0651\\u0628\\u0639\\u062f \\u0648\\u0635\\u0648\\u0651\\u0644 \\u0627\\u0644\\u0645\\u0631\\u0651\\u064a\\u0636\\u064c\\u0629 \\u0644\\u064c\\u0644\\u0652\\u0645\\u064c\\u0646\\u0632\\u064b\\u0644\\u060c \\u0644\\u064c\\u0644\\u064d\\u062a\\u064f\\u0623\\u0643\\u062f\\u064e \\u064e\\u0645\\u0652\\u0646 \\u0643\\u0644\\u064f \\u0627\\u0644\\u062a\\u0641\\u0627\\u0635\\u064d\\u064a\\u0644 \\u0627\\u0644\\u0635\\u0652\\u063a\\u064a\\u064e\\u0631\\u0629.\\u0652 21\\u065244\\u064f \\u064a\\u0648\\u0645\\u064f\\u0627\\u064b\\u064c \\u0641\\u0650\\u064a \\u064b\\u0627\\u0651\\u0644\\u064d\\u0639\\u0646\\u0627\\u064f\\u064a\\u0652\\u0629\\u0650 \\u0648\\u064f\\u0623\\u064f\\u0634\\u0627\\u0631\\u064e\\u062a \\u0623\\u064b\\u0628\\u0651\\u0644 \\u0625\\u0650\\u0644\\u0651\\u0649 \\u064d\\u0623\\u0646\\u0652 \\u064e\\u062e\\u0631\\u0651\\u0648\\u062c\\u064f \\u0645\\u0651\\u0631\\u0636\\u0649 \\u064c\\u0627\\u0651\\u0644\\u0625\\u0642\\u0627\\u064e\\u0645\\u064c\\u0629\\u064b \\u064d\\u0627\\u0644\\u064e\\u0637\\u0652\\u0648\\u064f\\u064a\\u0644\\u064e\\u0629\\u064b \\u0651\\u064a\\u0648\\u0641\\u0631\\u064e \\u0623\\u064b\\u0633\\u0631\\u0629\\u064e \\u064b\\u0644\\u0645\\u0650\\u0631\\u0636\\u0649 \\u064e\\u0628\\u064f\\u062d\\u0627\\u062c\\u0629 \\u0651\\u0625\\u0644\\u0649\\u064b \\u0639\\u0644\\u064e\\u0627\\u064b\\u062c \\u0648\\u062a\\u0650\\u0646\\u0650\\u0648\\u064a\\u0645 \\u0641\\u064a\\u064e \\u0627\\u0644\\u0639\\u0646\\u0627\\u064a\\u0652\\u0629 \\u0651\\u0627\\u064b\\u0644\\u0645\\u064b\\u0631\\u0643\\u0632\\u0629\\u060c\\u064c \\u0650\\u0648\\u064b\\u0623\\u064c\\u0642\\u062f\\u0645\\u064c \\u0652\\u0645\\u0631\\u064d\\u064a\\u064c\\u0636\\u064d \\u0648\\u064e\\u0627\\u0641\\u062f \\u064e\\u064a\\u0650\\u0631\\u0642\\u062f\\u064d \\u064d\\u0641\\u0652\\u064a \\u0627\\u064c\\u0644\\u064e\\u0639\\u0650\\u0646\\u0651\\u0627\\u064b\\u064a\\u0629 \\u064f\\u0627\\u0644\\u0650\\u0645\\u064b\\u0631\\u0643\\u064c\\u0632\\u0629\\u0652 \\u0642\\u062f\\u0651 \\u0623\\u064b\\u062f\\u064c\\u062e\\u0644\\u0650 \\u0641\\u0650\\u064a \\u064c\\u0639\\u0627\\u0645 201\\u06512\\u0650 \\u0651\\u0648\\u0645\\u0627\\u064d\\u0632\\u064e\\u0627\\u0644 \\u0650\\u064a\\u0631\\u0642\\u062f \\u0641\\u064a\\u064c\\u0647\\u064d\\u060c\\u064e \\u0651\\u0648\\u0650\\u0647\\u0650\\u0646\\u064f\\u0627\\u0643 \\u0645\\u064e\\u0631\\u0636\\u0649\\u064d \\u0623\\u0645\\u064d\\u0636\\u0652\\u0648\\u0627\\u064b \\u0652\\u0623\\u0643\\u062b\\u064f\\u0631\\u0652 \\u0645\\u0646 \\u064d4\\u064f \\u0633\\u0646\\u0648\\u0627\\u062a \\u0651\\u0641\\u0650\\u064a \\u064f\\u0627\\u0644\\u0652\\u0639\\u064c\\u0646\\u064b\\u0627\\u064c\\u064a\\u0629\\u060c \\u0648\\u0651\\u0645\\u0631\\u0650\\u0636\\u0649\\u0652 \\u064f\\u0642\\u0650\\u0636\\u0648\\u064b\\u0627 \\u0623\\u0652\\u0643\\u064c\\u062b\\u0631 2\\u065214\\u064e4 \\u064e\\u064a\\u064e\\u0648\\u0645\\u0627\\u064b \\u0641\\u064a\\u0651 \\u064d\\u0627\\u0644\\u064d\\u0639\\u0646\\u064b\\u0627\\u0652\\u064a\\u0652\\u0629\\u060c \\u0651\\u0648\\u0651\\u0645\\u0650\\u0631\\u064a\\u0636 \\u064c\\u062a\\u062c\\u0627\\u0648\\u0632\\u064e\\u062a\\u064d \\u0652\\u0641\\u064f\\u0627\\u062a\\u064d\\u0648\\u0631\\u062a\\u064c\\u0647\\u064f \\u0627\\u0644 6 \\u0652\\u0645\\u064c\\u0644\\u064b\\u0627\\u064a\\u064a\\u0646\\u0652 \\u062f\\u064b\\u0631\\u0647\\u0645 \\u064c\\u062d\\u062a\\u064d\\u0649 \\u0652\\u0627\\u0644\\u0622\\u064b\\u0646\\u0652\\u060c\\u064b \\u0650\\u0648\\u0645\\u0631\\u0636\\u0650\\u0649\\u064c \\u064b\\u0622\\u0650\\u062e\\u064b\\u0631\\u0648\\u064f\\u0646 \\u064f\\u0648\\u064b\\u0635\\u0644\\u062a\\u064b \\u0650\\u062a\\u0643\\u064f\\u0644\\u0641\\u064b\\u0629\\u064d \\u064c\\u0625\\u0642\\u064d\\u0627\\u0650\\u0645\\u0650\\u062a\\u0652\\u0647\\u064b\\u0645 \\u0641\\u064b\\u064a \\u064b\\u0627\\u064f\\u0644\\u064f\\u0645\\u0633\\u062a\\u064c\\u0634\\u0650\\u0641\\u0649 \\u064d\\u0625\\u0644\\u0649\\u064c \\u0645\\u0644\\u0652\\u064a\\u064e\\u0648\\u0651\\u0646\\u064a\\u0651\\u0646\\u0650\\u060c \\u064e\\u0648\\u064f\\u062d\\u064e\\u0627\\u0644\\u064a\\u0627\\u064b 1\\u064b5\\u0650 \\u0633\\u0631\\u064a\\u0631\\u0627\\u0650\\u064b\\u064c \\u0641\\u064e\\u064a\\u064f \\u0627\\u0644\\u0639\\u064e\\u0646\\u0650\\u0627\\u064a\\u064f\\u0629\\u064f \\u0627\\u064f\\u0644\\u0651\\u0645\\u0631\\u064d\\u0643\\u0632\\u064c\\u0629 \\u064d\\u0645\\u0634\\u064f\\u063a\\u0648\\u0651\\u0644\\u064d\\u0629\\u064b \\u0644\\u0652\\u0645\\u064e\\u0631\\u064f\\u0636\\u064d\\u0649\\u0651 \\u0627\\u0644\\u064f\\u0625\\u0642\\u064e\\u0627\\u0645\\u0629 \\u064f\\u0627\\u0644\\u0652\\u0637\\u0648\\u0652\\u064a\\u0644\\u0629. \\u0648\\u0623\\u064d\\u0643\\u0650\\u062f\\u0652\\u062a\\u064b \\u064e\\u0623\\u0646\\u064d \\u0647\\u0650\\u0646\\u0627\\u064c\\u0643\\u0650 \\u064b\\u0635\\u0651\\u0639\\u0648\\u0650\\u0628\\u0627\\u064f\\u062a\\u0652 \\u062a\\u064d\\u0648\\u0627\\u064f\\u062c\\u0647 \\u064b\\u0625\\u062f\\u0627\\u0631\\u0627\\u064b\\u062a \\u0627\\u0644\\u0645\\u0651\\u0633\\u062a\\u0634\\u0641\\u064a\\u0650\\u0627\\u062a\\u064f \\u064e\\u0641\\u064a\\u0650 \\u0625\\u064f\\u062e\\u0631\\u0627\\u062c\\u0650 \\u064f\\u0647\\u0652\\u0624\\u0644\\u0627\\u0652\\u0621\\u064e \\u064b\\u0627\\u064f\\u0644\\u0645\\u0631\\u0636\\u064e\\u0649 \\u064e\\u0648\\u062a\\u062d\\u064d\\u0648\\u064f\\u064a\\u0644\\u064b\\u0647\\u0645\\u064c \\u0625\\u0644\\u0649\\u0651 \\u0645\\u064d\\u0631\\u064f\\u0627\\u0652\\u0643\\u0632\\u0650 \\u062a\\u0623\\u0647\\u064a\\u0644\\u064e\\u064a\\u0629 \\u0652\\u0645\\u064e\\u062a\\u062e\\u0635\\u0635\\u0629 \\u064d\\u0623\\u0650\\u0648 \\u064f\\u0646\\u0642\\u064f\\u0644\\u0647\\u0652\\u0645\\u064e \\u0650\\u0625\\u064e\\u0644\\u0649\\u064b \\u0645\\u0652\\u0646\\u064c\\u0627\\u0632\\u0644\\u0647\\u0652\\u0645\\u064f \\u0645\\u0639 \\u0651\\u062a\\u0652\\u0648\\u0641\\u064e\\u064a\\u0631\\u064c \\u0627\\u0644\\u064b\\u0639\\u0646\\u0627\\u064f\\u064a\\u0629\\u0650 \\u0651\\u0648\\u0627\\u064d\\u0644\\u0623\\u062c\\u0647\\u0650\\u0632\\u0629\\u064e \\u0644\\u064d\\u0647\\u0645\\u060c\\u064e \\u0641\\u062a\\u0644\\u0643\\u064b \\u064b\\u0627\\u064c\\u0644\\u0646\\u064e\\u0648\\u0651\\u0639\\u0652\\u064a\\u0629 \\u0645\\u064c\\u0646\\u064d \\u0651\\u0627\\u0644\\u0645\\u0631\\u064b\\u0636\\u0649 \\u064a\\u064b\\u062d\\u062a\\u0627\\u062c\\u0651\\u0648\\u0646 \\u0644\\u062e\\u062f\\u0651\\u0645\\u0650\\u0627\\u062a \\u064d\\u0637\\u0648\\u064a\\u0651\\u0644\\u0629 \\u0627\\u064f\\u0644\\u0623\\u0645\\u0651\\u062f\\u0652\\u060c \\u064b\\u0648\\u064d\\u0644\\u064a\\u0651\\u0633\\u062a\\u064c \\u0650\\u062e\\u062f\\u064c\\u0645\\u064b\\u0627\\u062a \\u0639\\u0644\\u0627\\u064b\\u062c\\u064e\\u064a\\u0629\\u064f\\u060c \\u0652\\u0648\\u064d\\u064a\\u064b\\u062d\\u064d\\u062c\\u0651\\u0632\\u0651\\u0648\\u0646\\u064e \\u064e\\u0623\\u064c\\u0633\\u0652\\u0631\\u064b\\u0629\\u064b \\u0646\\u0651\\u0643\\u064e\\u0648\\u064c\\u0646 \\u0628\\u062d\\u0627\\u062c\\u0629\\u064e \\u0652\\u0625\\u0651\\u0644\\u0652\\u064a\\u064e\\u0647\\u0627 \\u064d\\u0644\\u0644\\u062d\\u0651\\u0627\\u0652\\u0644\\u064f\\u0627\\u062a \\u0627\\u064c\\u0644\\u0637\\u0652\\u0627\\u064c\\u0631\\u0651\\u0626\\u0629 \\u0648\\u064f\\u0644\\u064e\\u0644\\u0639\\u0646\\u0650\\u0627\\u064d\\u064a\\u0651\\u0629\\u064e \\u0627\\u064b\\u0644\\u064e\\u062d\\u064e\\u0631\\u062c\\u0650\\u0629\\u060c\\u064f \\u0652\\u0648\\u0650\\u062a\\u064b\\u0644\\u0643 \\u064d\\u0627\\u0651\\u0644\\u064c\\u062d\\u0627\\u0644\\u064c\\u0627\\u062a \\u064c\\u0628\\u064f\\u062d\\u0651\\u0627\\u064c\\u062c\\u0652\\u0629 \\u0625\\u0644\\u064e\\u0649 \\u064c\\u0645\\u0631\\u0627\\u0643\\u0651\\u0632\\u064f \\u064c\\u0628\\u0637\\u064d\\u0627\\u0642\\u0629\\u0651 \\u064e\\u0627\\u0633\\u064d\\u062a\\u064a\\u0639\\u0650\\u0627\\u0652\\u0628\\u064a\\u0629\\u064e \\u064b\\u0643\\u0651\\u0628\\u064a\\u064d\\u0631\\u064e\\u0629 \\u064b\\u0644\\u0644\\u0627\\u0647\\u0651\\u062a\\u064f\\u0645\\u064c\\u0627\\u0645\\u064b \\u064e\\u0628\\u064d\\u0647\\u0652\\u0627\\u064f\\u060c\\u064b \\u0650\\u0648\\u064f\\u062a\\u064d\\u0643\\u064e\\u0648\\u0646 \\u064b\\u0645\\u064d\\u062d\\u0637\\u0629 \\u064b\\u0645\\u064d\\u0624\\u0642\\u064e\\u062a\\u0629\\u064d \\u0644\\u0647\\u064d\\u0645 \\u0648\\u0641\\u0651\\u062a\\u0631\\u0629 \\u0651\\u0627\\u0652\\u0646\\u0652\\u062a\\u0642\\u0652\\u0627\\u064f\\u0644\\u064a\\u0629\\u060c \\u0644\\u0625\\u0639\\u0627\\u0651\\u062f\\u0651\\u0629\\u064f \\u062a\\u064f\\u0623\\u0647\\u064a\\u0644\\u0647\\u064d\\u0645.\\u0650 \\u0648\\u0642\\u0627\\u0650\\u0644\\u064b\\u062a\\u064f \\u064b\\u062f\\u064e\\u0627\\u0626\\u0645\\u0650\\u0627\\u064b\\u064e \\u0645\\u064f\\u0627\\u064b \\u0646\\u062d\\u064b\\u0631\\u064d\\u0635\\u0650 \\u064f\\u0639\\u0652\\u0644\\u0652\\u0649\\u064e \\u0651\\u0627\\u064b\\u0644\\u062a\\u0648\\u064b\\u0627\\u0651\\u0635\\u0644\\u064e \\u064e\\u0645\\u064c\\u0639\\u0652 \\u0623\\u064b\\u0642\\u064e\\u0627\\u0652\\u0631\\u0628\\u064f\\u0647\\u0645 \\u0644\\u0646\\u0642\\u0644 \\u062a\\u0644\\u064d\\u0643 \\u064b\\u0627\\u064c\\u0644\\u062d\\u0627\\u064d\\u0644\\u064d\\u0627\\u064b\\u062a \\u0625\\u064c\\u0644\\u0649\\u064f \\u0627\\u0651\\u0644\\u0645\\u0646\\u0650\\u0632\\u0644 \\u0652\\u0648\\u064e\\u062a\\u064e\\u0642\\u064e\\u062f\\u064e\\u064a\\u0651\\u0645\\u064e \\u064c\\u0627\\u0644\\u064b\\u0631\\u0639\\u0650\\u0627\\u064a\\u0629\\u0651 \\u0627\\u0650\\u0644\\u064e\\u064a\\u0648\\u0645\\u064a\\u0629 \\u064b\\u0644\\u064c\\u0647\\u0650\\u0645\\u064b \\u0645\\u0650\\u0639\\u064c \\u062a\\u0643\\u0641\\u064d\\u0644\\u0646\\u0627 \\u0628\\u0652\\u062a\\u0652\\u0648\\u0641\\u064f\\u064a\\u064e\\u0631 \\u064e\\u0627\\u0644\\u0623\\u0651\\u062c\\u0647\\u0632\\u064c\\u0629\\u064d \\u064f\\u0644\\u0652\\u0647\\u0645 \\u0639\\u064e\\u0646 \\u0637\\u0631\\u064a\\u0650\\u0642 \\u0647\\u064b\\u064a\\u0626\\u0629\\u064e \\u064c\\u0627\\u0644\\u0652\\u0635\\u064e\\u062d\\u064d\\u0629\\u060c\\u064d \\u0648\\u0650\\u0646\\u062a\\u0651\\u0643\\u0641\\u064e\\u0644 \\u0623\\u064f\\u064a\\u0636\\u0627\\u0650\\u064b\\u0651 \\u064f\\u0628\\u062a\\u0651\\u062f\\u0631\\u064a\\u0628\\u064f \\u064e\\u0623\\u064d\\u0647\\u0627\\u0644\\u064a\\u064d\\u0647\\u0645\\u0650 \\u0651\\u0639\\u0650\\u0644\\u0649 \\u0643\\u064a\\u064e\\u0641\\u064a\\u0629 \\u0650\\u0627\\u0644\\u0627\\u0651\\u0647\\u062a\\u064b\\u0645\\u0652\\u0627\\u0645 \\u0628\\u0627\\u0644\\u064f\\u0645\\u064f\\u0631\\u064a\\u064e\\u0636\\u064c \\u0648\\u0628\\u064c\\u0627\\u0651\\u0644\\u0623\\u064d\\u062c\\u064b\\u0647\\u064b\\u0632\\u0629\\u060c\\u064c \\u0648\\u062a\\u0645\\u0650\\u0643\\u0646\\u064f\\u0627 \\u0645\\u064c\\u0646\\u064b \\u0625\\u064d\\u0642\\u0646\\u0627\\u0639\\u064b \\u0628\\u0639\\u064d\\u0636\\u064c \\u0652\\u0627\\u064c\\u0644\\u064d\\u0623\\u0650\\u0647\\u064f\\u0627\\u064d\\u0644\\u064e\\u064a \\u064b\\u0628\\u0646\\u0651\\u0642\\u0644 \\u064c\\u0645\\u0631\\u064e\\u0636\\u0650\\u0627\\u0647\\u0651\\u0645\\u0650 \\u0625\\u0644\\u064f\\u0649\\u0652 \\u0645\\u064b\\u0631\\u0627\\u064c\\u0643\\u0632 \\u064b\\u062e\\u0627\\u064b\\u0635\\u0629 \\u062a\\u064f\\u0642\\u062f\\u0645 \\u064f\\u062e\\u0652\\u062f\\u0645\\u0627\\u062a \\u062a\\u0623\\u0647\\u0652\\u064a\\u064e\\u0644\\u064a\\u064d\\u0629 \\u0648\\u064f\\u0639\\u0644\\u0627\\u062c\\u064a\\u0629 \\u064d\\u0648\\u064c\\u0637\\u064d\\u0628\\u064f\\u064a\\u064c\\u0629 \\u0644\\u0650\\u0644\\u0645\\u0631\\u0652\\u0636\\u0651\\u0649 \\u064e\\u0637\\u0651\\u0648\\u064a\\u0644\\u064a \\u064e\\u0627\\u0644\\u064f\\u0625\\u0642\\u0627\\u0645\\u0629\\u064e\\u060c \\u0648\\u062a\\u0648\\u0650\\u062c\\u064d\\u062f\\u064b \\u064d\\u062d\\u064c\\u0627\\u0644\\u064f\\u0627\\u062a\\u0652 \\u0646\\u0642\\u0644\\u0646\\u064b\\u0627\\u064c\\u0647\\u0645\\u064d \\u064c\\u0644\\u0645\\u0646\\u0652\\u0627\\u0632\\u0644\\u0650\\u0647\\u0645\\u0651 \\u0628\\u0639\\u062f\\u0650 \\u062a\\u064d\\u0643\\u064d\\u0641\\u064c\\u0644 \\u0627\\u0644\\u064f\\u0647\\u064c\\u064a\\u064b\\u0626\\u064b\\u0629 \\u064e\\u0628\\u064e\\u062a\\u0650\\u0648\\u064b\\u0641\\u064f\\u064a\\u064d\\u0631\\u0650 \\u0650\\u0627\\u0651\\u0644\\u064b\\u0623\\u064e\\u062c\\u0647\\u0632\\u0629\\u064e \\u0627\\u064b\\u0644\\u0652\\u0637\\u0628\\u064d\\u064a\\u064c\\u0629 \\u0644\\u0647\\u0650\\u0645\\u064b \\u0648\\u062a\\u0651\\u062f\\u064f\\u0631\\u064a\\u0652\\u0628 \\u064b\\u0627\\u0644\\u0652\\u0623\\u064c\\u0647\\u064b\\u0627\\u0644\\u064a \\u064b\\u0639\\u0650\\u0644\\u0649 \\u0651\\u0627\\u0651\\u0644\\u0639\\u0646\\u0627\\u064a\\u0629\\u064f \\u064e\\u0628\\u064e\\u0627\\u064e\\u0644\\u064c\\u0645\\u0631\\u064a\\u0636\\u064d\\u060c \\u0648\\u0647\\u064e\\u0646\\u064e\\u0627\\u064f\\u0643 \\u0648\\u064b\\u0627\\u064b\\u0641\\u062f\\u0648\\u0651\\u0646 \\u0650\\u062a\\u064f\\u0645\\u0643\\u0651\\u0646\\u0652\\u0627\\u064e \\u0639\\u064f\\u0646 \\u064f\\u0637\\u0652\\u0631\\u0650\\u064a\\u0642 \\u0633\\u0652\\u0641\\u0627\\u064e\\u0631\\u062a\\u0647\\u0645 \\u0652\\u0645\\u0650\\u0646 \\u0651\\u062a\\u0652\\u0633\\u0641\\u064a\\u0651\\u0631\\u0647\\u0645\\u064d \\u0625\\u0644\\u0650\\u0649 \\u0628\\u064c\\u0644\\u062f\\u0650\\u0627\\u0646\\u064b\\u0647\\u0645 \\u0645\\u064c\\u0639 \\u0650\\u0643\\u0652\\u0627\\u0652\\u062f\\u0631 \\u0637\\u0628\\u064e\\u064a\\u0652 \\u064f\\u0639\\u064d\\u0646\\u0652 \\u0637\\u0631\\u064a\\u0642\\u0650 \\u0637\\u064a\\u064c\\u0631\\u0652\\u0627\\u0646 \\u0652\\u0627\\u0644\\u0625\\u0645\\u064b\\u0627\\u0631\\u064b\\u0627\\u0652\\u062a\\u064b\\u060c\\u0651 \\u064f\\u0648\\u064f\\u064a\\u064d\\u062a\\u064c\\u0645 \\u0650\\u0646\\u064d\\u0642\\u0644\\u0652\\u0647\\u0645 \\u064b\\u0645\\u0639\\u0651 \\u0627\\u0651\\u0644\\u0651\\u0623\\u0651\\u062c\\u064e\\u0647\\u064b\\u0632\\u0629\\u064c \\u0648\\u0628\\u0651\\u0631\\u064e\\u0641\\u0650\\u0642\\u0629 \\u062f\\u0643\\u062a\\u064c\\u0648\\u064e\\u0631\\u064b \\u0652\\u0648\\u0645\\u064d\\u0645\\u064e\\u0631\\u0636 \\u0645\\u0646\\u064b \\u0651\\u0647\\u064a\\u064b\\u0626\\u0651\\u0629 \\u0627\\u0644\\u0635\\u064f\\u062d\\u064c\\u0629.\",\n          \"https://example.com/resource/\\u062a\\u0639\\u062f\\u0651\\u0650 \\u064d\\u0639\\u064e\\u0627\\u0626\\u0634\\u064c\\u0629 \\u064b\\u0627\\u0644\\u064d\\u0632\\u0639\\u0627\\u0628\\u0651\\u064a\\u0650\\u060c\\u064f \\u0623\\u0651\\u062d\\u0650\\u062f \\u064c\\u0627\\u064b\\u0644\\u0652\\u0623\\u0633\\u064e\\u0645\\u064c\\u0627\\u064b\\u0621 \\u0627\\u0644\\u0625\\u0650\\u0628\\u0650\\u062f\\u064e\\u0627\\u064d\\u0639\\u064a\\u064e\\u0629 \\u0627\\u064f\\u0644\\u064c\\u0625\\u0645\\u064c\\u0627\\u0631\\u064d\\u0627\\u062a\\u064a\\u0629 \\u0627\\u0644\\u064f\\u0623\\u0643\\u064b\\u062b\\u0631 \\u063a\\u064c\\u0632\\u0627\\u0631\\u0629\\u060c \\u0648\\u0627\\u0652\\u0644\\u062a\\u0650\\u064a \\u062a\\u0651\\u0643\\u062a\\u0628 \\u0641\\u064e\\u064a \\u064b\\u0623\\u0643\\u0650\\u062b\\u0650\\u0631\\u0651 \\u0652\\u0645\\u064f\\u0646 \\u062d\\u064c\\u0642\\u0644 \\u0650\\u0643\\u062a\\u064d\\u0627\\u064b\\u0628\\u064b\\u064a\\u060c\\u064d \\u064d\\u0641\\u064d\\u0647\\u064a\\u064f \\u064b\\u062a\\u0643\\u0651\\u062a\\u064f\\u0628 \\u0627\\u064d\\u0644\\u0651\\u0642\\u0635\\u0652\\u0629\\u060c \\u0648\\u064e\\u0627\\u064b\\u0644\\u0651\\u0646\\u0650\\u0642\\u064b\\u062f\\u060c\\u064e \\u0648\\u0650\\u0627\\u0644\\u064c\\u0628\\u062d\\u064b\\u062b\\u060c\\u064d \\u0625\\u064d\\u0636\\u0627\\u064f\\u0641\\u0629\\u064f \\u0625\\u064c\\u0644\\u0649\\u064b \\u064f\\u0643\\u0651\\u062a\\u0627\\u0651\\u0628\\u062a\\u0647\\u064f\\u0627\\u064c \\u0641\\u064c\\u064a \\u0627\\u0644\\u0645\\u062c\\u0627\\u0644\\u064c \\u0627\\u064e\\u0644\\u0650\\u062a\\u0631\\u0628\\u0651\\u0648\\u064b\\u064a\\u060c\\u0652 \\u0652\\u0643\\u0645\\u0627 \\u064b\\u0623\\u0646\\u064d\\u0647\\u0627\\u0652 \\u064d\\u062d\\u064e\\u0635\\u0644\\u064c\\u062a \\u064b\\u0639\\u0651\\u0644\\u064f\\u0649\\u064c \\u064d\\u062c\\u0648\\u064c\\u0627\\u0626\\u0632\\u064c \\u0639\\u064c\\u062f\\u064e\\u064a\\u064d\\u062f\\u0629\\u060c\\u0651 \\u064d\\u0645\\u0646\\u064b\\u0647\\u0627 \\u0627\\u0644\\u0645\\u064b\\u0631\\u0643\\u0651\\u0632 \\u064b\\u0627\\u0651\\u0644\\u0623\\u064b\\u0648\\u0644\\u064d \\u0652\\u0641\\u064a \\u062c\\u0627\\u0651\\u0626\\u0651\\u0632\\u064b\\u0629\\u0651 \\u0627\\u0644\\u064c\\u0645\\u0650\\u0628\\u0650\\u062f\\u0651\\u0639\\u064b\\u0648\\u0651\\u0646 \\u064d20\\u064e0\\u064e1\\u064c \\u0651\\u0648\\u064d\\u062c\\u0651\\u0648\\u0627\\u0652\\u0626\\u0650\\u0632\\u064e \\u0650\\u0631\\u0627\\u0634\\u062f\\u064d \\u0628\\u0652\\u0646 \\u064b\\u062d\\u0645\\u064a\\u064d\\u062f\\u064b \\u0648\\u0651\\u063a\\u0627\\u0650\\u0646\\u064c\\u0645\\u0652 \\u063a\\u0652\\u0628\\u0627\\u0634\\u0652 \\u0648\\u064c\\u0648\\u064f\\u0632\\u0627\\u0631\\u064e\\u0629 \\u064f\\u0627\\u0644\\u064d\\u062b\\u0642\\u0650\\u0627\\u0652\\u0641\\u064f\\u0629\\u064d \\u064b\\u0625\\u064b\\u0644\\u064e\\u062e .\\u064e \\u064c.\\u064d .\\u0652 .\\u060c\\u064d \\u0648\\u0645\\u0652\\u0646 \\u064b\\u0643\\u064f\\u062a\\u064c\\u0628\\u0647\\u064c\\u0627\\u0650 \\u0627\\u0644\\u062a\\u0650\\u064a \\u0635\\u0651\\u062f\\u0631\\u062a\\u0651 \\u062d\\u062a\\u0649\\u064d \\u0652\\u0627\\u0644\\u0622\\u064c\\u0646\\u064c \\u0641\\u064b\\u064a \\u0645\\u062c\\u064e\\u0627\\u064d\\u0644 \\u0627\\u0644\\u0642\\u0635\\u064d\\u0629\\u0651\\u060c \\u0648\\u0644\\u0644\\u0645\\u064f\\u0648\\u064d\\u062a \\u0644\\u063a\\u0629\\u064c 1\\u064b99\\u064f7 \\u0648\\u0651\\u063a\\u064c\\u0634\\u0627\\u0648\\u0629\\u064c \\u064f20\\u064d0\\u06521\\u0650 \\u064b\\u0648\\u064d\\u0644\\u0644\\u062d\\u064a\\u0627\\u064b\\u0629\\u0652 \\u0650\\u0646\\u0648\\u064c\\u0627\\u0641\\u0630\\u064b \\u064b\\u0623\\u062e\\u0631\\u0652\\u0649\\u0652 \\u064f\\u060c\\u064c2\\u064c00\\u064b4 \\u0651\\u0648\\u0635\\u0651\\u062f\\u064b\\u0631\\u064c \\u0644\\u064c\\u0647\\u064f\\u0627 \\u0641\\u064a \\u0645\\u062c\\u0627\\u064d\\u0644\\u0650 \\u0623\\u064f\\u062f\\u0628\\u0651 \\u0627\\u0644\\u0637\\u0641\\u0644 \\u06515\\u064e \\u064f\\u0642\\u0635\\u064c\\u0635\\u0652 \\u0644\\u064e\\u0644\\u0646\\u0627\\u0651\\u0634\\u0626\\u0629\\u0651 2012\\u0652 \\u0648\\u064f\\u0645\\u064e\\u0633\\u0652\\u0631\\u062d\\u0650\\u064a\\u0629\\u0651 \\u0652\\u0645\\u062f\\u064f\\u064a\\u0652\\u0646\\u0629 \\u064e\\u0627\\u0644\\u062d\\u0651\\u064a\\u0627\\u064d\\u0629\\u060c\\u064d \\u0651\\u0648\\u0641\\u0650\\u064a \\u0645\\u064f\\u062c\\u0627\\u0644 \\u064d\\u0627\\u0644\\u062f\\u064e\\u0631\\u0627\\u0633\\u0651\\u0627\\u062a\\u064e: \\u0652\\u0627\\u0652\\u0644\\u0642\\u0650\\u0635\\u0629\\u064c \\u0627\\u064e\\u0644\\u064c\\u0634\\u0639\\u064c\\u0628\\u064d\\u064a\\u0629 \\u064c\\u0641\\u064f\\u064a \\u064b\\u062f\\u0648\\u064d\\u0644\\u064b\\u0629 \\u0627\\u064c\\u0644\\u0652\\u0625\\u0645\\u0627\\u0631\\u0627\\u0651\\u062a \\u064b\\u060c\\u064f201\\u064e0\\u0650 \\u0650\\u0648\\u064d\\u0631\\u0627\\u0634\\u062f\\u0652 \\u064f\\u0627\\u0644\\u064f\\u062e\\u0636\\u0631 \\u060c\\u064e201\\u064f2\\u064c \\u0648\\u0642\\u062f \\u064c\\u0627\\u064e\\u0646\\u062a\\u0647\\u062a \\u0651\\u0627\\u0644\\u0652\\u0632\\u0639\\u0627\\u0628\\u064a \\u064d\\u0645\\u0624\\u062e\\u0652\\u0631\\u0650\\u0627\\u064b\\u0650 \\u064b\\u0645\\u0646\\u064f \\u0625\\u064c\\u0646\\u064f\\u062c\\u0627\\u0632\\u064f \\u0623\\u0639\\u0645\\u064e\\u0627\\u0644 \\u0625\\u064d\\u0628\\u064f\\u062f\\u064f\\u0627\\u0639\\u064d\\u064a\\u0629\\u064d \\u0650\\u0648\\u064d\\u0646\\u0642\\u062f\\u064c\\u064a\\u064c\\u0629\\u0652 \\u0648\\u0628\\u062d\\u0651\\u062b\\u064a\\u0650\\u0629\\u064c \\u064e\\u0639\\u064b\\u062f\\u064a\\u064f\\u062f\\u0650\\u0629\\u064f\\u060c\\u064f \\u0645\\u0646 \\u0628\\u0652\\u064a\\u0646\\u0647\\u0627 \\u064c\\u0631\\u0652\\u0648\\u064b\\u0627\\u064a\\u0652\\u0629\\u064c \\u064f\\u0627\\u0644\\u0633\\u0648\\u0637\\u060c \\u0651\\u0648\\u064e\\u0647\\u064a\\u064d \\u0623\\u064d\\u0648\\u0644\\u0649 \\u064b\\u0645\\u0650\\u062d\\u0627\\u064c\\u0648\\u0650\\u0644\\u064f\\u0629\\u064b \\u0631\\u064b\\u0648\\u064e\\u0627\\u0626\\u064a\\u064e\\u0629\\u0650 \\u062a\\u062a\\u0651\\u0646\\u0627\\u0648\\u0644\\u064f \\u0627\\u0644\\u064c\\u0639\\u0650\\u0627\\u062f\\u064f\\u0627\\u0652\\u062a \\u0648\\u0651\\u0627\\u0650\\u0644\\u062a\\u0652\\u0642\\u0651\\u0627\\u064e\\u0644\\u064f\\u064a\\u062f\\u064e . \\u0643\\u0645\\u064f\\u0627\\u0652 \\u0623\\u064b\\u0646\\u0652 \\u064d\\u0644\\u062f\\u0650\\u064a\\u0647\\u0627 \\u0645\\u0650\\u062e\\u0637\\u0648\\u0637\\u0627\\u064b \\u0647\\u0648\\u0651 \\u062f\\u0631\\u064d\\u0627\\u0650\\u0633\\u064e\\u0629 \\u0639\\u064b\\u0646\\u064b \\u064d\\u0635\\u0650\\u0648\\u064f\\u0631\\u064d\\u0629 \\u064f\\u0627\\u0644\\u0645\\u0631\\u0651\\u0623\\u0629 \\u0641\\u0652\\u064a \\u0650\\u0623\\u0650\\u062f\\u0628\\u064c \\u0651\\u0645\\u0651\\u062d\\u0652\\u0645\\u0651\\u062f \\u0650\\u0627\\u0650\\u0644\\u0651\\u0645\\u0651\\u0631\\u060c\\u064d \\u0650\\u0646\\u0650\\u0627\\u0644\\u062a\\u064e \\u062e\\u0644\\u064e\\u0627\\u0644\\u064f\\u0647 \\u062c\\u0627\\u064c\\u0626\\u0651\\u0632\\u0629\\u064e \\u0627\\u0644\\u0645\\u0650\\u0631\\u0652\\u0623\\u064f\\u0629\\u064b \\u0641\\u0652\\u064a\\u064e \\u064c\\u0627\\u0644\\u0625\\u0645\\u064b\\u0627\\u0631\\u0652\\u0627\\u0651\\u062a \\u064f\\u0641\\u064d\\u064a \\u064d\\u0627\\u064d\\u0644\\u064b\\u0622\\u062f\\u064c\\u0627\\u0652\\u0628 \\u064b\\u0648\\u0627\\u0652\\u0644\\u0641\\u0646\\u0650\\u0648\\u064e\\u0646\\u0650\\u060c \\u0625\\u0636\\u0627\\u064d\\u0641\\u0629 \\u0625\\u064f\\u0644\\u0652\\u0649 \\u062f\\u064d\\u0631\\u0627\\u0651\\u0633\\u0652\\u0629\\u0651 \\u064d\\u0623\\u064c\\u062f\\u0628\\u0652\\u064a\\u0650\\u0629 \\u0639\\u0650\\u0646 \\u0650\\u0648\\u064b\\u0627\\u0642\\u0652\\u0639\\u0651 \\u0627\\u0652\\u0644\\u0645\\u0648\\u0627\\u0637\\u0646\\u0629\\u064c \\u0648\\u0627\\u0644\\u0627\\u0646\\u062a\\u0645\\u0627\\u064e\\u0621 \\u064d\\u0641\\u064a\\u064c \\u0652\\u0627\\u0644\\u0645\\u0646\\u0627\\u0651\\u0647\\u0650\\u062c\\u064f \\u064b\\u0627\\u064b\\u0644\\u0652\\u0648\\u064c\\u0637\\u064d\\u0646\\u064a\\u064d\\u0629\\u064f \\u0641\\u064a\\u064d \\u0650\\u062f\\u064f\\u0648\\u064e\\u0644\\u064e\\u0629\\u0650 \\u0650\\u0627\\u0644\\u0625\\u0652\\u0645\\u0627\\u0652\\u0631\\u064d\\u0627\\u062a\\u060c \\u064e\\u062d\\u064b\\u0635\\u0651\\u0644\\u062a\\u064c \\u062e\\u0644\\u064e\\u0627\\u0644\\u0647 \\u064d\\u0639\\u0652\\u0644\\u0649 \\u0627\\u0651\\u0644\\u0651\\u0645\\u0631\\u0643\\u0632\\u064d \\u064c\\u0627\\u0652\\u0644\\u0623\\u064b\\u0648\\u0644\\u064f \\u064e\\u0641\\u0652\\u064a \\u062c\\u0627\\u064b\\u0626\\u064c\\u0632\\u0650\\u0629\\u064d \\u0627\\u0644\\u0639\\u0650\\u0648\\u0652\\u064a\\u0633\\u060c\\u064b \\u0648\\u0647\\u0648\\u064c \\u0628\\u062f\\u0648\\u064f\\u0631\\u0647 \\u0650\\u0641\\u064a \\u0627\\u0646\\u064d\\u062a\\u0638\\u0627\\u0631 \\u064b\\u0627\\u0644\\u0637\\u0628\\u0652\\u0627\\u064e\\u0639\\u0651\\u0629\\u064e \\u064e.\\u0648\\u064b\\u062d\\u0648\\u064c\\u0644\\u0651 \\u064c\\u062a\\u0652\\u0646\\u0652\\u0648\\u0639\\u0651 \\u0645\\u062c\\u064b\\u0627\\u0644\\u0627\\u0651\\u062a \\u0650\\u0627\\u0650\\u0644\\u0652\\u0643\\u0652\\u062a\\u0627\\u0628\\u0629 \\u0644\\u062f\\u064b\\u064a\\u064d\\u0647\\u0627 \\u064b\\u062a\\u0642\\u0648\\u0644\\u0652 \\u064d\\u0627\\u0644\\u0632\\u064d\\u0639\\u0627\\u0628\\u064d\\u064a\\u064c:\\u0650 \\u0650\\u0639\\u0646\\u062f\\u064e\\u0645\\u0627\\u064d \\u0623\\u0643\\u064b\\u062a\\u0628 \\u0641\\u064e\\u064a \\u0645\\u062c\\u0651\\u0627\\u0644 \\u0623\\u064a \\u0634\\u064d\\u0643\\u0644 \\u0650\\u0643\\u062a\\u0651\\u0627\\u064d\\u0628\\u064b\\u064a\\u060c \\u064b\\u0641\\u0625\\u0646\\u0651\\u0646\\u064c\\u064a \\u0650\\u0623\\u064d\\u062a\\u0642\\u064a\\u062f \\u0652\\u0628\\u0634\\u0631\\u0648\\u064e\\u0637\\u064e\\u0647\\u0652\\u060c\\u0652 \\u064e\\u0648\\u0641\\u064c\\u0636\\u0650\\u0627\\u064b\\u0626\\u0647\\u060c \\u064e\\u0648\\u0623\\u064f\\u062f\\u0650\\u0648\\u0627\\u062a\\u0647 \\u0645\\u0646\\u0651 \\u062f\\u064f\\u0648\\u0646 \\u0623\\u0646 \\u0623\\u064e\\u0644\\u062c\\u064e\\u0623\\u0650 \\u064c\\u0625\\u064b\\u0644\\u0649 \\u064d\\u0634\\u0650\\u0643\\u0651\\u0644\\u064e \\u0643\\u062a\\u0651\\u0627\\u0628\\u064a\\u0650 \\u0622\\u062e\\u0631\\u064d\\u060c \\u0641\\u064a \\u064b\\u062a\\u0644\\u0643 \\u064e\\u0627\\u064b\\u0644\\u0641\\u064d\\u062a\\u0631\\u0629\\u060c \\u064e\\u0644\\u064b\\u0626\\u0644\\u064b\\u0627\\u064d \\u064a\\u064b\\u0643\\u0648\\u0646 \\u0650\\u0623\\u062d\\u064f\\u062f\\u0647\\u0627 \\u0639\\u0644\\u0650\\u0649 \\u062d\\u0633\\u0651\\u0627\\u064e\\u0628 \\u0627\\u0650\\u0644\\u064f\\u0622\\u062e\\u064c\\u0631\\u060c\\u0652 \\u0628\\u064e\\u0644\\u064e \\u0625\\u0651\\u0646\\u064f \\u0639\\u0651\\u0648\\u0627\\u0644\\u064f\\u0645 \\u064f\\u0627\\u0650\\u0644\\u062b\\u0652\\u0642\\u0652\\u0627\\u0641\\u064e\\u0629\\u064f \\u064d\\u0648\\u0651\\u0627\\u0644\\u0650\\u0625\\u0628\\u0651\\u062f\\u0627\\u0639 \\u064d\\u0641\\u0651\\u064a\\u064f \\u0627\\u0644\\u0645\\u062d\\u0652\\u0635\\u064e\\u0644\\u064d\\u0629\\u060c \\u064b\\u0645\\u0650\\u062a\\u064b\\u0643\\u0627\\u064b\\u0645\\u064e\\u0644\\u064b\\u0629\\u064b\\u060c\\u0651 \\u0650\\u0648\\u0641\\u064e\\u064a \\u0625\\u0645\\u0643\\u064d\\u0627\\u0646\\u064b \\u0623\\u064c\\u064a \\u064f\\u0643\\u064b\\u0627\\u062a\\u0652\\u0628\\u064b \\u064e\\u062d\\u0631\\u064a\\u0635\\u064b \\u0651\\u0639\\u0644\\u064c\\u0649\\u0650 \\u062e\\u0635\\u0651\\u0648\\u0635\\u064b\\u064a\\u064b\\u0629 \\u064e\\u0635\\u064d\\u0648\\u062a\\u064b\\u0647\\u064f\\u060c \\u0652\\u0623\\u0646 \\u064a\\u0650\\u0643\\u064b\\u062a\\u0651\\u0628\\u0651 \\u064f\\u0641\\u064a \\u0623\\u0650\\u0643\\u064e\\u062b\\u0631\\u0650 \\u0645\\u064f\\u0646 \\u064f\\u0645\\u064f\\u062c\\u064d\\u0627\\u064f\\u0644 \\u0643\\u064f\\u062a\\u064e\\u0627\\u064f\\u0628\\u064e\\u064a\\u060c \\u064e\\u0645\\u064d\\u0627\\u064c\\u062f\\u0627\\u0645\\u0652 \\u0623\\u064c\\u0646\\u0651\\u0647 \\u064a\\u062e\\u064e\\u0644\\u0635 \\u064b\\u0644\\u0647\\u064c\\u0630\\u0647\\u064e \\u0627\\u0644\\u0623\\u064f\\u0634\\u064e\\u0643\\u0627\\u0652\\u0644\\u0651 \\u064e\\u0627\\u0651\\u0644\\u0652\\u0643\\u0651\\u062a\\u0652\\u0627\\u0628\\u0652\\u064a\\u0629\\u060c\\u0651 \\u062c\\u064e\\u0645\\u0651\\u064a\\u064c\\u0639\\u064f\\u0647\\u0627\\u060c \\u064b\\u0648\\u064a\\u0628\\u0630\\u0644\\u0652 \\u0652\\u0645\\u0650\\u0627 \\u064a\\u064d\\u0644\\u0632\\u064e\\u0645 \\u0645\\u0646\\u064f \\u062c\\u0647\\u0648\\u062f \\u0645\\u0646\\u0652 \\u0623\\u062c\\u0644\\u064d \\u064f\\u0630\\u064e\\u0644\\u0643\\u0651\\u060c\\u064e \\u0641\\u0651\\u064a \\u0652\\u0638\\u0650\\u0644 \\u062a\\u064d\\u0648\\u0627\\u0641\\u0651\\u0631 \\u0627\\u0644\\u064d\\u0645\\u0648\\u064b\\u0647\\u0628\\u0629 \\u0627\\u0644\\u062d\\u0642\\u064a\\u0642\\u064c\\u064a\\u0629 . \\u0648\\u0651\\u0623\\u0636\\u064c\\u0627\\u064f\\u0641\\u062a\\u064b: \\u064b\\u0634\\u062e\\u0635\\u064f\\u064a\\u0652\\u0627\\u064b \\u0650\\u0644\\u064f\\u0645 \\u0623\\u0650\\u062c\\u062f \\u064b\\u0645\\u064e\\u0627\\u0652 \\u064f\\u064a\\u0639\\u064a\\u0652\\u0642\\u064f \\u0645\\u0633\\u064b\\u0623\\u0651\\u0644\\u0629\\u064f \\u064c\\u0643\\u062a\\u064c\\u0627\\u0628\\u062a\\u064f\\u064a\\u064d \\u0641\\u064e\\u064a\\u064b \\u0623\\u0643\\u0651\\u062b\\u0631\\u064f \\u0645\\u0646 \\u0634\\u064e\\u0643\\u064d\\u0644\\u064c \\u0651\\u0643\\u062a\\u0627\\u0628\\u064a\\u060c\\u064d \\u0643\\u064d\\u0645\\u0627\\u0650 \\u064d\\u0623\\u064b\\u0646\\u064d \\u0627\\u064c\\u0644\\u062a\\u0646\\u0648\\u0639 \\u064a\\u062e\\u0644\\u0642 \\u064d\\u0637\\u0645\\u0623\\u064f\\u0646\\u0629 \\u062f\\u0627\\u062e\\u0644\\u0651\\u064a\\u064d\\u0629\\u064f \\u0644\\u062f\\u0649 \\u0627\\u064e\\u0644\\u064c\\u0643\\u0627\\u064b\\u062a\\u064f\\u0628 \\u0652. \\u064d\\u0648\\u064c\\u0631\\u062f\\u0627\\u064b\\u0652 \\u064f\\u0639\\u0644\\u0649\\u064d \\u064c\\u0627\\u0651\\u0644\\u0633\\u064c\\u0624\\u0627\\u0644\\u0652 \\u0641\\u064c\\u064a\\u064d \\u064f\\u0645\\u0627 \\u0625\\u0651\\u0630\\u0627 \\u0643\\u0650\\u0627\\u0646\\u062a\\u0652 \\u0651\\u0642\\u064f\\u062f\\u0650 \\u064e\\u0643\\u064d\\u062a\\u0628\\u062a \\u0641\\u064d\\u064a \\u0645\\u062c\\u0627\\u064c\\u0644\\u064b \\u0627\\u0644\\u0634\\u0650\\u0639\\u0631 \\u064b\\u0642\\u0627\\u064f\\u0644\\u064c\\u062a:\\u0650 \\u0643\\u0627\\u0646\\u0652\\u062a\\u0651 \\u0644\\u064f\\u064a\\u064e \\u064e\\u0645\\u062d\\u0627\\u0648\\u0644\\u0627\\u064b\\u062a\\u064c\\u064a\\u064f \\u0652\\u0641\\u064e\\u064a\\u064b \\u0628\\u062f\\u064d\\u0627\\u064a\\u0627\\u0650\\u062a\\u064f \\u0651\\u062a\\u062c\\u064e\\u0631\\u064b\\u0628\\u062a\\u064c\\u064a\\u064e \\u0627\\u0650\\u0644\\u0643\\u064f\\u062a\\u0627\\u0628\\u064b\\u064a\\u0650\\u0629\\u0651\\u060c \\u064f\\u0645\\u0639\\u064b \\u0651\\u0627\\u0644\\u0634\\u0652\\u0639\\u0651\\u0631\\u060c\\u064d \\u0651\\u0628\\u064e\\u064a\\u062f\\u0652 \\u064f\\u0623\\u0646 \\u064c\\u062a\\u0644\\u0643 \\u0627\\u0644\\u0645\\u062d\\u0627\\u0652\\u0648\\u0651\\u0644\\u0627\\u0651\\u062a\\u0651 \\u0627\\u0644\\u0623\\u0648\\u064d\\u0644\\u0649 \\u062a\\u0652\\u0648\\u0642\\u0641\\u064d\\u062a\\u064c \\u064b\\u0639\\u0652\\u0646\\u062f \\u064e\\u062d\\u064f\\u062f\\u0651\\u0648\\u062f\\u064e\\u0647\\u0627\\u064c \\u0652\\u062a\\u0644\\u0643\\u060c \\u0650\\u0648\\u0638\\u0644\\u062a \\u064f\\u062d\\u0628\\u064a\\u0651\\u0633\\u0652\\u0629 \\u062f\\u0641\\u0650\\u0627\\u062a\\u0631\\u0651\\u064a\\u060c \\u064c\\u0625\\u0630 \\u0644\\u064e\\u0645 \\u0623\\u064f\\u0639\\u062f \\u0625\\u0644\\u064c\\u064a\\u0647\\u0650\\u0627\\u064d\\u060c \\u0648\\u0630\\u064e\\u0644\\u064b\\u0643\\u064c \\u064c\\u0644\\u0623\\u064b\\u0646\\u0646\\u064a \\u0652\\u0648\\u064c\\u062c\\u064c\\u062f\\u0652\\u062a \\u0651\\u0635\\u0651\\u0648\\u062a\\u064a\\u064f \\u0641\\u064e\\u064a\\u064b \\u0627\\u0652\\u0644\\u0652\\u0645\\u064e\\u062c\\u0652\\u0627\\u0644\\u0627\\u064c\\u062a\\u064e \\u0627\\u0644\\u0625\\u064d\\u0628\\u062f\\u064d\\u0627\\u0639\\u0650\\u064a\\u064c\\u0629 \\u064b\\u0648\\u064c\\u0627\\u064d\\u0644\\u064b\\u0643\\u064d\\u062a\\u0627\\u064f\\u0628\\u064f\\u064a\\u064f\\u0629\\u064d \\u0627\\u064f\\u0644\\u0623\\u062e\\u064f\\u0631\\u0649\\u064d \\u064c. \\u064b\\u0648\\u0652\\u0641\\u0652\\u064a \\u064c\\u0645\\u0627\\u064c \\u0652\\u064a\\u064e\\u062a\\u0639\\u0650\\u0644\\u0652\\u0642 \\u0628\\u0648\\u064d\\u0627\\u0651\\u0642\\u0639 \\u0651\\u0627\\u0644\\u0642\\u0635\\u064c\\u0629\\u0650 \\u0651\\u0627\\u064b\\u0644\\u0642\\u064b\\u0635\\u064a\\u0652\\u0631\\u064c\\u0629\\u064e \\u0652\\u0641\\u064f\\u064a \\u0627\\u064c\\u0644\\u0625\\u0652\\u0645\\u0627\\u0631\\u064f\\u0627\\u062a \\u064d\\u062a\\u0642\\u0648\\u064e\\u0644\\u064e: \\u0647\\u0646\\u0627\\u0651\\u0643 \\u0645\\u0652\\u0624\\u0634\\u0652\\u0631\\u0652\\u0627\\u062a\\u0651 \\u0652\\u0637\\u064a\\u064b\\u0628\\u0629\\u064f \\u064d\\u0639\\u0644\\u0649\\u064b \\u062a\\u0642\\u062f\\u064d\\u0645 \\u064e\\u0645\\u0633\\u062a\\u0648\\u0652\\u0649\\u064c \\u0650\\u0627\\u0644\\u0651\\u0642\\u0635 \\u0651\\u0627\\u064d\\u0644\\u0651\\u0625\\u0645\\u064c\\u0627\\u0631\\u0627\\u064f\\u062a\\u064a\\u064c\\u060c\\u064c \\u0642\\u0650\\u064a\\u0627\\u0633\\u064f\\u0627\\u064b \\u064b\\u0625\\u0644\\u0650\\u0649\\u0650 \\u0627\\u0644\\u064c\\u0639\\u0651\\u0645\\u064f\\u0631\\u064d \\u0652\\u0627\\u0644\\u064c\\u0632\\u064b\\u0645\\u064f\\u0646\\u064b\\u064a\\u064f \\u0644\\u0644\\u062f\\u0648\\u0644\\u0651\\u0629\\u060c \\u0651\\u0648\\u0652\\u062a\\u0650\\u0627\\u0628\\u064d\\u0639\\u062a\\u064e \\u0650\\u0642\\u0651\\u0627\\u064e\\u0626\\u064c\\u0644\\u0629\\u064e: \\u0648\\u0644\\u064d\\u0627\\u064f\\u0628\\u062f\\u064b \\u064f\\u0645\\u0646\\u0651 \\u064f\\u0627\\u0650\\u0644\\u0627\\u0639\\u062a\\u064d\\u0631\\u0627\\u0650\\u0641\\u064e \\u0623\\u064b\\u0646\\u064e \\u064d\\u0647\\u064f\\u0646\\u0650\\u0627\\u0652\\u0643\\u0652 \\u062a\\u0634\\u062c\\u064a\\u064f\\u0639\\u064d\\u0627\\u064f\\u064b\\u064b \\u0643\\u0628\\u064a\\u0650\\u0631\\u0627\\u064b\\u064d \\u0645\\u0651\\u0646 \\u0642\\u0628\\u0644\\u0650 \\u0650\\u0648\\u064d\\u0632\\u0627\\u0631\\u0629\\u064c \\u0652\\u0627\\u0644\\u062b\\u064c\\u0642\\u0627\\u0641\\u064e\\u0629\\u0651 \\u064f\\u0648\\u0652\\u0627\\u064e\\u0644\\u064e\\u062c\\u0647\\u0627\\u064f\\u062a \\u0627\\u064d\\u0644\\u0645\\u0639\\u064d\\u0646\\u0651\\u064a\\u0629\\u064e\\u060c\\u064f \\u064c\\u0641\\u0651\\u0636\\u064f\\u0644\\u064d\\u0627\\u064f\\u064b \\u064b\\u0639\\u0646 \\u064c\\u0623\\u064f\\u0646 \\u0627\\u0651\\u0644\\u062c\\u0648\\u0652\\u0627\\u064f\\u0626\\u0632\\u0650 \\u0627\\u064e\\u0644\\u0645\\u0652\\u062a\\u0639\\u064d\\u062f\\u0650\\u062f\\u0629\\u0650 \\u064f\\u0627\\u0644\\u0652\\u062a\\u064c\\u064a \\u062a\\u064f\\u0642\\u062f\\u064d\\u0645\\u064d \\u0625\\u064b\\u0645\\u0627\\u0631\\u0651\\u0627\\u0650\\u062a\\u064f\\u064a\\u0627\\u064b \\u0650\\u0644\\u0644\\u064d\\u0645\\u0628\\u064b\\u062f\\u0651\\u0639\\u064a\\u0646\\u064e \\u062a\\u0639\\u062f\\u0651 \\u062d\\u0648\\u0651\\u0627\\u0641\\u0632\\u064d \\u0651\\u062c\\u064e\\u062f \\u0652\\u0645\\u0647\\u0645\\u0629\\u0651 \\u0644\\u064f\\u0644\\u0643\\u062a\\u064e\\u0627\\u0628\\u064f\\u0629 \\u0641\\u064a \\u064f\\u0627\\u0650\\u0644\\u0650\\u0645\\u062c\\u0627\\u064c\\u0644\\u0627\\u062a\\u064b \\u0627\\u0644\\u0625\\u0651\\u0628\\u064b\\u062f\\u064b\\u0627\\u0639\\u064f\\u064a\\u0629 \\u0643\\u0651\\u0627\\u0650\\u0641\\u0652\\u0629\\u060c\\u064e \\u0648\\u0645\\u064f\\u0646\\u064d \\u0628\\u064e\\u064a\\u0646\\u0647\\u0627\\u064b \\u064e\\u0639\\u064b\\u0627\\u064d\\u0644\\u0645 \\u0627\\u064e\\u0644\\u064e\\u0642\\u0635 .\\u064f\\u0648\\u064b\\u062d\\u0650\\u0648\\u064c\\u0644 \\u062a\\u0642\\u0648\\u064a\\u064c\\u0645\\u064b\\u0647\\u0650\\u0627 \\u0644\\u0644\\u0646\\u0642\\u064e\\u062f \\u0627\\u0652\\u0644\\u0651\\u0623\\u0650\\u062f\\u0651\\u0628\\u064a \\u0652\\u0625\\u064f\\u0645\\u064e\\u0627\\u0631\\u0627\\u062a\\u064b\\u064a\\u0627\\u064b \\u064f\\u0642\\u064d\\u0627\\u0644\\u062a\\u064f:\\u064b \\u064b\\u0647\\u064b\\u0646\\u0650\\u0627\\u0650\\u0643\\u064e \\u0641\\u062c\\u0648\\u0629\\u0650 \\u0651\\u0628\\u064f\\u064a\\u0646 \\u064d\\u0627\\u064f\\u0644\\u064c\\u0646\\u0651\\u0642\\u064e\\u0627\\u064c\\u062f \\u0648\\u064d\\u0627\\u0644\\u0650\\u0643\\u0650\\u062a\\u0627\\u0628\\u064d\\u060c\\u0651 \\u0644\\u0650\\u0627\\u064b\\u0628\\u064d\\u062f \\u064f\\u0645\\u0646\\u064d \\u064e\\u0631\\u064c\\u062f\\u0651\\u0645\\u0647\\u064e\\u0627\\u064c\\u060c\\u064c \\u064f\\u062d\\u0631\\u0635\\u0651\\u0627\\u064b \\u0651\\u0639\\u0644\\u0649 \\u064c\\u0648\\u0627\\u0642\\u064d\\u0639\\u064e \\u0648\\u0645\\u064b\\u0633\\u0650\\u062a\\u0651\\u0642\\u0628\\u064d\\u0644 \\u064c\\u0627\\u0644\\u0625\\u064f\\u0628\\u062f\\u064b\\u0627\\u0650\\u0639\\u060c \\u0641\\u0642\\u064e\\u062f\\u064f \\u0652\\u0635\\u0652\\u062f\\u0652\\u0631\\u0652\\u062a\\u064c \\u0644\\u064d\\u064a \\u0650\\u0645\\u064d\\u062c\\u0645\\u0648\\u064c\\u0639\\u064e\\u062a\\u064c\\u064a\\u064d \\u0627\\u0644\\u064c\\u0642\\u064f\\u0635\\u0635\\u064d\\u064a\\u064b\\u0629\\u064e \\u0627\\u064d\\u0644\\u0623\\u064e\\u0648\\u064c\\u0644\\u0649 \\u064e\\u0641\\u064a\\u064b \\u0627\\u0644\\u0639\\u0650\\u0627\\u0645 \\u064d\\u060c1\\u064e9\\u064e9\\u06507 \\u064e\\u0628\\u064a\\u062f \\u0623\\u0651\\u0646\\u0647\\u0627 \\u0644\\u0651\\u0645 \\u062a\\u062d\\u0638 \\u0628\\u064e\\u0623\\u064a\\u0629\\u064b \\u0625\\u064e\\u0636\\u064d\\u0627\\u064c\\u0621\\u064d\\u0629 \\u0651\\u0646\\u0642\\u062f\\u064a\\u064b\\u0629\\u064f\\u060c \\u0651\\u0648\\u064f\\u062a\\u0623\\u064f\\u062e\\u0631 \\u064c\\u062a\\u064d\\u0646\\u0650\\u0627\\u064c\\u0648\\u064d\\u0644\\u0650 \\u062a\\u064d\\u062c\\u0650\\u0631\\u0652\\u0628\\u062a\\u064a\\u0650 \\u0651\\u0627\\u0644\\u0652\\u0642\\u064d\\u0635\\u064e\\u0635\\u064f\\u064a\\u064d\\u0629 \\u064f\\u062d\\u062a\\u0649 \\u064b\\u0627\\u0644\\u0639\\u0627\\u0645\\u0650 \\u0650\\u060c2\\u064b001 \\u064d\\u0628\\u0639\\u062f\\u064f \\u0635\\u0651\\u062f\\u0648\\u0631\\u064d \\u0650\\u0645\\u062c\\u0645\\u0648\\u064d\\u0639\\u062a\\u064a\\u0652 \\u0627\\u0650\\u0644\\u064d\\u0642\\u064b\\u0635\\u064d\\u0635\\u064a\\u064f\\u0629 \\u064d\\u0627\\u0644\\u062b\\u0627\\u0652\\u0646\\u064a\\u0652\\u0629\\u060c\\u064e \\u064c\\u0648\\u0643\\u0627\\u0650\\u0646\\u0650 \\u064b\\u0623\\u064f\\u0646\\u064e \\u062a\\u0634\\u064b\\u062c\\u0652\\u0639\\u064c\\u062a \\u0628\\u0639\\u064d\\u062f \\u064b\\u0630\\u0651\\u0644\\u0652\\u0643\\u064f . \\u0648\\u0623\\u0634\\u064f\\u0627\\u0631\\u062a \\u0625\\u0651\\u0644\\u064f\\u0649 \\u0636\\u0650\\u0631\\u0648\\u0652\\u0631\\u0651\\u0629\\u064e \\u062d\\u064a\\u0627\\u064e\\u062f\\u064a\\u064b\\u0629\\u064c \\u0627\\u0644\\u0646\\u064e\\u0642\\u0651\\u062f \\u0650\\u0648\\u0623\\u064b\\u0646 \\u062a\\u0650\\u062a\\u0645\\u064c \\u064d\\u0627\\u0652\\u0644\\u0625\\u0634\\u064e\\u0627\\u064f\\u0631\\u064d\\u0629 \\u0652\\u0625\\u0644\\u0649 \\u0623\\u0652\\u064a\\u0650\\u0629 \\u0639\\u0650\\u064a\\u0648\\u0628 \\u0641\\u064a \\u0627\\u064c\\u0644\\u064f\\u0646\\u064c\\u0635\\u064f \\u0627\\u064b\\u0644\\u0625\\u0628\\u062f\\u064c\\u0627\\u0639\\u064a\\u060c \\u062d\\u062a\\u0651\\u0649\\u064e \\u064e\\u064a\\u0650\\u062a\\u0645\\u064e\\u0643\\u0646\\u064f \\u0635\\u0651\\u0627\\u062d\\u0650\\u0628\\u064e\\u0647\\u064f \\u064b\\u0645\\u064b\\u0646\\u064d \\u064d\\u062a\\u062c\\u0627\\u0648\\u0652\\u0632\\u0647\\u0627\\u0651 .\\u064b\\u0648\\u0639\\u064d\\u0646 \\u0651\\u0623\\u064e\\u0633\\u0628\\u0650\\u0627\\u0628 \\u062a\\u0652\\u0648\\u062c\\u0647 \\u064e\\u0627\\u0644\\u064b\\u0645\\u0631\\u0623\\u0629\\u064b \\u0625\\u0644\\u0650\\u0649\\u064d \\u0643\\u064b\\u062a\\u0652\\u0627\\u064e\\u0628\\u0629 \\u0627\\u0644\\u0631\\u0648\\u064e\\u0627\\u064a\\u064d\\u0629 \\u064d\\u0648\\u0627\\u064b\\u0644\\u064c\\u0642\\u064d\\u0635\\u0629\\u064f \\u0642\\u0627\\u0651\\u0644\\u062a\\u064d: \\u064e\\u062b\\u064f\\u0645\\u0629 \\u064b\\u062d\\u0651\\u0631\\u064a\\u064e\\u0629\\u064e \\u064c\\u0645\\u064f\\u062a\\u0627\\u064b\\u062d\\u0629 \\u0644\\u064f\\u0644\\u064b\\u0643\\u0627\\u062a\\u0628\\u064d\\u0629\\u060c\\u064e \\u0650\\u0643\\u064e\\u064a \\u062a\\u064c\\u0646\\u062e\\u064f\\u0631\\u0637\\u064f \\u0641\\u064e\\u064a \\u064b\\u0639\\u064d\\u0645\\u0644\\u064a\\u064b\\u0629\\u064b \\u0627\\u0652\\u0644\\u064c\\u0643\\u064c\\u062a\\u064e\\u0627\\u0628\\u064e\\u0629\\u064b \\u0648\\u0627\\u0644\\u0652\\u0625\\u0628\\u062f\\u0627\\u0639 \\u0648\\u064d\\u0623\\u064d\\u0646 \\u0650\\u0627\\u0644\\u0645\\u0631\\u0623\\u0629 \\u062a\\u0651\\u0643\\u064e\\u062a\\u064c\\u0628 \\u064b\\u0623\\u064d\\u062d\\u064a\\u0627\\u064b\\u0646\\u0627\\u064b\\u064b\\u060c\\u064f \\u0644\\u0625\\u062d\\u064e\\u0633\\u0627\\u0651\\u0633\\u064e\\u0647\\u0627\\u064d \\u0623\\u0646\\u064b \\u0652\\u0635\\u0648\\u062a\\u064d\\u0647\\u0627 \\u064e\\u063a\\u064f\\u064a\\u0631\\u064f \\u0645\\u064f\\u0633\\u064f\\u0645\\u0648\\u0639\\u064f\\u060c \\u0644\\u0630\\u064b\\u0644\\u0643 \\u0641\\u064f\\u0625\\u0646\\u0652\\u0647\\u0627\\u064b \\u062a\\u062c\\u062f\\u0650 \\u0641\\u064e\\u064a \\u0651\\u0627\\u0644\\u0643\\u0650\\u062a\\u0627\\u0628\\u0651\\u0629 \\u0648\\u0651\\u0633\\u064b\\u064a\\u0644\\u0650\\u0629 \\u064f\\u0644\\u064e\\u0625\\u064a\\u0652\\u0635\\u0652\\u0627\\u0644 \\u064d\\u0635\\u0652\\u0648\\u064e\\u062a\\u064b\\u0647\\u0627 \\u0625\\u064c\\u0644\\u0649\\u064f \\u0645\\u064f\\u0646\\u064f \\u062d\\u0648\\u0644\\u0647\\u064e\\u0627 \\u064b.\",\n          \"https://example.com/resource/\\u0642\\u064e\\u0627\\u0644\\u0652 \\u0627\\u0652\\u0644\\u0634\\u0652\\u064a\\u0650\\u062e \\u0645\\u062d\\u064a\\u064a\\u0651 \\u064e\\u0627\\u0644\\u064f\\u062f\\u064a\\u0652\\u0646\\u0651 \\u0631\\u062d\\u0645\\u0650\\u0647\\u064b \\u064f\\u0627\\u0644\\u0644\\u0647 \\u064e\\u0645\\u062d\\u064b\\u062f\\u062b\\u0627\\u0652\\u064b\\u0650 \\u0646\\u0641\\u0633\\u064f\\u0647:\\u064e \\u0647\\u064d\\u0630\\u064d\\u0627\\u064d \\u064f\\u0623\\u064d\\u0628\\u0648\\u064f\\u0628\\u0643\\u064b\\u0631\\u064b \\u0651\\u0627\\u0651\\u0644\\u064c\\u0635\\u062f\\u064d\\u064a\\u0651\\u0642 \\u0631\\u0636\\u0650\\u064a\\u064d \\u0627\\u0644\\u064d\\u0644\\u0647\\u064c \\u064d\\u0639\\u0646\\u0650\\u0647 \\u0652\\u0631\\u0648\\u064e\\u0649 \\u0627\\u0652\\u0628\\u064d\\u0646 \\u0639\\u0652\\u0628\\u0652\\u0627\\u0633\\u064d \\u0623\\u0650\\u0646\\u0647\\u064c \\u062e\\u064d\\u0631\\u064b\\u062c\\u0652 \\u0639\\u064c\\u0646\\u064c\\u062f\\u0645\\u0650\\u0627 \\u0652\\u062a\\u0648\\u0641\\u0652\\u064a \\u064f\\u0627\\u064c\\u0644\\u064c\\u0646\\u0628\\u064b\\u064a \\u0650\\u0635\\u0651\\u0644\\u0652\\u0649\\u064b \\u0627\\u064c\\u0644\\u0644\\u064b\\u0647 \\u064e\\u0639\\u064b\\u0644\\u064d\\u064a\\u064c\\u0647 \\u0650\\u0648\\u0633\\u064f\\u0644\\u0645\\u0651 \\u0648\\u064e\\u0639\\u0645\\u0631\\u064e \\u0631\\u0652\\u0636\\u0650\\u064a\\u064b \\u0627\\u0644\\u064e\\u0644\\u064e\\u0647\\u0652 \\u0651\\u0639\\u0646\\u064d\\u0647 \\u064b\\u064a\\u0643\\u064c\\u0644\\u0645\\u0651 \\u0627\\u064c\\u0644\\u064f\\u0646\\u064d\\u0627\\u064c\\u0633\\u060c \\u0641\\u0642\\u0627\\u064d\\u0644:\\u0651 \\u0652\\u0627\\u064d\\u062c\\u0644\\u064d\\u0633 \\u064b\\u064a\\u064d\\u0627 \\u0650\\u0639\\u064c\\u0645\\u0652\\u0631\\u060c \\u0650\\u0641\\u064e\\u0623\\u064d\\u0628\\u064d\\u0649 \\u064c\\u0639\\u064e\\u0645\\u0631 \\u0623\\u064e\\u0646 \\u064a\\u062c\\u0644\\u064d\\u0633\\u064b\\u060c \\u064c\\u0641\\u0651\\u0642\\u0627\\u064c\\u0644: \\u0651\\u0627\\u0652\\u062c\\u064b\\u0644\\u0651\\u0633 \\u064a\\u064c\\u0627\\u064e \\u0639\\u0645\\u0631 \\u0651\\u062b\\u0651\\u0645\\u0651 \\u064b\\u062a\\u0634\\u0651\\u0647\\u062f\\u064f \\u0650\\u0648\\u0642\\u0627\\u064d\\u0644:\\u064c \\u0623\\u0645\\u0650\\u0627\\u0651 \\u064c\\u0628\\u064e\\u0639\\u064e\\u062f \\u0641\\u0645\\u0650\\u0646 \\u0650\\u0643\\u0627\\u0646 \\u0652\\u0645\\u0646\\u0643\\u0645 \\u064e\\u064a\\u064b\\u0639\\u0628\\u062f \\u064e\\u0645\\u0650\\u062d\\u0645\\u064d\\u062f\\u0651\\u0627\\u064b\\u064c \\u0650\\u0641\\u0625\\u0646\\u064c \\u064d\\u0645\\u064b\\u062d\\u0645\\u0652\\u062f\\u064b\\u0627\\u064b\\u064d \\u064d\\u0642\\u064e\\u062f\\u0652 \\u0652\\u0645\\u0652\\u0627\\u062a\\u060c\\u064f \\u0651\\u0648\\u0645\\u0646 \\u064f\\u0643\\u064f\\u0627\\u0646\\u064b \\u064d\\u0645\\u0651\\u0646\\u0643\\u0645\\u064b \\u064a\\u0639\\u064c\\u0628\\u064b\\u062f \\u064e\\u0627\\u0650\\u0644\\u0644\\u0651\\u0647 \\u0639\\u0650\\u0632\\u0650 \\u064d\\u0648\\u062c\\u0650\\u0644\\u064b \\u0641\\u0650\\u0625\\u064e\\u0646\\u064c \\u064e\\u0627\\u0644\\u064f\\u0644\\u0647 \\u064f\\u062d\\u064e\\u064a\\u0652 \\u0650\\u0644\\u064b\\u0627\\u0651 \\u0652\\u064a\\u0645\\u0648\\u064e\\u062a\\u060c\\u064e \\u0652\\u062b\\u0645 \\u0651\\u062a\\u0650\\u0644\\u064e\\u0627\\u064e \\u064d\\u0642\\u0652\\u0648\\u0644\\u064e\\u0647 \\u062a\\u0651\\u0639\\u064f\\u0627\\u0650\\u0644\\u0649\\u0652:\\u0651 \\u0651\\u0648\\u064f\\u0645\\u064b\\u0627\\u0652 \\u064d\\u0645\\u062d\\u064b\\u0645\\u064c\\u062f\\u0652 \\u064b\\u0625\\u0652\\u0644\\u0651\\u0627 \\u0631\\u064d\\u0633\\u064d\\u0648\\u0644\\u0650 \\u0642\\u0651\\u062f \\u062e\\u064f\\u0644\\u062a \\u0645\\u064e\\u0646 \\u0652\\u0642\\u0652\\u0628\\u0652\\u0644\\u0647 \\u0627\\u064f\\u0644\\u0631\\u0633\\u064e\\u0644 \\u064c\\u0623\\u0641\\u0625\\u064e\\u0646 \\u0645\\u064d\\u0627\\u062a\\u064e \\u0623\\u0648 \\u064f\\u0642\\u062a\\u064f\\u0644\\u0651 \\u0651\\u0627\\u0646\\u0642\\u0644\\u0628\\u064d\\u062a\\u064d\\u0645\\u064f \\u0650\\u0639\\u0644\\u0652\\u0649\\u0651 \\u0623\\u0639\\u0642\\u0627\\u0628\\u0651\\u0643\\u0645 \\u064d.\\u064f (\\u0622\\u064e\\u0644\\u064d \\u0639\\u0645\\u0631\\u0627\\u064e\\u0646\\u0652: 1\\u064e44 \\u064d\\u0641\\u0633\\u0643\\u0646 \\u064b\\u062c\\u0651\\u0623\\u0634\\u064e\\u0647\\u064b\\u0645 \\u064d\\u0628\\u0627\\u064f\\u0644\\u0642\\u0631\\u064e\\u0622\\u0652\\u0646\\u064d \\u064f\\u0648\\u064f\\u0647\\u0648\\u0651 \\u0644\\u0645\\u064e \\u064a\\u064f\\u0632\\u0644 \\u0652\\u0633\\u064e\\u0627\\u0643\\u0646\\u064c \\u0627\\u064c\\u0644\\u064d\\u0642\\u0644\\u0651\\u0628\\u064e \\u0645\\u0639 \\u0627\\u0644\\u064f\\u0631\\u0651\\u062d\\u0652\\u0645\\u064c\\u0646\\u0650\\u060c\\u064d \\u064e\\u0646\\u064f\\u0627\\u0634\\u062f\\u062a\\u064e\\u0643 \\u0627\\u0644\\u064c\\u0644\\u0647 \\u064e\\u064a\\u0627 \\u0651\\u0646\\u064f\\u0641\\u0651\\u0633\\u064c \\u0652\\u0647\\u064d\\u0644 \\u062d\\u064d\\u0635\\u0652\\u0644\\u062a\\u064e \\u0628\\u0627\\u0652\\u0644\\u0633\\u064f\\u0631\\u064b \\u0627\\u064d\\u0644\\u0630\\u0652\\u064a \\u064c\\u062a\\u062f\\u064b\\u0639\\u064a\\u064b \\u0623\\u0652\\u0646\\u0647\\u0650 \\u0642\\u0651\\u062f \\u062d\\u0650\\u0635\\u064f\\u0644\\u0650 \\u064f\\u0644\\u0643\\u064b \\u0645\\u0646 \\u0652\\u0627\\u0644\\u064d\\u062d\\u0651\\u0642 \\u062d\\u0627\\u064e\\u0644\\u0652\\u0627\\u064b\\u064e \\u0648\\u0645\\u0642\\u064b\\u0627\\u0652\\u0645\\u0651\\u0627\\u064b \\u0645\\u064b\\u0646 \\u062a\\u0651\\u0639\\u0651\\u0638\\u064c\\u064a\\u064b\\u0645 \\u0627\\u0644\\u0644\\u0647 \\u0651\\u062a\\u064d\\u0639\\u0650\\u0627\\u0644\\u0649\\u064d \\u0645\\u0650\\u0627 \\u064d\\u0639\\u0652\\u0644\\u064b\\u0645\\u064c\\u062a \\u0652\\u0628\\u064e\\u0647\\u064c \\u064c\\u062a\\u0652\\u0639\\u0638\\u064c\\u064a\\u0650\\u0645 \\u0645\\u064c\\u0646\\u064b \\u0639\\u0638\\u0645 \\u064d\\u0627\\u0644\\u0651\\u0644\\u0650\\u0647 \\u0645\\u0646\\u064f \\u064b\\u062c\\u064d\\u0647\\u0629\\u064e \\u0652\\u062a\\u064f\\u0639\\u0638\\u0650\\u064a\\u0645 \\u064e\\u0627\\u064b\\u0644\\u0644\\u0647 \\u064b\\u0644\\u0651\\u0647\\u064f \\u062b\\u0645 \\u0648\\u0641\\u064a\\u062a\\u0647 \\u062d\\u064e\\u0642\\u0652\\u0647 \\u0641\\u064a\\u0651 \\u0630\\u0650\\u0644\\u0643\\u0651 \\u064c\\u0628\\u0643\\u064f\\u0644\\u0652 \\u0651\\u0634\\u0650\\u064a\\u0651\\u0621\\u064e \\u0650\\u0647\\u0627\\u064d\\u0644\\u0643\\u064d \\u0650\\u0625\\u0650\\u0644\\u0627 \\u0648\\u062c\\u064b\\u0647\\u0650\\u0647\\u064c\\u061f \\u0645\\u0646 \\u063a\\u0650\\u064a\\u0631\\u0651 \\u0651\\u0623\\u0646 \\u062a\\u0633\\u0642\\u0650\\u0637\\u0652\\u064a\\u0650 \\u064c\\u0628\\u064e\\u0627\\u0651\\u0633\\u062a\\u064a\\u0644\\u0627\\u0621 \\u0639\\u0652\\u0638\\u0645\\u064f\\u0629\\u064e \\u064b\\u0627\\u0644\\u064e\\u0644\\u0652\\u0647\\u064c \\u064f\\u0645\\u064c\\u0646 \\u0652\\u0642\\u064e\\u0644\\u064b\\u0628\\u064c\\u0643\\u064c \\u0639\\u0650\\u0638\\u0645\\u064e\\u0629 \\u064f\\u062e\\u064d\\u064a\\u0652\\u0631\\u0652 \\u0627\\u0644\\u0639\\u064c\\u0627\\u064c\\u0644\\u0652\\u0645\\u0652\\u064a\\u0646\\u0652 \\u0625\\u0644\\u0652\\u0649\\u064e \\u064e\\u0645\\u0646 \\u064c\\u062f\\u0648\\u0646\\u0647\\u064c \\u0645\\u0650\\u0646\\u064f \\u0652\\u0627\\u0644\\u062a\\u0639\\u0638\\u064f\\u064a\\u0650\\u0645\\u0652 \\u0650\\u0645\\u064f\\u0642\\u0652\\u0627\\u0645\\u064b\\u0627\\u064b\\u064b \\u0645\\u0633\\u062a\\u0651\\u0635\\u062d\\u0650\\u0628\\u0627\\u0650\\u064b\\u061f\\u064d \\u0642\\u064c\\u0627\\u064c\\u0644\\u062a:\\u0650 \\u0644\\u064c\\u0627 \\u0651\\u0648\\u0652\\u0627\\u064b\\u0644\\u064c\\u0644\\u064e\\u0647\\u0652 \\u064a\\u0627 \\u064e\\u0648\\u064c\\u0644\\u0650\\u064a\\u064a\\u0652 \\u0625\\u0646\\u0651\\u0645\\u0627 \\u0623\\u0646\\u0627\\u0650 \\u0651\\u0628\\u064a\\u0646\\u0652 \\u0641\\u0646\\u0652\\u0627\\u064d\\u0621\\u064b \\u064b\\u0648\\u0628\\u064d\\u0642\\u0627\\u064b\\u0621\\u060c \\u0648\\u062a\\u064d\\u0644\\u064b\\u0627\\u0652\\u0634 \\u0652\\u0648\\u064e\\u0627\\u0646\\u062a\\u064f\\u0639\\u064e\\u0627\\u0652\\u0634\\u0651\\u060c \\u0648\\u0625\\u0642\\u0628\\u0627\\u0644 \\u0648\\u0652\\u0625\\u0652\\u062f\\u0628\\u0650\\u0627\\u0631\\u064d\\u060c\\u0652 \\u064b\\u0648\\u064c\\u0648\\u0635\\u0648\\u0644 \\u0651\\u0648\\u0652\\u0631\\u062c\\u0652\\u0648\\u0639\\u060c\\u064e \\u064d\\u0648\\u0645\\u064e\\u0627\\u064d \\u0643\\u0650\\u0646\\u0650\\u062a\\u0652 \\u0641\\u0647\\u0645\\u062a\\u064d \\u0642\\u064b\\u0637 \\u0651\\u0647\\u0630\\u0627 \\u0627\\u064e\\u0644\\u0643\\u0644\\u0651\\u0627\\u0650\\u0645\\u064f \\u0627\\u064e\\u0644\\u0630\\u064d\\u064a\\u064d \\u062e\\u064d\\u0631\\u064c\\u062c\\u0652 \\u064c\\u0645\\u0646 \\u0641\\u064e\\u0645 \\u0627\\u0644\\u0651\\u0635\\u0650\\u062f\\u064e\\u064a\\u0642\\u064d \\u062d\\u0652\\u062a\\u064e\\u0649 \\u0646\\u064d\\u0628\\u0647\\u062a\\u064e\\u0646\\u0652\\u064a\\u064c \\u0625\\u064d\\u0644\\u0652\\u064a\\u064b\\u0647\\u060c \\u0627\\u0646\\u064c\\u062a\\u0642\\u064d\\u0644 \\u0651\\u0628\\u064a\\u0652 \\u0639\\u0651\\u0646\\u064c \\u0650\\u0647\\u0652\\u0630\\u0627 \\u0650\\u0627\\u0652\\u0644\\u064e\\u0645\\u0642\\u0627\\u0645 \\u0641\\u0642\\u062f \\u064b\\u0641\\u0635\\u064d\\u0645 \\u064f\\u0638\\u0647\\u0651\\u0631\\u064d\\u064a\\u064b \\u0650. \\u064f(\\u0631\\u0648\\u062d \\u0627\\u064e\\u0644\\u064e\\u0642\\u062f\\u0633\\u0651 \\u064d39-\\u064f40) \\u0651.\\u0648\\u0627\\u064c\\u0644\\u0634\\u064c\\u064a\\u062e \\u064d\\u0647\\u0650\\u0646\\u0650\\u0627 \\u064e\\u064a\\u0652\\u0642\\u0641 \\u0623\\u0645\\u064d\\u0627\\u0645\\u0650 \\u0645\\u0651\\u0648\\u0650\\u0642\\u0641 \\u0644\\u0650\\u0644\\u064e\\u0635\\u062f\\u064c\\u064a\\u0642\\u064b \\u0631\\u0636\\u064f\\u064a \\u0627\\u0652\\u0644\\u064f\\u0644\\u0652\\u0647\\u064b \\u0652\\u0639\\u0646\\u064b\\u0647 \\u0652\\u062b\\u0650\\u0628\\u062a \\u064f\\u0641\\u0650\\u064a\\u0647\\u064d \\u062b\\u0628\\u064e\\u0627\\u064d\\u062a\\u064c \\u0627\\u064b\\u0644\\u064c\\u062c\\u064b\\u0628\\u0627\\u064d\\u0644\\u0650\\u060c\\u064b \\u064f\\u0641\\u0645\\u0650\\u0627 \\u0645\\u0646\\u064c \\u0645\\u0635\\u0627\\u0650\\u0628\\u064e \\u0645\\u064c\\u0631 \\u064d\\u0639\\u0644\\u0652\\u0649 \\u0627\\u064f\\u0644\\u064f\\u0635\\u062d\\u0650\\u0627\\u064f\\u0628\\u064b\\u0629 \\u0631\\u0636\\u0648\\u064c\\u0627\\u0646 \\u0627\\u064f\\u0644\\u064d\\u0644\\u0647 \\u0652\\u0639\\u0644\\u0652\\u064a\\u0647\\u0645 \\u0643\\u064d\\u0645\\u0648\\u062a \\u0627\\u0644\\u064c\\u0631\\u064c\\u0633\\u064d\\u0648\\u0644\\u0651 \\u064b\\u0627\\u0644\\u0652\\u0623\\u0639\\u064b\\u0638\\u064c\\u0645 \\u064c\\u0635\\u0651\\u0644\\u064b\\u0649 \\u0627\\u0644\\u064e\\u0644\\u0652\\u0647\\u064c \\u064f\\u0639\\u0644\\u064a\\u064d\\u0647\\u064d \\u064b\\u0648\\u0633\\u0644\\u0650\\u0645\\u060c\\u0652 \\u064b\\u0648\\u0628\\u0651\\u0648\\u064b\\u0641\\u0627\\u064e\\u062a\\u0647 \\u0627\\u0646\\u0642\\u0650\\u0637\\u0639\\u0650 \\u0651\\u0648\\u064e\\u062d\\u064a \\u0627\\u0644\\u064e\\u0633\\u0650\\u0645\\u064c\\u0627\\u064c\\u0621 \\u0648\\u064e\\u0632\\u0627\\u0644\\u064b \\u064b\\u0645\\u0646\\u064f \\u0641\\u0648\\u064d\\u0642\\u064d \\u0627\\u0644\\u0650\\u0623\\u0631\\u0636 \\u0645\\u0646\\u064b \\u064e\\u0643\\u0627\\u0646\\u064d \\u064a\\u0650\\u0645\\u0651\\u0644\\u0623 \\u0642\\u0644\\u064c\\u0648\\u0652\\u0628 \\u0650\\u0635\\u062d\\u0652\\u0628\\u0647 \\u0628\\u064b\\u0627\\u0644\\u062d\\u0628 \\u064d\\u0648\\u0627\\u064f\\u0644\\u0637\\u0645\\u0623\\u064d\\u0646\\u064e\\u064a\\u064b\\u0646\\u0629 \\u0648\\u064d\\u0627\\u064b\\u0644\\u064c\\u0623\\u0652\\u0645\\u0627\\u0646\\u0651 \\u0648\\u064f\\u0627\\u0644\\u0628\\u064d\\u0634\\u0652\\u0631\\u0649 \\u064d\\u0648\\u0627\\u0644\\u0623\\u0652\\u0645\\u0652\\u0644\\u060c\\u064f \\u0651\\u0630\\u0650\\u0644\\u0651\\u0643 \\u0650\\u064a\\u064f\\u0648\\u0645 \\u0651\\u0634\\u0652\\u0647\\u0651\\u062f\\u064d\\u062a\\u0650\\u0647 \\u064e\\u0627\\u064b\\u0644\\u064d\\u0645\\u0652\\u062f\\u064a\\u064c\\u0646\\u0629\\u064c \\u064f\\u0627\\u0644\\u0645\\u0646\\u0650\\u0648\\u0631\\u0629 \\u0641\\u064c\\u0644\\u0645\\u064e \\u064f\\u064a\\u0651\\u0628\\u064f\\u0642 \\u0652\\u0641\\u0650\\u064a\\u0647\\u0627 \\u0625\\u0652\\u0644\\u064e\\u0627 \\u0645\\u0651\\u0646 \\u0646\\u0652\\u0634\\u062c \\u0635\\u064c\\u062f\\u0631\\u0651\\u0647\\u064c \\u0651\\u0628\\u0627\\u064c\\u0644\\u0628\\u0643\\u064f\\u0627\\u0651\\u0621\\u0650\\u060c \\u0628\\u0644\\u064d \\u064f\\u0625\\u0646\\u0650 \\u0627\\u0644\\u062d\\u0632\\u0651\\u0646 \\u0627\\u0644\\u064e\\u0630\\u064a\\u064c \\u064e\\u0623\\u064b\\u0644\\u064f\\u0645\\u0651\\u064c \\u0628\\u064c\\u0642\\u0644\\u064c\\u0648\\u064b\\u0628 \\u0627\\u064b\\u0644\\u0635\\u062d\\u0627\\u0628\\u0652\\u0629 \\u0652\\u0631\\u0650\\u0636\\u0652\\u0648\\u064e\\u0627\\u064f\\u0646\\u064d \\u0627\\u0651\\u0644\\u0652\\u0644\\u0647 \\u0652\\u0639\\u064e\\u0644\\u064a\\u0647\\u064f\\u0645 \\u0645\\u0627\\u064b \\u064d\\u0632\\u0627\\u0652\\u0644 \\u064a\\u064e\\u062c\\u062f\\u064e \\u064e\\u0637\\u064c\\u0631\\u064a\\u0642\\u064f\\u0647\\u064c \\u0625\\u0651\\u0644\\u0649\\u064c \\u0642\\u0644\\u0650\\u0648\\u0628\\u0646\\u0627\\u064d \\u0628\\u0639\\u064b\\u062f \\u0643\\u0652\\u0644\\u064d \\u0647\\u0630\\u0647\\u064f \\u0627\\u0651\\u0644\\u0642\\u0631\\u064c\\u0648\\u0646\\u064e\\u060c\\u0652 \\u0635\\u0627\\u062d\\u0628 \\u0627\\u0644\\u0634\\u064d\\u0645\\u0627\\u064f\\u0626\\u0644 \\u0650\\u0648\\u064e\\u0627\\u0644\\u0644\\u0650\\u0637\\u0627\\u0650\\u0626\\u0641\\u0651 \\u0648\\u064d\\u0627\\u0644\\u062e\\u064e\\u0635\\u064f\\u0627\\u0644\\u064c \\u0627\\u064c\\u0644\\u062a\\u064a \\u0645\\u0627\\u0652 \\u0651\\u0643\\u0645\\u0644\\u062a\\u064e \\u0644\\u064b\\u0627\\u0628\\u0646 \\u0651\\u0622\\u064c\\u062f\\u064b\\u0645\\u064b \\u0651\\u0643\\u064b\\u0645\\u064d\\u0627 \\u064c\\u0643\\u0645\\u0652\\u0644\\u062a\\u064e \\u0651\\u0644\\u0647\\u060c \\u064b\\u0643\\u0651\\u0627\\u0646 \\u0639\\u064e\\u0638\\u064a\\u0645\\u0627\\u064b\\u064b \\u0651\\u0641\\u064a\\u0652 \\u0642\\u0644\\u064b\\u0648\\u064f\\u0628\\u0652 \\u064c\\u0627\\u0651\\u0644\\u0651\\u0635\\u064c\\u062d\\u064c\\u0627\\u0628\\u0629 \\u0644\\u064b\\u0643\\u0645\\u064c\\u0627\\u0644\\u064e\\u0627\\u062a\\u0652\\u0647\\u060c\\u064c \\u0648\\u0650\\u0644\\u0650\\u062a\\u0639\\u0638\\u064a\\u0645 \\u0627\\u0651\\u0644\\u064f\\u0644\\u0647\\u0652 \\u064d\\u0644\\u0647\\u064e\\u060c \\u0648\\u0644\\u064a\\u0651\\u0633\\u0650 \\u0645\\u0651\\u0646 \\u0650\\u0633\\u0645\\u064b\\u0639 \\u0643\\u064b\\u0645\\u0646 \\u0650\\u0631\\u064f\\u0623\\u0649\\u0650 \\u0648\\u0639\\u0627\\u064a\\u0634\\u060c \\u0651\\u0648\\u064c\\u064a\\u0633\\u0623\\u0651\\u0644\\u064e \\u0627\\u0644\\u0650\\u0634\\u064a\\u064c\\u062e \\u0646\\u064e\\u0641\\u0633\\u064c\\u0647:\\u064d \\u0647\\u0644 \\u062d\\u064f\\u0644 \\u0652\\u0628\\u0643 \\u064c\\u062d\\u064c\\u0627\\u064e\\u0644 \\u064b\\u0643\\u064f\\u062d\\u0650\\u0627\\u0644\\u064c \\u0627\\u064c\\u0644\\u0635\\u062f\\u0651\\u064a\\u0642 \\u0648\\u0652\\u0642\\u062f \\u0641\\u0627\\u0631\\u0642\\u0652\\u0647\\u064c \\u0645\\u062d\\u0628\\u0648\\u0628\\u0651\\u0647 \\u0627\\u064b\\u0644\\u0650\\u0639\\u0638\\u0650\\u064a\\u0645 \\u0650\\u0641\\u064c\\u064a \\u0646\\u0641\\u0633\\u0647\\u0650\\u060c\\u064b \\u0627\\u064d\\u0644\\u0639\\u0638\\u064e\\u064a\\u064c\\u0645 \\u0639\\u0646\\u064d\\u062f\\u064e \\u064b\\u0631\\u0628\\u0650\\u0647\\u0651\\u060c\\u064d \\u062d\\u0627\\u064b\\u0644 \\u062d\\u0632\\u064f\\u0646\\u064c \\u064a\\u062f\\u0643\\u064f \\u064f\\u0627\\u0644\\u0650\\u0646\\u0641\\u064f\\u0633\\u0651 \\u0648\\u064a\\u0633\\u0650\\u062d\\u064d\\u0642\\u0647\\u064c\\u0627\\u0652\\u060c \\u062b\\u0645\\u064f \\u064d\\u0648\\u0627\\u064d\\u062c\\u0651\\u0647\\u064b\\u062a\\u064c \\u0643\\u0644\\u064c \\u064f\\u0647\\u0630\\u0627\\u0652 \\u064e\\u0628\\u0643\\u0651\\u0644 \\u064e\\u0634\\u064a\\u0650\\u0621\\u0652 \\u0647\\u0650\\u0627\\u0644\\u064d\\u0643 \\u0652\\u0625\\u0651\\u0644\\u0627 \\u0648\\u0652\\u062c\\u0647\\u0647\\u061f \\u064a\\u0627\\u064c \\u064b\\u0644\\u064d\\u0631\\u0633\\u064b\\u0648\\u062e\\u064f \\u0627\\u0644\\u062a\\u0648\\u062d\\u064a\\u064f\\u062f \\u0652\\u0627\\u064f\\u0644\\u0630\\u064a \\u064b\\u062c\\u064b\\u0639\\u0644\\u064b \\u064b\\u0627\\u0644\\u064b\\u0635\\u062f\\u064a\\u064b\\u0642 \\u0642\\u064f\\u0627\\u064c\\u062f\\u0631\\u0650\\u0627\\u064d\\u064b \\u064f\\u0639\\u0644\\u0649\\u0651 \\u0650\\u0623\\u0646\\u064b \\u064b\\u064a\\u0652\\u0633\\u062a\\u064f\\u0637\\u064a\\u0652\\u0639 \\u064e\\u0623\\u0650\\u0646 \\u064a\\u0633\\u0651\\u0643\\u062a\\u0651 \\u064c\\u0639\\u0651\\u0645\\u0631 \\u0631\\u0636\\u064a \\u0652\\u0627\\u0644\\u0644\\u064b\\u0647\\u064f \\u064d\\u0639\\u0651\\u0646\\u064c\\u0647\\u064c \\u064b\\u0648\\u0652\\u0645\\u0646 \\u0645\\u0652\\u0639\\u064f\\u0647 \\u0645\\u0639\\u064e \\u0652\\u0645\\u0642\\u0627\\u064c\\u0645\\u0647\\u0645 \\u0627\\u0644\\u064c\\u0645\\u0631\\u064c\\u0645\\u064d\\u0648\\u064d\\u0642\\u0650\\u060c\\u064f \\u064e\\u0648\\u064e\\u0623\\u0652\\u0646 \\u064a\\u0644\\u0642\\u064b\\u064a\\u064f \\u064f\\u0627\\u064d\\u0644\\u0645\\u0651\\u0627\\u064f\\u0621 \\u0639\\u0644\\u064b\\u0649\\u064d \\u0627\\u0652\\u0644\\u0646\\u0651\\u0627\\u064b\\u0631 \\u0628\\u0643\\u0644\\u064b \\u064f\\u0634\\u064a\\u0621 \\u064d\\u0647\\u0627\\u0644\\u0643\\u0652 \\u064b\\u0625\\u0644\\u064d\\u0627 \\u0650\\u0648\\u0650\\u062c\\u0647\\u0647\\u064d\\u060c\\u064d \\u064c\\u062b\\u0650\\u0645\\u0650 \\u064d\\u0628\\u0627\\u0651\\u0644\\u064c\\u0642\\u0652\\u0631\\u064b\\u0622\\u0646 \\u0627\\u0644\\u0650\\u0643\\u064c\\u0631\\u064f\\u064a\\u064e\\u0645 \\u064f\\u0627\\u064c\\u0644\\u0630\\u0652\\u064a\\u0651 \\u064c\\u0642\\u0652\\u0627\\u0644\\u064b \\u064b\\u064a\\u0648\\u064d\\u0645\\u064f\\u0647\\u0652\\u0627\\u064e \\u0652\\u0639\\u0645\\u0631 \\u0639\\u064d\\u0646\\u0647 -\\u064c \\u0652\\u0639\\u064e\\u0646 \\u0627\\u064e\\u0644\\u0622\\u064a\\u0650\\u0629 - \\u0650\\u0643\\u064b\\u0623\\u064d\\u0646\\u0650\\u0646\\u064c\\u064a \\u064d\\u0633\\u0645\\u0651\\u0639\\u062a\\u0647\\u064e\\u0627 \\u0644\\u0623\\u0651\\u0648\\u0644\\u0652 \\u0651\\u0645\\u0631\\u064c\\u0629\\u060c \\u064f\\u0645\\u0646 \\u0652\\u062f\\u0648\\u0646 \\u0623\\u0652\\u0646 \\u064a\\u0639\\u0646\\u064c\\u064a\\u0652 \\u0652\\u0630\\u0644\\u0652\\u0643\\u064b \\u0651\\u0625\\u0652\\u0633\\u0642\\u0651\\u0627\\u0637\\u0651 \\u0645\\u0646\\u0632\\u0644\\u0629\\u0650 \\u064d\\u0627\\u0644\\u0645\\u0641\\u064e\\u0642\\u064e\\u0648\\u0650\\u062f\\u064c\\u060c \\u0650\\u0648\\u0625\\u064b\\u0646\\u0645\\u0652\\u0627\\u064e \\u0647\\u064c\\u064a \\u064e\\u0639\\u0650\\u0638\\u0645\\u0629 \\u0643\\u0644\\u0652 \\u0650\\u0645\\u0646\\u0652 \\u0639\\u0644\\u064b\\u064a\\u064b\\u0647\\u0627 \\u0641\\u0627\\u0646\\u060c \\u0651\\u0648\\u0639\\u064e\\u0638\\u0645\\u064d\\u0629 \\u0651\\u0644\\u0645\\u0646\\u064c \\u0651\\u0627\\u064d\\u0644\\u0645\\u0644\\u064f\\u0643\\u064d \\u064e\\u0627\\u0644\\u0622\\u064f\\u0646\\u064d\\u060c \\u0648\\u0650\\u0639\\u064f\\u0638\\u0651\\u0645\\u0629\\u0650 \\u0648\\u064a\\u0628\\u064b\\u0642\\u064c\\u0649 \\u064b\\u0648\\u062c\\u064e\\u0647 \\u064c\\u0631\\u0650\\u0628\\u0643 \\u064f\\u0630\\u0650\\u0648\\u064f \\u064f\\u0627\\u064c\\u0644\\u0650\\u062c\\u064c\\u0644\\u064b\\u0627\\u0644\\u0651 \\u064c\\u0648\\u064c\\u0627\\u0652\\u0644\\u0625\\u0651\\u0643\\u064c\\u0631\\u0627\\u0651\\u0645\\u064e \\u0648\\u064e\\u0639\\u0638\\u064f\\u0645\\u0629 \\u0652\\u0643\\u064c\\u0644\\u064e \\u064c\\u0634\\u064a\\u064d\\u0621\\u0650 \\u0647\\u0627\\u0644\\u0643\\u064c \\u0650\\u0625\\u0644\\u064d\\u0627\\u0650 \\u064b\\u0648\\u062c\\u064d\\u0647\\u0647\\u0651 \\u0650\\u062d\\u064d\\u062a\\u0652\\u0649\\u0651 \\u062d\\u064b\\u0628\\u064a\\u064f\\u0628\\u064f \\u064e\\u0627\\u064b\\u0644\\u0651\\u0644\\u064e\\u0647 \\u0648\\u062d\\u0628\\u064a\\u064d\\u0628 \\u0627\\u064e\\u0644\\u064d\\u0642\\u064f\\u0644\\u064d\\u0648\\u0651\\u0628\\u064d .\\u0642\\u064f\\u0627\\u0644\\u0651\\u062a \\u064b\\u0646\\u0641\\u0633 \\u0627\\u0644\\u0634\\u0651\\u064a\\u064e\\u062e:\\u064d \\u0623\\u064b\\u064a\\u064f\\u0646\\u0651 \\u064e\\u0623\\u0646\\u0652\\u0627\\u0652 \\u064d\\u0645\\u0646 \\u0645\\u064b\\u0642\\u0627\\u0652\\u0645\\u064c \\u064d\\u0627\\u064f\\u0644\\u0650\\u0635\\u0652\\u062f\\u064a\\u0642\\u064b \\u0651\\u0648\\u0642\\u062f \\u0651\\u062a\\u062d\\u064f\\u0645\\u0651\\u0644 \\u0641\\u064e\\u064a \\u0647\\u0630\\u064c\\u0627\\u064c \\u0627\\u0650\\u0644\\u064c\\u0645\\u0650\\u0648\\u0642\\u0641 \\u0645\\u0627 \\u064a\\u062f\\u0643\\u0650 \\u0627\\u0644\\u064d\\u062c\\u0651\\u0628\\u0627\\u0644\\u061f\\u0651 \\u0641\\u0651\\u0645\\u0639 \\u0639\\u064f\\u0638\\u0645 \\u062d\\u064f\\u0628\\u0652\\u0647 \\u0644\\u0645\\u062d\\u064e\\u0628\\u0648\\u0628\\u0647\\u064c \\u0634\\u064f\\u0647\\u064c\\u0631\\u064b \\u0633\\u064a\\u064d\\u0641 \\u0652\\u0627\\u064c\\u0644\\u0650\\u062a\\u0648\\u062d\\u064e\\u064a\\u062f \\u0650\\u0639\\u0644\\u064d\\u0649 \\u0646\\u0641\\u0633\\u0647\\u064c \\u064f\\u0648\\u064f\\u0645\\u0646\\u0650 \\u062d\\u064f\\u0648\\u0644\\u0647 \\u0644\\u064a\\u0650\\u062f\\u0631\\u0623 \\u064d\\u0641\\u062a\\u064f\\u0646\\u064f\\u0629 \\u0645\\u0651\\u0627 \\u0643\\u0627\\u0646\\u064c \\u0644\\u064d\\u0647\\u0627\\u0650 \\u064d\\u0625\\u0644\\u0627\\u064c \\u064c\\u0627\\u064f\\u0644\\u0652\\u0635\\u064b\\u062f\\u0650\\u064a\\u0642 \\u0651\\u0631\\u064b\\u0636\\u064a \\u064c\\u0627\\u064f\\u0644\\u0644\\u0647 \\u0639\\u064d\\u0646\\u064c\\u0647\\u060c \\u064d\\u0623\\u064c\\u0644\\u0633\\u064f\\u0646\\u064d\\u0627\\u064d \\u0652\\u062c\\u0651\\u0645\\u064a\\u0639\\u0627\\u064b \\u064c\\u0641\\u064a \\u0623\\u0650\\u062d\\u0648\\u0651\\u0627\\u064e\\u0644\\u0646\\u0627\\u0652 \\u064d\\u0643\\u064c\\u0645\\u0627 \\u0650\\u0642\\u0627\\u0644\\u0651\\u062a\\u0650 \\u0646\\u0641\\u064e\\u0633\\u064e \\u0627\\u064f\\u0644\\u0634\\u064a\\u064e\\u062e \\u0628\\u064e\\u064a\\u0646 \\u064f\\u0641\\u0646\\u0627\\u0621 \\u0648\\u064e\\u0628\\u0651\\u0642\\u0627\\u0651\\u0621 \\u0648\\u0651\\u062a\\u0644\\u064f\\u0627\\u0651\\u0634 \\u0648\\u0650\\u0627\\u0646\\u062a\\u064d\\u0639\\u0627\\u0634\\u0652 \\u0648\\u0625\\u0642\\u0628\\u0627\\u0644 \\u0648\\u064b\\u0625\\u064c\\u062f\\u064c\\u0628\\u0652\\u0627\\u0631 \\u064f\\u0648\\u0648\\u0635\\u0650\\u0648\\u064b\\u0644\\u0650 \\u0648\\u0651\\u0631\\u062c\\u064c\\u0648\\u064d\\u0639\\u064c\\u060c\\u064c \\u062a\\u0632\\u064a\\u063a \\u0642\\u0644\\u0648\\u0650\\u0628\\u0646\\u0627 \\u0644\\u0650\\u062e\\u0633\\u064c\\u0627\\u0626\\u0652\\u0631 \\u064d\\u0645\\u064c\\u0627\\u064e \\u064d\\u0623\\u064c\\u062a\\u0652\\u0641\\u0647\\u064c\\u0647\\u064d\\u0627 \\u0623\\u0652\\u0645\\u064d\\u0627\\u0645 \\u064d\\u0641\\u0642\\u064d\\u062f\\u064b \\u064c\\u0627\\u0644\\u062d\\u064f\\u0628\\u064a\\u0628\\u064c \\u0650\\u0645\\u064c\\u062d\\u0645\\u062f\\u064b \\u0635\\u0644\\u064d\\u0649\\u064d \\u064f\\u0627\\u064e\\u0644\\u064d\\u0644\\u0647 \\u0651\\u0639\\u064c\\u0644\\u064a\\u0647 \\u0648\\u0633\\u0644\\u0645\\u060c \\u0641\\u0645\\u0646\\u064d \\u0651\\u0645\\u0651\\u0646\\u0627 \\u0652\\u0644\\u0627 \\u064c\\u064a\\u0652\\u0636\\u064a\\u064e\\u0642 \\u064b\\u0635\\u0652\\u062f\\u0631\\u064c\\u0647 \\u0644\\u064b\\u0648\\u064d\\u0638\\u064d\\u064a\\u0650\\u0641\\u0651\\u0629 \\u0652\\u0641\\u064c\\u0642\\u0651\\u062f\\u0647\\u0627\\u064e \\u0623\\u064b\\u0648 \\u0644\\u064d\\u062e\\u0633\\u0627\\u0631\\u064f\\u0629\\u0652 \\u0648\\u0642\\u0639 \\u0641\\u064a\\u064c\\u0647\\u064d\\u0627 \\u0652\\u0623\\u0648 \\u064c\\u0644\\u064e\\u0645\\u0648\\u064e\\u062a \\u064e\\u0639\\u0651\\u0632\\u064a\\u0632\\u064e \\u0652\\u0645\\u0627 \\u0648\\u0651\\u062c\\u064c\\u062f \\u064c\\u0625\\u0644\\u0627 \\u0644\\u064a\\u0631\\u064e\\u062d\\u0644\\u061f\\u064c \\u0623\\u064a\\u0646 \\u064d\\u0644\\u064b\\u0627 \\u064d\\u0625\\u0644\\u064e\\u0647 \\u064b\\u0625\\u0644\\u064b\\u0627 \\u0651\\u0627\\u0650\\u0644\\u0644\\u064d\\u0647 \\u0648\\u0652\\u0623\\u064f\\u064a\\u0652\\u0646\\u064f \\u064d\\u0625\\u0646\\u064e\\u0627\\u0651 \\u0643\\u064d\\u0644\\u064f \\u064f\\u0634\\u064d\\u064a\\u0651\\u0621 \\u062e\\u0644\\u0642\\u0646\\u0627\\u0647 \\u0628\\u0642\\u062f\\u064e\\u0631 \\u0650\\u0648\\u0651\\u0623\\u064a\\u064d\\u0646\\u064c \\u0625\\u0651\\u0646\\u0650\\u0643\\u0650 \\u0645\\u064a\\u064f\\u062a \\u0648\\u064b\\u0625\\u0646\\u0650\\u0647\\u0645\\u0651 \\u0645\\u064b\\u064a\\u064b\\u062a\\u064d\\u0648\\u064d\\u0646\\u064e \\u064e\\u0648\\u0623\\u064a\\u064f\\u0646 \\u0644\\u064d\\u0627 \\u0645\\u062d\\u0651\\u064a\\u064a\\u0650 \\u0648\\u064e\\u0644\\u0650\\u0627 \\u0645\\u064d\\u0645\\u0652\\u064a\\u062a \\u0648\\u064c\\u0644\\u0627\\u0652 \\u064d\\u0645\\u0639\\u064b\\u0637\\u064a \\u0652\\u0648\\u0644\\u064d\\u0627\\u064f \\u064b\\u0645\\u0627\\u0646\\u0652\\u0639 \\u0648\\u0644\\u0627 \\u064e\\u0645\\u064f\\u0639\\u0650\\u0632 \\u0650\\u0648\\u064e\\u0644\\u0627\\u064d \\u064e\\u0645\\u0651\\u0630\\u064b\\u0644 \\u0652\\u0625\\u0644\\u064c\\u0627 \\u0627\\u0644\\u064c\\u0644\\u0650\\u0647\\u061f \\u0645\\u0627 \\u064f\\u0645\\u0646 \\u062e\\u0651\\u0633\\u064e\\u0627\\u064d\\u0631\\u064b\\u0629 \\u064f\\u062a\\u0639\\u0627\\u064e\\u062f\\u0644 \\u062e\\u0651\\u0633\\u064b\\u0627\\u0652\\u0631\\u0629\\u0652 \\u0627\\u0652\\u0644\\u0635\\u062f\\u064a\\u0642 \\u0648\\u064d\\u0635\\u062d\\u064f\\u0628\\u064c\\u0647 \\u064f\\u0648\\u0645\\u0646 \\u064b\\u062c\\u0627\\u0621 \\u0628\\u0639\\u062f\\u064e\\u0647 \\u0625\\u0652\\u0644\\u0649\\u0650 \\u064a\\u064d\\u0648\\u0645\\u0652\\u0646\\u0627 \\u0647\\u0650\\u0630\\u0651\\u0627 \\u0641\\u064e\\u064a \\u064b\\u0648\\u0641\\u064e\\u0627\\u064f\\u0629\\u064e \\u0650\\u0633\\u064a\\u062f \\u064c\\u0627\\u0644\\u0652\\u062e\\u0644\\u064e\\u0642 \\u0645\\u062d\\u0651\\u0645\\u0650\\u062f\\u064f \\u064b\\u0635\\u0644\\u064b\\u0649\\u064b \\u0627\\u064e\\u0644\\u0651\\u0644\\u0647\\u064c \\u0639\\u0644\\u064a\\u0647\\u0651 \\u0648\\u064e\\u0633\\u064d\\u0644\\u0650\\u0645\\u064d \\u0627\\u0644\\u0637\\u064c\\u064a\\u0628 \\u0652\\u062d\\u064a\\u0652\\u0627\\u064e\\u064b \\u064c\\u0648\\u0645\\u0652\\u064a\\u064c\\u062a\\u0627\\u0652\\u064b\\u064b \\u064b\\u0648\\u0627\\u0644\\u064f\\u0623\\u0645\\u0652\\u0627\\u0646\\u064d \\u064c\\u0644\\u0623\\u0645\\u062a\\u0647 \\u064a\\u0648\\u0650\\u0645 \\u0652\\u0627\\u0644\\u0642\\u064a\\u0652\\u0627\\u064b\\u0645\\u064e\\u0629\\u064c\\u060c\\u0650 \\u0651\\u0623\\u0645\\u064f\\u0627 \\u064b\\u0646\\u062d\\u0646\\u0650 \\u064d\\u0641\\u0646\\u064c\\u062f\\u0639\\u064d\\u064a \\u0651\\u0627\\u0650\\u0644\\u062a\\u064c\\u0648\\u064f\\u062d\\u0652\\u064a\\u062f \\u0648\\u0627\\u0652\\u0644\\u0625\\u064a\\u0645\\u0627\\u0650\\u0646 \\u0648\\u0642\\u064b\\u0644\\u0652\\u0648\\u064c\\u0628\\u0646\\u0627 \\u0647\\u064f\\u0648\\u0627\\u064c\\u0621\\u064f\\u060c \\u064e\\u0644\\u064d\\u0627\\u064e \\u0651\\u0646\\u0641\\u0647\\u0651\\u0645 \\u0639\\u0646\\u064e \\u0627\\u064e\\u0644\\u064b\\u0644\\u0647\\u0651 \\u064d\\u0623\\u062e\\u0630\\u064c\\u0647 \\u0648\\u0639\\u0637\\u0651\\u0627\\u0621\\u0647\\u060c \\u0648\\u0644\\u0627 \\u0646\\u0633\\u064d\\u0644\\u0652\\u0645 \\u064e\\u0648\\u0650\\u0646\\u0631\\u064b\\u0636\\u0649 \\u064b\\u0628\\u0651\\u0645\\u0652\\u0627 \\u0642\\u064b\\u0633\\u064f\\u0645 \\u0644\\u0650\\u0646\\u064b\\u0627\\u064e \\u0627\\u0644\\u0645\\u0648\\u0644\\u064e\\u0649\\u0650 \\u0643\\u0623\\u064d\\u0646\\u0646\\u0627 \\u064c\\u0645\\u062e\\u0644\\u062f\\u0648\\u0646 \\u0641\\u064a\\u064d \\u064b\\u0647\\u0630\\u064b\\u0647\\u064e \\u0627\\u064d\\u0644\\u062f\\u064b\\u0646\\u064c\\u064a\\u0627\\u064e\\u060c \\u0651\\u0648\\u064d\\u0643\\u0623\\u0646\\u064f\\u0646\\u064d\\u0627\\u064f \\u064f\\u0642\\u062f\\u064d \\u064e\\u0623\\u062e\\u0651\\u0630\\u0646\\u0650\\u0627\\u064e \\u0639\\u0644\\u0650\\u0649 \\u0627\\u0652\\u0644\\u064b\\u0644\\u064e\\u0647\\u0651 \\u0639\\u0647\\u0650\\u062f\\u0627\\u064b \\u0623\\u0644\\u064d\\u0627 \\u064d\\u064a\\u0646\\u064c\\u0642\\u064b\\u0635\\u0646\\u0652\\u0627 \\u0645\\u064f\\u0627\\u064f \\u0623\\u064e\\u0639\\u064f\\u0637\\u0627\\u0646\\u064c\\u0627\\u064c\\u060c \\u064b\\u0642\\u0627\\u064e\\u0644\\u064c \\u0627\\u0651\\u0644\\u0634\\u064a\\u064f\\u062e \\u0644\\u064e\\u0646\\u0641\\u0633\\u064b\\u0647\\u0652 \\u0648\\u0644\\u064f\\u0646\\u064f\\u0627\\u064c \\u064b\\u062c\\u0651\\u0645\\u064e\\u064a\\u0639\\u064c\\u0627\\u064e\\u064b:\\u0650 \\u0652\\u0627\\u0651\\u0646\\u064d\\u0632\\u0644\\u0651\\u0648\\u0627 \\u064e\\u062f\\u064c\\u0631\\u062c\\u0629.\"\n        ],\n        \"semantic_type\": \"\",\n        \"description\": \"\"\n      }\n    },\n    {\n      \"column\": \"label\",\n      \"properties\": {\n        \"dtype\": \"category\",\n        \"num_unique_values\": 7,\n        \"samples\": [\n          \"Culture\",\n          \"Finance\",\n          \"Sports\"\n        ],\n        \"semantic_type\": \"\",\n        \"description\": \"\"\n      }\n    },\n    {\n      \"column\": \"length\",\n      \"properties\": {\n        \"dtype\": \"number\",\n        \"std\": 667,\n        \"min\": 4000,\n        \"max\": 7624,\n        \"num_unique_values\": 2271,\n        \"samples\": [\n          6356,\n          5626,\n          5505\n        ],\n        \"semantic_type\": \"\",\n        \"description\": \"\"\n      }\n    }\n  ]\n}"
            }
          },
          "metadata": {},
          "execution_count": 241
        }
      ]
    },
    {
      "cell_type": "code",
      "source": [
        "df[df.length <= min_length]"
      ],
      "metadata": {
        "colab": {
          "base_uri": "https://localhost:8080/",
          "height": 426
        },
        "id": "OR4Bew7p7m4n",
        "outputId": "52ee1750-c375-43bf-8eb7-e8a58d33bbf2"
      },
      "execution_count": 242,
      "outputs": [
        {
          "output_type": "execute_result",
          "data": {
            "text/plain": [
              "                                                   text    label  length\n",
              "924   https://example.com/resource/يُنظمْ َالنادٍي ا...  Culture     196\n",
              "6208  https://example.com/resource/أًعلنتُ ُشرِكةً ر...  Finance     189\n",
              "6611  https://example.com/resource/أعٍلنْ ُمجلِس ْإْ...  Finance     188\n",
              "6895  https://example.com/resource/دبّي ْ\"ِالَخّليٍج...  Finance     187\n",
              "7104  https://example.com/resource/اَغلق اِلَسلَام ٌ...  Finance     176\n",
              "7461  https://example.com/resource/قررُ ِمجْلْس إَدا...  Finance     184\n",
              "7502  https://example.com/resource/أعاد ّبنكً أبَوُظ...  Finance     186\n",
              "7592  https://example.com/resource/أعلنَ سٌوْق دٌبْي...  Finance     200\n",
              "7902  https://example.com/resource/أوصت َمجُموٌعةّ ٌ...  Finance     184\n",
              "8060  https://example.com/resource/حقِقت اِلَعين َاُ...  Finance     177\n",
              "8473  https://example.com/resource/يجتمِع ٌمٍجلَس إد...  Finance     197\n",
              "8716  https://example.com/resource/ترِاجّعت أرِباّح ...  Finance     179"
            ],
            "text/html": [
              "\n",
              "  <div id=\"df-d664ba33-91d9-4365-8bbd-a96745d37061\" class=\"colab-df-container\">\n",
              "    <div>\n",
              "<style scoped>\n",
              "    .dataframe tbody tr th:only-of-type {\n",
              "        vertical-align: middle;\n",
              "    }\n",
              "\n",
              "    .dataframe tbody tr th {\n",
              "        vertical-align: top;\n",
              "    }\n",
              "\n",
              "    .dataframe thead th {\n",
              "        text-align: right;\n",
              "    }\n",
              "</style>\n",
              "<table border=\"1\" class=\"dataframe\">\n",
              "  <thead>\n",
              "    <tr style=\"text-align: right;\">\n",
              "      <th></th>\n",
              "      <th>text</th>\n",
              "      <th>label</th>\n",
              "      <th>length</th>\n",
              "    </tr>\n",
              "  </thead>\n",
              "  <tbody>\n",
              "    <tr>\n",
              "      <th>924</th>\n",
              "      <td>https://example.com/resource/يُنظمْ َالنادٍي ا...</td>\n",
              "      <td>Culture</td>\n",
              "      <td>196</td>\n",
              "    </tr>\n",
              "    <tr>\n",
              "      <th>6208</th>\n",
              "      <td>https://example.com/resource/أًعلنتُ ُشرِكةً ر...</td>\n",
              "      <td>Finance</td>\n",
              "      <td>189</td>\n",
              "    </tr>\n",
              "    <tr>\n",
              "      <th>6611</th>\n",
              "      <td>https://example.com/resource/أعٍلنْ ُمجلِس ْإْ...</td>\n",
              "      <td>Finance</td>\n",
              "      <td>188</td>\n",
              "    </tr>\n",
              "    <tr>\n",
              "      <th>6895</th>\n",
              "      <td>https://example.com/resource/دبّي ْ\"ِالَخّليٍج...</td>\n",
              "      <td>Finance</td>\n",
              "      <td>187</td>\n",
              "    </tr>\n",
              "    <tr>\n",
              "      <th>7104</th>\n",
              "      <td>https://example.com/resource/اَغلق اِلَسلَام ٌ...</td>\n",
              "      <td>Finance</td>\n",
              "      <td>176</td>\n",
              "    </tr>\n",
              "    <tr>\n",
              "      <th>7461</th>\n",
              "      <td>https://example.com/resource/قررُ ِمجْلْس إَدا...</td>\n",
              "      <td>Finance</td>\n",
              "      <td>184</td>\n",
              "    </tr>\n",
              "    <tr>\n",
              "      <th>7502</th>\n",
              "      <td>https://example.com/resource/أعاد ّبنكً أبَوُظ...</td>\n",
              "      <td>Finance</td>\n",
              "      <td>186</td>\n",
              "    </tr>\n",
              "    <tr>\n",
              "      <th>7592</th>\n",
              "      <td>https://example.com/resource/أعلنَ سٌوْق دٌبْي...</td>\n",
              "      <td>Finance</td>\n",
              "      <td>200</td>\n",
              "    </tr>\n",
              "    <tr>\n",
              "      <th>7902</th>\n",
              "      <td>https://example.com/resource/أوصت َمجُموٌعةّ ٌ...</td>\n",
              "      <td>Finance</td>\n",
              "      <td>184</td>\n",
              "    </tr>\n",
              "    <tr>\n",
              "      <th>8060</th>\n",
              "      <td>https://example.com/resource/حقِقت اِلَعين َاُ...</td>\n",
              "      <td>Finance</td>\n",
              "      <td>177</td>\n",
              "    </tr>\n",
              "    <tr>\n",
              "      <th>8473</th>\n",
              "      <td>https://example.com/resource/يجتمِع ٌمٍجلَس إد...</td>\n",
              "      <td>Finance</td>\n",
              "      <td>197</td>\n",
              "    </tr>\n",
              "    <tr>\n",
              "      <th>8716</th>\n",
              "      <td>https://example.com/resource/ترِاجّعت أرِباّح ...</td>\n",
              "      <td>Finance</td>\n",
              "      <td>179</td>\n",
              "    </tr>\n",
              "  </tbody>\n",
              "</table>\n",
              "</div>\n",
              "    <div class=\"colab-df-buttons\">\n",
              "\n",
              "  <div class=\"colab-df-container\">\n",
              "    <button class=\"colab-df-convert\" onclick=\"convertToInteractive('df-d664ba33-91d9-4365-8bbd-a96745d37061')\"\n",
              "            title=\"Convert this dataframe to an interactive table.\"\n",
              "            style=\"display:none;\">\n",
              "\n",
              "  <svg xmlns=\"http://www.w3.org/2000/svg\" height=\"24px\" viewBox=\"0 -960 960 960\">\n",
              "    <path d=\"M120-120v-720h720v720H120Zm60-500h600v-160H180v160Zm220 220h160v-160H400v160Zm0 220h160v-160H400v160ZM180-400h160v-160H180v160Zm440 0h160v-160H620v160ZM180-180h160v-160H180v160Zm440 0h160v-160H620v160Z\"/>\n",
              "  </svg>\n",
              "    </button>\n",
              "\n",
              "  <style>\n",
              "    .colab-df-container {\n",
              "      display:flex;\n",
              "      gap: 12px;\n",
              "    }\n",
              "\n",
              "    .colab-df-convert {\n",
              "      background-color: #E8F0FE;\n",
              "      border: none;\n",
              "      border-radius: 50%;\n",
              "      cursor: pointer;\n",
              "      display: none;\n",
              "      fill: #1967D2;\n",
              "      height: 32px;\n",
              "      padding: 0 0 0 0;\n",
              "      width: 32px;\n",
              "    }\n",
              "\n",
              "    .colab-df-convert:hover {\n",
              "      background-color: #E2EBFA;\n",
              "      box-shadow: 0px 1px 2px rgba(60, 64, 67, 0.3), 0px 1px 3px 1px rgba(60, 64, 67, 0.15);\n",
              "      fill: #174EA6;\n",
              "    }\n",
              "\n",
              "    .colab-df-buttons div {\n",
              "      margin-bottom: 4px;\n",
              "    }\n",
              "\n",
              "    [theme=dark] .colab-df-convert {\n",
              "      background-color: #3B4455;\n",
              "      fill: #D2E3FC;\n",
              "    }\n",
              "\n",
              "    [theme=dark] .colab-df-convert:hover {\n",
              "      background-color: #434B5C;\n",
              "      box-shadow: 0px 1px 3px 1px rgba(0, 0, 0, 0.15);\n",
              "      filter: drop-shadow(0px 1px 2px rgba(0, 0, 0, 0.3));\n",
              "      fill: #FFFFFF;\n",
              "    }\n",
              "  </style>\n",
              "\n",
              "    <script>\n",
              "      const buttonEl =\n",
              "        document.querySelector('#df-d664ba33-91d9-4365-8bbd-a96745d37061 button.colab-df-convert');\n",
              "      buttonEl.style.display =\n",
              "        google.colab.kernel.accessAllowed ? 'block' : 'none';\n",
              "\n",
              "      async function convertToInteractive(key) {\n",
              "        const element = document.querySelector('#df-d664ba33-91d9-4365-8bbd-a96745d37061');\n",
              "        const dataTable =\n",
              "          await google.colab.kernel.invokeFunction('convertToInteractive',\n",
              "                                                    [key], {});\n",
              "        if (!dataTable) return;\n",
              "\n",
              "        const docLinkHtml = 'Like what you see? Visit the ' +\n",
              "          '<a target=\"_blank\" href=https://colab.research.google.com/notebooks/data_table.ipynb>data table notebook</a>'\n",
              "          + ' to learn more about interactive tables.';\n",
              "        element.innerHTML = '';\n",
              "        dataTable['output_type'] = 'display_data';\n",
              "        await google.colab.output.renderOutput(dataTable, element);\n",
              "        const docLink = document.createElement('div');\n",
              "        docLink.innerHTML = docLinkHtml;\n",
              "        element.appendChild(docLink);\n",
              "      }\n",
              "    </script>\n",
              "  </div>\n",
              "\n",
              "\n",
              "<div id=\"df-983531eb-f884-42b7-b790-447a1b06e1ec\">\n",
              "  <button class=\"colab-df-quickchart\" onclick=\"quickchart('df-983531eb-f884-42b7-b790-447a1b06e1ec')\"\n",
              "            title=\"Suggest charts\"\n",
              "            style=\"display:none;\">\n",
              "\n",
              "<svg xmlns=\"http://www.w3.org/2000/svg\" height=\"24px\"viewBox=\"0 0 24 24\"\n",
              "     width=\"24px\">\n",
              "    <g>\n",
              "        <path d=\"M19 3H5c-1.1 0-2 .9-2 2v14c0 1.1.9 2 2 2h14c1.1 0 2-.9 2-2V5c0-1.1-.9-2-2-2zM9 17H7v-7h2v7zm4 0h-2V7h2v10zm4 0h-2v-4h2v4z\"/>\n",
              "    </g>\n",
              "</svg>\n",
              "  </button>\n",
              "\n",
              "<style>\n",
              "  .colab-df-quickchart {\n",
              "      --bg-color: #E8F0FE;\n",
              "      --fill-color: #1967D2;\n",
              "      --hover-bg-color: #E2EBFA;\n",
              "      --hover-fill-color: #174EA6;\n",
              "      --disabled-fill-color: #AAA;\n",
              "      --disabled-bg-color: #DDD;\n",
              "  }\n",
              "\n",
              "  [theme=dark] .colab-df-quickchart {\n",
              "      --bg-color: #3B4455;\n",
              "      --fill-color: #D2E3FC;\n",
              "      --hover-bg-color: #434B5C;\n",
              "      --hover-fill-color: #FFFFFF;\n",
              "      --disabled-bg-color: #3B4455;\n",
              "      --disabled-fill-color: #666;\n",
              "  }\n",
              "\n",
              "  .colab-df-quickchart {\n",
              "    background-color: var(--bg-color);\n",
              "    border: none;\n",
              "    border-radius: 50%;\n",
              "    cursor: pointer;\n",
              "    display: none;\n",
              "    fill: var(--fill-color);\n",
              "    height: 32px;\n",
              "    padding: 0;\n",
              "    width: 32px;\n",
              "  }\n",
              "\n",
              "  .colab-df-quickchart:hover {\n",
              "    background-color: var(--hover-bg-color);\n",
              "    box-shadow: 0 1px 2px rgba(60, 64, 67, 0.3), 0 1px 3px 1px rgba(60, 64, 67, 0.15);\n",
              "    fill: var(--button-hover-fill-color);\n",
              "  }\n",
              "\n",
              "  .colab-df-quickchart-complete:disabled,\n",
              "  .colab-df-quickchart-complete:disabled:hover {\n",
              "    background-color: var(--disabled-bg-color);\n",
              "    fill: var(--disabled-fill-color);\n",
              "    box-shadow: none;\n",
              "  }\n",
              "\n",
              "  .colab-df-spinner {\n",
              "    border: 2px solid var(--fill-color);\n",
              "    border-color: transparent;\n",
              "    border-bottom-color: var(--fill-color);\n",
              "    animation:\n",
              "      spin 1s steps(1) infinite;\n",
              "  }\n",
              "\n",
              "  @keyframes spin {\n",
              "    0% {\n",
              "      border-color: transparent;\n",
              "      border-bottom-color: var(--fill-color);\n",
              "      border-left-color: var(--fill-color);\n",
              "    }\n",
              "    20% {\n",
              "      border-color: transparent;\n",
              "      border-left-color: var(--fill-color);\n",
              "      border-top-color: var(--fill-color);\n",
              "    }\n",
              "    30% {\n",
              "      border-color: transparent;\n",
              "      border-left-color: var(--fill-color);\n",
              "      border-top-color: var(--fill-color);\n",
              "      border-right-color: var(--fill-color);\n",
              "    }\n",
              "    40% {\n",
              "      border-color: transparent;\n",
              "      border-right-color: var(--fill-color);\n",
              "      border-top-color: var(--fill-color);\n",
              "    }\n",
              "    60% {\n",
              "      border-color: transparent;\n",
              "      border-right-color: var(--fill-color);\n",
              "    }\n",
              "    80% {\n",
              "      border-color: transparent;\n",
              "      border-right-color: var(--fill-color);\n",
              "      border-bottom-color: var(--fill-color);\n",
              "    }\n",
              "    90% {\n",
              "      border-color: transparent;\n",
              "      border-bottom-color: var(--fill-color);\n",
              "    }\n",
              "  }\n",
              "</style>\n",
              "\n",
              "  <script>\n",
              "    async function quickchart(key) {\n",
              "      const quickchartButtonEl =\n",
              "        document.querySelector('#' + key + ' button');\n",
              "      quickchartButtonEl.disabled = true;  // To prevent multiple clicks.\n",
              "      quickchartButtonEl.classList.add('colab-df-spinner');\n",
              "      try {\n",
              "        const charts = await google.colab.kernel.invokeFunction(\n",
              "            'suggestCharts', [key], {});\n",
              "      } catch (error) {\n",
              "        console.error('Error during call to suggestCharts:', error);\n",
              "      }\n",
              "      quickchartButtonEl.classList.remove('colab-df-spinner');\n",
              "      quickchartButtonEl.classList.add('colab-df-quickchart-complete');\n",
              "    }\n",
              "    (() => {\n",
              "      let quickchartButtonEl =\n",
              "        document.querySelector('#df-983531eb-f884-42b7-b790-447a1b06e1ec button');\n",
              "      quickchartButtonEl.style.display =\n",
              "        google.colab.kernel.accessAllowed ? 'block' : 'none';\n",
              "    })();\n",
              "  </script>\n",
              "</div>\n",
              "\n",
              "    </div>\n",
              "  </div>\n"
            ],
            "application/vnd.google.colaboratory.intrinsic+json": {
              "type": "dataframe",
              "summary": "{\n  \"name\": \"df[df\",\n  \"rows\": 12,\n  \"fields\": [\n    {\n      \"column\": \"text\",\n      \"properties\": {\n        \"dtype\": \"string\",\n        \"num_unique_values\": 12,\n        \"samples\": [\n          \"https://example.com/resource/\\u064a\\u062c\\u062a\\u0645\\u0650\\u0639 \\u064c\\u0645\\u064d\\u062c\\u0644\\u064e\\u0633 \\u0625\\u062f\\u0627\\u0631\\u0651\\u0629\\u064b \\u0634\\u0631\\u0650\\u0643\\u0629 \\u062f\\u0627\\u0631 \\u064f\\u0627\\u0644\\u0652\\u062a\\u0643\\u0627\\u0641\\u0644 \\u0641\\u064f\\u064a\\u064d \\u064c\\u0627\\u064f\\u0644\\u0631\\u0627\\u0628\\u0639 \\u0639\\u0651\\u0634\\u0652\\u0631 \\u064b\\u0645\\u0646 \\u0627\\u0651\\u0644\\u064b\\u0634\\u064e\\u0647\\u064c\\u0631 \\u0627\\u0644\\u064c\\u062c\\u0627\\u0651\\u0631\\u064f\\u064a\\u0652 \\u064d\\u0644\\u0627\\u0639\\u062a\\u064d\\u0645\\u0627\\u062f\\u0651 \\u0627\\u0652\\u0644\\u0628\\u0652\\u064a\\u064b\\u0627\\u0650\\u0646\\u0627\\u0652\\u062a \\u0651\\u0627\\u0652\\u0644\\u0645\\u0652\\u0627\\u0652\\u0644\\u064a\\u064f\\u0629\\u0650 \\u064b\\u0644\\u0644\\u064b\\u0631\\u0628\\u0651\\u0639 \\u0650\\u0627\\u0644\\u064d\\u062b\\u0651\\u0627\\u0652\\u0646\\u064a \\u0645\\u0646 \\u0627\\u064f\\u0644\\u0650\\u0639\\u0652\\u0627\\u0645 \\u0652\\u0627\\u0644\\u062c\\u0627\\u0631\\u064a.\\u064e\",\n          \"https://example.com/resource/\\u062d\\u0642\\u0650\\u0642\\u062a \\u0627\\u0650\\u0644\\u064e\\u0639\\u064a\\u0646 \\u064e\\u0627\\u064f\\u0644\\u0623\\u0647\\u064d\\u0644\\u064a\\u064c\\u0629 \\u0644\\u0644\\u064b\\u062a\\u0623\\u0651\\u0645\\u064f\\u064a\\u064f\\u0646 \\u0623\\u0631\\u064d\\u0628\\u0652\\u0627\\u062d\\u0627\\u064b\\u064b \\u0628\\u0652\\u0644\\u063a\\u064b\\u062a\\u064e 2 .\\u064e5\\u06510\\u064e \\u0652\\u0645\\u0644\\u064c\\u064a\\u0648\\u0646\\u0652 \\u062f\\u0631\\u064d\\u0647\\u0652\\u0645\\u064b \\u0650\\u0641\\u064a 20\\u065212\\u064b \\u064e\\u0645\\u0652\\u0642\\u0627\\u064d\\u0628\\u0644\\u064c \\u064f\\u0623\\u0631\\u0628\\u0627\\u0652\\u062d\\u064f 2\\u0651 .\\u064b53\\u064e \\u064b\\u0645\\u064c\\u0644\\u064a\\u0648\\u064b\\u0646 \\u0641\\u064e\\u064a\\u064b \\u064e2\\u064c0\\u064c1\\u06521\\u0652 .\\u064d\",\n          \"https://example.com/resource/\\u064a\\u064f\\u0646\\u0638\\u0645\\u0652 \\u064e\\u0627\\u0644\\u0646\\u0627\\u062f\\u064d\\u064a \\u0627\\u0644\\u062b\\u0642\\u0652\\u0627\\u0651\\u0641\\u064a \\u064c\\u0627\\u064d\\u0644\\u0651\\u0639\\u064f\\u0631\\u0628\\u064a\\u064d \\u0623\\u064e\\u0645\\u0633\\u064f\\u064a\\u0629 \\u064c\\u0644\\u0650\\u0644\\u0634\\u0627\\u064b\\u0639\\u0631\\u064d \\u0650\\u062d\\u064b\\u0633\\u0646\\u064c \\u0650\\u0639\\u0628\\u0650\\u062f\\u0627\\u0644\\u0652\\u0633\\u0652\\u0644\\u0627\\u064b\\u0645 \\u0623\\u064e\\u0628\\u0648\\u062f\\u064a\\u0650\\u0629 \\u064e\\u0639\\u0646\\u062f \\u0627\\u0644\\u064d\\u062b\\u064f\\u0627\\u0645\\u064e\\u0646\\u0629\\u064c \\u0645\\u0650\\u0646 \\u0645\\u0633\\u064c\\u0627\\u0651\\u0621 \\u0651\\u064a\\u0648\\u0650\\u0645\\u0652 \\u063a\\u0652\\u062f \\u0641\\u064a\\u0650 \\u064c\\u0645\\u0642\\u0651\\u0631 \\u064c\\u0627\\u064d\\u0644\\u064f\\u0646\\u064d\\u0627\\u062f\\u064a\\u064c \\u0641\\u064a\\u0652 \\u0627\\u0644\\u064b\\u0634\\u0627\\u0631\\u064e\\u0642\\u064d\\u0629 \\u064c.\\u0651\"\n        ],\n        \"semantic_type\": \"\",\n        \"description\": \"\"\n      }\n    },\n    {\n      \"column\": \"label\",\n      \"properties\": {\n        \"dtype\": \"category\",\n        \"num_unique_values\": 2,\n        \"samples\": [\n          \"Finance\",\n          \"Culture\"\n        ],\n        \"semantic_type\": \"\",\n        \"description\": \"\"\n      }\n    },\n    {\n      \"column\": \"length\",\n      \"properties\": {\n        \"dtype\": \"number\",\n        \"std\": 7,\n        \"min\": 176,\n        \"max\": 200,\n        \"num_unique_values\": 11,\n        \"samples\": [\n          184,\n          196\n        ],\n        \"semantic_type\": \"\",\n        \"description\": \"\"\n      }\n    }\n  ]\n}"
            }
          },
          "metadata": {},
          "execution_count": 242
        }
      ]
    },
    {
      "cell_type": "code",
      "source": [
        "# token_cnt = Tokenizer()\n",
        "# token_cnt.fit_on_texts(df['text'])\n",
        "# x = token_cnt.texts_to_sequences(df['text'])\n",
        "\n",
        "# cnt = Counter()\n",
        "\n",
        "# x.apply(cnt.update)"
      ],
      "metadata": {
        "id": "k3cbWUk77wrH"
      },
      "execution_count": 246,
      "outputs": []
    },
    {
      "cell_type": "code",
      "source": [
        "# cnt.most_common(10)"
      ],
      "metadata": {
        "id": "7l_qvp2C77X8"
      },
      "execution_count": 247,
      "outputs": []
    },
    {
      "cell_type": "markdown",
      "metadata": {
        "id": "X_oEu0TkSMEB"
      },
      "source": [
        "# Data Cleaning and Preprocessing"
      ]
    },
    {
      "cell_type": "markdown",
      "metadata": {
        "id": "wSAFiozlRQHt"
      },
      "source": [
        "In this section, we will focus on cleaning and filtering the dataset, preparing it for the text classification task. We will implement the following steps:\n",
        "\n",
        "1. **Remove missing values**:\n",
        "   First, we eliminate any rows with missing values to ensure the dataset is complete and consistent.\n",
        "\n",
        "2. **Filter by text length (Bonus)**:\n",
        "   To maintain a uniform dataset, we will filter the text samples by a specified word count range. This ensures that the texts are neither too short to lack context nor too long to introduce unnecessary complexity.\n",
        "\n",
        "3. **Arabic stopwords loading**:\n",
        "   We load a list of Arabic stopwords to filter out commonly used but contextually insignificant words. This is an important step for improving the performance of the model, as stopwords do not contribute valuable information.\n",
        "\n",
        "4. **Text cleaning**:\n",
        "   We apply a series of text cleaning steps to standardize and simplify the text data. This involves:\n",
        "   - **Removing links (URLs)**: Any URLs present in the text are removed as they are not meaningful for classification purposes.\n",
        "   - **Removing special characters and punctuation**: This step removes any non-alphabetical characters, ensuring the text only contains meaningful words.\n",
        "   - **Removing Arabic diacritics (Tashkeel) and elongated letters (Tatweel)**: Diacritical marks and elongated letters are stripped out to standardize the text.\n",
        "   - **Removing Arabic stopwords**: Words that are part of the stopwords list are removed, as they do not add value to the classification task.\n",
        "   - **Stemming or Lemmmatization**: Either stemming or lemmatization is applied to reduce words to their root or base form.\n",
        "   - **Normalizing Hamza**: Any variation of the Hamza character is normalized for consistency.\n",
        "\n",
        "   **Note:** Most of these you can do using the library [PyArabic](https://pyarabic.readthedocs.io/ar/latest/README.html#features)\n",
        "\n",
        "5. **Final cleanup**:\n",
        "   Apply the cleanup function to the feature column.\n",
        "\n",
        "By following these steps, the text will be cleaned, filtered, and ready for tokenization!"
      ]
    },
    {
      "cell_type": "code",
      "source": [
        "# url_pattern = r'https?\\S+|www\\S+'\n",
        "# temp = 'http://ffdasfsa.com dfsafsafs'\n",
        "\n",
        "# re.sub(url_pattern,'',temp)"
      ],
      "metadata": {
        "id": "xSO8nV1I-oan"
      },
      "execution_count": 248,
      "outputs": []
    },
    {
      "cell_type": "code",
      "source": [
        "stopwords_arabic = set(stopwords.words('arabic'))\n",
        "\n",
        "porter_stem = PorterStemmer()"
      ],
      "metadata": {
        "id": "lb5swZqC9tIW"
      },
      "execution_count": 249,
      "outputs": []
    },
    {
      "cell_type": "code",
      "source": [
        "# stopwords_arabic"
      ],
      "metadata": {
        "collapsed": true,
        "id": "lZ1cIBJ7_Oxg"
      },
      "execution_count": 250,
      "outputs": []
    },
    {
      "cell_type": "code",
      "execution_count": 251,
      "metadata": {
        "id": "mHEObOY_fHhq"
      },
      "outputs": [],
      "source": [
        "# df.dropna(inplace=True)\n",
        "# df.drop_duplicate(inplace=True)\n",
        "\n",
        "def text_cleaning(text):\n",
        "  url_pattern = r'https?\\S+|www\\S+'\n",
        "  text = re.sub(url_pattern,'',text)\n",
        "\n",
        "  text = araby.strip_tashkeel(text)\n",
        "  text = araby.strip_tatweel(text)\n",
        "\n",
        "  S_P_pattern = r'[^\\w\\s]'\n",
        "  text = re.sub(S_P_pattern,'',text)\n",
        "\n",
        "  text = text.split()\n",
        "\n",
        "  new_text = [i for i in text if i not in stopwords_arabic]\n",
        "\n",
        "  stemmed = [porter_stem.stem(i) for i in new_text]\n",
        "\n",
        "  text = ' '.join(stemmed)\n",
        "\n",
        "  text = araby.normalize_hamza(text)\n",
        "\n",
        "  return text\n",
        "\n",
        "def data_cleaning(data):\n",
        "  data = data[(data.length > min_length) & (data.length < max_length)]\n",
        "  return data\n",
        "\n",
        "\n",
        "df = data_cleaning(df)\n",
        "df['text'] = df['text'].apply(text_cleaning)"
      ]
    },
    {
      "cell_type": "markdown",
      "metadata": {
        "id": "VF45GS_ZSEix"
      },
      "source": [
        "# Tokenization, Padding, and Data Splitting"
      ]
    },
    {
      "cell_type": "markdown",
      "metadata": {
        "id": "YmsL3S-5SIbl"
      },
      "source": [
        "In this step, we will prepare the text data for input into a model by converting the text into numerical sequences, padding them to a uniform length, and splitting the dataset into training and testing sets. Here's an overview of the steps involved:\n",
        "\n",
        "1. **Tokenization**:\n",
        "   We use a tokenizer to convert the cleaned text into numerical sequences. You can use `Tokenizer` tokenizer from `tensorflow.keras.preprocessing.text` package or any other tokenizer you like.\n",
        "\n",
        "2. **Text to sequences**:\n",
        "   After fitting the tokenizer on the cleaned text, we transform each text into a sequence of numbers, where each number corresponds to a token (word) in the text.\n",
        "\n",
        "3. **Padding the sequences**:\n",
        "   Since different texts may vary in length, we pad the sequences to ensure they all have the same length.\n",
        "\n",
        "4. **Label encoding**:\n",
        "   The labels (target values) also need to be converted into numerical form if they are not encoded.\n",
        "\n",
        "5. **Train-test split**:\n",
        "   The dataset is divided into training and testing sets. We allocate 80% of the data for training the model and reserve 20% for testing its performance.\n",
        "   \n",
        "   - The **training data** consists of the padded sequences used to train the model.\n",
        "   - The **training labels** are the encoded labels corresponding to the training data.\n",
        "   - The **testing data** is used to assess the model’s performance after training.\n",
        "   - The **testing labels** are the encoded labels corresponding to the testing data.\n",
        "\n",
        "6. **Data shape confirmation**:\n",
        "   After splitting the data, we print the shape (dimensions) of both the training and testing sets to confirm that the data is properly divided and formatted.\n",
        "\n",
        "By the end of this step, the text data will be transformed into padded numerical sequences, the labels will be encoded, and the data will be split into training and testing sets for model development and evaluation."
      ]
    },
    {
      "cell_type": "code",
      "source": [
        "df.drop(columns='length',inplace=True)"
      ],
      "metadata": {
        "id": "62_UExw5TfAc"
      },
      "execution_count": 253,
      "outputs": []
    },
    {
      "cell_type": "code",
      "execution_count": 254,
      "metadata": {
        "id": "z401Re0VfI1f"
      },
      "outputs": [],
      "source": [
        "X_train,X_test,y_train,y_test = train_test_split(df['text'],df['label'],test_size=0.2,random_state=42)\n",
        "\n",
        "tokenizer = Tokenizer()\n",
        "tokenizer.fit_on_texts(X_train) # needed to be just on the train\n",
        "sequences_train = tokenizer.texts_to_sequences(X_train)\n",
        "sequences_test = tokenizer.texts_to_sequences(X_test)\n",
        "\n",
        "MAX_LEN = 400\n",
        "\n",
        "padded_train = pad_sequences(sequences_train,maxlen=MAX_LEN,padding='post')\n",
        "padded_test = pad_sequences(sequences_test,maxlen=MAX_LEN,padding='post')\n",
        "\n",
        "\n",
        "# label_encoder = LabelEncoder()\n",
        "\n",
        "# y_train = label_encoder.fit_transform(y_train)\n",
        "# y_test = label_encoder.transform(y_test)\n",
        "\n",
        "ohe = OneHotEncoder()\n",
        "\n",
        "y_train = ohe.fit_transform(y_train)\n",
        "y_test = ohe.transform(y_test)"
      ]
    },
    {
      "cell_type": "code",
      "source": [
        "X_train.shape,y_train.shape"
      ],
      "metadata": {
        "colab": {
          "base_uri": "https://localhost:8080/"
        },
        "id": "rnuo1ARMBl1H",
        "outputId": "091d4a9d-d6cc-4920-b6a4-e2d38b26bf56"
      },
      "execution_count": 267,
      "outputs": [
        {
          "output_type": "execute_result",
          "data": {
            "text/plain": [
              "((26372,), (26372,))"
            ]
          },
          "metadata": {},
          "execution_count": 267
        }
      ]
    },
    {
      "cell_type": "code",
      "source": [
        "X_test.shape,y_test.shape"
      ],
      "metadata": {
        "colab": {
          "base_uri": "https://localhost:8080/"
        },
        "id": "gyknXzXlBo0b",
        "outputId": "924cb7d4-c4b4-47ea-8426-dee01ddc56b2"
      },
      "execution_count": 268,
      "outputs": [
        {
          "output_type": "execute_result",
          "data": {
            "text/plain": [
              "((6594,), (6594,))"
            ]
          },
          "metadata": {},
          "execution_count": 268
        }
      ]
    },
    {
      "cell_type": "markdown",
      "metadata": {
        "id": "qd5Ek4NLTgVN"
      },
      "source": [
        "# Building the Classifier"
      ]
    },
    {
      "cell_type": "markdown",
      "metadata": {
        "id": "HpLEoTaITEGx"
      },
      "source": [
        "In this step, you will design and build a NLP Classifier model to classify text data. Below is a breakdown of the key components you'll implement, but it's up to you to decide how to configure them based on your understanding and experimentation:\n",
        "\n",
        "1. **Model Type**:\n",
        "   You will use a Sequential model, which allows you to stack layers in a linear sequence.\n",
        "\n",
        "2. **Input Layer**:\n",
        "   Define the shape of the input data. Consider the dimensions of your padded sequences and set the input shape accordingly.\n",
        "\n",
        "3. **Embedding Layer**:\n",
        "   The embedding layer will convert input tokens (integers) into dense vector representations. You will need to determine the size of the input dimension (based on your vocabulary) and the output dimension (embedding size).\n",
        "\n",
        "4. **Bidirectional Simple RNN/LSTM Layers**:\n",
        "   You can add one or more recurrent layers. Consider using Bidirectional layers to capture contextual information from both directions (forward and backward). You can chose SimpleRNN/GRU/LSTM to perform this step.\n",
        "\n",
        "5. **Dense Layers**:\n",
        "   Add one or more fully connected (Dense) layers to process the output from the RNN/GRU/LSTM layers.\n",
        "\n",
        "6. **Output Layer**:\n",
        "   The output layer should match the type of classification task you're working on. Consider using appropriate activation function with appropriate number of units.\n",
        "\n",
        "7. **Model Summary**:\n",
        "   After defining your model architecture, print a summary to review the number of layers, types of layers, and total parameters.\n",
        "\n",
        "8. **Model Compilation**:\n",
        "   Finally, compile the model by selecting an optimizer, a loss function, and metrics."
      ]
    },
    {
      "cell_type": "code",
      "execution_count": 269,
      "metadata": {
        "id": "D-EYYIUpfK_F"
      },
      "outputs": [],
      "source": [
        "model = Sequential([\n",
        "    Input((MAX_LEN,)),\n",
        "    Embedding(input_dim=len(tokenizer.word_index)+1,output_dim = 64,input_length=MAX_LEN),\n",
        "    Bidirectional(SimpleRNN(units=64,return_sequences=True)),\n",
        "    # Bidirectional(SimpleRNN(units=32,return_sequences=True)),\n",
        "\n",
        "    Bidirectional(SimpleRNN(units=32)),\n",
        "\n",
        "    Dense(units=32,activation='relu'),\n",
        "    Dense(units=7,activation='softmax'),\n",
        "])"
      ]
    },
    {
      "cell_type": "code",
      "source": [
        "model.summary()"
      ],
      "metadata": {
        "colab": {
          "base_uri": "https://localhost:8080/",
          "height": 298
        },
        "id": "2nTNg3x8ClYm",
        "outputId": "1af11d6f-9991-4b8d-ecc9-d60171ff2b15"
      },
      "execution_count": 270,
      "outputs": [
        {
          "output_type": "display_data",
          "data": {
            "text/plain": [
              "\u001b[1mModel: \"sequential_2\"\u001b[0m\n"
            ],
            "text/html": [
              "<pre style=\"white-space:pre;overflow-x:auto;line-height:normal;font-family:Menlo,'DejaVu Sans Mono',consolas,'Courier New',monospace\"><span style=\"font-weight: bold\">Model: \"sequential_2\"</span>\n",
              "</pre>\n"
            ]
          },
          "metadata": {}
        },
        {
          "output_type": "display_data",
          "data": {
            "text/plain": [
              "┏━━━━━━━━━━━━━━━━━━━━━━━━━━━━━━━━━━━━━━┳━━━━━━━━━━━━━━━━━━━━━━━━━━━━━┳━━━━━━━━━━━━━━━━━┓\n",
              "┃\u001b[1m \u001b[0m\u001b[1mLayer (type)                        \u001b[0m\u001b[1m \u001b[0m┃\u001b[1m \u001b[0m\u001b[1mOutput Shape               \u001b[0m\u001b[1m \u001b[0m┃\u001b[1m \u001b[0m\u001b[1m        Param #\u001b[0m\u001b[1m \u001b[0m┃\n",
              "┡━━━━━━━━━━━━━━━━━━━━━━━━━━━━━━━━━━━━━━╇━━━━━━━━━━━━━━━━━━━━━━━━━━━━━╇━━━━━━━━━━━━━━━━━┩\n",
              "│ embedding_2 (\u001b[38;5;33mEmbedding\u001b[0m)              │ (\u001b[38;5;45mNone\u001b[0m, \u001b[38;5;34m400\u001b[0m, \u001b[38;5;34m64\u001b[0m)             │      \u001b[38;5;34m16,750,080\u001b[0m │\n",
              "├──────────────────────────────────────┼─────────────────────────────┼─────────────────┤\n",
              "│ bidirectional_5 (\u001b[38;5;33mBidirectional\u001b[0m)      │ (\u001b[38;5;45mNone\u001b[0m, \u001b[38;5;34m400\u001b[0m, \u001b[38;5;34m128\u001b[0m)            │          \u001b[38;5;34m16,512\u001b[0m │\n",
              "├──────────────────────────────────────┼─────────────────────────────┼─────────────────┤\n",
              "│ bidirectional_6 (\u001b[38;5;33mBidirectional\u001b[0m)      │ (\u001b[38;5;45mNone\u001b[0m, \u001b[38;5;34m64\u001b[0m)                  │          \u001b[38;5;34m10,304\u001b[0m │\n",
              "├──────────────────────────────────────┼─────────────────────────────┼─────────────────┤\n",
              "│ dense_4 (\u001b[38;5;33mDense\u001b[0m)                      │ (\u001b[38;5;45mNone\u001b[0m, \u001b[38;5;34m32\u001b[0m)                  │           \u001b[38;5;34m2,080\u001b[0m │\n",
              "├──────────────────────────────────────┼─────────────────────────────┼─────────────────┤\n",
              "│ dense_5 (\u001b[38;5;33mDense\u001b[0m)                      │ (\u001b[38;5;45mNone\u001b[0m, \u001b[38;5;34m7\u001b[0m)                   │             \u001b[38;5;34m231\u001b[0m │\n",
              "└──────────────────────────────────────┴─────────────────────────────┴─────────────────┘\n"
            ],
            "text/html": [
              "<pre style=\"white-space:pre;overflow-x:auto;line-height:normal;font-family:Menlo,'DejaVu Sans Mono',consolas,'Courier New',monospace\">┏━━━━━━━━━━━━━━━━━━━━━━━━━━━━━━━━━━━━━━┳━━━━━━━━━━━━━━━━━━━━━━━━━━━━━┳━━━━━━━━━━━━━━━━━┓\n",
              "┃<span style=\"font-weight: bold\"> Layer (type)                         </span>┃<span style=\"font-weight: bold\"> Output Shape                </span>┃<span style=\"font-weight: bold\">         Param # </span>┃\n",
              "┡━━━━━━━━━━━━━━━━━━━━━━━━━━━━━━━━━━━━━━╇━━━━━━━━━━━━━━━━━━━━━━━━━━━━━╇━━━━━━━━━━━━━━━━━┩\n",
              "│ embedding_2 (<span style=\"color: #0087ff; text-decoration-color: #0087ff\">Embedding</span>)              │ (<span style=\"color: #00d7ff; text-decoration-color: #00d7ff\">None</span>, <span style=\"color: #00af00; text-decoration-color: #00af00\">400</span>, <span style=\"color: #00af00; text-decoration-color: #00af00\">64</span>)             │      <span style=\"color: #00af00; text-decoration-color: #00af00\">16,750,080</span> │\n",
              "├──────────────────────────────────────┼─────────────────────────────┼─────────────────┤\n",
              "│ bidirectional_5 (<span style=\"color: #0087ff; text-decoration-color: #0087ff\">Bidirectional</span>)      │ (<span style=\"color: #00d7ff; text-decoration-color: #00d7ff\">None</span>, <span style=\"color: #00af00; text-decoration-color: #00af00\">400</span>, <span style=\"color: #00af00; text-decoration-color: #00af00\">128</span>)            │          <span style=\"color: #00af00; text-decoration-color: #00af00\">16,512</span> │\n",
              "├──────────────────────────────────────┼─────────────────────────────┼─────────────────┤\n",
              "│ bidirectional_6 (<span style=\"color: #0087ff; text-decoration-color: #0087ff\">Bidirectional</span>)      │ (<span style=\"color: #00d7ff; text-decoration-color: #00d7ff\">None</span>, <span style=\"color: #00af00; text-decoration-color: #00af00\">64</span>)                  │          <span style=\"color: #00af00; text-decoration-color: #00af00\">10,304</span> │\n",
              "├──────────────────────────────────────┼─────────────────────────────┼─────────────────┤\n",
              "│ dense_4 (<span style=\"color: #0087ff; text-decoration-color: #0087ff\">Dense</span>)                      │ (<span style=\"color: #00d7ff; text-decoration-color: #00d7ff\">None</span>, <span style=\"color: #00af00; text-decoration-color: #00af00\">32</span>)                  │           <span style=\"color: #00af00; text-decoration-color: #00af00\">2,080</span> │\n",
              "├──────────────────────────────────────┼─────────────────────────────┼─────────────────┤\n",
              "│ dense_5 (<span style=\"color: #0087ff; text-decoration-color: #0087ff\">Dense</span>)                      │ (<span style=\"color: #00d7ff; text-decoration-color: #00d7ff\">None</span>, <span style=\"color: #00af00; text-decoration-color: #00af00\">7</span>)                   │             <span style=\"color: #00af00; text-decoration-color: #00af00\">231</span> │\n",
              "└──────────────────────────────────────┴─────────────────────────────┴─────────────────┘\n",
              "</pre>\n"
            ]
          },
          "metadata": {}
        },
        {
          "output_type": "display_data",
          "data": {
            "text/plain": [
              "\u001b[1m Total params: \u001b[0m\u001b[38;5;34m16,779,207\u001b[0m (64.01 MB)\n"
            ],
            "text/html": [
              "<pre style=\"white-space:pre;overflow-x:auto;line-height:normal;font-family:Menlo,'DejaVu Sans Mono',consolas,'Courier New',monospace\"><span style=\"font-weight: bold\"> Total params: </span><span style=\"color: #00af00; text-decoration-color: #00af00\">16,779,207</span> (64.01 MB)\n",
              "</pre>\n"
            ]
          },
          "metadata": {}
        },
        {
          "output_type": "display_data",
          "data": {
            "text/plain": [
              "\u001b[1m Trainable params: \u001b[0m\u001b[38;5;34m16,779,207\u001b[0m (64.01 MB)\n"
            ],
            "text/html": [
              "<pre style=\"white-space:pre;overflow-x:auto;line-height:normal;font-family:Menlo,'DejaVu Sans Mono',consolas,'Courier New',monospace\"><span style=\"font-weight: bold\"> Trainable params: </span><span style=\"color: #00af00; text-decoration-color: #00af00\">16,779,207</span> (64.01 MB)\n",
              "</pre>\n"
            ]
          },
          "metadata": {}
        },
        {
          "output_type": "display_data",
          "data": {
            "text/plain": [
              "\u001b[1m Non-trainable params: \u001b[0m\u001b[38;5;34m0\u001b[0m (0.00 B)\n"
            ],
            "text/html": [
              "<pre style=\"white-space:pre;overflow-x:auto;line-height:normal;font-family:Menlo,'DejaVu Sans Mono',consolas,'Courier New',monospace\"><span style=\"font-weight: bold\"> Non-trainable params: </span><span style=\"color: #00af00; text-decoration-color: #00af00\">0</span> (0.00 B)\n",
              "</pre>\n"
            ]
          },
          "metadata": {}
        }
      ]
    },
    {
      "cell_type": "code",
      "source": [
        "# model.compile(optimizer='adam',loss='sparse_categorical_crossentropy',metrics=['accuracy']) # With label encoding\n",
        "\n",
        "model.compile(optimizer='adam',loss='categorical_crossentropy',metrics=['accuracy']) # with one hot encoding"
      ],
      "metadata": {
        "id": "Rv8653_6CrEq"
      },
      "execution_count": 271,
      "outputs": []
    },
    {
      "cell_type": "markdown",
      "metadata": {
        "id": "57DXwqqQTloy"
      },
      "source": [
        "# Defining Batch Size, Creating Datasets, and Training the Model"
      ]
    },
    {
      "cell_type": "markdown",
      "metadata": {
        "id": "LEOvs_dETmQp"
      },
      "source": [
        "In this step, you will define the batch size, create TensorFlow Datasets for both training and testing, and train the model. The key elements to consider are outlined below, and it is up to you to choose the specific configurations based on your preferences and experimentation:\n",
        "\n",
        "1. **Batch Size**:\n",
        "   Select a batch size for training and testing. The batch size determines how many samples will be processed together in one forward and backward pass during training.\n",
        "\n",
        "2. **Creating Datasets**:\n",
        "   Use TensorFlow’s `Dataset.from_tensor_slices()` to create datasets from the training and testing data.\n",
        "\n",
        "3. **Batching the Datasets**:\n",
        "   Batch the datasets by grouping the data into batches of the specified size.\n",
        "\n",
        "4. **Training the Model**:\n",
        "   Train the model by fitting it on the training dataset for a specified number of epochs. You will also need to provide the validation data to monitor the model’s performance on unseen data during training.\n",
        "\n",
        "5. **Tracking Training History**:\n",
        "   During training, the model’s performance metrics (such as loss and accuracy) will be tracked over the epochs, and the results will be stored in the `history` object."
      ]
    },
    {
      "cell_type": "code",
      "execution_count": 272,
      "metadata": {
        "id": "o6unhJgFfQbM"
      },
      "outputs": [],
      "source": [
        "# dataset_train = tf.data.Dataset.from_tensor_slices(sequences_train)\n",
        "\n",
        "# dataset_train = dataset_train.batch(32)\n",
        "\n",
        "# dataset_test = tf.data.Dataset.from_tensor_slices(X_test)\n",
        "\n",
        "# dataset_test = dataset_train.batch(32)"
      ]
    },
    {
      "cell_type": "code",
      "source": [
        "history = model.fit(padded_train,y_train,epochs=5,validation_split=0.2)"
      ],
      "metadata": {
        "colab": {
          "base_uri": "https://localhost:8080/",
          "height": 400
        },
        "id": "axIazTwdTOUu",
        "outputId": "7490e4a6-ee48-473a-d25b-ceb15cae2df0"
      },
      "execution_count": 276,
      "outputs": [
        {
          "output_type": "stream",
          "name": "stdout",
          "text": [
            "Epoch 1/5\n",
            "\u001b[1m825/825\u001b[0m \u001b[32m━━━━━━━━━━━━━━━━━━━━\u001b[0m\u001b[37m\u001b[0m \u001b[1m622s\u001b[0m 750ms/step - accuracy: 0.6017 - loss: 1.0330\n",
            "Epoch 2/5\n",
            "\u001b[1m825/825\u001b[0m \u001b[32m━━━━━━━━━━━━━━━━━━━━\u001b[0m\u001b[37m\u001b[0m \u001b[1m647s\u001b[0m 781ms/step - accuracy: 0.9681 - loss: 0.1063\n",
            "Epoch 3/5\n",
            "\u001b[1m 16/825\u001b[0m \u001b[37m━━━━━━━━━━━━━━━━━━━━\u001b[0m \u001b[1m17:23\u001b[0m 1s/step - accuracy: 0.9850 - loss: 0.0541"
          ]
        },
        {
          "output_type": "error",
          "ename": "KeyboardInterrupt",
          "evalue": "",
          "traceback": [
            "\u001b[0;31m---------------------------------------------------------------------------\u001b[0m",
            "\u001b[0;31mKeyboardInterrupt\u001b[0m                         Traceback (most recent call last)",
            "\u001b[0;32m<ipython-input-276-c980cfda2d91>\u001b[0m in \u001b[0;36m<cell line: 1>\u001b[0;34m()\u001b[0m\n\u001b[0;32m----> 1\u001b[0;31m \u001b[0mhistory\u001b[0m \u001b[0;34m=\u001b[0m \u001b[0mmodel\u001b[0m\u001b[0;34m.\u001b[0m\u001b[0mfit\u001b[0m\u001b[0;34m(\u001b[0m\u001b[0mpadded_train\u001b[0m\u001b[0;34m,\u001b[0m\u001b[0my_train\u001b[0m\u001b[0;34m,\u001b[0m\u001b[0mepochs\u001b[0m\u001b[0;34m=\u001b[0m\u001b[0;36m5\u001b[0m\u001b[0;34m)\u001b[0m\u001b[0;34m\u001b[0m\u001b[0;34m\u001b[0m\u001b[0m\n\u001b[0m",
            "\u001b[0;32m/usr/local/lib/python3.10/dist-packages/keras/src/utils/traceback_utils.py\u001b[0m in \u001b[0;36merror_handler\u001b[0;34m(*args, **kwargs)\u001b[0m\n\u001b[1;32m    115\u001b[0m         \u001b[0mfiltered_tb\u001b[0m \u001b[0;34m=\u001b[0m \u001b[0;32mNone\u001b[0m\u001b[0;34m\u001b[0m\u001b[0;34m\u001b[0m\u001b[0m\n\u001b[1;32m    116\u001b[0m         \u001b[0;32mtry\u001b[0m\u001b[0;34m:\u001b[0m\u001b[0;34m\u001b[0m\u001b[0;34m\u001b[0m\u001b[0m\n\u001b[0;32m--> 117\u001b[0;31m             \u001b[0;32mreturn\u001b[0m \u001b[0mfn\u001b[0m\u001b[0;34m(\u001b[0m\u001b[0;34m*\u001b[0m\u001b[0margs\u001b[0m\u001b[0;34m,\u001b[0m \u001b[0;34m**\u001b[0m\u001b[0mkwargs\u001b[0m\u001b[0;34m)\u001b[0m\u001b[0;34m\u001b[0m\u001b[0;34m\u001b[0m\u001b[0m\n\u001b[0m\u001b[1;32m    118\u001b[0m         \u001b[0;32mexcept\u001b[0m \u001b[0mException\u001b[0m \u001b[0;32mas\u001b[0m \u001b[0me\u001b[0m\u001b[0;34m:\u001b[0m\u001b[0;34m\u001b[0m\u001b[0;34m\u001b[0m\u001b[0m\n\u001b[1;32m    119\u001b[0m             \u001b[0mfiltered_tb\u001b[0m \u001b[0;34m=\u001b[0m \u001b[0m_process_traceback_frames\u001b[0m\u001b[0;34m(\u001b[0m\u001b[0me\u001b[0m\u001b[0;34m.\u001b[0m\u001b[0m__traceback__\u001b[0m\u001b[0;34m)\u001b[0m\u001b[0;34m\u001b[0m\u001b[0;34m\u001b[0m\u001b[0m\n",
            "\u001b[0;32m/usr/local/lib/python3.10/dist-packages/keras/src/backend/tensorflow/trainer.py\u001b[0m in \u001b[0;36mfit\u001b[0;34m(self, x, y, batch_size, epochs, verbose, callbacks, validation_split, validation_data, shuffle, class_weight, sample_weight, initial_epoch, steps_per_epoch, validation_steps, validation_batch_size, validation_freq)\u001b[0m\n\u001b[1;32m    316\u001b[0m                 \u001b[0;32mfor\u001b[0m \u001b[0mstep\u001b[0m\u001b[0;34m,\u001b[0m \u001b[0miterator\u001b[0m \u001b[0;32min\u001b[0m \u001b[0mepoch_iterator\u001b[0m\u001b[0;34m.\u001b[0m\u001b[0menumerate_epoch\u001b[0m\u001b[0;34m(\u001b[0m\u001b[0;34m)\u001b[0m\u001b[0;34m:\u001b[0m\u001b[0;34m\u001b[0m\u001b[0;34m\u001b[0m\u001b[0m\n\u001b[1;32m    317\u001b[0m                     \u001b[0mcallbacks\u001b[0m\u001b[0;34m.\u001b[0m\u001b[0mon_train_batch_begin\u001b[0m\u001b[0;34m(\u001b[0m\u001b[0mstep\u001b[0m\u001b[0;34m)\u001b[0m\u001b[0;34m\u001b[0m\u001b[0;34m\u001b[0m\u001b[0m\n\u001b[0;32m--> 318\u001b[0;31m                     \u001b[0mlogs\u001b[0m \u001b[0;34m=\u001b[0m \u001b[0mself\u001b[0m\u001b[0;34m.\u001b[0m\u001b[0mtrain_function\u001b[0m\u001b[0;34m(\u001b[0m\u001b[0miterator\u001b[0m\u001b[0;34m)\u001b[0m\u001b[0;34m\u001b[0m\u001b[0;34m\u001b[0m\u001b[0m\n\u001b[0m\u001b[1;32m    319\u001b[0m                     \u001b[0mlogs\u001b[0m \u001b[0;34m=\u001b[0m \u001b[0mself\u001b[0m\u001b[0;34m.\u001b[0m\u001b[0m_pythonify_logs\u001b[0m\u001b[0;34m(\u001b[0m\u001b[0mlogs\u001b[0m\u001b[0;34m)\u001b[0m\u001b[0;34m\u001b[0m\u001b[0;34m\u001b[0m\u001b[0m\n\u001b[1;32m    320\u001b[0m                     \u001b[0mcallbacks\u001b[0m\u001b[0;34m.\u001b[0m\u001b[0mon_train_batch_end\u001b[0m\u001b[0;34m(\u001b[0m\u001b[0mstep\u001b[0m\u001b[0;34m,\u001b[0m \u001b[0mlogs\u001b[0m\u001b[0;34m)\u001b[0m\u001b[0;34m\u001b[0m\u001b[0;34m\u001b[0m\u001b[0m\n",
            "\u001b[0;32m/usr/local/lib/python3.10/dist-packages/tensorflow/python/util/traceback_utils.py\u001b[0m in \u001b[0;36merror_handler\u001b[0;34m(*args, **kwargs)\u001b[0m\n\u001b[1;32m    148\u001b[0m     \u001b[0mfiltered_tb\u001b[0m \u001b[0;34m=\u001b[0m \u001b[0;32mNone\u001b[0m\u001b[0;34m\u001b[0m\u001b[0;34m\u001b[0m\u001b[0m\n\u001b[1;32m    149\u001b[0m     \u001b[0;32mtry\u001b[0m\u001b[0;34m:\u001b[0m\u001b[0;34m\u001b[0m\u001b[0;34m\u001b[0m\u001b[0m\n\u001b[0;32m--> 150\u001b[0;31m       \u001b[0;32mreturn\u001b[0m \u001b[0mfn\u001b[0m\u001b[0;34m(\u001b[0m\u001b[0;34m*\u001b[0m\u001b[0margs\u001b[0m\u001b[0;34m,\u001b[0m \u001b[0;34m**\u001b[0m\u001b[0mkwargs\u001b[0m\u001b[0;34m)\u001b[0m\u001b[0;34m\u001b[0m\u001b[0;34m\u001b[0m\u001b[0m\n\u001b[0m\u001b[1;32m    151\u001b[0m     \u001b[0;32mexcept\u001b[0m \u001b[0mException\u001b[0m \u001b[0;32mas\u001b[0m \u001b[0me\u001b[0m\u001b[0;34m:\u001b[0m\u001b[0;34m\u001b[0m\u001b[0;34m\u001b[0m\u001b[0m\n\u001b[1;32m    152\u001b[0m       \u001b[0mfiltered_tb\u001b[0m \u001b[0;34m=\u001b[0m \u001b[0m_process_traceback_frames\u001b[0m\u001b[0;34m(\u001b[0m\u001b[0me\u001b[0m\u001b[0;34m.\u001b[0m\u001b[0m__traceback__\u001b[0m\u001b[0;34m)\u001b[0m\u001b[0;34m\u001b[0m\u001b[0;34m\u001b[0m\u001b[0m\n",
            "\u001b[0;32m/usr/local/lib/python3.10/dist-packages/tensorflow/python/eager/polymorphic_function/polymorphic_function.py\u001b[0m in \u001b[0;36m__call__\u001b[0;34m(self, *args, **kwds)\u001b[0m\n\u001b[1;32m    831\u001b[0m \u001b[0;34m\u001b[0m\u001b[0m\n\u001b[1;32m    832\u001b[0m       \u001b[0;32mwith\u001b[0m \u001b[0mOptionalXlaContext\u001b[0m\u001b[0;34m(\u001b[0m\u001b[0mself\u001b[0m\u001b[0;34m.\u001b[0m\u001b[0m_jit_compile\u001b[0m\u001b[0;34m)\u001b[0m\u001b[0;34m:\u001b[0m\u001b[0;34m\u001b[0m\u001b[0;34m\u001b[0m\u001b[0m\n\u001b[0;32m--> 833\u001b[0;31m         \u001b[0mresult\u001b[0m \u001b[0;34m=\u001b[0m \u001b[0mself\u001b[0m\u001b[0;34m.\u001b[0m\u001b[0m_call\u001b[0m\u001b[0;34m(\u001b[0m\u001b[0;34m*\u001b[0m\u001b[0margs\u001b[0m\u001b[0;34m,\u001b[0m \u001b[0;34m**\u001b[0m\u001b[0mkwds\u001b[0m\u001b[0;34m)\u001b[0m\u001b[0;34m\u001b[0m\u001b[0;34m\u001b[0m\u001b[0m\n\u001b[0m\u001b[1;32m    834\u001b[0m \u001b[0;34m\u001b[0m\u001b[0m\n\u001b[1;32m    835\u001b[0m       \u001b[0mnew_tracing_count\u001b[0m \u001b[0;34m=\u001b[0m \u001b[0mself\u001b[0m\u001b[0;34m.\u001b[0m\u001b[0mexperimental_get_tracing_count\u001b[0m\u001b[0;34m(\u001b[0m\u001b[0;34m)\u001b[0m\u001b[0;34m\u001b[0m\u001b[0;34m\u001b[0m\u001b[0m\n",
            "\u001b[0;32m/usr/local/lib/python3.10/dist-packages/tensorflow/python/eager/polymorphic_function/polymorphic_function.py\u001b[0m in \u001b[0;36m_call\u001b[0;34m(self, *args, **kwds)\u001b[0m\n\u001b[1;32m    876\u001b[0m       \u001b[0;31m# In this case we have not created variables on the first call. So we can\u001b[0m\u001b[0;34m\u001b[0m\u001b[0;34m\u001b[0m\u001b[0m\n\u001b[1;32m    877\u001b[0m       \u001b[0;31m# run the first trace but we should fail if variables are created.\u001b[0m\u001b[0;34m\u001b[0m\u001b[0;34m\u001b[0m\u001b[0m\n\u001b[0;32m--> 878\u001b[0;31m       results = tracing_compilation.call_function(\n\u001b[0m\u001b[1;32m    879\u001b[0m           \u001b[0margs\u001b[0m\u001b[0;34m,\u001b[0m \u001b[0mkwds\u001b[0m\u001b[0;34m,\u001b[0m \u001b[0mself\u001b[0m\u001b[0;34m.\u001b[0m\u001b[0m_variable_creation_config\u001b[0m\u001b[0;34m\u001b[0m\u001b[0;34m\u001b[0m\u001b[0m\n\u001b[1;32m    880\u001b[0m       )\n",
            "\u001b[0;32m/usr/local/lib/python3.10/dist-packages/tensorflow/python/eager/polymorphic_function/tracing_compilation.py\u001b[0m in \u001b[0;36mcall_function\u001b[0;34m(args, kwargs, tracing_options)\u001b[0m\n\u001b[1;32m    137\u001b[0m   \u001b[0mbound_args\u001b[0m \u001b[0;34m=\u001b[0m \u001b[0mfunction\u001b[0m\u001b[0;34m.\u001b[0m\u001b[0mfunction_type\u001b[0m\u001b[0;34m.\u001b[0m\u001b[0mbind\u001b[0m\u001b[0;34m(\u001b[0m\u001b[0;34m*\u001b[0m\u001b[0margs\u001b[0m\u001b[0;34m,\u001b[0m \u001b[0;34m**\u001b[0m\u001b[0mkwargs\u001b[0m\u001b[0;34m)\u001b[0m\u001b[0;34m\u001b[0m\u001b[0;34m\u001b[0m\u001b[0m\n\u001b[1;32m    138\u001b[0m   \u001b[0mflat_inputs\u001b[0m \u001b[0;34m=\u001b[0m \u001b[0mfunction\u001b[0m\u001b[0;34m.\u001b[0m\u001b[0mfunction_type\u001b[0m\u001b[0;34m.\u001b[0m\u001b[0munpack_inputs\u001b[0m\u001b[0;34m(\u001b[0m\u001b[0mbound_args\u001b[0m\u001b[0;34m)\u001b[0m\u001b[0;34m\u001b[0m\u001b[0;34m\u001b[0m\u001b[0m\n\u001b[0;32m--> 139\u001b[0;31m   return function._call_flat(  # pylint: disable=protected-access\n\u001b[0m\u001b[1;32m    140\u001b[0m       \u001b[0mflat_inputs\u001b[0m\u001b[0;34m,\u001b[0m \u001b[0mcaptured_inputs\u001b[0m\u001b[0;34m=\u001b[0m\u001b[0mfunction\u001b[0m\u001b[0;34m.\u001b[0m\u001b[0mcaptured_inputs\u001b[0m\u001b[0;34m\u001b[0m\u001b[0;34m\u001b[0m\u001b[0m\n\u001b[1;32m    141\u001b[0m   )\n",
            "\u001b[0;32m/usr/local/lib/python3.10/dist-packages/tensorflow/python/eager/polymorphic_function/concrete_function.py\u001b[0m in \u001b[0;36m_call_flat\u001b[0;34m(self, tensor_inputs, captured_inputs)\u001b[0m\n\u001b[1;32m   1320\u001b[0m         and executing_eagerly):\n\u001b[1;32m   1321\u001b[0m       \u001b[0;31m# No tape is watching; skip to running the function.\u001b[0m\u001b[0;34m\u001b[0m\u001b[0;34m\u001b[0m\u001b[0m\n\u001b[0;32m-> 1322\u001b[0;31m       \u001b[0;32mreturn\u001b[0m \u001b[0mself\u001b[0m\u001b[0;34m.\u001b[0m\u001b[0m_inference_function\u001b[0m\u001b[0;34m.\u001b[0m\u001b[0mcall_preflattened\u001b[0m\u001b[0;34m(\u001b[0m\u001b[0margs\u001b[0m\u001b[0;34m)\u001b[0m\u001b[0;34m\u001b[0m\u001b[0;34m\u001b[0m\u001b[0m\n\u001b[0m\u001b[1;32m   1323\u001b[0m     forward_backward = self._select_forward_and_backward_functions(\n\u001b[1;32m   1324\u001b[0m         \u001b[0margs\u001b[0m\u001b[0;34m,\u001b[0m\u001b[0;34m\u001b[0m\u001b[0;34m\u001b[0m\u001b[0m\n",
            "\u001b[0;32m/usr/local/lib/python3.10/dist-packages/tensorflow/python/eager/polymorphic_function/atomic_function.py\u001b[0m in \u001b[0;36mcall_preflattened\u001b[0;34m(self, args)\u001b[0m\n\u001b[1;32m    214\u001b[0m   \u001b[0;32mdef\u001b[0m \u001b[0mcall_preflattened\u001b[0m\u001b[0;34m(\u001b[0m\u001b[0mself\u001b[0m\u001b[0;34m,\u001b[0m \u001b[0margs\u001b[0m\u001b[0;34m:\u001b[0m \u001b[0mSequence\u001b[0m\u001b[0;34m[\u001b[0m\u001b[0mcore\u001b[0m\u001b[0;34m.\u001b[0m\u001b[0mTensor\u001b[0m\u001b[0;34m]\u001b[0m\u001b[0;34m)\u001b[0m \u001b[0;34m->\u001b[0m \u001b[0mAny\u001b[0m\u001b[0;34m:\u001b[0m\u001b[0;34m\u001b[0m\u001b[0;34m\u001b[0m\u001b[0m\n\u001b[1;32m    215\u001b[0m     \u001b[0;34m\"\"\"Calls with flattened tensor inputs and returns the structured output.\"\"\"\u001b[0m\u001b[0;34m\u001b[0m\u001b[0;34m\u001b[0m\u001b[0m\n\u001b[0;32m--> 216\u001b[0;31m     \u001b[0mflat_outputs\u001b[0m \u001b[0;34m=\u001b[0m \u001b[0mself\u001b[0m\u001b[0;34m.\u001b[0m\u001b[0mcall_flat\u001b[0m\u001b[0;34m(\u001b[0m\u001b[0;34m*\u001b[0m\u001b[0margs\u001b[0m\u001b[0;34m)\u001b[0m\u001b[0;34m\u001b[0m\u001b[0;34m\u001b[0m\u001b[0m\n\u001b[0m\u001b[1;32m    217\u001b[0m     \u001b[0;32mreturn\u001b[0m \u001b[0mself\u001b[0m\u001b[0;34m.\u001b[0m\u001b[0mfunction_type\u001b[0m\u001b[0;34m.\u001b[0m\u001b[0mpack_output\u001b[0m\u001b[0;34m(\u001b[0m\u001b[0mflat_outputs\u001b[0m\u001b[0;34m)\u001b[0m\u001b[0;34m\u001b[0m\u001b[0;34m\u001b[0m\u001b[0m\n\u001b[1;32m    218\u001b[0m \u001b[0;34m\u001b[0m\u001b[0m\n",
            "\u001b[0;32m/usr/local/lib/python3.10/dist-packages/tensorflow/python/eager/polymorphic_function/atomic_function.py\u001b[0m in \u001b[0;36mcall_flat\u001b[0;34m(self, *args)\u001b[0m\n\u001b[1;32m    249\u001b[0m         \u001b[0;32mwith\u001b[0m \u001b[0mrecord\u001b[0m\u001b[0;34m.\u001b[0m\u001b[0mstop_recording\u001b[0m\u001b[0;34m(\u001b[0m\u001b[0;34m)\u001b[0m\u001b[0;34m:\u001b[0m\u001b[0;34m\u001b[0m\u001b[0;34m\u001b[0m\u001b[0m\n\u001b[1;32m    250\u001b[0m           \u001b[0;32mif\u001b[0m \u001b[0mself\u001b[0m\u001b[0;34m.\u001b[0m\u001b[0m_bound_context\u001b[0m\u001b[0;34m.\u001b[0m\u001b[0mexecuting_eagerly\u001b[0m\u001b[0;34m(\u001b[0m\u001b[0;34m)\u001b[0m\u001b[0;34m:\u001b[0m\u001b[0;34m\u001b[0m\u001b[0;34m\u001b[0m\u001b[0m\n\u001b[0;32m--> 251\u001b[0;31m             outputs = self._bound_context.call_function(\n\u001b[0m\u001b[1;32m    252\u001b[0m                 \u001b[0mself\u001b[0m\u001b[0;34m.\u001b[0m\u001b[0mname\u001b[0m\u001b[0;34m,\u001b[0m\u001b[0;34m\u001b[0m\u001b[0;34m\u001b[0m\u001b[0m\n\u001b[1;32m    253\u001b[0m                 \u001b[0mlist\u001b[0m\u001b[0;34m(\u001b[0m\u001b[0margs\u001b[0m\u001b[0;34m)\u001b[0m\u001b[0;34m,\u001b[0m\u001b[0;34m\u001b[0m\u001b[0;34m\u001b[0m\u001b[0m\n",
            "\u001b[0;32m/usr/local/lib/python3.10/dist-packages/tensorflow/python/eager/context.py\u001b[0m in \u001b[0;36mcall_function\u001b[0;34m(self, name, tensor_inputs, num_outputs)\u001b[0m\n\u001b[1;32m   1550\u001b[0m     \u001b[0mcancellation_context\u001b[0m \u001b[0;34m=\u001b[0m \u001b[0mcancellation\u001b[0m\u001b[0;34m.\u001b[0m\u001b[0mcontext\u001b[0m\u001b[0;34m(\u001b[0m\u001b[0;34m)\u001b[0m\u001b[0;34m\u001b[0m\u001b[0;34m\u001b[0m\u001b[0m\n\u001b[1;32m   1551\u001b[0m     \u001b[0;32mif\u001b[0m \u001b[0mcancellation_context\u001b[0m \u001b[0;32mis\u001b[0m \u001b[0;32mNone\u001b[0m\u001b[0;34m:\u001b[0m\u001b[0;34m\u001b[0m\u001b[0;34m\u001b[0m\u001b[0m\n\u001b[0;32m-> 1552\u001b[0;31m       outputs = execute.execute(\n\u001b[0m\u001b[1;32m   1553\u001b[0m           \u001b[0mname\u001b[0m\u001b[0;34m.\u001b[0m\u001b[0mdecode\u001b[0m\u001b[0;34m(\u001b[0m\u001b[0;34m\"utf-8\"\u001b[0m\u001b[0;34m)\u001b[0m\u001b[0;34m,\u001b[0m\u001b[0;34m\u001b[0m\u001b[0;34m\u001b[0m\u001b[0m\n\u001b[1;32m   1554\u001b[0m           \u001b[0mnum_outputs\u001b[0m\u001b[0;34m=\u001b[0m\u001b[0mnum_outputs\u001b[0m\u001b[0;34m,\u001b[0m\u001b[0;34m\u001b[0m\u001b[0;34m\u001b[0m\u001b[0m\n",
            "\u001b[0;32m/usr/local/lib/python3.10/dist-packages/tensorflow/python/eager/execute.py\u001b[0m in \u001b[0;36mquick_execute\u001b[0;34m(op_name, num_outputs, inputs, attrs, ctx, name)\u001b[0m\n\u001b[1;32m     51\u001b[0m   \u001b[0;32mtry\u001b[0m\u001b[0;34m:\u001b[0m\u001b[0;34m\u001b[0m\u001b[0;34m\u001b[0m\u001b[0m\n\u001b[1;32m     52\u001b[0m     \u001b[0mctx\u001b[0m\u001b[0;34m.\u001b[0m\u001b[0mensure_initialized\u001b[0m\u001b[0;34m(\u001b[0m\u001b[0;34m)\u001b[0m\u001b[0;34m\u001b[0m\u001b[0;34m\u001b[0m\u001b[0m\n\u001b[0;32m---> 53\u001b[0;31m     tensors = pywrap_tfe.TFE_Py_Execute(ctx._handle, device_name, op_name,\n\u001b[0m\u001b[1;32m     54\u001b[0m                                         inputs, attrs, num_outputs)\n\u001b[1;32m     55\u001b[0m   \u001b[0;32mexcept\u001b[0m \u001b[0mcore\u001b[0m\u001b[0;34m.\u001b[0m\u001b[0m_NotOkStatusException\u001b[0m \u001b[0;32mas\u001b[0m \u001b[0me\u001b[0m\u001b[0;34m:\u001b[0m\u001b[0;34m\u001b[0m\u001b[0;34m\u001b[0m\u001b[0m\n",
            "\u001b[0;31mKeyboardInterrupt\u001b[0m: "
          ]
        }
      ]
    },
    {
      "cell_type": "code",
      "source": [
        "# history = model.fit(dataset_train,epochs=5) # trying with from_slices from tf"
      ],
      "metadata": {
        "colab": {
          "base_uri": "https://localhost:8080/",
          "height": 454
        },
        "id": "eQV1ACdvjW-j",
        "outputId": "a2c6ff33-b3a6-4f8a-ff68-0ab40614eee9"
      },
      "execution_count": 263,
      "outputs": [
        {
          "output_type": "stream",
          "name": "stdout",
          "text": [
            "Epoch 1/5\n"
          ]
        },
        {
          "output_type": "error",
          "ename": "ValueError",
          "evalue": "Exception encountered when calling Sequential.call().\n\n\u001b[1mInvalid input shape for input Tensor(\"sequential_1_1/Cast:0\", shape=(None, None, None), dtype=float32). Expected shape (None, 400), but input has incompatible shape (None, None, None)\u001b[0m\n\nArguments received by Sequential.call():\n  • inputs=tf.Tensor(shape=(None, None, None), dtype=string)\n  • training=True\n  • mask=None",
          "traceback": [
            "\u001b[0;31m---------------------------------------------------------------------------\u001b[0m",
            "\u001b[0;31mValueError\u001b[0m                                Traceback (most recent call last)",
            "\u001b[0;32m<ipython-input-263-7e0d135af598>\u001b[0m in \u001b[0;36m<cell line: 1>\u001b[0;34m()\u001b[0m\n\u001b[0;32m----> 1\u001b[0;31m \u001b[0mhistory\u001b[0m \u001b[0;34m=\u001b[0m \u001b[0mmodel\u001b[0m\u001b[0;34m.\u001b[0m\u001b[0mfit\u001b[0m\u001b[0;34m(\u001b[0m\u001b[0mdataset_train\u001b[0m\u001b[0;34m,\u001b[0m\u001b[0mepochs\u001b[0m\u001b[0;34m=\u001b[0m\u001b[0;36m5\u001b[0m\u001b[0;34m)\u001b[0m\u001b[0;34m\u001b[0m\u001b[0;34m\u001b[0m\u001b[0m\n\u001b[0m",
            "\u001b[0;32m/usr/local/lib/python3.10/dist-packages/keras/src/utils/traceback_utils.py\u001b[0m in \u001b[0;36merror_handler\u001b[0;34m(*args, **kwargs)\u001b[0m\n\u001b[1;32m    120\u001b[0m             \u001b[0;31m# To get the full stack trace, call:\u001b[0m\u001b[0;34m\u001b[0m\u001b[0;34m\u001b[0m\u001b[0m\n\u001b[1;32m    121\u001b[0m             \u001b[0;31m# `keras.config.disable_traceback_filtering()`\u001b[0m\u001b[0;34m\u001b[0m\u001b[0;34m\u001b[0m\u001b[0m\n\u001b[0;32m--> 122\u001b[0;31m             \u001b[0;32mraise\u001b[0m \u001b[0me\u001b[0m\u001b[0;34m.\u001b[0m\u001b[0mwith_traceback\u001b[0m\u001b[0;34m(\u001b[0m\u001b[0mfiltered_tb\u001b[0m\u001b[0;34m)\u001b[0m \u001b[0;32mfrom\u001b[0m \u001b[0;32mNone\u001b[0m\u001b[0;34m\u001b[0m\u001b[0;34m\u001b[0m\u001b[0m\n\u001b[0m\u001b[1;32m    123\u001b[0m         \u001b[0;32mfinally\u001b[0m\u001b[0;34m:\u001b[0m\u001b[0;34m\u001b[0m\u001b[0;34m\u001b[0m\u001b[0m\n\u001b[1;32m    124\u001b[0m             \u001b[0;32mdel\u001b[0m \u001b[0mfiltered_tb\u001b[0m\u001b[0;34m\u001b[0m\u001b[0;34m\u001b[0m\u001b[0m\n",
            "\u001b[0;32m/usr/local/lib/python3.10/dist-packages/keras/src/models/functional.py\u001b[0m in \u001b[0;36m_adjust_input_rank\u001b[0;34m(self, flat_inputs)\u001b[0m\n\u001b[1;32m    242\u001b[0m                     \u001b[0madjusted\u001b[0m\u001b[0;34m.\u001b[0m\u001b[0mappend\u001b[0m\u001b[0;34m(\u001b[0m\u001b[0mops\u001b[0m\u001b[0;34m.\u001b[0m\u001b[0mexpand_dims\u001b[0m\u001b[0;34m(\u001b[0m\u001b[0mx\u001b[0m\u001b[0;34m,\u001b[0m \u001b[0maxis\u001b[0m\u001b[0;34m=\u001b[0m\u001b[0;34m-\u001b[0m\u001b[0;36m1\u001b[0m\u001b[0;34m)\u001b[0m\u001b[0;34m)\u001b[0m\u001b[0;34m\u001b[0m\u001b[0;34m\u001b[0m\u001b[0m\n\u001b[1;32m    243\u001b[0m                     \u001b[0;32mcontinue\u001b[0m\u001b[0;34m\u001b[0m\u001b[0;34m\u001b[0m\u001b[0m\n\u001b[0;32m--> 244\u001b[0;31m             raise ValueError(\n\u001b[0m\u001b[1;32m    245\u001b[0m                 \u001b[0;34mf\"Invalid input shape for input {x}. Expected shape \"\u001b[0m\u001b[0;34m\u001b[0m\u001b[0;34m\u001b[0m\u001b[0m\n\u001b[1;32m    246\u001b[0m                 \u001b[0;34mf\"{ref_shape}, but input has incompatible shape {x.shape}\"\u001b[0m\u001b[0;34m\u001b[0m\u001b[0;34m\u001b[0m\u001b[0m\n",
            "\u001b[0;31mValueError\u001b[0m: Exception encountered when calling Sequential.call().\n\n\u001b[1mInvalid input shape for input Tensor(\"sequential_1_1/Cast:0\", shape=(None, None, None), dtype=float32). Expected shape (None, 400), but input has incompatible shape (None, None, None)\u001b[0m\n\nArguments received by Sequential.call():\n  • inputs=tf.Tensor(shape=(None, None, None), dtype=string)\n  • training=True\n  • mask=None"
          ]
        }
      ]
    },
    {
      "cell_type": "markdown",
      "metadata": {
        "id": "XmoJfr3nfP-n"
      },
      "source": [
        "# Model Evaluation"
      ]
    },
    {
      "cell_type": "markdown",
      "metadata": {
        "id": "2Gb8G9XiT-ec"
      },
      "source": [
        "Once the model is trained, the next step is to evaluate its performance on the testing dataset.\n",
        "\n",
        "1. **Evaluate the Model**:\n",
        "   You will use the `evaluate()` method to assess the model’s performance on the test dataset.\n",
        "\n",
        "2. **Testing Dataset**:\n",
        "   Ensure that the testing dataset is properly prepared and batched, just like the training dataset.\n",
        "\n",
        "4. **Loss Curve**:\n",
        "   A loss curve plots the loss values for both the training and validation datasets over the epochs."
      ]
    },
    {
      "cell_type": "code",
      "execution_count": 279,
      "metadata": {
        "id": "SdECXvQGUQae",
        "colab": {
          "base_uri": "https://localhost:8080/"
        },
        "outputId": "bc694568-cede-41b2-8d43-32c074ec3401"
      },
      "outputs": [
        {
          "output_type": "stream",
          "name": "stdout",
          "text": [
            "\u001b[1m207/207\u001b[0m \u001b[32m━━━━━━━━━━━━━━━━━━━━\u001b[0m\u001b[37m\u001b[0m \u001b[1m27s\u001b[0m 119ms/step - accuracy: 0.9518 - loss: 0.1716\n",
            "[0.1713801473379135, 0.950409471988678]\n"
          ]
        }
      ],
      "source": [
        "print(model.evaluate(padded_test,y_test))"
      ]
    },
    {
      "cell_type": "code",
      "source": [
        "pd.DataFrame(history.history)[['val_loss','loss']].plot() # not showing anything because I stopped the history fitting. if it finished it will give the result, I had it before but I run it again and it dissappear"
      ],
      "metadata": {
        "colab": {
          "base_uri": "https://localhost:8080/",
          "height": 448
        },
        "id": "m-BO5EiFDYrK",
        "outputId": "311a6f33-7679-446e-dec4-fba913d06a81"
      },
      "execution_count": 282,
      "outputs": [
        {
          "output_type": "execute_result",
          "data": {
            "text/plain": [
              "<Axes: >"
            ]
          },
          "metadata": {},
          "execution_count": 282
        },
        {
          "output_type": "display_data",
          "data": {
            "text/plain": [
              "<Figure size 640x480 with 1 Axes>"
            ],
            "image/png": "[encoded data removed]"
          },
          "metadata": {}
        }
      ]
    },
    {
      "cell_type": "markdown",
      "metadata": {
        "id": "ifx5RFxnUQqc"
      },
      "source": [
        "# Model Inference"
      ]
    },
    {
      "cell_type": "markdown",
      "metadata": {
        "id": "sVh0WCBoUSlP"
      },
      "source": [
        "In this step, you will use the trained model to make predictions on new, unseen data (inference). Here’s an outline of the key points:\n",
        "\n",
        "1. **Create Test Sample**:\n",
        "   Create a string to test your modelm the goal here is to give the model Before making predictions, ensure that the new data is preprocessed in the same way as the training data. This includes tokenization, padding, and any other transformations you applied during the data preprocessing step. The data can be single text to see the result of the prediction.\n",
        "\n",
        "2. **Model Prediction**:\n",
        "   Use the `predict()` method to feed new samples into the trained model and obtain predictions. The model will output probabilities or predicted class labels based on the type of classification task (binary or multi-class).\n",
        "\n",
        "3. **Interpreting Predictions**:\n",
        "   The model will return probabilities for each class."
      ]
    },
    {
      "cell_type": "code",
      "execution_count": 285,
      "metadata": {
        "id": "2XiahrhffR0J",
        "colab": {
          "base_uri": "https://localhost:8080/"
        },
        "outputId": "6815c9e5-a6ff-4f1b-d255-6802b133d128"
      },
      "outputs": [
        {
          "output_type": "stream",
          "name": "stdout",
          "text": [
            "\u001b[1m1/1\u001b[0m \u001b[32m━━━━━━━━━━━━━━━━━━━━\u001b[0m\u001b[37m\u001b[0m \u001b[1m0s\u001b[0m 97ms/step\n",
            "['Culture']\n"
          ]
        }
      ],
      "source": [
        "# test_sample = ['لعب',\"لها\",\"السياسة\",\"ممتع\"]\n",
        "test_sample = \"الملعب يشعرني بالسعادة\"\n",
        "\n",
        "test_sample = text_cleaning(test_sample)\n",
        "\n",
        "test_sequence = tokenizer.texts_to_sequences([test_sample])\n",
        "\n",
        "test_padded = pad_sequences(test_sequence,maxlen=MAX_LEN,padding='post')\n",
        "\n",
        "prediction = model.predict(test_padded)\n",
        "\n",
        "prediction_index = np.argmax(prediction)\n",
        "\n",
        "print(ohe.inverse_transform([prediction_index]))\n"
      ]
    },
    {
      "cell_type": "code",
      "source": [
        "# print(tokenizer.texts_to_sequences)\n",
        "# pad_sequences([tokenizer.texts_to_sequences('الاستفادة الاستفادة الاستفادة')],maxlen=MAX_LEN,padding='post')"
      ],
      "metadata": {
        "id": "vqju_7PnPQlG"
      },
      "execution_count": null,
      "outputs": []
    },
    {
      "cell_type": "markdown",
      "metadata": {
        "id": "fHbgQVrt43DQ"
      },
      "source": [
        "# Notebook Question:\n",
        "- How did you handle text preprocessing? Why did you choose this approach?\n",
        "\n",
        "- Why did you choose this model design?\n",
        "\n",
        "- Why did you pick this number of layers or units for the model?\n",
        "\n",
        "- Why did you select these evaluation methods?\n",
        "\n",
        "- Does your model show signs of overfitting or underfitting? How do you know?\n",
        "\n",
        "- What changes could you make to improve the model and fix overfitting or underfitting?"
      ]
    },
    {
      "cell_type": "markdown",
      "metadata": {
        "id": "x7vOe0JZ43DQ"
      },
      "source": [
        "Answer Here:"
      ]
    },
    {
      "cell_type": "markdown",
      "source": [
        "#### Preprocessing\n",
        "- I used the arabic strips to delete some of the arabic language harakat and hamza and others\n",
        "- I deleted the punctiation and special characters\n",
        "- Deleted the URLs\n",
        "- Used Stem to normalize the text\n",
        "\n",
        "#### Model Design\n",
        "- I used SimpleRNN because it takes too much time and I needed to make it faster.\n",
        "- I used Bidirectional to get the sequence feature\n",
        "- I used 7 as output softmax becuase there are 7 categories in the label\n",
        "\n",
        "\n",
        "#### Number of Layers\n",
        "- It's a hyper parameter I tested a few of them but I setteled in the end of what I have. it didn't make much difference\n",
        "\n",
        "#### Evaluation Methods\n",
        "- Used Accuracy due to having multiple categories and even they are not distributed well. but still accuracy would be a better metrics due to having 7 categories and not just 2\n",
        "\n",
        "#### Overfitting | Underfitting\n",
        "- There is no overfitting or underfitting. I saw the loss curve and there is not much of difference between the validation and train loss\n",
        "\n",
        "#### Improve model\n",
        "- Could improve the preprocessing more\n",
        "- Could add different types of model like LSTM and GRU to check a better model\n",
        "- Could add more fully connected layers"
      ],
      "metadata": {
        "id": "L4iOdt_cOWdv"
      }
    },
    {
      "cell_type": "markdown",
      "source": [
        "Resources:\n",
        "- https://www.tensorflow.org/api_docs/python/tf/data/Dataset\n",
        "- https://www.tensorflow.org/api_docs/python/tf/keras/utils/pad_sequences\n",
        "- https://www.tensorflow.org/api_docs/python/tf/keras/utils/to_categorical\n",
        "- https://www.tensorflow.org/api_docs/python/tf/keras/Model\n",
        "- https://www.tensorflow.org/api_docs/python/tf/compat/v1/tpu/experimental/embedding\n",
        "- https://www.tensorflow.org/api_docs/python/tf/keras/preprocessing/text/Tokenizer\n",
        "- https://www.nltk.org/howto/stem.html\n",
        "- https://pypi.org/project/PyArabic/\n",
        "- https://keras.io/api/models/model_training_apis/"
      ],
      "metadata": {
        "id": "dQ6pOkD0ncIn"
      }
    },
    {
      "cell_type": "code",
      "source": [],
      "metadata": {
        "id": "ISfF4aEuohHj"
      },
      "execution_count": null,
      "outputs": []
    }
  ],
  "metadata": {
    "colab": {
      "provenance": []
    },
    "kernelspec": {
      "display_name": "Python 3",
      "name": "python3"
    },
    "language_info": {
      "name": "python"
    }
  },
  "nbformat": 4,
  "nbformat_minor": 0
}