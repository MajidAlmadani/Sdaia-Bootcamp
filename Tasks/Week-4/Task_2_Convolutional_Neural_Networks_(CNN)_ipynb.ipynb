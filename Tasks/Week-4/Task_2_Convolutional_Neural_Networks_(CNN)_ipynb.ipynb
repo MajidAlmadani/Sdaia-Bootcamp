{
  "cells": [
    {
      "cell_type": "markdown",
      "id": "69e7471b",
      "metadata": {
        "id": "69e7471b"
      },
      "source": [
        "# Exam on Convolutional Neural Networks (CNN)\n",
        "\n",
        "Welcome to the Convolutional Neural Networks (CNN) practical exam. In this exam, you will work on an image classification task to predict weather the parkinglot is occupied or empty. You are provided with a dataset of parkinglot images, and your task is to build, train, and evaluate a CNN model.\n",
        "\n",
        "---\n",
        "\n",
        "## Dataset Overview\n",
        "### **Dataset:**\n",
        "* Just run the command under the `Load Data` section to get the data downloaded and unzipped or you can access it [here](www.kaggle.com/datasets/khaledzsa/parkinglot-occupation)\n",
        "### **Dataset Name:** ParkingLot Occupation\n",
        "\n",
        "### **Description:**  \n",
        "The dataset contains images of labeld parkinglot images for classification purposes. Each image belongs to one of the 2 classes, representing the label.\n",
        "\n",
        "### **Labels:**\n",
        "* `empty`\n",
        "* `occupied`\n"
      ]
    },
    {
      "cell_type": "markdown",
      "id": "66c6f645",
      "metadata": {
        "id": "66c6f645"
      },
      "source": [
        "## Load Data\n",
        "Run the following command to get the data and unzip it, alternatively you can access the data [here](www.kaggle.com/datasets/khaledzsa/parkinglot-occupation)."
      ]
    },
    {
      "cell_type": "code",
      "execution_count": 1,
      "id": "ee08de6b",
      "metadata": {
        "id": "ee08de6b",
        "collapsed": true
      },
      "outputs": [],
      "source": [
        "# !kaggle datasets download -d khaledzsa/parkinglot-occupation\n",
        "# !unzip parkinglot-occupation.zip"
      ]
    },
    {
      "cell_type": "markdown",
      "id": "9bb9f30e",
      "metadata": {
        "id": "9bb9f30e"
      },
      "source": [
        "## Import Libraries"
      ]
    },
    {
      "cell_type": "code",
      "execution_count": 2,
      "id": "22207f85",
      "metadata": {
        "id": "22207f85"
      },
      "outputs": [],
      "source": [
        "import tensorflow as tf\n",
        "from keras.models import Sequential\n",
        "from keras.layers import Dense, Conv2D, MaxPooling2D, Dropout, Rescaling,Flatten\n",
        "\n",
        "from tensorflow.keras.preprocessing import image_dataset_from_directory"
      ]
    },
    {
      "cell_type": "markdown",
      "id": "3aa9945d",
      "metadata": {
        "id": "3aa9945d"
      },
      "source": [
        "## Data Preprocessing\n",
        "In this section, preprocess the dataset by:\n",
        "- Loading the images from the file paths.\n",
        "- Resizing the images to a consistent size.\n",
        "- Normalizing pixel values.\n",
        "\n",
        "Add more if needed!"
      ]
    },
    {
      "cell_type": "code",
      "execution_count": 3,
      "id": "72042d3e",
      "metadata": {
        "id": "72042d3e",
        "colab": {
          "base_uri": "https://localhost:8080/"
        },
        "outputId": "6d16ea7a-5226-4ea7-f333-ca1e22dd8b02"
      },
      "outputs": [
        {
          "output_type": "stream",
          "name": "stdout",
          "text": [
            "Found 1382 files belonging to 2 classes.\n",
            "Using 1175 files for training.\n",
            "Found 1382 files belonging to 2 classes.\n",
            "Using 207 files for validation.\n",
            "Found 344 files belonging to 2 classes.\n"
          ]
        }
      ],
      "source": [
        "# Resizing and splitting happened here\n",
        "# Rescaling would be in the model\n",
        "\n",
        "img_width, img_height = 64,64\n",
        "\n",
        "train = image_dataset_from_directory(\n",
        "    'ParkingLot_Occupation/train',\n",
        "    label_mode='binary',\n",
        "    image_size=(img_width, img_height),\n",
        "    shuffle=True,\n",
        "    seed=123,\n",
        "    validation_split=0.15,\n",
        "    subset='training',\n",
        "    batch_size=32\n",
        ")\n",
        "\n",
        "val = image_dataset_from_directory(\n",
        "    'ParkingLot_Occupation/train',\n",
        "    label_mode='binary',\n",
        "    image_size=(img_width, img_height),\n",
        "    shuffle=True,\n",
        "    seed=123,\n",
        "    validation_split=0.15,\n",
        "    subset='validation',\n",
        "    batch_size=32\n",
        ")\n",
        "\n",
        "test = image_dataset_from_directory(\n",
        "    'ParkingLot_Occupation/test',\n",
        "    label_mode='binary',\n",
        "    image_size=(img_width, img_height),\n",
        "    shuffle=True,\n",
        "    seed=123,\n",
        "    batch_size=32\n",
        ")"
      ]
    },
    {
      "cell_type": "markdown",
      "id": "541f3c2b",
      "metadata": {
        "id": "541f3c2b"
      },
      "source": [
        "## Data Splitting\n",
        "In this section, we will split our dataset into three parts:\n",
        "\n",
        "* `train` Folder: Training set (85%).\n",
        "* `train` Folder: Validation set (15%).\n",
        "* `test` Folder: Test set (100%)."
      ]
    },
    {
      "cell_type": "code",
      "execution_count": 4,
      "id": "cd2cca39",
      "metadata": {
        "id": "cd2cca39"
      },
      "outputs": [],
      "source": [
        "# Already happened previous step"
      ]
    },
    {
      "cell_type": "markdown",
      "id": "83974596",
      "metadata": {
        "id": "83974596"
      },
      "source": [
        "## Building the CNN Model\n",
        "In this section, define the architecture of the CNN model. The architecture may consist of:\n",
        "- Convolutional layers with max-pooling\n",
        "- Dropout layers\n",
        "- Flatten layer\n",
        "- Dense layers\n",
        "- Output layer\n",
        "\n",
        "Add and remove any of these as needed!"
      ]
    },
    {
      "cell_type": "code",
      "execution_count": 5,
      "id": "977da65a",
      "metadata": {
        "id": "977da65a"
      },
      "outputs": [],
      "source": [
        "model = Sequential()\n",
        "\n",
        "# Creating the Rescaling here\n",
        "model.add(Rescaling([1./255.0]))\n",
        "\n",
        "\n",
        "# Hidden layers\n",
        "# Conv2D layers\n",
        "model.add(Conv2D(4,(3,3),activation='relu'))\n",
        "model.add(MaxPooling2D())\n",
        "\n",
        "model.add(Conv2D(6,(3,3),activation='relu'))\n",
        "model.add(MaxPooling2D())\n",
        "\n",
        "model.add(Conv2D(8,(3,3),activation='relu'))\n",
        "model.add(MaxPooling2D())\n",
        "\n",
        "# Fully Connected Layers\n",
        "model.add(Flatten())\n",
        "model.add(Dense(units=12,activation='relu'))\n",
        "model.add(Dropout(0.5))\n",
        "\n",
        "model.add(Dense(units=20,activation='relu'))\n",
        "model.add(Dropout(0.5))\n",
        "\n",
        "model.add(Dense(units=28,activation='relu'))\n",
        "model.add(Dropout(0.5))\n",
        "\n",
        "# Output Layer\n",
        "model.add(Dense(units=1,activation='sigmoid'))"
      ]
    },
    {
      "cell_type": "code",
      "source": [
        "model.compile(optimizer='adam', loss='binary_crossentropy',metrics=['accuracy'])"
      ],
      "metadata": {
        "id": "Ptg5p-DzSO2Q"
      },
      "id": "Ptg5p-DzSO2Q",
      "execution_count": 6,
      "outputs": []
    },
    {
      "cell_type": "markdown",
      "id": "fe1c0940",
      "metadata": {
        "id": "fe1c0940"
      },
      "source": [
        "## Training the Model\n",
        "Train the CNN model using the training data and validate it on the validation set."
      ]
    },
    {
      "cell_type": "code",
      "execution_count": 7,
      "id": "ce31faf9",
      "metadata": {
        "id": "ce31faf9",
        "colab": {
          "base_uri": "https://localhost:8080/"
        },
        "outputId": "3b9b7844-50e2-48b3-f860-bb74d69f4b59"
      },
      "outputs": [
        {
          "output_type": "stream",
          "name": "stdout",
          "text": [
            "Epoch 1/20\n",
            "\u001b[1m37/37\u001b[0m \u001b[32m━━━━━━━━━━━━━━━━━━━━\u001b[0m\u001b[37m\u001b[0m \u001b[1m7s\u001b[0m 71ms/step - accuracy: 0.5733 - loss: 0.6900 - val_accuracy: 0.4686 - val_loss: 0.6647\n",
            "Epoch 2/20\n",
            "\u001b[1m37/37\u001b[0m \u001b[32m━━━━━━━━━━━━━━━━━━━━\u001b[0m\u001b[37m\u001b[0m \u001b[1m2s\u001b[0m 62ms/step - accuracy: 0.5964 - loss: 0.6379 - val_accuracy: 0.8599 - val_loss: 0.4698\n",
            "Epoch 3/20\n",
            "\u001b[1m37/37\u001b[0m \u001b[32m━━━━━━━━━━━━━━━━━━━━\u001b[0m\u001b[37m\u001b[0m \u001b[1m3s\u001b[0m 65ms/step - accuracy: 0.8520 - loss: 0.4953 - val_accuracy: 0.9662 - val_loss: 0.3688\n",
            "Epoch 4/20\n",
            "\u001b[1m37/37\u001b[0m \u001b[32m━━━━━━━━━━━━━━━━━━━━\u001b[0m\u001b[37m\u001b[0m \u001b[1m3s\u001b[0m 85ms/step - accuracy: 0.9238 - loss: 0.4063 - val_accuracy: 0.9710 - val_loss: 0.3240\n",
            "Epoch 5/20\n",
            "\u001b[1m37/37\u001b[0m \u001b[32m━━━━━━━━━━━━━━━━━━━━\u001b[0m\u001b[37m\u001b[0m \u001b[1m4s\u001b[0m 61ms/step - accuracy: 0.9096 - loss: 0.3842 - val_accuracy: 0.9710 - val_loss: 0.2602\n",
            "Epoch 6/20\n",
            "\u001b[1m37/37\u001b[0m \u001b[32m━━━━━━━━━━━━━━━━━━━━\u001b[0m\u001b[37m\u001b[0m \u001b[1m3s\u001b[0m 62ms/step - accuracy: 0.9373 - loss: 0.3005 - val_accuracy: 0.9758 - val_loss: 0.1980\n",
            "Epoch 7/20\n",
            "\u001b[1m37/37\u001b[0m \u001b[32m━━━━━━━━━━━━━━━━━━━━\u001b[0m\u001b[37m\u001b[0m \u001b[1m2s\u001b[0m 61ms/step - accuracy: 0.9392 - loss: 0.2655 - val_accuracy: 0.9758 - val_loss: 0.1683\n",
            "Epoch 8/20\n",
            "\u001b[1m37/37\u001b[0m \u001b[32m━━━━━━━━━━━━━━━━━━━━\u001b[0m\u001b[37m\u001b[0m \u001b[1m3s\u001b[0m 77ms/step - accuracy: 0.9594 - loss: 0.2499 - val_accuracy: 0.9758 - val_loss: 0.1374\n",
            "Epoch 9/20\n",
            "\u001b[1m37/37\u001b[0m \u001b[32m━━━━━━━━━━━━━━━━━━━━\u001b[0m\u001b[37m\u001b[0m \u001b[1m5s\u001b[0m 63ms/step - accuracy: 0.9440 - loss: 0.1991 - val_accuracy: 0.9758 - val_loss: 0.1241\n",
            "Epoch 10/20\n",
            "\u001b[1m37/37\u001b[0m \u001b[32m━━━━━━━━━━━━━━━━━━━━\u001b[0m\u001b[37m\u001b[0m \u001b[1m3s\u001b[0m 66ms/step - accuracy: 0.9540 - loss: 0.1673 - val_accuracy: 0.9758 - val_loss: 0.1195\n",
            "Epoch 11/20\n",
            "\u001b[1m37/37\u001b[0m \u001b[32m━━━━━━━━━━━━━━━━━━━━\u001b[0m\u001b[37m\u001b[0m \u001b[1m2s\u001b[0m 61ms/step - accuracy: 0.9610 - loss: 0.1506 - val_accuracy: 0.9758 - val_loss: 0.1114\n",
            "Epoch 12/20\n",
            "\u001b[1m37/37\u001b[0m \u001b[32m━━━━━━━━━━━━━━━━━━━━\u001b[0m\u001b[37m\u001b[0m \u001b[1m3s\u001b[0m 79ms/step - accuracy: 0.9594 - loss: 0.1552 - val_accuracy: 0.9903 - val_loss: 0.0978\n",
            "Epoch 13/20\n",
            "\u001b[1m37/37\u001b[0m \u001b[32m━━━━━━━━━━━━━━━━━━━━\u001b[0m\u001b[37m\u001b[0m \u001b[1m5s\u001b[0m 62ms/step - accuracy: 0.9606 - loss: 0.1524 - val_accuracy: 0.9807 - val_loss: 0.1070\n",
            "Epoch 14/20\n",
            "\u001b[1m37/37\u001b[0m \u001b[32m━━━━━━━━━━━━━━━━━━━━\u001b[0m\u001b[37m\u001b[0m \u001b[1m2s\u001b[0m 61ms/step - accuracy: 0.9693 - loss: 0.1643 - val_accuracy: 0.9807 - val_loss: 0.0877\n",
            "Epoch 15/20\n",
            "\u001b[1m37/37\u001b[0m \u001b[32m━━━━━━━━━━━━━━━━━━━━\u001b[0m\u001b[37m\u001b[0m \u001b[1m3s\u001b[0m 61ms/step - accuracy: 0.9695 - loss: 0.1121 - val_accuracy: 0.9758 - val_loss: 0.0937\n",
            "Epoch 16/20\n",
            "\u001b[1m37/37\u001b[0m \u001b[32m━━━━━━━━━━━━━━━━━━━━\u001b[0m\u001b[37m\u001b[0m \u001b[1m3s\u001b[0m 77ms/step - accuracy: 0.9683 - loss: 0.1592 - val_accuracy: 0.9807 - val_loss: 0.0779\n",
            "Epoch 17/20\n",
            "\u001b[1m37/37\u001b[0m \u001b[32m━━━━━━━━━━━━━━━━━━━━\u001b[0m\u001b[37m\u001b[0m \u001b[1m3s\u001b[0m 87ms/step - accuracy: 0.9755 - loss: 0.1334 - val_accuracy: 0.9855 - val_loss: 0.0741\n",
            "Epoch 18/20\n",
            "\u001b[1m37/37\u001b[0m \u001b[32m━━━━━━━━━━━━━━━━━━━━\u001b[0m\u001b[37m\u001b[0m \u001b[1m3s\u001b[0m 72ms/step - accuracy: 0.9598 - loss: 0.1524 - val_accuracy: 0.9758 - val_loss: 0.0718\n",
            "Epoch 19/20\n",
            "\u001b[1m37/37\u001b[0m \u001b[32m━━━━━━━━━━━━━━━━━━━━\u001b[0m\u001b[37m\u001b[0m \u001b[1m5s\u001b[0m 62ms/step - accuracy: 0.9797 - loss: 0.0812 - val_accuracy: 0.9903 - val_loss: 0.0522\n",
            "Epoch 20/20\n",
            "\u001b[1m37/37\u001b[0m \u001b[32m━━━━━━━━━━━━━━━━━━━━\u001b[0m\u001b[37m\u001b[0m \u001b[1m3s\u001b[0m 76ms/step - accuracy: 0.9752 - loss: 0.0916 - val_accuracy: 0.9903 - val_loss: 0.0532\n"
          ]
        }
      ],
      "source": [
        "history = model.fit(train,epochs=20,validation_data=val)"
      ]
    },
    {
      "cell_type": "markdown",
      "id": "25ad1b22",
      "metadata": {
        "id": "25ad1b22"
      },
      "source": [
        "## Evaluate the Model\n",
        "Evaluate the performance of the model on the test set."
      ]
    },
    {
      "cell_type": "code",
      "execution_count": 8,
      "id": "eb9ed70f",
      "metadata": {
        "id": "eb9ed70f",
        "colab": {
          "base_uri": "https://localhost:8080/"
        },
        "outputId": "89c2fde5-0889-4f7c-99aa-a60913716070"
      },
      "outputs": [
        {
          "output_type": "stream",
          "name": "stdout",
          "text": [
            "\u001b[1m11/11\u001b[0m \u001b[32m━━━━━━━━━━━━━━━━━━━━\u001b[0m\u001b[37m\u001b[0m \u001b[1m1s\u001b[0m 41ms/step - accuracy: 0.9863 - loss: 0.0434\n"
          ]
        },
        {
          "output_type": "execute_result",
          "data": {
            "text/plain": [
              "[0.04435413330793381, 0.9883720874786377]"
            ]
          },
          "metadata": {},
          "execution_count": 8
        }
      ],
      "source": [
        "model.evaluate(test)"
      ]
    },
    {
      "cell_type": "markdown",
      "id": "a37fca33",
      "metadata": {
        "id": "a37fca33"
      },
      "source": [
        "## Make Predictions\n",
        "Use the trained model to make predictions on new or unseen parkinglot images."
      ]
    },
    {
      "cell_type": "code",
      "source": [
        "# didn't work and the result is low. but in the top we can see the evaluate has a good evaluation.\n",
        "\n",
        "# import numpy as np\n",
        "# from sklearn.metrics import accuracy_score\n",
        "\n",
        "# y_pred = model.predict(train) >= 0.5\n",
        "\n",
        "# y_true = [y for x,y in train]\n",
        "\n",
        "# print((accuracy_score(y_pred,np.concatenate(y_true)))*100)"
      ],
      "metadata": {
        "id": "yOsgSZwye3zk",
        "colab": {
          "base_uri": "https://localhost:8080/"
        },
        "outputId": "b98b4ae3-95b0-4c60-b440-9a9a85bec76c"
      },
      "id": "yOsgSZwye3zk",
      "execution_count": 13,
      "outputs": [
        {
          "output_type": "stream",
          "name": "stdout",
          "text": [
            "\u001b[1m37/37\u001b[0m \u001b[32m━━━━━━━━━━━━━━━━━━━━\u001b[0m\u001b[37m\u001b[0m \u001b[1m4s\u001b[0m 82ms/step\n",
            "50.723404255319146\n"
          ]
        }
      ]
    },
    {
      "cell_type": "markdown",
      "id": "f1ab3608",
      "metadata": {
        "id": "f1ab3608"
      },
      "source": [
        "if you need new, we prepared some data for you [here](www.kaggle.com/datasets/khaledzsa/parkinglot-occupation), or you can simply run the following command to get the data and unzip it.\n",
        "\n",
        "<small>Note: please note that the file contain MetaData to tell you what each image contains <b>THIS IS JUST FOR YOU TO MAKE SURE</b></smmall>"
      ]
    },
    {
      "cell_type": "markdown",
      "id": "8d59c9e4",
      "metadata": {
        "id": "8d59c9e4"
      },
      "source": [
        "If you ran the command above, you should have a file called ParkingLot_Occupation in your current directory. which contains the testing dataset.\n",
        "If you ran the command above <span style='color:red;'>DON'T RUN THIS CELL</span>"
      ]
    },
    {
      "cell_type": "code",
      "execution_count": 10,
      "id": "a7a5c981",
      "metadata": {
        "id": "a7a5c981"
      },
      "outputs": [],
      "source": [
        "# !kaggle datasets download -d khaledzsa/parkinglot-occupation\n",
        "# !unzip parkinglot-occupation.zip"
      ]
    },
    {
      "cell_type": "markdown",
      "id": "8430600d",
      "metadata": {
        "id": "8430600d"
      },
      "source": [
        "## Model Performance Visualization\n",
        "Visualize performance metrics such as accuracy and loss over the epochs."
      ]
    },
    {
      "cell_type": "code",
      "execution_count": 11,
      "id": "50624cfe",
      "metadata": {
        "id": "50624cfe",
        "colab": {
          "base_uri": "https://localhost:8080/",
          "height": 448
        },
        "outputId": "43f6fa56-b839-4f88-aee5-b733d216825f"
      },
      "outputs": [
        {
          "output_type": "execute_result",
          "data": {
            "text/plain": [
              "<Axes: >"
            ]
          },
          "metadata": {},
          "execution_count": 11
        },
        {
          "output_type": "display_data",
          "data": {
            "text/plain": [
              "<Figure size 640x480 with 1 Axes>"
            ],
            "image/png": "[encoded data removed]"
          },
          "metadata": {}
        }
      ],
      "source": [
        "import pandas as pd\n",
        "pd.DataFrame(history.history).plot()"
      ]
    },
    {
      "cell_type": "markdown",
      "id": "8d4f3348",
      "metadata": {
        "id": "8d4f3348"
      },
      "source": [
        "## Save the Model\n",
        "Save the trained CNN model for submission."
      ]
    },
    {
      "cell_type": "code",
      "execution_count": 12,
      "id": "fe6b2df0",
      "metadata": {
        "id": "fe6b2df0"
      },
      "outputs": [],
      "source": [
        "model.save('CNN_model.keras')"
      ]
    },
    {
      "cell_type": "markdown",
      "id": "ed90995f",
      "metadata": {
        "id": "ed90995f"
      },
      "source": [
        "## Project Questions:\n",
        "\n",
        "1. **Data Preprocessing**: Explain why you chose your specific data preprocessing techniques (e.g., resizing images, normalization, data augmentation). How do these preprocessing steps improve the performance of your CNN model?\n",
        "2. **Model Architecture**: Describe the architecture of your CNN model (e.g., number of convolutional layers, kernel sizes, pooling layers). Why did you choose this structure, and how do you expect each layer to contribute to feature extraction?\n",
        "3. **Activation Functions**: Justify your choice of activation functions. How do they influence the training and output of your CNN?\n",
        "4. **Training Process**: Discuss your choice of batch size, number of epochs, and optimizer. How did these decisions impact the training process and the convergence of the model?\n",
        "5. **Loss Function and Metrics**: Explain why you chose the specific loss function and evaluation metrics for this classification task. How do they align with the goal of correctly classifying parkinglot?\n",
        "6. **Regularization Techniques**: If you used regularization methods like dropout or batch normalization, explain why you implemented them and how they helped prevent overfitting in your model.\n",
        "7. **Model Evaluation**: Justify the method you used to evaluate your model's performance on the test set. Why did you select these evaluation techniques, and what insights did they provide about your model's accuracy and generalization ability?\n",
        "8. **Model Visualization**: Explain the significance of the performance visualizations (e.g., accuracy and loss curves). What do they tell you about your model's training process and its ability to generalize?\n",
        "9. **Overfitting and Underfitting**: Analyze whether the model encountered any overfitting or underfitting during training. What strategies could you implement to mitigate these issues?"
      ]
    },
    {
      "cell_type": "markdown",
      "id": "02e7f114",
      "metadata": {
        "id": "02e7f114"
      },
      "source": [
        "### Answer Here:"
      ]
    },
    {
      "cell_type": "markdown",
      "source": [
        "## Project Questions:\n",
        "\n",
        "1. **Data Preprocessing**: Resizing the image by 64x64 becuase I don't want the model to take too much time. For normalization I used rescaling the picture to 0-255 to get the color rgb and to make it around 0-1. For augmentation, we could use it in general but no need for right now becuase there are 1500 picture and that would be kind of enough. but if we want more accuracy and more robustness in the model we could use data augmentation using CV2 => opencv\n",
        "\n",
        "2. **Model Architecture**: I built 6 hidden layers, 3 for Convolution adding maxpooling to each layer, and 3 other layers to make it fully connected and learn from the data as fast as it can. the number of layers would be random with the units for each layer. Adding drop = 0.5 just becuase I don't want the model to take too much time.\n",
        "\n",
        "3. **Activation Functions**: I used relu for every layer except the output I used sigmoid. relu becuase there should be no negative values in any of the pixels and all of them should be positive. in output it should be sigmoid because the result prediction should be either occupied or empty which is a job for binary which is the activation function sigmoid is better than softmax due to just 2 predicted values\n",
        "\n",
        "4. **Training Process**: Batch size would be the default which is 32, but with epochs i used 20 epochs because when I used 100 it went to overfitting the training data, and I don't want to add early stop to the code. optimizers would be ADAM because it combine all the optimizer advantages together and make it prefect as optimizer. The model went well from the start until the end and it reached the best weight in faster way.\n",
        "\n",
        "5. **Loss Function and Metrics**: loss function would be binary crossentropy because there are only 2 prediction values, and the metrics would be accuracy becuase in prediction classes the prection is balanced. using these two would result in the best calculating the prediction in the future.\n",
        "\n",
        "6. **Regularization Techniques**: I used dropiut and maxpooling layers, both of them make the running of the model fitting faster than before, and didn't lose any accuracy in the way. I used them because of time consuming wihtout them even though my model is not complex but without them it took 10 mins just to run the fitting and I wanted to test more hyper parameters in the dataset\n",
        "\n",
        "7. **Model Evaluation**: Using evaluation, it's like predicting the values of the test then compare it with the real value of the test but in just one command. it would be better than typing multiple lines especially that I have a prefetchdataset which means getting the true labels would require a few lines. it's the best technique because as I said before accuracy would be the best metrics which make the evaluate the best evaluation technique\n",
        "\n",
        "8. **Model Visualization**: It would result in if the model is overfitted or underfitted or will it going to the overfit or underfit. this way you can read the graph to get more insights about that. and if went to overfit it could make you add more regulirazation techniques to make the model performance better.\n",
        "\n",
        "9. **Overfitting and Underfitting**: I didn't find any overfitting or underfitting because I used regularization techniques which was Maxpooling and Dropout"
      ],
      "metadata": {
        "id": "G5xtPnhWYbKO"
      },
      "id": "G5xtPnhWYbKO"
    }
  ],
  "metadata": {
    "language_info": {
      "name": "python"
    },
    "colab": {
      "provenance": []
    },
    "kernelspec": {
      "name": "python3",
      "display_name": "Python 3"
    }
  },
  "nbformat": 4,
  "nbformat_minor": 5
}