{
 "cells": [
  {
   "cell_type": "markdown",
   "id": "6b5c524a",
   "metadata": {},
   "source": [
    "# JSON Practice Exercises\n",
    "\n",
    "These exercises will help you practice working with JSON in Python."
   ]
  },
  {
   "cell_type": "markdown",
   "id": "530fc65c",
   "metadata": {},
   "source": [
    "## Exercise 1: Converting Python Objects to JSON\n",
    "\n",
    "Create a Python dictionary representing a book with the following attributes:\n",
    "- title\n",
    "- author\n",
    "- year\n",
    "\n",
    "Convert this dictionary to a JSON string using `json.dumps()` and print the result."
   ]
  },
  {
   "cell_type": "code",
   "execution_count": 1,
   "id": "f74a5ed5",
   "metadata": {},
   "outputs": [
    {
     "name": "stdout",
     "output_type": "stream",
     "text": [
      "{\"title\": \"The Giver\", \"author\": \"Lois Lowry\", \"publication_year\": 2003}\n"
     ]
    }
   ],
   "source": [
    "import json\n",
    "\n",
    "# Your code here\n",
    "book = {\n",
    "    \"title\": \"The Giver\",\n",
    "    \"author\": \"Lois Lowry\",\n",
    "    \"publication_year\": 2003\n",
    "}\n",
    "\n",
    "person_json = json.dumps(book)\n",
    "print(person_json)"
   ]
  },
  {
   "cell_type": "markdown",
   "id": "84799d52",
   "metadata": {},
   "source": [
    "## Exercise 2: Converting JSON to Python Objects\n",
    "\n",
    "Given the following JSON string:\n",
    "```json\n",
    "'{\"name\": \"Alice\", \"age\": 25, \"city\": \"Wonderland\"}'\n",
    "```\n",
    "Convert this JSON string to a Python dictionary using `json.loads()` and print the result."
   ]
  },
  {
   "cell_type": "code",
   "execution_count": 2,
   "id": "a2ba7ced",
   "metadata": {},
   "outputs": [
    {
     "name": "stdout",
     "output_type": "stream",
     "text": [
      "{'name': 'Alice', 'age': 25, 'city': 'Wonderland'}\n"
     ]
    }
   ],
   "source": [
    "# Your code here\n",
    "json_string = '{\"name\": \"Alice\", \"age\": 25, \"city\": \"Wonderland\"}'\n",
    "person = json.loads(json_string)\n",
    "print(person)"
   ]
  },
  {
   "cell_type": "markdown",
   "id": "e291d203",
   "metadata": {},
   "source": [
    "## Exercise 3: Reading JSON from a File\n",
    "\n",
    "Write a Python script to read the following JSON data from a file named `data.json` and print it:\n",
    "```json\n",
    "{\n",
    "    \"name\": \"Bob\",\n",
    "    \"age\": 22,\n",
    "    \"city\": \"Paris\"\n",
    "}\n",
    "```"
   ]
  },
  {
   "cell_type": "code",
   "execution_count": null,
   "id": "a5655d4b",
   "metadata": {},
   "outputs": [],
   "source": [
    "# Your code here\n",
    "\n",
    "with open('data.json', 'r') as file:\n",
    "    data_dict = json.load(file)\n",
    "    print(data_dict)"
   ]
  },
  {
   "cell_type": "markdown",
   "id": "7b83b8f8",
   "metadata": {},
   "source": [
    "## Exercise 4: Writing JSON to a File\n",
    "\n",
    "Create a Python dictionary representing a student with the following attributes:\n",
    "- name\n",
    "- grade\n",
    "- subjects (a list of subjects)\n",
    "\n",
    "Write this dictionary to a JSON file named `student.json` using `json.dump()`."
   ]
  },
  {
   "cell_type": "code",
   "execution_count": null,
   "id": "96c1b087",
   "metadata": {},
   "outputs": [],
   "source": [
    "# Your code here\n",
    "\n",
    "student_dict = {\n",
    "    \"name\": \"Majid\",\n",
    "    \"age\": 24,\n",
    "    \"city\": \"Medina\"\n",
    "}\n",
    "\n",
    "with open('student.json', 'w') as file:\n",
    "    json.dump(student_dict, file)\n",
    "    "
   ]
  },
  {
   "cell_type": "markdown",
   "id": "7d9b3849",
   "metadata": {},
   "source": [
    "## Exercise 5: Pretty Printing JSON\n",
    "\n",
    "Given a Python dictionary representing a movie with the following attributes:\n",
    "- title\n",
    "- director\n",
    "- year\n",
    "- genre\n",
    "\n",
    "Convert this dictionary to a JSON string with indentation using `json.dumps()` and print the result."
   ]
  },
  {
   "cell_type": "code",
   "execution_count": null,
   "id": "cfe017d4",
   "metadata": {},
   "outputs": [],
   "source": [
    "# Your code here\n",
    "# Python dictionary\n",
    "movie_dict = {\n",
    "    \"title\": \"Inside out\",\n",
    "    \"director\": \"Blah, bin blah\",\n",
    "    \"year\": 2017,\n",
    "    \"genre\": \"Action\"\n",
    "}\n",
    "\n",
    "# Convert dictionary to JSON string with indentation\n",
    "movie_json = json.dumps(movie_dict, indent=4)\n",
    "print(movie_json)"
   ]
  }
 ],
 "metadata": {
  "kernelspec": {
   "display_name": "base",
   "language": "python",
   "name": "python3"
  },
  "language_info": {
   "codemirror_mode": {
    "name": "ipython",
    "version": 3
   },
   "file_extension": ".py",
   "mimetype": "text/x-python",
   "name": "python",
   "nbconvert_exporter": "python",
   "pygments_lexer": "ipython3",
   "version": "3.11.7"
  }
 },
 "nbformat": 4,
 "nbformat_minor": 5
}
