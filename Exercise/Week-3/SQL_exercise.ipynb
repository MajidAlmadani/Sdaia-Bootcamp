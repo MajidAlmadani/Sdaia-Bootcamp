{
 "cells": [
  {
   "cell_type": "code",
   "execution_count": null,
   "metadata": {},
   "outputs": [],
   "source": [
    "import pymongo\n",
    "from pymongo import MongoClient\n",
    "import os\n",
    "# Connect to MongoDB\n",
    "CONNECTION_STRING = os.environ.get('CONNECTION_STRING')\n",
    "client = MongoClient(CONNECTION_STRING)\n",
    "# Create a database\n",
    "db = client['traffic_db']\n",
    "# Create a collection\n",
    "traffic_collection = db['traffic_data']\n",
    "# Existing data insertion\n",
    "traffic_collection.insert_many([\n",
    "{'road': 'Highway A1', 'date': '2024-07-10', 'time': '07:30', 'traffic_volume': 1100},\n",
    "{'road': 'Highway A2', 'date': '2024-07-11', 'time': '08:30', 'traffic_volume': 900},\n",
    "{'road': 'Highway A1', 'date': '2024-07-11', 'time': '08:00', 'traffic_volume': 1200,\n",
    "'weather_condition': 'Clear', 'vehicle_type_breakdown': {'car': 800, 'truck': 300, 'motorcycle': 100}},\n",
    "{'road': 'Highway A3', 'date': '2024-07-12', 'time': '09:00', 'traffic_volume': 800},\n",
    "{'road': 'Highway A1', 'date': '2024-07-11', 'time': '10:00', 'traffic_volume': 1300}\n",
    "])"
   ]
  }
 ],
 "metadata": {
  "kernelspec": {
   "display_name": "base",
   "language": "python",
   "name": "python3"
  },
  "language_info": {
   "codemirror_mode": {
    "name": "ipython",
    "version": 3
   },
   "file_extension": ".py",
   "mimetype": "text/x-python",
   "name": "python",
   "nbconvert_exporter": "python",
   "pygments_lexer": "ipython3",
   "version": "3.11.7"
  }
 },
 "nbformat": 4,
 "nbformat_minor": 2
}
