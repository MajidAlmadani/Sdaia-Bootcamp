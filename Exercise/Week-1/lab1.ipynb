{
 "cells": [
  {
   "cell_type": "markdown",
   "metadata": {
    "id": "pJy7tH6Kex10"
   },
   "source": [
    "# Importing Libraries\n"
   ]
  },
  {
   "cell_type": "code",
   "execution_count": null,
   "metadata": {
    "id": "vKao-c3dewpa"
   },
   "outputs": [],
   "source": [
    "import pandas as pd"
   ]
  },
  {
   "cell_type": "markdown",
   "metadata": {
    "id": "oYs-yvtle5JZ"
   },
   "source": [
    "# Loading Data"
   ]
  },
  {
   "cell_type": "code",
   "execution_count": null,
   "metadata": {
    "id": "DuQOfw4fe7uu"
   },
   "outputs": [],
   "source": [
    "df_train = pd.read_csv(\"datasets/train-data.csv\",index_col=\"Unnamed: 0\")\n",
    "\n",
    "df_test = pd.read_csv(\"datasets/test-data.csv\",index_col=\"Unnamed: 0\")"
   ]
  },
  {
   "cell_type": "markdown",
   "metadata": {},
   "source": [
    "# merge 2 files"
   ]
  },
  {
   "cell_type": "code",
   "execution_count": null,
   "metadata": {
    "scrolled": true
   },
   "outputs": [],
   "source": [
    "df = pd.merge(left=df_train,right=df_test,on=\"Name\",how=\"inner\")"
   ]
  },
  {
   "cell_type": "markdown",
   "metadata": {
    "id": "TdMtLRhue8m5"
   },
   "source": [
    "# Viewing Data"
   ]
  },
  {
   "cell_type": "code",
   "execution_count": null,
   "metadata": {
    "id": "N-NjnQ5ZfGgm",
    "scrolled": true
   },
   "outputs": [],
   "source": [
    "display(df.head())\n",
    "display(df.tail())\n",
    "display(df.sample())\n",
    "display(df.shape)"
   ]
  },
  {
   "cell_type": "markdown",
   "metadata": {
    "id": "9Lq4vnaDfLu4"
   },
   "source": [
    "#EDA\n"
   ]
  },
  {
   "cell_type": "code",
   "execution_count": null,
   "metadata": {
    "id": "zEWw1YXnfMA3"
   },
   "outputs": [],
   "source": [
    "df[\"Year_x\"].value_counts()"
   ]
  },
  {
   "cell_type": "code",
   "execution_count": null,
   "metadata": {
    "id": "LJ20v3SsfdJz"
   },
   "outputs": [],
   "source": [
    "df.isna().sum()"
   ]
  },
  {
   "cell_type": "code",
   "execution_count": null,
   "metadata": {
    "id": "9fCOnkSOfdGM"
   },
   "outputs": [],
   "source": [
    "df.duplicated().sum()"
   ]
  },
  {
   "cell_type": "markdown",
   "metadata": {
    "id": "BZfHagSLgDad"
   },
   "source": [
    "#Descriptive Statistics"
   ]
  },
  {
   "cell_type": "code",
   "execution_count": null,
   "metadata": {
    "id": "wiaUWWEKfdC0"
   },
   "outputs": [],
   "source": [
    "df.describe()"
   ]
  },
  {
   "cell_type": "code",
   "execution_count": null,
   "metadata": {
    "id": "6buk0Ceofc6g"
   },
   "outputs": [],
   "source": [
    "df.info()"
   ]
  },
  {
   "cell_type": "markdown",
   "metadata": {
    "id": "TduHMTATfHCG"
   },
   "source": [
    "# Grouping Data"
   ]
  },
  {
   "cell_type": "code",
   "execution_count": null,
   "metadata": {
    "id": "rZ9ZdD8MfK0y"
   },
   "outputs": [],
   "source": [
    "df_grouped = df.groupby(\"Fuel_Type_x\")"
   ]
  },
  {
   "cell_type": "markdown",
   "metadata": {
    "id": "_s7c3Wzqfhra"
   },
   "source": [
    "#Aggregation"
   ]
  },
  {
   "cell_type": "code",
   "execution_count": null,
   "metadata": {
    "id": "V-yY-FrwfkVD"
   },
   "outputs": [],
   "source": [
    "df_grouped.agg(\n",
    "    Total_price = (\"Price\",\"sum\"),\n",
    "    Min_price = (\"Price\",\"min\"),\n",
    "    Max_price = (\"Price\",\"max\"),\n",
    "    Average_price = (\"Price\",\"mean\"),\n",
    ")"
   ]
  },
  {
   "cell_type": "markdown",
   "metadata": {
    "id": "16ad9XV5fPd5"
   },
   "source": [
    "#Select one Columns"
   ]
  },
  {
   "cell_type": "code",
   "execution_count": null,
   "metadata": {
    "id": "NkX1rq5tfwOW"
   },
   "outputs": [],
   "source": [
    "df_grouped[\"Price\"].sum()"
   ]
  },
  {
   "cell_type": "markdown",
   "metadata": {
    "id": "ylrEyu--fw_5"
   },
   "source": [
    "#Select Multiple Columns"
   ]
  },
  {
   "cell_type": "code",
   "execution_count": null,
   "metadata": {
    "id": "M93k_dRpfyDH"
   },
   "outputs": [],
   "source": [
    "df.groupby([\"Fuel_Type_x\",\"Fuel_Type_y\"])[\"Price\"].count()"
   ]
  },
  {
   "cell_type": "markdown",
   "metadata": {
    "id": "a44POJpbf0oZ"
   },
   "source": [
    "#Use iloc"
   ]
  },
  {
   "cell_type": "code",
   "execution_count": null,
   "metadata": {
    "id": "8X5WRoiRf63-"
   },
   "outputs": [],
   "source": [
    "df.iloc[176]"
   ]
  },
  {
   "cell_type": "markdown",
   "metadata": {
    "id": "x6Msw8nnf-Kk"
   },
   "source": [
    "#Resetting Index"
   ]
  },
  {
   "cell_type": "code",
   "execution_count": null,
   "metadata": {
    "id": "QnRwbQRXgKND"
   },
   "outputs": [],
   "source": [
    "df.set_index(\"Transmission_x\")\n",
    "\n",
    "df.reset_index()"
   ]
  },
  {
   "cell_type": "markdown",
   "metadata": {
    "id": "RJwOhTyvgODQ"
   },
   "source": [
    "#Conditional Selection Using loc"
   ]
  },
  {
   "cell_type": "code",
   "execution_count": null,
   "metadata": {
    "id": "P-BKFcWagQJd"
   },
   "outputs": [],
   "source": [
    "df = df.set_index(\"Location_x\")\n",
    "display(df.loc['Pune'])\n",
    "\n",
    "\n",
    "df = df.reset_index()"
   ]
  },
  {
   "cell_type": "markdown",
   "metadata": {
    "id": "5RK4lPT-gQ36"
   },
   "source": [
    "#Conditional Selection Using query"
   ]
  },
  {
   "cell_type": "code",
   "execution_count": null,
   "metadata": {
    "id": "VVsvZBMegUWS"
   },
   "outputs": [],
   "source": [
    "df.query(\"Year_x == 2015\")"
   ]
  }
 ],
 "metadata": {
  "colab": {
   "provenance": []
  },
  "kernelspec": {
   "display_name": "Python 3 (ipykernel)",
   "language": "python",
   "name": "python3"
  },
  "language_info": {
   "codemirror_mode": {
    "name": "ipython",
    "version": 3
   },
   "file_extension": ".py",
   "mimetype": "text/x-python",
   "name": "python",
   "nbconvert_exporter": "python",
   "pygments_lexer": "ipython3",
   "version": "3.11.7"
  }
 },
 "nbformat": 4,
 "nbformat_minor": 4
}
